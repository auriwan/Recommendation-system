{
  "cells": [
    {
      "cell_type": "markdown",
      "metadata": {
        "id": "view-in-github",
        "colab_type": "text"
      },
      "source": [
        "<a href=\"https://colab.research.google.com/github/auriwan/Recommendation-system/blob/main/Recommendation_System.ipynb\" target=\"_parent\"><img src=\"https://colab.research.google.com/assets/colab-badge.svg\" alt=\"Open In Colab\"/></a>"
      ]
    },
    {
      "cell_type": "markdown",
      "metadata": {
        "id": "6C-kL7o7J85o"
      },
      "source": [
        "# Anime Recommendation System"
      ]
    },
    {
      "cell_type": "markdown",
      "metadata": {
        "id": "t74WXOsuKCMv"
      },
      "source": [
        "Auriwan Yasper\n",
        "\n",
        "Dataset Anime: https://www.kaggle.com/datasets/CooperUnion/anime-recommendations-database?select=anime.csv\n",
        "\n",
        "Dataset Rating: https://www.kaggle.com/datasets/azathoth42/myanimelist"
      ]
    },
    {
      "cell_type": "markdown",
      "metadata": {
        "id": "_v0e3GmUKabq"
      },
      "source": [
        "# Pendahuluan"
      ]
    },
    {
      "cell_type": "markdown",
      "metadata": {
        "id": "9dLhLpWlKg4H"
      },
      "source": [
        "Tema dari analisis ini adalah hiburan dimana hasilnya akan berupa model machine learning yang nanti dapat digunakan untuk dijadikan sebuah sistem rekomendasi anime"
      ]
    },
    {
      "cell_type": "markdown",
      "metadata": {
        "id": "U3E-bC0OLmM4"
      },
      "source": [
        "# Data Loading"
      ]
    },
    {
      "cell_type": "markdown",
      "metadata": {
        "id": "4Rmu-0ECLqM1"
      },
      "source": [
        "**Import Library**"
      ]
    },
    {
      "cell_type": "code",
      "execution_count": 1,
      "metadata": {
        "id": "D-63XhyeiO7Z"
      },
      "outputs": [],
      "source": [
        "import zipfile\n",
        "import pandas as pd\n",
        "import numpy as np\n",
        "import seaborn as sns\n",
        "import tensorflow as tf\n",
        "from tensorflow import keras\n",
        "from tensorflow.keras import layers\n",
        "from keras.callbacks import EarlyStopping\n",
        "\n",
        "import matplotlib.pyplot as plt\n",
        "%matplotlib inline\n",
        "\n",
        "from google.colab import files\n",
        "from sklearn.feature_extraction.text import TfidfVectorizer\n",
        "from sklearn.metrics.pairwise import cosine_similarity\n",
        "from google.colab import drive"
      ]
    },
    {
      "cell_type": "code",
      "execution_count": 2,
      "metadata": {
        "id": "buqWmYCciX6E"
      },
      "outputs": [],
      "source": [
        "!pip install -q kaggle"
      ]
    },
    {
      "cell_type": "code",
      "execution_count": 3,
      "metadata": {
        "colab": {
          "base_uri": "https://localhost:8080/"
        },
        "id": "zp9gcxkMibPD",
        "outputId": "5d42f16c-b5c6-45bf-9b17-7b658918e6ae"
      },
      "outputs": [
        {
          "output_type": "stream",
          "name": "stdout",
          "text": [
            "Mounted at /content/gdrive\n"
          ]
        }
      ],
      "source": [
        "drive.mount(\"/content/gdrive\", force_remount=True)"
      ]
    },
    {
      "cell_type": "code",
      "execution_count": 4,
      "metadata": {
        "id": "XQD-OTRSiwfz"
      },
      "outputs": [],
      "source": [
        "import os\n",
        "os.environ['KAGGLE_CONFIG_DIR'] = \"/content/gdrive/MyDrive/\""
      ]
    },
    {
      "cell_type": "code",
      "execution_count": 5,
      "metadata": {
        "id": "7jI3dNvzi8SN"
      },
      "outputs": [],
      "source": [
        "!chmod 600 /content/gdrive/MyDrive/kaggle.json"
      ]
    },
    {
      "cell_type": "markdown",
      "metadata": {
        "id": "1dXoyB2gMAAj"
      },
      "source": [
        "**Download Dataset Anime**"
      ]
    },
    {
      "cell_type": "code",
      "execution_count": 6,
      "metadata": {
        "colab": {
          "base_uri": "https://localhost:8080/"
        },
        "id": "Vral0fFsjHDM",
        "outputId": "e87a70dd-4203-4ec3-c988-8e577e254cad"
      },
      "outputs": [
        {
          "output_type": "stream",
          "name": "stdout",
          "text": [
            "Downloading anime-recommendations-database.zip to /content\n",
            "\r  0% 0.00/25.0M [00:00<?, ?B/s]\r 84% 21.0M/25.0M [00:00<00:00, 214MB/s]\n",
            "\r100% 25.0M/25.0M [00:00<00:00, 229MB/s]\n"
          ]
        }
      ],
      "source": [
        "! KAGGLE_CONFIG_DIR=/content/gdrive/MyDrive kaggle datasets download -d CooperUnion/anime-recommendations-database"
      ]
    },
    {
      "cell_type": "markdown",
      "metadata": {
        "id": "nyzEFRlKMHHw"
      },
      "source": [
        "Download Dataset Rating"
      ]
    },
    {
      "cell_type": "code",
      "execution_count": 7,
      "metadata": {
        "colab": {
          "base_uri": "https://localhost:8080/"
        },
        "id": "_WHzr-ARJIaO",
        "outputId": "d8594281-ecff-43d3-b105-9845f75604e3"
      },
      "outputs": [
        {
          "output_type": "stream",
          "name": "stdout",
          "text": [
            "Downloading myanimelist-dataset-animes-profiles-reviews.zip to /content\n",
            " 98% 213M/217M [00:02<00:00, 133MB/s]\n",
            "100% 217M/217M [00:02<00:00, 93.7MB/s]\n"
          ]
        }
      ],
      "source": [
        "! KAGGLE_CONFIG_DIR=/content/gdrive/MyDrive kaggle datasets download -d marlesson/myanimelist-dataset-animes-profiles-reviews"
      ]
    },
    {
      "cell_type": "markdown",
      "metadata": {
        "id": "r7WCoA-HMQ1U"
      },
      "source": [
        "**Ekstrak Dataset Anime**"
      ]
    },
    {
      "cell_type": "code",
      "execution_count": 8,
      "metadata": {
        "id": "5FDsMTjOw2tQ"
      },
      "outputs": [],
      "source": [
        "file = '/content/anime-recommendations-database.zip'\n",
        "zip_ref = zipfile.ZipFile(file, 'r')\n",
        "zip_ref.extractall('/dataset_baru/')\n",
        "zip_ref.close()"
      ]
    },
    {
      "cell_type": "markdown",
      "metadata": {
        "id": "ab3U-2UwMY20"
      },
      "source": [
        "**Extrak dataset Rating**"
      ]
    },
    {
      "cell_type": "code",
      "execution_count": 9,
      "metadata": {
        "id": "1M91BU3cMYIc"
      },
      "outputs": [],
      "source": [
        "file = '/content/myanimelist-dataset-animes-profiles-reviews.zip'\n",
        "zip_ref = zipfile.ZipFile(file, 'r')\n",
        "zip_ref.extractall('/dataset_baru/')\n",
        "zip_ref.close()"
      ]
    },
    {
      "cell_type": "markdown",
      "metadata": {
        "id": "woY3PR9QM3TO"
      },
      "source": [
        "# **Data Understanding**"
      ]
    },
    {
      "cell_type": "markdown",
      "metadata": {
        "id": "BSRZOBBSNF_T"
      },
      "source": [
        "dataset ini bersumber dari kaggle dataset dengan 2 sumber dataset, dataset pertama akan digunakan untuk dataset anime dan dataset kedua digunakan untuk dataset rating"
      ]
    },
    {
      "cell_type": "markdown",
      "metadata": {
        "id": "ZUwrwnzpODHf"
      },
      "source": [
        "**Membuat data frame anime dan rating**\n",
        "\n",
        "dan kita tampilkan 5 data pertama anime dan rating"
      ]
    },
    {
      "cell_type": "code",
      "execution_count": 10,
      "metadata": {
        "colab": {
          "base_uri": "https://localhost:8080/",
          "height": 206
        },
        "id": "22kkCNytxRsJ",
        "outputId": "64adbc33-684d-49a8-93fb-f9f6d506f2ea"
      },
      "outputs": [
        {
          "output_type": "execute_result",
          "data": {
            "text/plain": [
              "   anime_id                              name  \\\n",
              "0     32281                    Kimi no Na wa.   \n",
              "1      5114  Fullmetal Alchemist: Brotherhood   \n",
              "2     28977                          Gintama°   \n",
              "3      9253                       Steins;Gate   \n",
              "4      9969                     Gintama&#039;   \n",
              "\n",
              "                                               genre   type episodes  rating  \\\n",
              "0               Drama, Romance, School, Supernatural  Movie        1    9.37   \n",
              "1  Action, Adventure, Drama, Fantasy, Magic, Mili...     TV       64    9.26   \n",
              "2  Action, Comedy, Historical, Parody, Samurai, S...     TV       51    9.25   \n",
              "3                                   Sci-Fi, Thriller     TV       24    9.17   \n",
              "4  Action, Comedy, Historical, Parody, Samurai, S...     TV       51    9.16   \n",
              "\n",
              "   members  \n",
              "0   200630  \n",
              "1   793665  \n",
              "2   114262  \n",
              "3   673572  \n",
              "4   151266  "
            ],
            "text/html": [
              "\n",
              "  <div id=\"df-a759f483-fa8a-4e30-935b-dec0bd49f291\">\n",
              "    <div class=\"colab-df-container\">\n",
              "      <div>\n",
              "<style scoped>\n",
              "    .dataframe tbody tr th:only-of-type {\n",
              "        vertical-align: middle;\n",
              "    }\n",
              "\n",
              "    .dataframe tbody tr th {\n",
              "        vertical-align: top;\n",
              "    }\n",
              "\n",
              "    .dataframe thead th {\n",
              "        text-align: right;\n",
              "    }\n",
              "</style>\n",
              "<table border=\"1\" class=\"dataframe\">\n",
              "  <thead>\n",
              "    <tr style=\"text-align: right;\">\n",
              "      <th></th>\n",
              "      <th>anime_id</th>\n",
              "      <th>name</th>\n",
              "      <th>genre</th>\n",
              "      <th>type</th>\n",
              "      <th>episodes</th>\n",
              "      <th>rating</th>\n",
              "      <th>members</th>\n",
              "    </tr>\n",
              "  </thead>\n",
              "  <tbody>\n",
              "    <tr>\n",
              "      <th>0</th>\n",
              "      <td>32281</td>\n",
              "      <td>Kimi no Na wa.</td>\n",
              "      <td>Drama, Romance, School, Supernatural</td>\n",
              "      <td>Movie</td>\n",
              "      <td>1</td>\n",
              "      <td>9.37</td>\n",
              "      <td>200630</td>\n",
              "    </tr>\n",
              "    <tr>\n",
              "      <th>1</th>\n",
              "      <td>5114</td>\n",
              "      <td>Fullmetal Alchemist: Brotherhood</td>\n",
              "      <td>Action, Adventure, Drama, Fantasy, Magic, Mili...</td>\n",
              "      <td>TV</td>\n",
              "      <td>64</td>\n",
              "      <td>9.26</td>\n",
              "      <td>793665</td>\n",
              "    </tr>\n",
              "    <tr>\n",
              "      <th>2</th>\n",
              "      <td>28977</td>\n",
              "      <td>Gintama°</td>\n",
              "      <td>Action, Comedy, Historical, Parody, Samurai, S...</td>\n",
              "      <td>TV</td>\n",
              "      <td>51</td>\n",
              "      <td>9.25</td>\n",
              "      <td>114262</td>\n",
              "    </tr>\n",
              "    <tr>\n",
              "      <th>3</th>\n",
              "      <td>9253</td>\n",
              "      <td>Steins;Gate</td>\n",
              "      <td>Sci-Fi, Thriller</td>\n",
              "      <td>TV</td>\n",
              "      <td>24</td>\n",
              "      <td>9.17</td>\n",
              "      <td>673572</td>\n",
              "    </tr>\n",
              "    <tr>\n",
              "      <th>4</th>\n",
              "      <td>9969</td>\n",
              "      <td>Gintama&amp;#039;</td>\n",
              "      <td>Action, Comedy, Historical, Parody, Samurai, S...</td>\n",
              "      <td>TV</td>\n",
              "      <td>51</td>\n",
              "      <td>9.16</td>\n",
              "      <td>151266</td>\n",
              "    </tr>\n",
              "  </tbody>\n",
              "</table>\n",
              "</div>\n",
              "      <button class=\"colab-df-convert\" onclick=\"convertToInteractive('df-a759f483-fa8a-4e30-935b-dec0bd49f291')\"\n",
              "              title=\"Convert this dataframe to an interactive table.\"\n",
              "              style=\"display:none;\">\n",
              "        \n",
              "  <svg xmlns=\"http://www.w3.org/2000/svg\" height=\"24px\"viewBox=\"0 0 24 24\"\n",
              "       width=\"24px\">\n",
              "    <path d=\"M0 0h24v24H0V0z\" fill=\"none\"/>\n",
              "    <path d=\"M18.56 5.44l.94 2.06.94-2.06 2.06-.94-2.06-.94-.94-2.06-.94 2.06-2.06.94zm-11 1L8.5 8.5l.94-2.06 2.06-.94-2.06-.94L8.5 2.5l-.94 2.06-2.06.94zm10 10l.94 2.06.94-2.06 2.06-.94-2.06-.94-.94-2.06-.94 2.06-2.06.94z\"/><path d=\"M17.41 7.96l-1.37-1.37c-.4-.4-.92-.59-1.43-.59-.52 0-1.04.2-1.43.59L10.3 9.45l-7.72 7.72c-.78.78-.78 2.05 0 2.83L4 21.41c.39.39.9.59 1.41.59.51 0 1.02-.2 1.41-.59l7.78-7.78 2.81-2.81c.8-.78.8-2.07 0-2.86zM5.41 20L4 18.59l7.72-7.72 1.47 1.35L5.41 20z\"/>\n",
              "  </svg>\n",
              "      </button>\n",
              "      \n",
              "  <style>\n",
              "    .colab-df-container {\n",
              "      display:flex;\n",
              "      flex-wrap:wrap;\n",
              "      gap: 12px;\n",
              "    }\n",
              "\n",
              "    .colab-df-convert {\n",
              "      background-color: #E8F0FE;\n",
              "      border: none;\n",
              "      border-radius: 50%;\n",
              "      cursor: pointer;\n",
              "      display: none;\n",
              "      fill: #1967D2;\n",
              "      height: 32px;\n",
              "      padding: 0 0 0 0;\n",
              "      width: 32px;\n",
              "    }\n",
              "\n",
              "    .colab-df-convert:hover {\n",
              "      background-color: #E2EBFA;\n",
              "      box-shadow: 0px 1px 2px rgba(60, 64, 67, 0.3), 0px 1px 3px 1px rgba(60, 64, 67, 0.15);\n",
              "      fill: #174EA6;\n",
              "    }\n",
              "\n",
              "    [theme=dark] .colab-df-convert {\n",
              "      background-color: #3B4455;\n",
              "      fill: #D2E3FC;\n",
              "    }\n",
              "\n",
              "    [theme=dark] .colab-df-convert:hover {\n",
              "      background-color: #434B5C;\n",
              "      box-shadow: 0px 1px 3px 1px rgba(0, 0, 0, 0.15);\n",
              "      filter: drop-shadow(0px 1px 2px rgba(0, 0, 0, 0.3));\n",
              "      fill: #FFFFFF;\n",
              "    }\n",
              "  </style>\n",
              "\n",
              "      <script>\n",
              "        const buttonEl =\n",
              "          document.querySelector('#df-a759f483-fa8a-4e30-935b-dec0bd49f291 button.colab-df-convert');\n",
              "        buttonEl.style.display =\n",
              "          google.colab.kernel.accessAllowed ? 'block' : 'none';\n",
              "\n",
              "        async function convertToInteractive(key) {\n",
              "          const element = document.querySelector('#df-a759f483-fa8a-4e30-935b-dec0bd49f291');\n",
              "          const dataTable =\n",
              "            await google.colab.kernel.invokeFunction('convertToInteractive',\n",
              "                                                     [key], {});\n",
              "          if (!dataTable) return;\n",
              "\n",
              "          const docLinkHtml = 'Like what you see? Visit the ' +\n",
              "            '<a target=\"_blank\" href=https://colab.research.google.com/notebooks/data_table.ipynb>data table notebook</a>'\n",
              "            + ' to learn more about interactive tables.';\n",
              "          element.innerHTML = '';\n",
              "          dataTable['output_type'] = 'display_data';\n",
              "          await google.colab.output.renderOutput(dataTable, element);\n",
              "          const docLink = document.createElement('div');\n",
              "          docLink.innerHTML = docLinkHtml;\n",
              "          element.appendChild(docLink);\n",
              "        }\n",
              "      </script>\n",
              "    </div>\n",
              "  </div>\n",
              "  "
            ]
          },
          "metadata": {},
          "execution_count": 10
        }
      ],
      "source": [
        "df_anime = pd.read_csv('/dataset_baru/anime.csv')\n",
        "df_rating = pd.read_csv('/dataset_baru/reviews.csv')\n",
        "\n",
        "df_anime.head()"
      ]
    },
    {
      "cell_type": "code",
      "execution_count": 11,
      "metadata": {
        "colab": {
          "base_uri": "https://localhost:8080/",
          "height": 206
        },
        "id": "KqLmeePxNxF9",
        "outputId": "499f0e92-b8f5-4f85-cc95-53b2a001406d"
      },
      "outputs": [
        {
          "output_type": "execute_result",
          "data": {
            "text/plain": [
              "      uid          profile  anime_uid  \\\n",
              "0  255938   DesolatePsyche      34096   \n",
              "1  259117        baekbeans      34599   \n",
              "2  253664             skrn      28891   \n",
              "3    8254     edgewalker00       2904   \n",
              "4  291149  aManOfCulture99       4181   \n",
              "\n",
              "                                                text  score  \\\n",
              "0  \\n           \\n         \\n           \\n       ...      8   \n",
              "1  \\n           \\n         \\n           \\n       ...     10   \n",
              "2  \\n           \\n         \\n           \\n       ...      7   \n",
              "3  \\n           \\n         \\n           \\n       ...      9   \n",
              "4  \\n           \\n         \\n           \\n       ...     10   \n",
              "\n",
              "                                              scores  \\\n",
              "0  {'Overall': '8', 'Story': '8', 'Animation': '8...   \n",
              "1  {'Overall': '10', 'Story': '10', 'Animation': ...   \n",
              "2  {'Overall': '7', 'Story': '7', 'Animation': '9...   \n",
              "3  {'Overall': '9', 'Story': '9', 'Animation': '9...   \n",
              "4  {'Overall': '10', 'Story': '10', 'Animation': ...   \n",
              "\n",
              "                                            link  \n",
              "0  https://myanimelist.net/reviews.php?id=255938  \n",
              "1  https://myanimelist.net/reviews.php?id=259117  \n",
              "2  https://myanimelist.net/reviews.php?id=253664  \n",
              "3    https://myanimelist.net/reviews.php?id=8254  \n",
              "4  https://myanimelist.net/reviews.php?id=291149  "
            ],
            "text/html": [
              "\n",
              "  <div id=\"df-3d239a52-9dcc-4be1-b65b-b77ece11a0ee\">\n",
              "    <div class=\"colab-df-container\">\n",
              "      <div>\n",
              "<style scoped>\n",
              "    .dataframe tbody tr th:only-of-type {\n",
              "        vertical-align: middle;\n",
              "    }\n",
              "\n",
              "    .dataframe tbody tr th {\n",
              "        vertical-align: top;\n",
              "    }\n",
              "\n",
              "    .dataframe thead th {\n",
              "        text-align: right;\n",
              "    }\n",
              "</style>\n",
              "<table border=\"1\" class=\"dataframe\">\n",
              "  <thead>\n",
              "    <tr style=\"text-align: right;\">\n",
              "      <th></th>\n",
              "      <th>uid</th>\n",
              "      <th>profile</th>\n",
              "      <th>anime_uid</th>\n",
              "      <th>text</th>\n",
              "      <th>score</th>\n",
              "      <th>scores</th>\n",
              "      <th>link</th>\n",
              "    </tr>\n",
              "  </thead>\n",
              "  <tbody>\n",
              "    <tr>\n",
              "      <th>0</th>\n",
              "      <td>255938</td>\n",
              "      <td>DesolatePsyche</td>\n",
              "      <td>34096</td>\n",
              "      <td>\\n           \\n         \\n           \\n       ...</td>\n",
              "      <td>8</td>\n",
              "      <td>{'Overall': '8', 'Story': '8', 'Animation': '8...</td>\n",
              "      <td>https://myanimelist.net/reviews.php?id=255938</td>\n",
              "    </tr>\n",
              "    <tr>\n",
              "      <th>1</th>\n",
              "      <td>259117</td>\n",
              "      <td>baekbeans</td>\n",
              "      <td>34599</td>\n",
              "      <td>\\n           \\n         \\n           \\n       ...</td>\n",
              "      <td>10</td>\n",
              "      <td>{'Overall': '10', 'Story': '10', 'Animation': ...</td>\n",
              "      <td>https://myanimelist.net/reviews.php?id=259117</td>\n",
              "    </tr>\n",
              "    <tr>\n",
              "      <th>2</th>\n",
              "      <td>253664</td>\n",
              "      <td>skrn</td>\n",
              "      <td>28891</td>\n",
              "      <td>\\n           \\n         \\n           \\n       ...</td>\n",
              "      <td>7</td>\n",
              "      <td>{'Overall': '7', 'Story': '7', 'Animation': '9...</td>\n",
              "      <td>https://myanimelist.net/reviews.php?id=253664</td>\n",
              "    </tr>\n",
              "    <tr>\n",
              "      <th>3</th>\n",
              "      <td>8254</td>\n",
              "      <td>edgewalker00</td>\n",
              "      <td>2904</td>\n",
              "      <td>\\n           \\n         \\n           \\n       ...</td>\n",
              "      <td>9</td>\n",
              "      <td>{'Overall': '9', 'Story': '9', 'Animation': '9...</td>\n",
              "      <td>https://myanimelist.net/reviews.php?id=8254</td>\n",
              "    </tr>\n",
              "    <tr>\n",
              "      <th>4</th>\n",
              "      <td>291149</td>\n",
              "      <td>aManOfCulture99</td>\n",
              "      <td>4181</td>\n",
              "      <td>\\n           \\n         \\n           \\n       ...</td>\n",
              "      <td>10</td>\n",
              "      <td>{'Overall': '10', 'Story': '10', 'Animation': ...</td>\n",
              "      <td>https://myanimelist.net/reviews.php?id=291149</td>\n",
              "    </tr>\n",
              "  </tbody>\n",
              "</table>\n",
              "</div>\n",
              "      <button class=\"colab-df-convert\" onclick=\"convertToInteractive('df-3d239a52-9dcc-4be1-b65b-b77ece11a0ee')\"\n",
              "              title=\"Convert this dataframe to an interactive table.\"\n",
              "              style=\"display:none;\">\n",
              "        \n",
              "  <svg xmlns=\"http://www.w3.org/2000/svg\" height=\"24px\"viewBox=\"0 0 24 24\"\n",
              "       width=\"24px\">\n",
              "    <path d=\"M0 0h24v24H0V0z\" fill=\"none\"/>\n",
              "    <path d=\"M18.56 5.44l.94 2.06.94-2.06 2.06-.94-2.06-.94-.94-2.06-.94 2.06-2.06.94zm-11 1L8.5 8.5l.94-2.06 2.06-.94-2.06-.94L8.5 2.5l-.94 2.06-2.06.94zm10 10l.94 2.06.94-2.06 2.06-.94-2.06-.94-.94-2.06-.94 2.06-2.06.94z\"/><path d=\"M17.41 7.96l-1.37-1.37c-.4-.4-.92-.59-1.43-.59-.52 0-1.04.2-1.43.59L10.3 9.45l-7.72 7.72c-.78.78-.78 2.05 0 2.83L4 21.41c.39.39.9.59 1.41.59.51 0 1.02-.2 1.41-.59l7.78-7.78 2.81-2.81c.8-.78.8-2.07 0-2.86zM5.41 20L4 18.59l7.72-7.72 1.47 1.35L5.41 20z\"/>\n",
              "  </svg>\n",
              "      </button>\n",
              "      \n",
              "  <style>\n",
              "    .colab-df-container {\n",
              "      display:flex;\n",
              "      flex-wrap:wrap;\n",
              "      gap: 12px;\n",
              "    }\n",
              "\n",
              "    .colab-df-convert {\n",
              "      background-color: #E8F0FE;\n",
              "      border: none;\n",
              "      border-radius: 50%;\n",
              "      cursor: pointer;\n",
              "      display: none;\n",
              "      fill: #1967D2;\n",
              "      height: 32px;\n",
              "      padding: 0 0 0 0;\n",
              "      width: 32px;\n",
              "    }\n",
              "\n",
              "    .colab-df-convert:hover {\n",
              "      background-color: #E2EBFA;\n",
              "      box-shadow: 0px 1px 2px rgba(60, 64, 67, 0.3), 0px 1px 3px 1px rgba(60, 64, 67, 0.15);\n",
              "      fill: #174EA6;\n",
              "    }\n",
              "\n",
              "    [theme=dark] .colab-df-convert {\n",
              "      background-color: #3B4455;\n",
              "      fill: #D2E3FC;\n",
              "    }\n",
              "\n",
              "    [theme=dark] .colab-df-convert:hover {\n",
              "      background-color: #434B5C;\n",
              "      box-shadow: 0px 1px 3px 1px rgba(0, 0, 0, 0.15);\n",
              "      filter: drop-shadow(0px 1px 2px rgba(0, 0, 0, 0.3));\n",
              "      fill: #FFFFFF;\n",
              "    }\n",
              "  </style>\n",
              "\n",
              "      <script>\n",
              "        const buttonEl =\n",
              "          document.querySelector('#df-3d239a52-9dcc-4be1-b65b-b77ece11a0ee button.colab-df-convert');\n",
              "        buttonEl.style.display =\n",
              "          google.colab.kernel.accessAllowed ? 'block' : 'none';\n",
              "\n",
              "        async function convertToInteractive(key) {\n",
              "          const element = document.querySelector('#df-3d239a52-9dcc-4be1-b65b-b77ece11a0ee');\n",
              "          const dataTable =\n",
              "            await google.colab.kernel.invokeFunction('convertToInteractive',\n",
              "                                                     [key], {});\n",
              "          if (!dataTable) return;\n",
              "\n",
              "          const docLinkHtml = 'Like what you see? Visit the ' +\n",
              "            '<a target=\"_blank\" href=https://colab.research.google.com/notebooks/data_table.ipynb>data table notebook</a>'\n",
              "            + ' to learn more about interactive tables.';\n",
              "          element.innerHTML = '';\n",
              "          dataTable['output_type'] = 'display_data';\n",
              "          await google.colab.output.renderOutput(dataTable, element);\n",
              "          const docLink = document.createElement('div');\n",
              "          docLink.innerHTML = docLinkHtml;\n",
              "          element.appendChild(docLink);\n",
              "        }\n",
              "      </script>\n",
              "    </div>\n",
              "  </div>\n",
              "  "
            ]
          },
          "metadata": {},
          "execution_count": 11
        }
      ],
      "source": [
        "df_rating.head()"
      ]
    },
    {
      "cell_type": "markdown",
      "metadata": {
        "id": "XnrQjwQ8OK8g"
      },
      "source": [
        "# Exploratory Data Analysis\n",
        "\n"
      ]
    },
    {
      "cell_type": "markdown",
      "metadata": {
        "id": "R6II_C-aVDdo"
      },
      "source": [
        "**Univariate Analysis**"
      ]
    },
    {
      "cell_type": "markdown",
      "metadata": {
        "id": "6-p2m3gnO3X4"
      },
      "source": [
        "**Deskripsi Variable**\n",
        "\n",
        "- Variable yang akan digunakan pada anime.csv\n",
        "  - anime_id = ID dari anime\n",
        "  - name = Judul Anime\n",
        "  - genre = Genre dari anime\n",
        "  - rating = Rating Anime\n",
        "\n",
        "- Variable pada file users_cleaned.csv\n",
        "  - user_id = id dari user \n",
        "  - anime_id\n",
        "  - rating = rating yang diberikan user"
      ]
    },
    {
      "cell_type": "code",
      "execution_count": 12,
      "metadata": {
        "colab": {
          "base_uri": "https://localhost:8080/"
        },
        "id": "VNzQYZWs-gbm",
        "outputId": "e319f103-e3dc-48a9-82d5-692ea66ca110"
      },
      "outputs": [
        {
          "output_type": "stream",
          "name": "stdout",
          "text": [
            "<class 'pandas.core.frame.DataFrame'>\n",
            "RangeIndex: 12294 entries, 0 to 12293\n",
            "Data columns (total 7 columns):\n",
            " #   Column    Non-Null Count  Dtype  \n",
            "---  ------    --------------  -----  \n",
            " 0   anime_id  12294 non-null  int64  \n",
            " 1   name      12294 non-null  object \n",
            " 2   genre     12232 non-null  object \n",
            " 3   type      12269 non-null  object \n",
            " 4   episodes  12294 non-null  object \n",
            " 5   rating    12064 non-null  float64\n",
            " 6   members   12294 non-null  int64  \n",
            "dtypes: float64(1), int64(2), object(4)\n",
            "memory usage: 672.5+ KB\n"
          ]
        }
      ],
      "source": [
        "df_anime.info()"
      ]
    },
    {
      "cell_type": "markdown",
      "metadata": {
        "id": "t8QDOAUqVMbU"
      },
      "source": [
        "Selanjutnya memilih column yang diperlukan"
      ]
    },
    {
      "cell_type": "code",
      "execution_count": 13,
      "metadata": {
        "id": "xcXDQY8PGvJ6"
      },
      "outputs": [],
      "source": [
        "df_anime = df_anime[['anime_id', 'genre', 'name', 'rating']]"
      ]
    },
    {
      "cell_type": "code",
      "execution_count": 14,
      "metadata": {
        "colab": {
          "base_uri": "https://localhost:8080/"
        },
        "id": "6r9qN72TN7ze",
        "outputId": "0e8299f0-1de1-49fc-da15-c0409967d59f"
      },
      "outputs": [
        {
          "output_type": "stream",
          "name": "stdout",
          "text": [
            "<class 'pandas.core.frame.DataFrame'>\n",
            "RangeIndex: 192112 entries, 0 to 192111\n",
            "Data columns (total 7 columns):\n",
            " #   Column     Non-Null Count   Dtype \n",
            "---  ------     --------------   ----- \n",
            " 0   uid        192112 non-null  int64 \n",
            " 1   profile    192112 non-null  object\n",
            " 2   anime_uid  192112 non-null  int64 \n",
            " 3   text       192112 non-null  object\n",
            " 4   score      192112 non-null  int64 \n",
            " 5   scores     192112 non-null  object\n",
            " 6   link       192112 non-null  object\n",
            "dtypes: int64(3), object(4)\n",
            "memory usage: 10.3+ MB\n"
          ]
        }
      ],
      "source": [
        "df_rating.info()"
      ]
    },
    {
      "cell_type": "markdown",
      "metadata": {
        "id": "GaU5lP8MVnsD"
      },
      "source": [
        "Memilih column Dataset rating yang diperlukan"
      ]
    },
    {
      "cell_type": "code",
      "execution_count": 15,
      "metadata": {
        "id": "EkgVJXSjVXP3"
      },
      "outputs": [],
      "source": [
        "df_rating = df_rating[['uid', 'anime_uid', 'score']]"
      ]
    },
    {
      "cell_type": "code",
      "execution_count": 16,
      "metadata": {
        "colab": {
          "base_uri": "https://localhost:8080/"
        },
        "id": "BQ3Lt_oh-lBV",
        "outputId": "c15eff51-2b09-4d9f-e7b5-0a4d4de3ec81"
      },
      "outputs": [
        {
          "output_type": "execute_result",
          "data": {
            "text/plain": [
              "count    12064.000000\n",
              "mean         6.473902\n",
              "std          1.026746\n",
              "min          1.670000\n",
              "25%          5.880000\n",
              "50%          6.570000\n",
              "75%          7.180000\n",
              "max         10.000000\n",
              "Name: rating, dtype: float64"
            ]
          },
          "metadata": {},
          "execution_count": 16
        }
      ],
      "source": [
        "df_anime['rating'].describe()"
      ]
    },
    {
      "cell_type": "markdown",
      "metadata": {
        "id": "ae8SyyliWQnX"
      },
      "source": [
        "dari data diatas dapat dilihat bahwa skala dari rating yang diberikan adalah 1-10"
      ]
    },
    {
      "cell_type": "markdown",
      "metadata": {
        "id": "dGoQ80VuXRBJ"
      },
      "source": [
        "Selanjutnya kita akan melihat data genre yang terdapat pada dataset anime sebagai berikut"
      ]
    },
    {
      "cell_type": "code",
      "execution_count": 17,
      "metadata": {
        "colab": {
          "base_uri": "https://localhost:8080/",
          "height": 293
        },
        "id": "CwJRS-5e_AOH",
        "outputId": "f5e8c1ac-0056-4df5-c4ab-d66ed42881b5"
      },
      "outputs": [
        {
          "output_type": "stream",
          "name": "stderr",
          "text": [
            "/usr/local/lib/python3.7/dist-packages/ipykernel_launcher.py:2: SettingWithCopyWarning: \n",
            "A value is trying to be set on a copy of a slice from a DataFrame\n",
            "\n",
            "See the caveats in the documentation: https://pandas.pydata.org/pandas-docs/stable/user_guide/indexing.html#returning-a-view-versus-a-copy\n",
            "  \n"
          ]
        },
        {
          "output_type": "execute_result",
          "data": {
            "text/plain": [
              "    genre                              name\n",
              "0   Drama                    Kimi no Na wa.\n",
              "1  Action  Fullmetal Alchemist: Brotherhood\n",
              "2  Action                          Gintama°\n",
              "3  Sci-Fi                       Steins;Gate\n",
              "4  Action                     Gintama&#039;"
            ],
            "text/html": [
              "\n",
              "  <div id=\"df-ec6a21d3-206e-418a-8ff8-08d346702015\">\n",
              "    <div class=\"colab-df-container\">\n",
              "      <div>\n",
              "<style scoped>\n",
              "    .dataframe tbody tr th:only-of-type {\n",
              "        vertical-align: middle;\n",
              "    }\n",
              "\n",
              "    .dataframe tbody tr th {\n",
              "        vertical-align: top;\n",
              "    }\n",
              "\n",
              "    .dataframe thead th {\n",
              "        text-align: right;\n",
              "    }\n",
              "</style>\n",
              "<table border=\"1\" class=\"dataframe\">\n",
              "  <thead>\n",
              "    <tr style=\"text-align: right;\">\n",
              "      <th></th>\n",
              "      <th>genre</th>\n",
              "      <th>name</th>\n",
              "    </tr>\n",
              "  </thead>\n",
              "  <tbody>\n",
              "    <tr>\n",
              "      <th>0</th>\n",
              "      <td>Drama</td>\n",
              "      <td>Kimi no Na wa.</td>\n",
              "    </tr>\n",
              "    <tr>\n",
              "      <th>1</th>\n",
              "      <td>Action</td>\n",
              "      <td>Fullmetal Alchemist: Brotherhood</td>\n",
              "    </tr>\n",
              "    <tr>\n",
              "      <th>2</th>\n",
              "      <td>Action</td>\n",
              "      <td>Gintama°</td>\n",
              "    </tr>\n",
              "    <tr>\n",
              "      <th>3</th>\n",
              "      <td>Sci-Fi</td>\n",
              "      <td>Steins;Gate</td>\n",
              "    </tr>\n",
              "    <tr>\n",
              "      <th>4</th>\n",
              "      <td>Action</td>\n",
              "      <td>Gintama&amp;#039;</td>\n",
              "    </tr>\n",
              "  </tbody>\n",
              "</table>\n",
              "</div>\n",
              "      <button class=\"colab-df-convert\" onclick=\"convertToInteractive('df-ec6a21d3-206e-418a-8ff8-08d346702015')\"\n",
              "              title=\"Convert this dataframe to an interactive table.\"\n",
              "              style=\"display:none;\">\n",
              "        \n",
              "  <svg xmlns=\"http://www.w3.org/2000/svg\" height=\"24px\"viewBox=\"0 0 24 24\"\n",
              "       width=\"24px\">\n",
              "    <path d=\"M0 0h24v24H0V0z\" fill=\"none\"/>\n",
              "    <path d=\"M18.56 5.44l.94 2.06.94-2.06 2.06-.94-2.06-.94-.94-2.06-.94 2.06-2.06.94zm-11 1L8.5 8.5l.94-2.06 2.06-.94-2.06-.94L8.5 2.5l-.94 2.06-2.06.94zm10 10l.94 2.06.94-2.06 2.06-.94-2.06-.94-.94-2.06-.94 2.06-2.06.94z\"/><path d=\"M17.41 7.96l-1.37-1.37c-.4-.4-.92-.59-1.43-.59-.52 0-1.04.2-1.43.59L10.3 9.45l-7.72 7.72c-.78.78-.78 2.05 0 2.83L4 21.41c.39.39.9.59 1.41.59.51 0 1.02-.2 1.41-.59l7.78-7.78 2.81-2.81c.8-.78.8-2.07 0-2.86zM5.41 20L4 18.59l7.72-7.72 1.47 1.35L5.41 20z\"/>\n",
              "  </svg>\n",
              "      </button>\n",
              "      \n",
              "  <style>\n",
              "    .colab-df-container {\n",
              "      display:flex;\n",
              "      flex-wrap:wrap;\n",
              "      gap: 12px;\n",
              "    }\n",
              "\n",
              "    .colab-df-convert {\n",
              "      background-color: #E8F0FE;\n",
              "      border: none;\n",
              "      border-radius: 50%;\n",
              "      cursor: pointer;\n",
              "      display: none;\n",
              "      fill: #1967D2;\n",
              "      height: 32px;\n",
              "      padding: 0 0 0 0;\n",
              "      width: 32px;\n",
              "    }\n",
              "\n",
              "    .colab-df-convert:hover {\n",
              "      background-color: #E2EBFA;\n",
              "      box-shadow: 0px 1px 2px rgba(60, 64, 67, 0.3), 0px 1px 3px 1px rgba(60, 64, 67, 0.15);\n",
              "      fill: #174EA6;\n",
              "    }\n",
              "\n",
              "    [theme=dark] .colab-df-convert {\n",
              "      background-color: #3B4455;\n",
              "      fill: #D2E3FC;\n",
              "    }\n",
              "\n",
              "    [theme=dark] .colab-df-convert:hover {\n",
              "      background-color: #434B5C;\n",
              "      box-shadow: 0px 1px 3px 1px rgba(0, 0, 0, 0.15);\n",
              "      filter: drop-shadow(0px 1px 2px rgba(0, 0, 0, 0.3));\n",
              "      fill: #FFFFFF;\n",
              "    }\n",
              "  </style>\n",
              "\n",
              "      <script>\n",
              "        const buttonEl =\n",
              "          document.querySelector('#df-ec6a21d3-206e-418a-8ff8-08d346702015 button.colab-df-convert');\n",
              "        buttonEl.style.display =\n",
              "          google.colab.kernel.accessAllowed ? 'block' : 'none';\n",
              "\n",
              "        async function convertToInteractive(key) {\n",
              "          const element = document.querySelector('#df-ec6a21d3-206e-418a-8ff8-08d346702015');\n",
              "          const dataTable =\n",
              "            await google.colab.kernel.invokeFunction('convertToInteractive',\n",
              "                                                     [key], {});\n",
              "          if (!dataTable) return;\n",
              "\n",
              "          const docLinkHtml = 'Like what you see? Visit the ' +\n",
              "            '<a target=\"_blank\" href=https://colab.research.google.com/notebooks/data_table.ipynb>data table notebook</a>'\n",
              "            + ' to learn more about interactive tables.';\n",
              "          element.innerHTML = '';\n",
              "          dataTable['output_type'] = 'display_data';\n",
              "          await google.colab.output.renderOutput(dataTable, element);\n",
              "          const docLink = document.createElement('div');\n",
              "          docLink.innerHTML = docLinkHtml;\n",
              "          element.appendChild(docLink);\n",
              "        }\n",
              "      </script>\n",
              "    </div>\n",
              "  </div>\n",
              "  "
            ]
          },
          "metadata": {},
          "execution_count": 17
        }
      ],
      "source": [
        "for x in range(len(df_anime)):\n",
        "  df_anime['genre'][x] = str(df_anime['genre'][x]).split(',')[0]\n",
        "\n",
        "df_anime[['genre', 'name']].head()"
      ]
    },
    {
      "cell_type": "code",
      "execution_count": 18,
      "metadata": {
        "colab": {
          "base_uri": "https://localhost:8080/"
        },
        "id": "rFEcvc0v_Nnw",
        "outputId": "6fdb36fc-4fec-48ec-a146-10417a5cfaf3"
      },
      "outputs": [
        {
          "output_type": "stream",
          "name": "stdout",
          "text": [
            "All genres : ['Drama', 'Action', 'Sci-Fi', 'Comedy', 'Adventure', 'Fantasy', 'Mystery', 'Psychological', 'Ecchi', 'Josei', 'Military', 'Romance', 'Demons', 'Dementia', 'Music', 'Game', 'Cars', 'Mecha', 'Horror', 'School', 'Historical', 'Kids', 'Shounen', 'Shoujo', 'Magic', 'Harem', 'Martial Arts', 'Sports', 'Slice of Life', 'Seinen', 'nan', 'Parody', 'Police', 'Thriller', 'Supernatural', 'Samurai', 'Super Power', 'Vampire', 'Space', 'Hentai', 'Yaoi']\n",
            "Genres amount : 41\n"
          ]
        }
      ],
      "source": [
        "genres = df_anime['genre'].unique().tolist()\n",
        "print(\"All genres : {}\".format(genres))\n",
        "print(\"Genres amount : {}\".format(len(genres)))"
      ]
    },
    {
      "cell_type": "markdown",
      "metadata": {
        "id": "BhYN1S2TXpdH"
      },
      "source": [
        "Jadi pada dataset terdapat 41 genre yang tersedia, dan kita akan membuat visualisasinya sebagai berikut"
      ]
    },
    {
      "cell_type": "code",
      "execution_count": 19,
      "metadata": {
        "colab": {
          "base_uri": "https://localhost:8080/",
          "height": 363
        },
        "id": "3ST27SLc_X_4",
        "outputId": "6b3e819e-4c45-4cf2-8d7c-b36444baa24a"
      },
      "outputs": [
        {
          "output_type": "execute_result",
          "data": {
            "text/plain": [
              "         genre  name\n",
              "3       Comedy  3193\n",
              "0       Action  2845\n",
              "1    Adventure  1457\n",
              "6        Drama   991\n",
              "11      Hentai   947\n",
              "8      Fantasy   494\n",
              "20       Music   403\n",
              "15        Kids   396\n",
              "4     Dementia   206\n",
              "12  Historical   170"
            ],
            "text/html": [
              "\n",
              "  <div id=\"df-73e9761c-d6dc-4a10-b83d-2f054a284190\">\n",
              "    <div class=\"colab-df-container\">\n",
              "      <div>\n",
              "<style scoped>\n",
              "    .dataframe tbody tr th:only-of-type {\n",
              "        vertical-align: middle;\n",
              "    }\n",
              "\n",
              "    .dataframe tbody tr th {\n",
              "        vertical-align: top;\n",
              "    }\n",
              "\n",
              "    .dataframe thead th {\n",
              "        text-align: right;\n",
              "    }\n",
              "</style>\n",
              "<table border=\"1\" class=\"dataframe\">\n",
              "  <thead>\n",
              "    <tr style=\"text-align: right;\">\n",
              "      <th></th>\n",
              "      <th>genre</th>\n",
              "      <th>name</th>\n",
              "    </tr>\n",
              "  </thead>\n",
              "  <tbody>\n",
              "    <tr>\n",
              "      <th>3</th>\n",
              "      <td>Comedy</td>\n",
              "      <td>3193</td>\n",
              "    </tr>\n",
              "    <tr>\n",
              "      <th>0</th>\n",
              "      <td>Action</td>\n",
              "      <td>2845</td>\n",
              "    </tr>\n",
              "    <tr>\n",
              "      <th>1</th>\n",
              "      <td>Adventure</td>\n",
              "      <td>1457</td>\n",
              "    </tr>\n",
              "    <tr>\n",
              "      <th>6</th>\n",
              "      <td>Drama</td>\n",
              "      <td>991</td>\n",
              "    </tr>\n",
              "    <tr>\n",
              "      <th>11</th>\n",
              "      <td>Hentai</td>\n",
              "      <td>947</td>\n",
              "    </tr>\n",
              "    <tr>\n",
              "      <th>8</th>\n",
              "      <td>Fantasy</td>\n",
              "      <td>494</td>\n",
              "    </tr>\n",
              "    <tr>\n",
              "      <th>20</th>\n",
              "      <td>Music</td>\n",
              "      <td>403</td>\n",
              "    </tr>\n",
              "    <tr>\n",
              "      <th>15</th>\n",
              "      <td>Kids</td>\n",
              "      <td>396</td>\n",
              "    </tr>\n",
              "    <tr>\n",
              "      <th>4</th>\n",
              "      <td>Dementia</td>\n",
              "      <td>206</td>\n",
              "    </tr>\n",
              "    <tr>\n",
              "      <th>12</th>\n",
              "      <td>Historical</td>\n",
              "      <td>170</td>\n",
              "    </tr>\n",
              "  </tbody>\n",
              "</table>\n",
              "</div>\n",
              "      <button class=\"colab-df-convert\" onclick=\"convertToInteractive('df-73e9761c-d6dc-4a10-b83d-2f054a284190')\"\n",
              "              title=\"Convert this dataframe to an interactive table.\"\n",
              "              style=\"display:none;\">\n",
              "        \n",
              "  <svg xmlns=\"http://www.w3.org/2000/svg\" height=\"24px\"viewBox=\"0 0 24 24\"\n",
              "       width=\"24px\">\n",
              "    <path d=\"M0 0h24v24H0V0z\" fill=\"none\"/>\n",
              "    <path d=\"M18.56 5.44l.94 2.06.94-2.06 2.06-.94-2.06-.94-.94-2.06-.94 2.06-2.06.94zm-11 1L8.5 8.5l.94-2.06 2.06-.94-2.06-.94L8.5 2.5l-.94 2.06-2.06.94zm10 10l.94 2.06.94-2.06 2.06-.94-2.06-.94-.94-2.06-.94 2.06-2.06.94z\"/><path d=\"M17.41 7.96l-1.37-1.37c-.4-.4-.92-.59-1.43-.59-.52 0-1.04.2-1.43.59L10.3 9.45l-7.72 7.72c-.78.78-.78 2.05 0 2.83L4 21.41c.39.39.9.59 1.41.59.51 0 1.02-.2 1.41-.59l7.78-7.78 2.81-2.81c.8-.78.8-2.07 0-2.86zM5.41 20L4 18.59l7.72-7.72 1.47 1.35L5.41 20z\"/>\n",
              "  </svg>\n",
              "      </button>\n",
              "      \n",
              "  <style>\n",
              "    .colab-df-container {\n",
              "      display:flex;\n",
              "      flex-wrap:wrap;\n",
              "      gap: 12px;\n",
              "    }\n",
              "\n",
              "    .colab-df-convert {\n",
              "      background-color: #E8F0FE;\n",
              "      border: none;\n",
              "      border-radius: 50%;\n",
              "      cursor: pointer;\n",
              "      display: none;\n",
              "      fill: #1967D2;\n",
              "      height: 32px;\n",
              "      padding: 0 0 0 0;\n",
              "      width: 32px;\n",
              "    }\n",
              "\n",
              "    .colab-df-convert:hover {\n",
              "      background-color: #E2EBFA;\n",
              "      box-shadow: 0px 1px 2px rgba(60, 64, 67, 0.3), 0px 1px 3px 1px rgba(60, 64, 67, 0.15);\n",
              "      fill: #174EA6;\n",
              "    }\n",
              "\n",
              "    [theme=dark] .colab-df-convert {\n",
              "      background-color: #3B4455;\n",
              "      fill: #D2E3FC;\n",
              "    }\n",
              "\n",
              "    [theme=dark] .colab-df-convert:hover {\n",
              "      background-color: #434B5C;\n",
              "      box-shadow: 0px 1px 3px 1px rgba(0, 0, 0, 0.15);\n",
              "      filter: drop-shadow(0px 1px 2px rgba(0, 0, 0, 0.3));\n",
              "      fill: #FFFFFF;\n",
              "    }\n",
              "  </style>\n",
              "\n",
              "      <script>\n",
              "        const buttonEl =\n",
              "          document.querySelector('#df-73e9761c-d6dc-4a10-b83d-2f054a284190 button.colab-df-convert');\n",
              "        buttonEl.style.display =\n",
              "          google.colab.kernel.accessAllowed ? 'block' : 'none';\n",
              "\n",
              "        async function convertToInteractive(key) {\n",
              "          const element = document.querySelector('#df-73e9761c-d6dc-4a10-b83d-2f054a284190');\n",
              "          const dataTable =\n",
              "            await google.colab.kernel.invokeFunction('convertToInteractive',\n",
              "                                                     [key], {});\n",
              "          if (!dataTable) return;\n",
              "\n",
              "          const docLinkHtml = 'Like what you see? Visit the ' +\n",
              "            '<a target=\"_blank\" href=https://colab.research.google.com/notebooks/data_table.ipynb>data table notebook</a>'\n",
              "            + ' to learn more about interactive tables.';\n",
              "          element.innerHTML = '';\n",
              "          dataTable['output_type'] = 'display_data';\n",
              "          await google.colab.output.renderOutput(dataTable, element);\n",
              "          const docLink = document.createElement('div');\n",
              "          docLink.innerHTML = docLinkHtml;\n",
              "          element.appendChild(docLink);\n",
              "        }\n",
              "      </script>\n",
              "    </div>\n",
              "  </div>\n",
              "  "
            ]
          },
          "metadata": {},
          "execution_count": 19
        }
      ],
      "source": [
        "df_visual_genres = df_anime.groupby('genre')['name'].count().reset_index().sort_values('name', ascending=False).head(10)\n",
        "df_visual_genres"
      ]
    },
    {
      "cell_type": "code",
      "execution_count": 20,
      "metadata": {
        "colab": {
          "base_uri": "https://localhost:8080/",
          "height": 404
        },
        "id": "1tzXQ1Dg_xpg",
        "outputId": "289357e0-9a6c-4511-e176-3b9ca3b93b9b"
      },
      "outputs": [
        {
          "output_type": "display_data",
          "data": {
            "text/plain": [
              "<Figure size 1440x432 with 1 Axes>"
            ],
            "image/png": "[encoded data removed]"
          },
          "metadata": {
            "needs_background": "light"
          }
        }
      ],
      "source": [
        "plt.figure(figsize=(20,6))\n",
        "plt.title('Top 10 Anime Genres')\n",
        "sns.barplot(x=\"genre\", y=\"name\", data=df_visual_genres, palette='icefire_r')\n",
        "plt.show()"
      ]
    },
    {
      "cell_type": "markdown",
      "metadata": {
        "id": "_5lycyVqaJh5"
      },
      "source": [
        "# Data Preparation"
      ]
    },
    {
      "cell_type": "markdown",
      "metadata": {
        "id": "bwxl4OdlYTHt"
      },
      "source": [
        "**Mengecek Missing Value**"
      ]
    },
    {
      "cell_type": "code",
      "execution_count": 21,
      "metadata": {
        "colab": {
          "base_uri": "https://localhost:8080/"
        },
        "id": "6UWNjMDn_-Vc",
        "outputId": "325a1cf2-80f7-4110-921c-bf6d210ce275"
      },
      "outputs": [
        {
          "output_type": "execute_result",
          "data": {
            "text/plain": [
              "anime_id      0\n",
              "genre         0\n",
              "name          0\n",
              "rating      230\n",
              "dtype: int64"
            ]
          },
          "metadata": {},
          "execution_count": 21
        }
      ],
      "source": [
        "df_anime.isnull().sum()"
      ]
    },
    {
      "cell_type": "markdown",
      "metadata": {
        "id": "dyaHROHKYbcn"
      },
      "source": [
        "terdapat 230 missing value pada column rating dataset anime, maka kita akan menghaspus data tersebut"
      ]
    },
    {
      "cell_type": "code",
      "execution_count": 22,
      "metadata": {
        "id": "nw4QcJ6cYh-j"
      },
      "outputs": [],
      "source": [
        "df_anime.dropna(axis=0, inplace=True)"
      ]
    },
    {
      "cell_type": "code",
      "execution_count": 23,
      "metadata": {
        "colab": {
          "base_uri": "https://localhost:8080/"
        },
        "id": "V3LAq5TYZ3vn",
        "outputId": "8e0191ef-15c8-42c8-b4a7-db35560d2f0e"
      },
      "outputs": [
        {
          "output_type": "execute_result",
          "data": {
            "text/plain": [
              "uid          0\n",
              "anime_uid    0\n",
              "score        0\n",
              "dtype: int64"
            ]
          },
          "metadata": {},
          "execution_count": 23
        }
      ],
      "source": [
        "df_rating.isnull().sum()"
      ]
    },
    {
      "cell_type": "markdown",
      "metadata": {
        "id": "d6zKnbkyY_kp"
      },
      "source": [
        "untuk dataset rating tidak terdapat missing value"
      ]
    },
    {
      "cell_type": "code",
      "execution_count": 24,
      "metadata": {
        "colab": {
          "base_uri": "https://localhost:8080/"
        },
        "id": "6EvZAND3ZsFv",
        "outputId": "8e9b92d7-782e-4680-accd-457e453a2e59"
      },
      "outputs": [
        {
          "output_type": "execute_result",
          "data": {
            "text/plain": [
              "anime_id    0\n",
              "genre       0\n",
              "name        0\n",
              "rating      0\n",
              "dtype: int64"
            ]
          },
          "metadata": {},
          "execution_count": 24
        }
      ],
      "source": [
        "df_anime.isnull().sum()"
      ]
    },
    {
      "cell_type": "markdown",
      "metadata": {
        "id": "n0qXfMXhZM_8"
      },
      "source": [
        "**Mengecek data Duplikat**"
      ]
    },
    {
      "cell_type": "code",
      "execution_count": 25,
      "metadata": {
        "colab": {
          "base_uri": "https://localhost:8080/"
        },
        "id": "sAR3FqvC0Hgp",
        "outputId": "2ad68239-3bb1-412d-ce5b-bd055384f0b4"
      },
      "outputs": [
        {
          "output_type": "execute_result",
          "data": {
            "text/plain": [
              "0"
            ]
          },
          "metadata": {},
          "execution_count": 25
        }
      ],
      "source": [
        "df_anime.duplicated().sum()"
      ]
    },
    {
      "cell_type": "code",
      "execution_count": 26,
      "metadata": {
        "colab": {
          "base_uri": "https://localhost:8080/"
        },
        "id": "8SMoLb05ajQK",
        "outputId": "bb3ee63f-84f0-4592-b0b7-49ef7b07affe"
      },
      "outputs": [
        {
          "output_type": "execute_result",
          "data": {
            "text/plain": [
              "61593"
            ]
          },
          "metadata": {},
          "execution_count": 26
        }
      ],
      "source": [
        "df_rating.duplicated().sum()"
      ]
    },
    {
      "cell_type": "markdown",
      "metadata": {
        "id": "10r6-s8Hav_9"
      },
      "source": [
        "pada data rating terdapat 61593 data duplikat dan data ini akan kita hapus saja"
      ]
    },
    {
      "cell_type": "code",
      "execution_count": 27,
      "metadata": {
        "colab": {
          "base_uri": "https://localhost:8080/"
        },
        "id": "wkv2L1aPa5Gm",
        "outputId": "9fbd2961-d954-4ed1-b0fb-f793ccd1cbb1"
      },
      "outputs": [
        {
          "output_type": "execute_result",
          "data": {
            "text/plain": [
              "0"
            ]
          },
          "metadata": {},
          "execution_count": 27
        }
      ],
      "source": [
        "df_rating.drop_duplicates(subset=['uid','anime_uid'], keep='first', inplace=True)\n",
        "df_rating.duplicated().sum()"
      ]
    },
    {
      "cell_type": "markdown",
      "metadata": {
        "id": "F4qo-GIPbvVW"
      },
      "source": [
        "# Model Development"
      ]
    },
    {
      "cell_type": "markdown",
      "metadata": {
        "id": "qx79L28Mbymr"
      },
      "source": [
        "\n",
        "\n",
        "# **Content-Based-Filtering**\n",
        "\n"
      ]
    },
    {
      "cell_type": "markdown",
      "metadata": {
        "id": "6LnO7VhfcLVg"
      },
      "source": [
        "pertama kita akan mempersiapkan data untuk cosine similarity dengan TfidfVectorizer, lalu mendapatkan fiur penting pada data genre "
      ]
    },
    {
      "cell_type": "code",
      "execution_count": 28,
      "metadata": {
        "colab": {
          "base_uri": "https://localhost:8080/"
        },
        "id": "bCmfyG49Bel1",
        "outputId": "3e9eaf74-1e32-47a3-94a1-4b3790e2f338"
      },
      "outputs": [
        {
          "output_type": "stream",
          "name": "stderr",
          "text": [
            "/usr/local/lib/python3.7/dist-packages/sklearn/utils/deprecation.py:87: FutureWarning: Function get_feature_names is deprecated; get_feature_names is deprecated in 1.0 and will be removed in 1.2. Please use get_feature_names_out instead.\n",
            "  warnings.warn(msg, category=FutureWarning)\n"
          ]
        },
        {
          "output_type": "execute_result",
          "data": {
            "text/plain": [
              "['action',\n",
              " 'adventure',\n",
              " 'arts',\n",
              " 'cars',\n",
              " 'comedy',\n",
              " 'dementia',\n",
              " 'demons',\n",
              " 'drama',\n",
              " 'ecchi',\n",
              " 'fantasy',\n",
              " 'fi',\n",
              " 'game',\n",
              " 'harem',\n",
              " 'hentai',\n",
              " 'historical',\n",
              " 'horror',\n",
              " 'josei',\n",
              " 'kids',\n",
              " 'life',\n",
              " 'magic',\n",
              " 'martial',\n",
              " 'mecha',\n",
              " 'military',\n",
              " 'music',\n",
              " 'mystery',\n",
              " 'nan',\n",
              " 'parody',\n",
              " 'police',\n",
              " 'power',\n",
              " 'psychological',\n",
              " 'romance',\n",
              " 'samurai',\n",
              " 'school',\n",
              " 'sci',\n",
              " 'seinen',\n",
              " 'shoujo',\n",
              " 'shounen',\n",
              " 'slice',\n",
              " 'space',\n",
              " 'sports',\n",
              " 'super',\n",
              " 'supernatural',\n",
              " 'thriller',\n",
              " 'vampire',\n",
              " 'yaoi']"
            ]
          },
          "metadata": {},
          "execution_count": 28
        }
      ],
      "source": [
        "tfid = TfidfVectorizer(stop_words='english')\n",
        "tfid.fit(df_anime['genre'])\n",
        "tfid.get_feature_names()"
      ]
    },
    {
      "cell_type": "markdown",
      "metadata": {
        "id": "_mzYZ-JbdQ6F"
      },
      "source": [
        "selanjutnya kita akan melakukan fitting dan mengubah kedalam bentuk matriks"
      ]
    },
    {
      "cell_type": "code",
      "execution_count": 29,
      "metadata": {
        "colab": {
          "base_uri": "https://localhost:8080/"
        },
        "id": "6_uWvQXPCUps",
        "outputId": "9fa5bd90-14d7-4cf4-b0a9-c3c26a7282c0"
      },
      "outputs": [
        {
          "output_type": "execute_result",
          "data": {
            "text/plain": [
              "(12064, 45)"
            ]
          },
          "metadata": {},
          "execution_count": 29
        }
      ],
      "source": [
        "tfidf_matrix = tfid.fit_transform(df_anime['genre']) \n",
        "tfidf_matrix.shape"
      ]
    },
    {
      "cell_type": "markdown",
      "metadata": {
        "id": "DIrLD8wjdr34"
      },
      "source": [
        "angka diatas adalah ukuran dari matriks kita, dan untuk melihat vektor tf-idf dalam bentuk matriks kita jalankan kode berikut"
      ]
    },
    {
      "cell_type": "code",
      "execution_count": 30,
      "metadata": {
        "colab": {
          "base_uri": "https://localhost:8080/"
        },
        "id": "jBaKXxjtCZnl",
        "outputId": "c8ad325d-8b12-4419-ab68-eb7f0991f8fb"
      },
      "outputs": [
        {
          "output_type": "stream",
          "name": "stdout",
          "text": [
            "(12064, 12064)\n"
          ]
        },
        {
          "output_type": "execute_result",
          "data": {
            "text/plain": [
              "array([[1., 0., 0., ..., 0., 0., 0.],\n",
              "       [0., 1., 1., ..., 0., 0., 0.],\n",
              "       [0., 1., 1., ..., 0., 0., 0.],\n",
              "       ...,\n",
              "       [0., 0., 0., ..., 1., 1., 1.],\n",
              "       [0., 0., 0., ..., 1., 1., 1.],\n",
              "       [0., 0., 0., ..., 1., 1., 1.]])"
            ]
          },
          "metadata": {},
          "execution_count": 30
        }
      ],
      "source": [
        "cosine_sim = cosine_similarity(tfidf_matrix)\n",
        "print(cosine_sim.shape)\n",
        "cosine_sim"
      ]
    },
    {
      "cell_type": "markdown",
      "metadata": {
        "id": "CurC7UKdeEgC"
      },
      "source": [
        "dari matriks tf-idf diatas kita lihat bagaimana similarity dari dataset anime yang kita miliki"
      ]
    },
    {
      "cell_type": "code",
      "execution_count": 31,
      "metadata": {
        "colab": {
          "base_uri": "https://localhost:8080/",
          "height": 699
        },
        "id": "aTzCorAnCe-G",
        "outputId": "c5e12731-95b4-42b0-8043-5e4ad2af12f6"
      },
      "outputs": [
        {
          "output_type": "stream",
          "name": "stdout",
          "text": [
            "Size dataframe: (12064, 12064)\n"
          ]
        },
        {
          "output_type": "execute_result",
          "data": {
            "text/plain": [
              "name                                     X Bomber  Soccer Fever  \\\n",
              "name                                                              \n",
              "Nanocore: 2016 New Year Special               0.0           0.0   \n",
              "Machine-Doll wa Kizutsukanai                  1.0           0.0   \n",
              "Kochira Tamago Outou Negaimasu                0.0           0.0   \n",
              "Kyouryoku Boukuusen                           1.0           0.0   \n",
              "Super GALS! Kotobuki Ran                      0.0           0.0   \n",
              "Don Chuck Monogatari                          0.0           0.0   \n",
              "Stratos 4                                     0.0           0.0   \n",
              "Cyclops Shoujo Saipuu                         0.0           0.0   \n",
              "Fushigi no Umi no Nadia: Original Movie       1.0           0.0   \n",
              "Nanaka 6/17 Special                           0.0           0.0   \n",
              "\n",
              "name                                     Jungle de Ikou!  \\\n",
              "name                                                       \n",
              "Nanocore: 2016 New Year Special                      0.0   \n",
              "Machine-Doll wa Kizutsukanai                         1.0   \n",
              "Kochira Tamago Outou Negaimasu                       0.0   \n",
              "Kyouryoku Boukuusen                                  1.0   \n",
              "Super GALS! Kotobuki Ran                             0.0   \n",
              "Don Chuck Monogatari                                 0.0   \n",
              "Stratos 4                                            0.0   \n",
              "Cyclops Shoujo Saipuu                                0.0   \n",
              "Fushigi no Umi no Nadia: Original Movie              1.0   \n",
              "Nanaka 6/17 Special                                  0.0   \n",
              "\n",
              "name                                     Ano Hi, Bokura wa Senjou de: Shounenhei no Kokuhaku  \\\n",
              "name                                                                                           \n",
              "Nanocore: 2016 New Year Special                                                        0.0     \n",
              "Machine-Doll wa Kizutsukanai                                                           0.0     \n",
              "Kochira Tamago Outou Negaimasu                                                         0.0     \n",
              "Kyouryoku Boukuusen                                                                    0.0     \n",
              "Super GALS! Kotobuki Ran                                                               0.0     \n",
              "Don Chuck Monogatari                                                                   0.0     \n",
              "Stratos 4                                                                              0.0     \n",
              "Cyclops Shoujo Saipuu                                                                  0.0     \n",
              "Fushigi no Umi no Nadia: Original Movie                                                0.0     \n",
              "Nanaka 6/17 Special                                                                    0.0     \n",
              "\n",
              "name                                     Choujin Gakuen Gowcaizer: The Voltage Fighters  \\\n",
              "name                                                                                      \n",
              "Nanocore: 2016 New Year Special                                                     0.0   \n",
              "Machine-Doll wa Kizutsukanai                                                        1.0   \n",
              "Kochira Tamago Outou Negaimasu                                                      0.0   \n",
              "Kyouryoku Boukuusen                                                                 1.0   \n",
              "Super GALS! Kotobuki Ran                                                            0.0   \n",
              "Don Chuck Monogatari                                                                0.0   \n",
              "Stratos 4                                                                           0.0   \n",
              "Cyclops Shoujo Saipuu                                                               0.0   \n",
              "Fushigi no Umi no Nadia: Original Movie                                             1.0   \n",
              "Nanaka 6/17 Special                                                                 0.0   \n",
              "\n",
              "name                                     Baka Misérables  Zenmai Zamurai  \\\n",
              "name                                                                       \n",
              "Nanocore: 2016 New Year Special                      1.0             0.0   \n",
              "Machine-Doll wa Kizutsukanai                         0.0             0.0   \n",
              "Kochira Tamago Outou Negaimasu                       0.0             1.0   \n",
              "Kyouryoku Boukuusen                                  0.0             0.0   \n",
              "Super GALS! Kotobuki Ran                             0.0             1.0   \n",
              "Don Chuck Monogatari                                 0.0             0.0   \n",
              "Stratos 4                                            0.0             1.0   \n",
              "Cyclops Shoujo Saipuu                                0.0             1.0   \n",
              "Fushigi no Umi no Nadia: Original Movie              0.0             0.0   \n",
              "Nanaka 6/17 Special                                  0.0             1.0   \n",
              "\n",
              "name                                     Wazaguu! vs. Dangerous Jiisan Ja: Houfukuzettou! Anime Quiz  \\\n",
              "name                                                                                                   \n",
              "Nanocore: 2016 New Year Special                                                        0.0             \n",
              "Machine-Doll wa Kizutsukanai                                                           0.0             \n",
              "Kochira Tamago Outou Negaimasu                                                         1.0             \n",
              "Kyouryoku Boukuusen                                                                    0.0             \n",
              "Super GALS! Kotobuki Ran                                                               1.0             \n",
              "Don Chuck Monogatari                                                                   0.0             \n",
              "Stratos 4                                                                              1.0             \n",
              "Cyclops Shoujo Saipuu                                                                  1.0             \n",
              "Fushigi no Umi no Nadia: Original Movie                                                0.0             \n",
              "Nanaka 6/17 Special                                                                    1.0             \n",
              "\n",
              "name                                     Hanada Shounen-shi  \\\n",
              "name                                                          \n",
              "Nanocore: 2016 New Year Special                         0.0   \n",
              "Machine-Doll wa Kizutsukanai                            0.0   \n",
              "Kochira Tamago Outou Negaimasu                          1.0   \n",
              "Kyouryoku Boukuusen                                     0.0   \n",
              "Super GALS! Kotobuki Ran                                1.0   \n",
              "Don Chuck Monogatari                                    0.0   \n",
              "Stratos 4                                               1.0   \n",
              "Cyclops Shoujo Saipuu                                   1.0   \n",
              "Fushigi no Umi no Nadia: Original Movie                 0.0   \n",
              "Nanaka 6/17 Special                                     1.0   \n",
              "\n",
              "name                                     Flag Director&#039;s Edition: Issenman no Kufura no Kiroku  \n",
              "name                                                                                                 \n",
              "Nanocore: 2016 New Year Special                                                        0.0           \n",
              "Machine-Doll wa Kizutsukanai                                                           1.0           \n",
              "Kochira Tamago Outou Negaimasu                                                         0.0           \n",
              "Kyouryoku Boukuusen                                                                    1.0           \n",
              "Super GALS! Kotobuki Ran                                                               0.0           \n",
              "Don Chuck Monogatari                                                                   0.0           \n",
              "Stratos 4                                                                              0.0           \n",
              "Cyclops Shoujo Saipuu                                                                  0.0           \n",
              "Fushigi no Umi no Nadia: Original Movie                                                1.0           \n",
              "Nanaka 6/17 Special                                                                    0.0           "
            ],
            "text/html": [
              "\n",
              "  <div id=\"df-b0c1b060-a904-46b2-bd1d-fe4bfdbbee67\">\n",
              "    <div class=\"colab-df-container\">\n",
              "      <div>\n",
              "<style scoped>\n",
              "    .dataframe tbody tr th:only-of-type {\n",
              "        vertical-align: middle;\n",
              "    }\n",
              "\n",
              "    .dataframe tbody tr th {\n",
              "        vertical-align: top;\n",
              "    }\n",
              "\n",
              "    .dataframe thead th {\n",
              "        text-align: right;\n",
              "    }\n",
              "</style>\n",
              "<table border=\"1\" class=\"dataframe\">\n",
              "  <thead>\n",
              "    <tr style=\"text-align: right;\">\n",
              "      <th>name</th>\n",
              "      <th>X Bomber</th>\n",
              "      <th>Soccer Fever</th>\n",
              "      <th>Jungle de Ikou!</th>\n",
              "      <th>Ano Hi, Bokura wa Senjou de: Shounenhei no Kokuhaku</th>\n",
              "      <th>Choujin Gakuen Gowcaizer: The Voltage Fighters</th>\n",
              "      <th>Baka Misérables</th>\n",
              "      <th>Zenmai Zamurai</th>\n",
              "      <th>Wazaguu! vs. Dangerous Jiisan Ja: Houfukuzettou! Anime Quiz</th>\n",
              "      <th>Hanada Shounen-shi</th>\n",
              "      <th>Flag Director&amp;#039;s Edition: Issenman no Kufura no Kiroku</th>\n",
              "    </tr>\n",
              "    <tr>\n",
              "      <th>name</th>\n",
              "      <th></th>\n",
              "      <th></th>\n",
              "      <th></th>\n",
              "      <th></th>\n",
              "      <th></th>\n",
              "      <th></th>\n",
              "      <th></th>\n",
              "      <th></th>\n",
              "      <th></th>\n",
              "      <th></th>\n",
              "    </tr>\n",
              "  </thead>\n",
              "  <tbody>\n",
              "    <tr>\n",
              "      <th>Nanocore: 2016 New Year Special</th>\n",
              "      <td>0.0</td>\n",
              "      <td>0.0</td>\n",
              "      <td>0.0</td>\n",
              "      <td>0.0</td>\n",
              "      <td>0.0</td>\n",
              "      <td>1.0</td>\n",
              "      <td>0.0</td>\n",
              "      <td>0.0</td>\n",
              "      <td>0.0</td>\n",
              "      <td>0.0</td>\n",
              "    </tr>\n",
              "    <tr>\n",
              "      <th>Machine-Doll wa Kizutsukanai</th>\n",
              "      <td>1.0</td>\n",
              "      <td>0.0</td>\n",
              "      <td>1.0</td>\n",
              "      <td>0.0</td>\n",
              "      <td>1.0</td>\n",
              "      <td>0.0</td>\n",
              "      <td>0.0</td>\n",
              "      <td>0.0</td>\n",
              "      <td>0.0</td>\n",
              "      <td>1.0</td>\n",
              "    </tr>\n",
              "    <tr>\n",
              "      <th>Kochira Tamago Outou Negaimasu</th>\n",
              "      <td>0.0</td>\n",
              "      <td>0.0</td>\n",
              "      <td>0.0</td>\n",
              "      <td>0.0</td>\n",
              "      <td>0.0</td>\n",
              "      <td>0.0</td>\n",
              "      <td>1.0</td>\n",
              "      <td>1.0</td>\n",
              "      <td>1.0</td>\n",
              "      <td>0.0</td>\n",
              "    </tr>\n",
              "    <tr>\n",
              "      <th>Kyouryoku Boukuusen</th>\n",
              "      <td>1.0</td>\n",
              "      <td>0.0</td>\n",
              "      <td>1.0</td>\n",
              "      <td>0.0</td>\n",
              "      <td>1.0</td>\n",
              "      <td>0.0</td>\n",
              "      <td>0.0</td>\n",
              "      <td>0.0</td>\n",
              "      <td>0.0</td>\n",
              "      <td>1.0</td>\n",
              "    </tr>\n",
              "    <tr>\n",
              "      <th>Super GALS! Kotobuki Ran</th>\n",
              "      <td>0.0</td>\n",
              "      <td>0.0</td>\n",
              "      <td>0.0</td>\n",
              "      <td>0.0</td>\n",
              "      <td>0.0</td>\n",
              "      <td>0.0</td>\n",
              "      <td>1.0</td>\n",
              "      <td>1.0</td>\n",
              "      <td>1.0</td>\n",
              "      <td>0.0</td>\n",
              "    </tr>\n",
              "    <tr>\n",
              "      <th>Don Chuck Monogatari</th>\n",
              "      <td>0.0</td>\n",
              "      <td>0.0</td>\n",
              "      <td>0.0</td>\n",
              "      <td>0.0</td>\n",
              "      <td>0.0</td>\n",
              "      <td>0.0</td>\n",
              "      <td>0.0</td>\n",
              "      <td>0.0</td>\n",
              "      <td>0.0</td>\n",
              "      <td>0.0</td>\n",
              "    </tr>\n",
              "    <tr>\n",
              "      <th>Stratos 4</th>\n",
              "      <td>0.0</td>\n",
              "      <td>0.0</td>\n",
              "      <td>0.0</td>\n",
              "      <td>0.0</td>\n",
              "      <td>0.0</td>\n",
              "      <td>0.0</td>\n",
              "      <td>1.0</td>\n",
              "      <td>1.0</td>\n",
              "      <td>1.0</td>\n",
              "      <td>0.0</td>\n",
              "    </tr>\n",
              "    <tr>\n",
              "      <th>Cyclops Shoujo Saipuu</th>\n",
              "      <td>0.0</td>\n",
              "      <td>0.0</td>\n",
              "      <td>0.0</td>\n",
              "      <td>0.0</td>\n",
              "      <td>0.0</td>\n",
              "      <td>0.0</td>\n",
              "      <td>1.0</td>\n",
              "      <td>1.0</td>\n",
              "      <td>1.0</td>\n",
              "      <td>0.0</td>\n",
              "    </tr>\n",
              "    <tr>\n",
              "      <th>Fushigi no Umi no Nadia: Original Movie</th>\n",
              "      <td>1.0</td>\n",
              "      <td>0.0</td>\n",
              "      <td>1.0</td>\n",
              "      <td>0.0</td>\n",
              "      <td>1.0</td>\n",
              "      <td>0.0</td>\n",
              "      <td>0.0</td>\n",
              "      <td>0.0</td>\n",
              "      <td>0.0</td>\n",
              "      <td>1.0</td>\n",
              "    </tr>\n",
              "    <tr>\n",
              "      <th>Nanaka 6/17 Special</th>\n",
              "      <td>0.0</td>\n",
              "      <td>0.0</td>\n",
              "      <td>0.0</td>\n",
              "      <td>0.0</td>\n",
              "      <td>0.0</td>\n",
              "      <td>0.0</td>\n",
              "      <td>1.0</td>\n",
              "      <td>1.0</td>\n",
              "      <td>1.0</td>\n",
              "      <td>0.0</td>\n",
              "    </tr>\n",
              "  </tbody>\n",
              "</table>\n",
              "</div>\n",
              "      <button class=\"colab-df-convert\" onclick=\"convertToInteractive('df-b0c1b060-a904-46b2-bd1d-fe4bfdbbee67')\"\n",
              "              title=\"Convert this dataframe to an interactive table.\"\n",
              "              style=\"display:none;\">\n",
              "        \n",
              "  <svg xmlns=\"http://www.w3.org/2000/svg\" height=\"24px\"viewBox=\"0 0 24 24\"\n",
              "       width=\"24px\">\n",
              "    <path d=\"M0 0h24v24H0V0z\" fill=\"none\"/>\n",
              "    <path d=\"M18.56 5.44l.94 2.06.94-2.06 2.06-.94-2.06-.94-.94-2.06-.94 2.06-2.06.94zm-11 1L8.5 8.5l.94-2.06 2.06-.94-2.06-.94L8.5 2.5l-.94 2.06-2.06.94zm10 10l.94 2.06.94-2.06 2.06-.94-2.06-.94-.94-2.06-.94 2.06-2.06.94z\"/><path d=\"M17.41 7.96l-1.37-1.37c-.4-.4-.92-.59-1.43-.59-.52 0-1.04.2-1.43.59L10.3 9.45l-7.72 7.72c-.78.78-.78 2.05 0 2.83L4 21.41c.39.39.9.59 1.41.59.51 0 1.02-.2 1.41-.59l7.78-7.78 2.81-2.81c.8-.78.8-2.07 0-2.86zM5.41 20L4 18.59l7.72-7.72 1.47 1.35L5.41 20z\"/>\n",
              "  </svg>\n",
              "      </button>\n",
              "      \n",
              "  <style>\n",
              "    .colab-df-container {\n",
              "      display:flex;\n",
              "      flex-wrap:wrap;\n",
              "      gap: 12px;\n",
              "    }\n",
              "\n",
              "    .colab-df-convert {\n",
              "      background-color: #E8F0FE;\n",
              "      border: none;\n",
              "      border-radius: 50%;\n",
              "      cursor: pointer;\n",
              "      display: none;\n",
              "      fill: #1967D2;\n",
              "      height: 32px;\n",
              "      padding: 0 0 0 0;\n",
              "      width: 32px;\n",
              "    }\n",
              "\n",
              "    .colab-df-convert:hover {\n",
              "      background-color: #E2EBFA;\n",
              "      box-shadow: 0px 1px 2px rgba(60, 64, 67, 0.3), 0px 1px 3px 1px rgba(60, 64, 67, 0.15);\n",
              "      fill: #174EA6;\n",
              "    }\n",
              "\n",
              "    [theme=dark] .colab-df-convert {\n",
              "      background-color: #3B4455;\n",
              "      fill: #D2E3FC;\n",
              "    }\n",
              "\n",
              "    [theme=dark] .colab-df-convert:hover {\n",
              "      background-color: #434B5C;\n",
              "      box-shadow: 0px 1px 3px 1px rgba(0, 0, 0, 0.15);\n",
              "      filter: drop-shadow(0px 1px 2px rgba(0, 0, 0, 0.3));\n",
              "      fill: #FFFFFF;\n",
              "    }\n",
              "  </style>\n",
              "\n",
              "      <script>\n",
              "        const buttonEl =\n",
              "          document.querySelector('#df-b0c1b060-a904-46b2-bd1d-fe4bfdbbee67 button.colab-df-convert');\n",
              "        buttonEl.style.display =\n",
              "          google.colab.kernel.accessAllowed ? 'block' : 'none';\n",
              "\n",
              "        async function convertToInteractive(key) {\n",
              "          const element = document.querySelector('#df-b0c1b060-a904-46b2-bd1d-fe4bfdbbee67');\n",
              "          const dataTable =\n",
              "            await google.colab.kernel.invokeFunction('convertToInteractive',\n",
              "                                                     [key], {});\n",
              "          if (!dataTable) return;\n",
              "\n",
              "          const docLinkHtml = 'Like what you see? Visit the ' +\n",
              "            '<a target=\"_blank\" href=https://colab.research.google.com/notebooks/data_table.ipynb>data table notebook</a>'\n",
              "            + ' to learn more about interactive tables.';\n",
              "          element.innerHTML = '';\n",
              "          dataTable['output_type'] = 'display_data';\n",
              "          await google.colab.output.renderOutput(dataTable, element);\n",
              "          const docLink = document.createElement('div');\n",
              "          docLink.innerHTML = docLinkHtml;\n",
              "          element.appendChild(docLink);\n",
              "        }\n",
              "      </script>\n",
              "    </div>\n",
              "  </div>\n",
              "  "
            ]
          },
          "metadata": {},
          "execution_count": 31
        }
      ],
      "source": [
        "cosine_sim_df = pd.DataFrame(cosine_sim, index=df_anime['name'],\n",
        "                             columns=df_anime['name'])\n",
        "print('Size dataframe:', cosine_sim_df.shape)\n",
        "cosine_sim_df.sample(10, axis=1).sample(10, axis=0)"
      ]
    },
    {
      "cell_type": "markdown",
      "metadata": {
        "id": "1Uvlp_L2e_MM"
      },
      "source": [
        "# Model Function"
      ]
    },
    {
      "cell_type": "markdown",
      "metadata": {
        "id": "RjtuXOB8e_KT"
      },
      "source": [
        "selanjutnya kita akan membuat fungsi untuk merekomendasikan 10 anime berdasarkan similaritynya "
      ]
    },
    {
      "cell_type": "code",
      "execution_count": 32,
      "metadata": {
        "id": "DJFZGdUXCw-G"
      },
      "outputs": [],
      "source": [
        "def AnimeRecommendations(anime_name, similarity_data=cosine_sim_df, \n",
        "                         items=df_anime[['anime_id','name','genre']], k=10):\n",
        "  \n",
        "    ''' Mengambil data menggunakan argpartition untuk partisi secara tidak langsung,\n",
        "    sepanjang sumbu yang diberikan, kemudian dataframe diubah menjadi numpy Range \n",
        "    dengan parameter sebagai berikut (start, stop, step) '''\n",
        "    index = similarity_data.loc[:, anime_name].to_numpy().argpartition(\n",
        "        range(-1, -k, -1)\n",
        "    )\n",
        "    closest = similarity_data.columns[index[-1:-(k+2):-1]]\n",
        "    closest = closest.drop(anime_name, errors='ignore')\n",
        "    return pd.DataFrame(closest).merge(items).head(k)"
      ]
    },
    {
      "cell_type": "markdown",
      "metadata": {
        "id": "V2zq5FBYfZBh"
      },
      "source": [
        "dan kita lihat dulu untuk data yang akan kita gunakan sebagai anime referensi yang akan kita jadika acuan dalam rekomendasi"
      ]
    },
    {
      "cell_type": "code",
      "execution_count": 33,
      "metadata": {
        "colab": {
          "base_uri": "https://localhost:8080/",
          "height": 81
        },
        "id": "5ZOX9AUzDWOs",
        "outputId": "6878825a-6937-4aeb-8257-bedad8d88fa7"
      },
      "outputs": [
        {
          "output_type": "execute_result",
          "data": {
            "text/plain": [
              "    anime_id   genre          name  rating\n",
              "22         1  Action  Cowboy Bebop    8.82"
            ],
            "text/html": [
              "\n",
              "  <div id=\"df-775d0637-4342-40fd-a9c5-34265e49eade\">\n",
              "    <div class=\"colab-df-container\">\n",
              "      <div>\n",
              "<style scoped>\n",
              "    .dataframe tbody tr th:only-of-type {\n",
              "        vertical-align: middle;\n",
              "    }\n",
              "\n",
              "    .dataframe tbody tr th {\n",
              "        vertical-align: top;\n",
              "    }\n",
              "\n",
              "    .dataframe thead th {\n",
              "        text-align: right;\n",
              "    }\n",
              "</style>\n",
              "<table border=\"1\" class=\"dataframe\">\n",
              "  <thead>\n",
              "    <tr style=\"text-align: right;\">\n",
              "      <th></th>\n",
              "      <th>anime_id</th>\n",
              "      <th>genre</th>\n",
              "      <th>name</th>\n",
              "      <th>rating</th>\n",
              "    </tr>\n",
              "  </thead>\n",
              "  <tbody>\n",
              "    <tr>\n",
              "      <th>22</th>\n",
              "      <td>1</td>\n",
              "      <td>Action</td>\n",
              "      <td>Cowboy Bebop</td>\n",
              "      <td>8.82</td>\n",
              "    </tr>\n",
              "  </tbody>\n",
              "</table>\n",
              "</div>\n",
              "      <button class=\"colab-df-convert\" onclick=\"convertToInteractive('df-775d0637-4342-40fd-a9c5-34265e49eade')\"\n",
              "              title=\"Convert this dataframe to an interactive table.\"\n",
              "              style=\"display:none;\">\n",
              "        \n",
              "  <svg xmlns=\"http://www.w3.org/2000/svg\" height=\"24px\"viewBox=\"0 0 24 24\"\n",
              "       width=\"24px\">\n",
              "    <path d=\"M0 0h24v24H0V0z\" fill=\"none\"/>\n",
              "    <path d=\"M18.56 5.44l.94 2.06.94-2.06 2.06-.94-2.06-.94-.94-2.06-.94 2.06-2.06.94zm-11 1L8.5 8.5l.94-2.06 2.06-.94-2.06-.94L8.5 2.5l-.94 2.06-2.06.94zm10 10l.94 2.06.94-2.06 2.06-.94-2.06-.94-.94-2.06-.94 2.06-2.06.94z\"/><path d=\"M17.41 7.96l-1.37-1.37c-.4-.4-.92-.59-1.43-.59-.52 0-1.04.2-1.43.59L10.3 9.45l-7.72 7.72c-.78.78-.78 2.05 0 2.83L4 21.41c.39.39.9.59 1.41.59.51 0 1.02-.2 1.41-.59l7.78-7.78 2.81-2.81c.8-.78.8-2.07 0-2.86zM5.41 20L4 18.59l7.72-7.72 1.47 1.35L5.41 20z\"/>\n",
              "  </svg>\n",
              "      </button>\n",
              "      \n",
              "  <style>\n",
              "    .colab-df-container {\n",
              "      display:flex;\n",
              "      flex-wrap:wrap;\n",
              "      gap: 12px;\n",
              "    }\n",
              "\n",
              "    .colab-df-convert {\n",
              "      background-color: #E8F0FE;\n",
              "      border: none;\n",
              "      border-radius: 50%;\n",
              "      cursor: pointer;\n",
              "      display: none;\n",
              "      fill: #1967D2;\n",
              "      height: 32px;\n",
              "      padding: 0 0 0 0;\n",
              "      width: 32px;\n",
              "    }\n",
              "\n",
              "    .colab-df-convert:hover {\n",
              "      background-color: #E2EBFA;\n",
              "      box-shadow: 0px 1px 2px rgba(60, 64, 67, 0.3), 0px 1px 3px 1px rgba(60, 64, 67, 0.15);\n",
              "      fill: #174EA6;\n",
              "    }\n",
              "\n",
              "    [theme=dark] .colab-df-convert {\n",
              "      background-color: #3B4455;\n",
              "      fill: #D2E3FC;\n",
              "    }\n",
              "\n",
              "    [theme=dark] .colab-df-convert:hover {\n",
              "      background-color: #434B5C;\n",
              "      box-shadow: 0px 1px 3px 1px rgba(0, 0, 0, 0.15);\n",
              "      filter: drop-shadow(0px 1px 2px rgba(0, 0, 0, 0.3));\n",
              "      fill: #FFFFFF;\n",
              "    }\n",
              "  </style>\n",
              "\n",
              "      <script>\n",
              "        const buttonEl =\n",
              "          document.querySelector('#df-775d0637-4342-40fd-a9c5-34265e49eade button.colab-df-convert');\n",
              "        buttonEl.style.display =\n",
              "          google.colab.kernel.accessAllowed ? 'block' : 'none';\n",
              "\n",
              "        async function convertToInteractive(key) {\n",
              "          const element = document.querySelector('#df-775d0637-4342-40fd-a9c5-34265e49eade');\n",
              "          const dataTable =\n",
              "            await google.colab.kernel.invokeFunction('convertToInteractive',\n",
              "                                                     [key], {});\n",
              "          if (!dataTable) return;\n",
              "\n",
              "          const docLinkHtml = 'Like what you see? Visit the ' +\n",
              "            '<a target=\"_blank\" href=https://colab.research.google.com/notebooks/data_table.ipynb>data table notebook</a>'\n",
              "            + ' to learn more about interactive tables.';\n",
              "          element.innerHTML = '';\n",
              "          dataTable['output_type'] = 'display_data';\n",
              "          await google.colab.output.renderOutput(dataTable, element);\n",
              "          const docLink = document.createElement('div');\n",
              "          docLink.innerHTML = docLinkHtml;\n",
              "          element.appendChild(docLink);\n",
              "        }\n",
              "      </script>\n",
              "    </div>\n",
              "  </div>\n",
              "  "
            ]
          },
          "metadata": {},
          "execution_count": 33
        }
      ],
      "source": [
        "find_name = df_anime[df_anime['name'] == 'Cowboy Bebop']\n",
        "find_name"
      ]
    },
    {
      "cell_type": "markdown",
      "metadata": {
        "id": "KzmCQx43fp2b"
      },
      "source": [
        "bisa kita lihat bahwa genre dari anime diatas adalah action, dan seharusnya anime 10 rekomendasi dari fungsi kita juga seharusnya anime bertipe action"
      ]
    },
    {
      "cell_type": "code",
      "execution_count": 34,
      "metadata": {
        "colab": {
          "base_uri": "https://localhost:8080/",
          "height": 363
        },
        "id": "wZtq39ihDsr1",
        "outputId": "45bda882-b201-4e9b-d2e2-fb6193a3e147"
      },
      "outputs": [
        {
          "output_type": "execute_result",
          "data": {
            "text/plain": [
              "                                          name  anime_id   genre\n",
              "0                    Seikai no Monshou Special      1381  Action\n",
              "1                             Qi Cai Lao Fu Zi     30095  Action\n",
              "2  Qin Shiming Yue 3D: Dianying Longteng Wanli     29910  Action\n",
              "3                             Game Tengoku OVA     10852  Action\n",
              "4      Qin Shiming Yue Zhi: Guoqing Tebie Pian     33258  Action\n",
              "5        Qin Shiming Yue Zhi: Wanli Changcheng     15905  Action\n",
              "6        Qin Shiming Yue Zhi: Luosheng Tangxia     29937  Action\n",
              "7        Qin Shiming Yue Zhi: Tian Xing Jiu Ge     29935  Action\n",
              "8          Qin Shiming Yue Zhi: Junlin Tianxia     29936  Action\n",
              "9   Qin Shiming Yue Tebie Pian: Di Zi Jiang Xi     33278  Action"
            ],
            "text/html": [
              "\n",
              "  <div id=\"df-5c3f80c7-62d9-4f16-819d-dfbbbe8dade5\">\n",
              "    <div class=\"colab-df-container\">\n",
              "      <div>\n",
              "<style scoped>\n",
              "    .dataframe tbody tr th:only-of-type {\n",
              "        vertical-align: middle;\n",
              "    }\n",
              "\n",
              "    .dataframe tbody tr th {\n",
              "        vertical-align: top;\n",
              "    }\n",
              "\n",
              "    .dataframe thead th {\n",
              "        text-align: right;\n",
              "    }\n",
              "</style>\n",
              "<table border=\"1\" class=\"dataframe\">\n",
              "  <thead>\n",
              "    <tr style=\"text-align: right;\">\n",
              "      <th></th>\n",
              "      <th>name</th>\n",
              "      <th>anime_id</th>\n",
              "      <th>genre</th>\n",
              "    </tr>\n",
              "  </thead>\n",
              "  <tbody>\n",
              "    <tr>\n",
              "      <th>0</th>\n",
              "      <td>Seikai no Monshou Special</td>\n",
              "      <td>1381</td>\n",
              "      <td>Action</td>\n",
              "    </tr>\n",
              "    <tr>\n",
              "      <th>1</th>\n",
              "      <td>Qi Cai Lao Fu Zi</td>\n",
              "      <td>30095</td>\n",
              "      <td>Action</td>\n",
              "    </tr>\n",
              "    <tr>\n",
              "      <th>2</th>\n",
              "      <td>Qin Shiming Yue 3D: Dianying Longteng Wanli</td>\n",
              "      <td>29910</td>\n",
              "      <td>Action</td>\n",
              "    </tr>\n",
              "    <tr>\n",
              "      <th>3</th>\n",
              "      <td>Game Tengoku OVA</td>\n",
              "      <td>10852</td>\n",
              "      <td>Action</td>\n",
              "    </tr>\n",
              "    <tr>\n",
              "      <th>4</th>\n",
              "      <td>Qin Shiming Yue Zhi: Guoqing Tebie Pian</td>\n",
              "      <td>33258</td>\n",
              "      <td>Action</td>\n",
              "    </tr>\n",
              "    <tr>\n",
              "      <th>5</th>\n",
              "      <td>Qin Shiming Yue Zhi: Wanli Changcheng</td>\n",
              "      <td>15905</td>\n",
              "      <td>Action</td>\n",
              "    </tr>\n",
              "    <tr>\n",
              "      <th>6</th>\n",
              "      <td>Qin Shiming Yue Zhi: Luosheng Tangxia</td>\n",
              "      <td>29937</td>\n",
              "      <td>Action</td>\n",
              "    </tr>\n",
              "    <tr>\n",
              "      <th>7</th>\n",
              "      <td>Qin Shiming Yue Zhi: Tian Xing Jiu Ge</td>\n",
              "      <td>29935</td>\n",
              "      <td>Action</td>\n",
              "    </tr>\n",
              "    <tr>\n",
              "      <th>8</th>\n",
              "      <td>Qin Shiming Yue Zhi: Junlin Tianxia</td>\n",
              "      <td>29936</td>\n",
              "      <td>Action</td>\n",
              "    </tr>\n",
              "    <tr>\n",
              "      <th>9</th>\n",
              "      <td>Qin Shiming Yue Tebie Pian: Di Zi Jiang Xi</td>\n",
              "      <td>33278</td>\n",
              "      <td>Action</td>\n",
              "    </tr>\n",
              "  </tbody>\n",
              "</table>\n",
              "</div>\n",
              "      <button class=\"colab-df-convert\" onclick=\"convertToInteractive('df-5c3f80c7-62d9-4f16-819d-dfbbbe8dade5')\"\n",
              "              title=\"Convert this dataframe to an interactive table.\"\n",
              "              style=\"display:none;\">\n",
              "        \n",
              "  <svg xmlns=\"http://www.w3.org/2000/svg\" height=\"24px\"viewBox=\"0 0 24 24\"\n",
              "       width=\"24px\">\n",
              "    <path d=\"M0 0h24v24H0V0z\" fill=\"none\"/>\n",
              "    <path d=\"M18.56 5.44l.94 2.06.94-2.06 2.06-.94-2.06-.94-.94-2.06-.94 2.06-2.06.94zm-11 1L8.5 8.5l.94-2.06 2.06-.94-2.06-.94L8.5 2.5l-.94 2.06-2.06.94zm10 10l.94 2.06.94-2.06 2.06-.94-2.06-.94-.94-2.06-.94 2.06-2.06.94z\"/><path d=\"M17.41 7.96l-1.37-1.37c-.4-.4-.92-.59-1.43-.59-.52 0-1.04.2-1.43.59L10.3 9.45l-7.72 7.72c-.78.78-.78 2.05 0 2.83L4 21.41c.39.39.9.59 1.41.59.51 0 1.02-.2 1.41-.59l7.78-7.78 2.81-2.81c.8-.78.8-2.07 0-2.86zM5.41 20L4 18.59l7.72-7.72 1.47 1.35L5.41 20z\"/>\n",
              "  </svg>\n",
              "      </button>\n",
              "      \n",
              "  <style>\n",
              "    .colab-df-container {\n",
              "      display:flex;\n",
              "      flex-wrap:wrap;\n",
              "      gap: 12px;\n",
              "    }\n",
              "\n",
              "    .colab-df-convert {\n",
              "      background-color: #E8F0FE;\n",
              "      border: none;\n",
              "      border-radius: 50%;\n",
              "      cursor: pointer;\n",
              "      display: none;\n",
              "      fill: #1967D2;\n",
              "      height: 32px;\n",
              "      padding: 0 0 0 0;\n",
              "      width: 32px;\n",
              "    }\n",
              "\n",
              "    .colab-df-convert:hover {\n",
              "      background-color: #E2EBFA;\n",
              "      box-shadow: 0px 1px 2px rgba(60, 64, 67, 0.3), 0px 1px 3px 1px rgba(60, 64, 67, 0.15);\n",
              "      fill: #174EA6;\n",
              "    }\n",
              "\n",
              "    [theme=dark] .colab-df-convert {\n",
              "      background-color: #3B4455;\n",
              "      fill: #D2E3FC;\n",
              "    }\n",
              "\n",
              "    [theme=dark] .colab-df-convert:hover {\n",
              "      background-color: #434B5C;\n",
              "      box-shadow: 0px 1px 3px 1px rgba(0, 0, 0, 0.15);\n",
              "      filter: drop-shadow(0px 1px 2px rgba(0, 0, 0, 0.3));\n",
              "      fill: #FFFFFF;\n",
              "    }\n",
              "  </style>\n",
              "\n",
              "      <script>\n",
              "        const buttonEl =\n",
              "          document.querySelector('#df-5c3f80c7-62d9-4f16-819d-dfbbbe8dade5 button.colab-df-convert');\n",
              "        buttonEl.style.display =\n",
              "          google.colab.kernel.accessAllowed ? 'block' : 'none';\n",
              "\n",
              "        async function convertToInteractive(key) {\n",
              "          const element = document.querySelector('#df-5c3f80c7-62d9-4f16-819d-dfbbbe8dade5');\n",
              "          const dataTable =\n",
              "            await google.colab.kernel.invokeFunction('convertToInteractive',\n",
              "                                                     [key], {});\n",
              "          if (!dataTable) return;\n",
              "\n",
              "          const docLinkHtml = 'Like what you see? Visit the ' +\n",
              "            '<a target=\"_blank\" href=https://colab.research.google.com/notebooks/data_table.ipynb>data table notebook</a>'\n",
              "            + ' to learn more about interactive tables.';\n",
              "          element.innerHTML = '';\n",
              "          dataTable['output_type'] = 'display_data';\n",
              "          await google.colab.output.renderOutput(dataTable, element);\n",
              "          const docLink = document.createElement('div');\n",
              "          docLink.innerHTML = docLinkHtml;\n",
              "          element.appendChild(docLink);\n",
              "        }\n",
              "      </script>\n",
              "    </div>\n",
              "  </div>\n",
              "  "
            ]
          },
          "metadata": {},
          "execution_count": 34
        }
      ],
      "source": [
        "anime_name = 'Cowboy Bebop'\n",
        "anime_recomend = AnimeRecommendations(anime_name)\n",
        "anime_recomend"
      ]
    },
    {
      "cell_type": "markdown",
      "metadata": {
        "id": "-V4p3AA3gIW8"
      },
      "source": [
        "# Collaborative Filtering"
      ]
    },
    {
      "cell_type": "markdown",
      "metadata": {
        "id": "NFnw_fhTgMe_"
      },
      "source": [
        "pertama kita perlu menggabungkan data anime dan rating terlebih dahulu, dan menyamakan variabel yang akan kita gabungkan"
      ]
    },
    {
      "cell_type": "code",
      "execution_count": 35,
      "metadata": {
        "colab": {
          "base_uri": "https://localhost:8080/",
          "height": 206
        },
        "id": "RYJs1F0ino0o",
        "outputId": "dff5496d-2d75-4335-d3e0-b908ed671797"
      },
      "outputs": [
        {
          "output_type": "execute_result",
          "data": {
            "text/plain": [
              "   anime_id   genre                              name  Rating\n",
              "0     32281   Drama                    Kimi no Na wa.    9.37\n",
              "1      5114  Action  Fullmetal Alchemist: Brotherhood    9.26\n",
              "2     28977  Action                          Gintama°    9.25\n",
              "3      9253  Sci-Fi                       Steins;Gate    9.17\n",
              "4      9969  Action                     Gintama&#039;    9.16"
            ],
            "text/html": [
              "\n",
              "  <div id=\"df-817cb9e0-ca05-4858-a7c1-402e439ad686\">\n",
              "    <div class=\"colab-df-container\">\n",
              "      <div>\n",
              "<style scoped>\n",
              "    .dataframe tbody tr th:only-of-type {\n",
              "        vertical-align: middle;\n",
              "    }\n",
              "\n",
              "    .dataframe tbody tr th {\n",
              "        vertical-align: top;\n",
              "    }\n",
              "\n",
              "    .dataframe thead th {\n",
              "        text-align: right;\n",
              "    }\n",
              "</style>\n",
              "<table border=\"1\" class=\"dataframe\">\n",
              "  <thead>\n",
              "    <tr style=\"text-align: right;\">\n",
              "      <th></th>\n",
              "      <th>anime_id</th>\n",
              "      <th>genre</th>\n",
              "      <th>name</th>\n",
              "      <th>Rating</th>\n",
              "    </tr>\n",
              "  </thead>\n",
              "  <tbody>\n",
              "    <tr>\n",
              "      <th>0</th>\n",
              "      <td>32281</td>\n",
              "      <td>Drama</td>\n",
              "      <td>Kimi no Na wa.</td>\n",
              "      <td>9.37</td>\n",
              "    </tr>\n",
              "    <tr>\n",
              "      <th>1</th>\n",
              "      <td>5114</td>\n",
              "      <td>Action</td>\n",
              "      <td>Fullmetal Alchemist: Brotherhood</td>\n",
              "      <td>9.26</td>\n",
              "    </tr>\n",
              "    <tr>\n",
              "      <th>2</th>\n",
              "      <td>28977</td>\n",
              "      <td>Action</td>\n",
              "      <td>Gintama°</td>\n",
              "      <td>9.25</td>\n",
              "    </tr>\n",
              "    <tr>\n",
              "      <th>3</th>\n",
              "      <td>9253</td>\n",
              "      <td>Sci-Fi</td>\n",
              "      <td>Steins;Gate</td>\n",
              "      <td>9.17</td>\n",
              "    </tr>\n",
              "    <tr>\n",
              "      <th>4</th>\n",
              "      <td>9969</td>\n",
              "      <td>Action</td>\n",
              "      <td>Gintama&amp;#039;</td>\n",
              "      <td>9.16</td>\n",
              "    </tr>\n",
              "  </tbody>\n",
              "</table>\n",
              "</div>\n",
              "      <button class=\"colab-df-convert\" onclick=\"convertToInteractive('df-817cb9e0-ca05-4858-a7c1-402e439ad686')\"\n",
              "              title=\"Convert this dataframe to an interactive table.\"\n",
              "              style=\"display:none;\">\n",
              "        \n",
              "  <svg xmlns=\"http://www.w3.org/2000/svg\" height=\"24px\"viewBox=\"0 0 24 24\"\n",
              "       width=\"24px\">\n",
              "    <path d=\"M0 0h24v24H0V0z\" fill=\"none\"/>\n",
              "    <path d=\"M18.56 5.44l.94 2.06.94-2.06 2.06-.94-2.06-.94-.94-2.06-.94 2.06-2.06.94zm-11 1L8.5 8.5l.94-2.06 2.06-.94-2.06-.94L8.5 2.5l-.94 2.06-2.06.94zm10 10l.94 2.06.94-2.06 2.06-.94-2.06-.94-.94-2.06-.94 2.06-2.06.94z\"/><path d=\"M17.41 7.96l-1.37-1.37c-.4-.4-.92-.59-1.43-.59-.52 0-1.04.2-1.43.59L10.3 9.45l-7.72 7.72c-.78.78-.78 2.05 0 2.83L4 21.41c.39.39.9.59 1.41.59.51 0 1.02-.2 1.41-.59l7.78-7.78 2.81-2.81c.8-.78.8-2.07 0-2.86zM5.41 20L4 18.59l7.72-7.72 1.47 1.35L5.41 20z\"/>\n",
              "  </svg>\n",
              "      </button>\n",
              "      \n",
              "  <style>\n",
              "    .colab-df-container {\n",
              "      display:flex;\n",
              "      flex-wrap:wrap;\n",
              "      gap: 12px;\n",
              "    }\n",
              "\n",
              "    .colab-df-convert {\n",
              "      background-color: #E8F0FE;\n",
              "      border: none;\n",
              "      border-radius: 50%;\n",
              "      cursor: pointer;\n",
              "      display: none;\n",
              "      fill: #1967D2;\n",
              "      height: 32px;\n",
              "      padding: 0 0 0 0;\n",
              "      width: 32px;\n",
              "    }\n",
              "\n",
              "    .colab-df-convert:hover {\n",
              "      background-color: #E2EBFA;\n",
              "      box-shadow: 0px 1px 2px rgba(60, 64, 67, 0.3), 0px 1px 3px 1px rgba(60, 64, 67, 0.15);\n",
              "      fill: #174EA6;\n",
              "    }\n",
              "\n",
              "    [theme=dark] .colab-df-convert {\n",
              "      background-color: #3B4455;\n",
              "      fill: #D2E3FC;\n",
              "    }\n",
              "\n",
              "    [theme=dark] .colab-df-convert:hover {\n",
              "      background-color: #434B5C;\n",
              "      box-shadow: 0px 1px 3px 1px rgba(0, 0, 0, 0.15);\n",
              "      filter: drop-shadow(0px 1px 2px rgba(0, 0, 0, 0.3));\n",
              "      fill: #FFFFFF;\n",
              "    }\n",
              "  </style>\n",
              "\n",
              "      <script>\n",
              "        const buttonEl =\n",
              "          document.querySelector('#df-817cb9e0-ca05-4858-a7c1-402e439ad686 button.colab-df-convert');\n",
              "        buttonEl.style.display =\n",
              "          google.colab.kernel.accessAllowed ? 'block' : 'none';\n",
              "\n",
              "        async function convertToInteractive(key) {\n",
              "          const element = document.querySelector('#df-817cb9e0-ca05-4858-a7c1-402e439ad686');\n",
              "          const dataTable =\n",
              "            await google.colab.kernel.invokeFunction('convertToInteractive',\n",
              "                                                     [key], {});\n",
              "          if (!dataTable) return;\n",
              "\n",
              "          const docLinkHtml = 'Like what you see? Visit the ' +\n",
              "            '<a target=\"_blank\" href=https://colab.research.google.com/notebooks/data_table.ipynb>data table notebook</a>'\n",
              "            + ' to learn more about interactive tables.';\n",
              "          element.innerHTML = '';\n",
              "          dataTable['output_type'] = 'display_data';\n",
              "          await google.colab.output.renderOutput(dataTable, element);\n",
              "          const docLink = document.createElement('div');\n",
              "          docLink.innerHTML = docLinkHtml;\n",
              "          element.appendChild(docLink);\n",
              "        }\n",
              "      </script>\n",
              "    </div>\n",
              "  </div>\n",
              "  "
            ]
          },
          "metadata": {},
          "execution_count": 35
        }
      ],
      "source": [
        "df_anime.columns = ['anime_id', 'genre', 'name', 'Rating']\n",
        "df_anime.head()"
      ]
    },
    {
      "cell_type": "code",
      "execution_count": 36,
      "metadata": {
        "colab": {
          "base_uri": "https://localhost:8080/",
          "height": 206
        },
        "id": "dIEmU7QKgxgq",
        "outputId": "5420998e-411a-4f10-b1b5-35125939b0ed"
      },
      "outputs": [
        {
          "output_type": "execute_result",
          "data": {
            "text/plain": [
              "   user_id  anime_id  rating\n",
              "0   255938     34096       8\n",
              "1   259117     34599      10\n",
              "2   253664     28891       7\n",
              "3     8254      2904       9\n",
              "4   291149      4181      10"
            ],
            "text/html": [
              "\n",
              "  <div id=\"df-3dc3bdaf-43e1-44aa-bdb1-461d5e8aa8ae\">\n",
              "    <div class=\"colab-df-container\">\n",
              "      <div>\n",
              "<style scoped>\n",
              "    .dataframe tbody tr th:only-of-type {\n",
              "        vertical-align: middle;\n",
              "    }\n",
              "\n",
              "    .dataframe tbody tr th {\n",
              "        vertical-align: top;\n",
              "    }\n",
              "\n",
              "    .dataframe thead th {\n",
              "        text-align: right;\n",
              "    }\n",
              "</style>\n",
              "<table border=\"1\" class=\"dataframe\">\n",
              "  <thead>\n",
              "    <tr style=\"text-align: right;\">\n",
              "      <th></th>\n",
              "      <th>user_id</th>\n",
              "      <th>anime_id</th>\n",
              "      <th>rating</th>\n",
              "    </tr>\n",
              "  </thead>\n",
              "  <tbody>\n",
              "    <tr>\n",
              "      <th>0</th>\n",
              "      <td>255938</td>\n",
              "      <td>34096</td>\n",
              "      <td>8</td>\n",
              "    </tr>\n",
              "    <tr>\n",
              "      <th>1</th>\n",
              "      <td>259117</td>\n",
              "      <td>34599</td>\n",
              "      <td>10</td>\n",
              "    </tr>\n",
              "    <tr>\n",
              "      <th>2</th>\n",
              "      <td>253664</td>\n",
              "      <td>28891</td>\n",
              "      <td>7</td>\n",
              "    </tr>\n",
              "    <tr>\n",
              "      <th>3</th>\n",
              "      <td>8254</td>\n",
              "      <td>2904</td>\n",
              "      <td>9</td>\n",
              "    </tr>\n",
              "    <tr>\n",
              "      <th>4</th>\n",
              "      <td>291149</td>\n",
              "      <td>4181</td>\n",
              "      <td>10</td>\n",
              "    </tr>\n",
              "  </tbody>\n",
              "</table>\n",
              "</div>\n",
              "      <button class=\"colab-df-convert\" onclick=\"convertToInteractive('df-3dc3bdaf-43e1-44aa-bdb1-461d5e8aa8ae')\"\n",
              "              title=\"Convert this dataframe to an interactive table.\"\n",
              "              style=\"display:none;\">\n",
              "        \n",
              "  <svg xmlns=\"http://www.w3.org/2000/svg\" height=\"24px\"viewBox=\"0 0 24 24\"\n",
              "       width=\"24px\">\n",
              "    <path d=\"M0 0h24v24H0V0z\" fill=\"none\"/>\n",
              "    <path d=\"M18.56 5.44l.94 2.06.94-2.06 2.06-.94-2.06-.94-.94-2.06-.94 2.06-2.06.94zm-11 1L8.5 8.5l.94-2.06 2.06-.94-2.06-.94L8.5 2.5l-.94 2.06-2.06.94zm10 10l.94 2.06.94-2.06 2.06-.94-2.06-.94-.94-2.06-.94 2.06-2.06.94z\"/><path d=\"M17.41 7.96l-1.37-1.37c-.4-.4-.92-.59-1.43-.59-.52 0-1.04.2-1.43.59L10.3 9.45l-7.72 7.72c-.78.78-.78 2.05 0 2.83L4 21.41c.39.39.9.59 1.41.59.51 0 1.02-.2 1.41-.59l7.78-7.78 2.81-2.81c.8-.78.8-2.07 0-2.86zM5.41 20L4 18.59l7.72-7.72 1.47 1.35L5.41 20z\"/>\n",
              "  </svg>\n",
              "      </button>\n",
              "      \n",
              "  <style>\n",
              "    .colab-df-container {\n",
              "      display:flex;\n",
              "      flex-wrap:wrap;\n",
              "      gap: 12px;\n",
              "    }\n",
              "\n",
              "    .colab-df-convert {\n",
              "      background-color: #E8F0FE;\n",
              "      border: none;\n",
              "      border-radius: 50%;\n",
              "      cursor: pointer;\n",
              "      display: none;\n",
              "      fill: #1967D2;\n",
              "      height: 32px;\n",
              "      padding: 0 0 0 0;\n",
              "      width: 32px;\n",
              "    }\n",
              "\n",
              "    .colab-df-convert:hover {\n",
              "      background-color: #E2EBFA;\n",
              "      box-shadow: 0px 1px 2px rgba(60, 64, 67, 0.3), 0px 1px 3px 1px rgba(60, 64, 67, 0.15);\n",
              "      fill: #174EA6;\n",
              "    }\n",
              "\n",
              "    [theme=dark] .colab-df-convert {\n",
              "      background-color: #3B4455;\n",
              "      fill: #D2E3FC;\n",
              "    }\n",
              "\n",
              "    [theme=dark] .colab-df-convert:hover {\n",
              "      background-color: #434B5C;\n",
              "      box-shadow: 0px 1px 3px 1px rgba(0, 0, 0, 0.15);\n",
              "      filter: drop-shadow(0px 1px 2px rgba(0, 0, 0, 0.3));\n",
              "      fill: #FFFFFF;\n",
              "    }\n",
              "  </style>\n",
              "\n",
              "      <script>\n",
              "        const buttonEl =\n",
              "          document.querySelector('#df-3dc3bdaf-43e1-44aa-bdb1-461d5e8aa8ae button.colab-df-convert');\n",
              "        buttonEl.style.display =\n",
              "          google.colab.kernel.accessAllowed ? 'block' : 'none';\n",
              "\n",
              "        async function convertToInteractive(key) {\n",
              "          const element = document.querySelector('#df-3dc3bdaf-43e1-44aa-bdb1-461d5e8aa8ae');\n",
              "          const dataTable =\n",
              "            await google.colab.kernel.invokeFunction('convertToInteractive',\n",
              "                                                     [key], {});\n",
              "          if (!dataTable) return;\n",
              "\n",
              "          const docLinkHtml = 'Like what you see? Visit the ' +\n",
              "            '<a target=\"_blank\" href=https://colab.research.google.com/notebooks/data_table.ipynb>data table notebook</a>'\n",
              "            + ' to learn more about interactive tables.';\n",
              "          element.innerHTML = '';\n",
              "          dataTable['output_type'] = 'display_data';\n",
              "          await google.colab.output.renderOutput(dataTable, element);\n",
              "          const docLink = document.createElement('div');\n",
              "          docLink.innerHTML = docLinkHtml;\n",
              "          element.appendChild(docLink);\n",
              "        }\n",
              "      </script>\n",
              "    </div>\n",
              "  </div>\n",
              "  "
            ]
          },
          "metadata": {},
          "execution_count": 36
        }
      ],
      "source": [
        "df_rating.columns = ['user_id', 'anime_id', 'rating']\n",
        "df_rating.head()"
      ]
    },
    {
      "cell_type": "code",
      "execution_count": 37,
      "metadata": {
        "colab": {
          "base_uri": "https://localhost:8080/",
          "height": 206
        },
        "id": "c-v6YdHZG0uA",
        "outputId": "614dced3-9799-41fb-bf70-cc7b6141ba43"
      },
      "outputs": [
        {
          "output_type": "execute_result",
          "data": {
            "text/plain": [
              "   user_id  anime_id  rating   genre                     name\n",
              "0   253664     28891       7  Comedy  Haikyuu!! Second Season\n",
              "1   254554     28891      10  Comedy  Haikyuu!! Second Season\n",
              "2   271227     28891      10  Comedy  Haikyuu!! Second Season\n",
              "3   284956     28891       7  Comedy  Haikyuu!! Second Season\n",
              "4   249279     28891       8  Comedy  Haikyuu!! Second Season"
            ],
            "text/html": [
              "\n",
              "  <div id=\"df-631ea4a4-fb80-49da-a665-d9cff7fe5f89\">\n",
              "    <div class=\"colab-df-container\">\n",
              "      <div>\n",
              "<style scoped>\n",
              "    .dataframe tbody tr th:only-of-type {\n",
              "        vertical-align: middle;\n",
              "    }\n",
              "\n",
              "    .dataframe tbody tr th {\n",
              "        vertical-align: top;\n",
              "    }\n",
              "\n",
              "    .dataframe thead th {\n",
              "        text-align: right;\n",
              "    }\n",
              "</style>\n",
              "<table border=\"1\" class=\"dataframe\">\n",
              "  <thead>\n",
              "    <tr style=\"text-align: right;\">\n",
              "      <th></th>\n",
              "      <th>user_id</th>\n",
              "      <th>anime_id</th>\n",
              "      <th>rating</th>\n",
              "      <th>genre</th>\n",
              "      <th>name</th>\n",
              "    </tr>\n",
              "  </thead>\n",
              "  <tbody>\n",
              "    <tr>\n",
              "      <th>0</th>\n",
              "      <td>253664</td>\n",
              "      <td>28891</td>\n",
              "      <td>7</td>\n",
              "      <td>Comedy</td>\n",
              "      <td>Haikyuu!! Second Season</td>\n",
              "    </tr>\n",
              "    <tr>\n",
              "      <th>1</th>\n",
              "      <td>254554</td>\n",
              "      <td>28891</td>\n",
              "      <td>10</td>\n",
              "      <td>Comedy</td>\n",
              "      <td>Haikyuu!! Second Season</td>\n",
              "    </tr>\n",
              "    <tr>\n",
              "      <th>2</th>\n",
              "      <td>271227</td>\n",
              "      <td>28891</td>\n",
              "      <td>10</td>\n",
              "      <td>Comedy</td>\n",
              "      <td>Haikyuu!! Second Season</td>\n",
              "    </tr>\n",
              "    <tr>\n",
              "      <th>3</th>\n",
              "      <td>284956</td>\n",
              "      <td>28891</td>\n",
              "      <td>7</td>\n",
              "      <td>Comedy</td>\n",
              "      <td>Haikyuu!! Second Season</td>\n",
              "    </tr>\n",
              "    <tr>\n",
              "      <th>4</th>\n",
              "      <td>249279</td>\n",
              "      <td>28891</td>\n",
              "      <td>8</td>\n",
              "      <td>Comedy</td>\n",
              "      <td>Haikyuu!! Second Season</td>\n",
              "    </tr>\n",
              "  </tbody>\n",
              "</table>\n",
              "</div>\n",
              "      <button class=\"colab-df-convert\" onclick=\"convertToInteractive('df-631ea4a4-fb80-49da-a665-d9cff7fe5f89')\"\n",
              "              title=\"Convert this dataframe to an interactive table.\"\n",
              "              style=\"display:none;\">\n",
              "        \n",
              "  <svg xmlns=\"http://www.w3.org/2000/svg\" height=\"24px\"viewBox=\"0 0 24 24\"\n",
              "       width=\"24px\">\n",
              "    <path d=\"M0 0h24v24H0V0z\" fill=\"none\"/>\n",
              "    <path d=\"M18.56 5.44l.94 2.06.94-2.06 2.06-.94-2.06-.94-.94-2.06-.94 2.06-2.06.94zm-11 1L8.5 8.5l.94-2.06 2.06-.94-2.06-.94L8.5 2.5l-.94 2.06-2.06.94zm10 10l.94 2.06.94-2.06 2.06-.94-2.06-.94-.94-2.06-.94 2.06-2.06.94z\"/><path d=\"M17.41 7.96l-1.37-1.37c-.4-.4-.92-.59-1.43-.59-.52 0-1.04.2-1.43.59L10.3 9.45l-7.72 7.72c-.78.78-.78 2.05 0 2.83L4 21.41c.39.39.9.59 1.41.59.51 0 1.02-.2 1.41-.59l7.78-7.78 2.81-2.81c.8-.78.8-2.07 0-2.86zM5.41 20L4 18.59l7.72-7.72 1.47 1.35L5.41 20z\"/>\n",
              "  </svg>\n",
              "      </button>\n",
              "      \n",
              "  <style>\n",
              "    .colab-df-container {\n",
              "      display:flex;\n",
              "      flex-wrap:wrap;\n",
              "      gap: 12px;\n",
              "    }\n",
              "\n",
              "    .colab-df-convert {\n",
              "      background-color: #E8F0FE;\n",
              "      border: none;\n",
              "      border-radius: 50%;\n",
              "      cursor: pointer;\n",
              "      display: none;\n",
              "      fill: #1967D2;\n",
              "      height: 32px;\n",
              "      padding: 0 0 0 0;\n",
              "      width: 32px;\n",
              "    }\n",
              "\n",
              "    .colab-df-convert:hover {\n",
              "      background-color: #E2EBFA;\n",
              "      box-shadow: 0px 1px 2px rgba(60, 64, 67, 0.3), 0px 1px 3px 1px rgba(60, 64, 67, 0.15);\n",
              "      fill: #174EA6;\n",
              "    }\n",
              "\n",
              "    [theme=dark] .colab-df-convert {\n",
              "      background-color: #3B4455;\n",
              "      fill: #D2E3FC;\n",
              "    }\n",
              "\n",
              "    [theme=dark] .colab-df-convert:hover {\n",
              "      background-color: #434B5C;\n",
              "      box-shadow: 0px 1px 3px 1px rgba(0, 0, 0, 0.15);\n",
              "      filter: drop-shadow(0px 1px 2px rgba(0, 0, 0, 0.3));\n",
              "      fill: #FFFFFF;\n",
              "    }\n",
              "  </style>\n",
              "\n",
              "      <script>\n",
              "        const buttonEl =\n",
              "          document.querySelector('#df-631ea4a4-fb80-49da-a665-d9cff7fe5f89 button.colab-df-convert');\n",
              "        buttonEl.style.display =\n",
              "          google.colab.kernel.accessAllowed ? 'block' : 'none';\n",
              "\n",
              "        async function convertToInteractive(key) {\n",
              "          const element = document.querySelector('#df-631ea4a4-fb80-49da-a665-d9cff7fe5f89');\n",
              "          const dataTable =\n",
              "            await google.colab.kernel.invokeFunction('convertToInteractive',\n",
              "                                                     [key], {});\n",
              "          if (!dataTable) return;\n",
              "\n",
              "          const docLinkHtml = 'Like what you see? Visit the ' +\n",
              "            '<a target=\"_blank\" href=https://colab.research.google.com/notebooks/data_table.ipynb>data table notebook</a>'\n",
              "            + ' to learn more about interactive tables.';\n",
              "          element.innerHTML = '';\n",
              "          dataTable['output_type'] = 'display_data';\n",
              "          await google.colab.output.renderOutput(dataTable, element);\n",
              "          const docLink = document.createElement('div');\n",
              "          docLink.innerHTML = docLinkHtml;\n",
              "          element.appendChild(docLink);\n",
              "        }\n",
              "      </script>\n",
              "    </div>\n",
              "  </div>\n",
              "  "
            ]
          },
          "metadata": {},
          "execution_count": 37
        }
      ],
      "source": [
        "rating_anime = pd.merge(df_rating, df_anime, on='anime_id', how='inner')\n",
        "rating_anime.drop(['Rating'],axis=1, inplace=True)\n",
        "rating_anime.head()"
      ]
    },
    {
      "cell_type": "markdown",
      "metadata": {
        "id": "9l4Tv2UthU-a"
      },
      "source": [
        "# Visualisasi sebaran 10 anime dengan rating tertinggi"
      ]
    },
    {
      "cell_type": "code",
      "execution_count": 38,
      "metadata": {
        "colab": {
          "base_uri": "https://localhost:8080/",
          "height": 206
        },
        "id": "idJqu8zYITBA",
        "outputId": "0d1bbf2c-2a3a-4520-e0e7-f9334233e76e"
      },
      "outputs": [
        {
          "output_type": "execute_result",
          "data": {
            "text/plain": [
              "                                                name  total_rating\n",
              "0                                      &quot;0&quot;             3\n",
              "1  &quot;Bungaku Shoujo&quot; Kyou no Oyatsu: Hat...             2\n",
              "2                 &quot;Bungaku Shoujo&quot; Memoire             3\n",
              "3                   &quot;Bungaku Shoujo&quot; Movie            28\n",
              "4                                   &quot;Eiji&quot;             1"
            ],
            "text/html": [
              "\n",
              "  <div id=\"df-3cdefd10-e311-4baf-aefe-9201f9ed3567\">\n",
              "    <div class=\"colab-df-container\">\n",
              "      <div>\n",
              "<style scoped>\n",
              "    .dataframe tbody tr th:only-of-type {\n",
              "        vertical-align: middle;\n",
              "    }\n",
              "\n",
              "    .dataframe tbody tr th {\n",
              "        vertical-align: top;\n",
              "    }\n",
              "\n",
              "    .dataframe thead th {\n",
              "        text-align: right;\n",
              "    }\n",
              "</style>\n",
              "<table border=\"1\" class=\"dataframe\">\n",
              "  <thead>\n",
              "    <tr style=\"text-align: right;\">\n",
              "      <th></th>\n",
              "      <th>name</th>\n",
              "      <th>total_rating</th>\n",
              "    </tr>\n",
              "  </thead>\n",
              "  <tbody>\n",
              "    <tr>\n",
              "      <th>0</th>\n",
              "      <td>&amp;quot;0&amp;quot;</td>\n",
              "      <td>3</td>\n",
              "    </tr>\n",
              "    <tr>\n",
              "      <th>1</th>\n",
              "      <td>&amp;quot;Bungaku Shoujo&amp;quot; Kyou no Oyatsu: Hat...</td>\n",
              "      <td>2</td>\n",
              "    </tr>\n",
              "    <tr>\n",
              "      <th>2</th>\n",
              "      <td>&amp;quot;Bungaku Shoujo&amp;quot; Memoire</td>\n",
              "      <td>3</td>\n",
              "    </tr>\n",
              "    <tr>\n",
              "      <th>3</th>\n",
              "      <td>&amp;quot;Bungaku Shoujo&amp;quot; Movie</td>\n",
              "      <td>28</td>\n",
              "    </tr>\n",
              "    <tr>\n",
              "      <th>4</th>\n",
              "      <td>&amp;quot;Eiji&amp;quot;</td>\n",
              "      <td>1</td>\n",
              "    </tr>\n",
              "  </tbody>\n",
              "</table>\n",
              "</div>\n",
              "      <button class=\"colab-df-convert\" onclick=\"convertToInteractive('df-3cdefd10-e311-4baf-aefe-9201f9ed3567')\"\n",
              "              title=\"Convert this dataframe to an interactive table.\"\n",
              "              style=\"display:none;\">\n",
              "        \n",
              "  <svg xmlns=\"http://www.w3.org/2000/svg\" height=\"24px\"viewBox=\"0 0 24 24\"\n",
              "       width=\"24px\">\n",
              "    <path d=\"M0 0h24v24H0V0z\" fill=\"none\"/>\n",
              "    <path d=\"M18.56 5.44l.94 2.06.94-2.06 2.06-.94-2.06-.94-.94-2.06-.94 2.06-2.06.94zm-11 1L8.5 8.5l.94-2.06 2.06-.94-2.06-.94L8.5 2.5l-.94 2.06-2.06.94zm10 10l.94 2.06.94-2.06 2.06-.94-2.06-.94-.94-2.06-.94 2.06-2.06.94z\"/><path d=\"M17.41 7.96l-1.37-1.37c-.4-.4-.92-.59-1.43-.59-.52 0-1.04.2-1.43.59L10.3 9.45l-7.72 7.72c-.78.78-.78 2.05 0 2.83L4 21.41c.39.39.9.59 1.41.59.51 0 1.02-.2 1.41-.59l7.78-7.78 2.81-2.81c.8-.78.8-2.07 0-2.86zM5.41 20L4 18.59l7.72-7.72 1.47 1.35L5.41 20z\"/>\n",
              "  </svg>\n",
              "      </button>\n",
              "      \n",
              "  <style>\n",
              "    .colab-df-container {\n",
              "      display:flex;\n",
              "      flex-wrap:wrap;\n",
              "      gap: 12px;\n",
              "    }\n",
              "\n",
              "    .colab-df-convert {\n",
              "      background-color: #E8F0FE;\n",
              "      border: none;\n",
              "      border-radius: 50%;\n",
              "      cursor: pointer;\n",
              "      display: none;\n",
              "      fill: #1967D2;\n",
              "      height: 32px;\n",
              "      padding: 0 0 0 0;\n",
              "      width: 32px;\n",
              "    }\n",
              "\n",
              "    .colab-df-convert:hover {\n",
              "      background-color: #E2EBFA;\n",
              "      box-shadow: 0px 1px 2px rgba(60, 64, 67, 0.3), 0px 1px 3px 1px rgba(60, 64, 67, 0.15);\n",
              "      fill: #174EA6;\n",
              "    }\n",
              "\n",
              "    [theme=dark] .colab-df-convert {\n",
              "      background-color: #3B4455;\n",
              "      fill: #D2E3FC;\n",
              "    }\n",
              "\n",
              "    [theme=dark] .colab-df-convert:hover {\n",
              "      background-color: #434B5C;\n",
              "      box-shadow: 0px 1px 3px 1px rgba(0, 0, 0, 0.15);\n",
              "      filter: drop-shadow(0px 1px 2px rgba(0, 0, 0, 0.3));\n",
              "      fill: #FFFFFF;\n",
              "    }\n",
              "  </style>\n",
              "\n",
              "      <script>\n",
              "        const buttonEl =\n",
              "          document.querySelector('#df-3cdefd10-e311-4baf-aefe-9201f9ed3567 button.colab-df-convert');\n",
              "        buttonEl.style.display =\n",
              "          google.colab.kernel.accessAllowed ? 'block' : 'none';\n",
              "\n",
              "        async function convertToInteractive(key) {\n",
              "          const element = document.querySelector('#df-3cdefd10-e311-4baf-aefe-9201f9ed3567');\n",
              "          const dataTable =\n",
              "            await google.colab.kernel.invokeFunction('convertToInteractive',\n",
              "                                                     [key], {});\n",
              "          if (!dataTable) return;\n",
              "\n",
              "          const docLinkHtml = 'Like what you see? Visit the ' +\n",
              "            '<a target=\"_blank\" href=https://colab.research.google.com/notebooks/data_table.ipynb>data table notebook</a>'\n",
              "            + ' to learn more about interactive tables.';\n",
              "          element.innerHTML = '';\n",
              "          dataTable['output_type'] = 'display_data';\n",
              "          await google.colab.output.renderOutput(dataTable, element);\n",
              "          const docLink = document.createElement('div');\n",
              "          docLink.innerHTML = docLinkHtml;\n",
              "          element.appendChild(docLink);\n",
              "        }\n",
              "      </script>\n",
              "    </div>\n",
              "  </div>\n",
              "  "
            ]
          },
          "metadata": {},
          "execution_count": 38
        }
      ],
      "source": [
        "rating_anime_count = rating_anime.groupby('name')['rating'].count()\n",
        "rating_anime_count = pd.DataFrame(rating_anime_count).reset_index().rename(columns={'rating':'total_rating'})\n",
        "rating_anime_count.head()"
      ]
    },
    {
      "cell_type": "code",
      "execution_count": 39,
      "metadata": {
        "colab": {
          "base_uri": "https://localhost:8080/",
          "height": 729
        },
        "id": "ZGVPyEDIof-k",
        "outputId": "1071d822-aede-4890-e153-c85d509c4a1a"
      },
      "outputs": [
        {
          "output_type": "display_data",
          "data": {
            "text/plain": [
              "<Figure size 1080x720 with 1 Axes>"
            ],
            "image/png": "[encoded data removed]"
          },
          "metadata": {
            "needs_background": "light"
          }
        }
      ],
      "source": [
        "data = rating_anime_count.sort_values(by ='total_rating')\n",
        "\n",
        "plt.figure(figsize=(15,10))\n",
        "sns.barplot(data=data.iloc[-10:,:], \n",
        "            y='name', x='total_rating',\n",
        "            palette=\"Blues_d\")\n",
        "plt.title('Distribusi Sebaran Rating dari 10 Anime Tertinggi', pad=30, fontsize=30)\n",
        "plt.tight_layout()\n",
        "plt.show()"
      ]
    },
    {
      "cell_type": "markdown",
      "metadata": {
        "id": "uCiIt7RkizX9"
      },
      "source": [
        "dari data diatas bisa kita lihat anime dengan rating tertinggi dipegang oleh Sword art online\n",
        "\n",
        "selanjutnya kita akan mengambil data rating ini sebagai data utama kita dengan nama merge_df"
      ]
    },
    {
      "cell_type": "code",
      "execution_count": 40,
      "metadata": {
        "colab": {
          "base_uri": "https://localhost:8080/",
          "height": 206
        },
        "id": "U3rNaP4DtreL",
        "outputId": "af24fac2-ea6c-4b5f-8724-4d4fd503120d"
      },
      "outputs": [
        {
          "output_type": "execute_result",
          "data": {
            "text/plain": [
              "   user_id  anime_id  rating   genre                     name\n",
              "0   253664     28891       7  Comedy  Haikyuu!! Second Season\n",
              "1   254554     28891      10  Comedy  Haikyuu!! Second Season\n",
              "2   271227     28891      10  Comedy  Haikyuu!! Second Season\n",
              "3   284956     28891       7  Comedy  Haikyuu!! Second Season\n",
              "4   249279     28891       8  Comedy  Haikyuu!! Second Season"
            ],
            "text/html": [
              "\n",
              "  <div id=\"df-8774038e-5d0e-470f-842c-d83264f50d5e\">\n",
              "    <div class=\"colab-df-container\">\n",
              "      <div>\n",
              "<style scoped>\n",
              "    .dataframe tbody tr th:only-of-type {\n",
              "        vertical-align: middle;\n",
              "    }\n",
              "\n",
              "    .dataframe tbody tr th {\n",
              "        vertical-align: top;\n",
              "    }\n",
              "\n",
              "    .dataframe thead th {\n",
              "        text-align: right;\n",
              "    }\n",
              "</style>\n",
              "<table border=\"1\" class=\"dataframe\">\n",
              "  <thead>\n",
              "    <tr style=\"text-align: right;\">\n",
              "      <th></th>\n",
              "      <th>user_id</th>\n",
              "      <th>anime_id</th>\n",
              "      <th>rating</th>\n",
              "      <th>genre</th>\n",
              "      <th>name</th>\n",
              "    </tr>\n",
              "  </thead>\n",
              "  <tbody>\n",
              "    <tr>\n",
              "      <th>0</th>\n",
              "      <td>253664</td>\n",
              "      <td>28891</td>\n",
              "      <td>7</td>\n",
              "      <td>Comedy</td>\n",
              "      <td>Haikyuu!! Second Season</td>\n",
              "    </tr>\n",
              "    <tr>\n",
              "      <th>1</th>\n",
              "      <td>254554</td>\n",
              "      <td>28891</td>\n",
              "      <td>10</td>\n",
              "      <td>Comedy</td>\n",
              "      <td>Haikyuu!! Second Season</td>\n",
              "    </tr>\n",
              "    <tr>\n",
              "      <th>2</th>\n",
              "      <td>271227</td>\n",
              "      <td>28891</td>\n",
              "      <td>10</td>\n",
              "      <td>Comedy</td>\n",
              "      <td>Haikyuu!! Second Season</td>\n",
              "    </tr>\n",
              "    <tr>\n",
              "      <th>3</th>\n",
              "      <td>284956</td>\n",
              "      <td>28891</td>\n",
              "      <td>7</td>\n",
              "      <td>Comedy</td>\n",
              "      <td>Haikyuu!! Second Season</td>\n",
              "    </tr>\n",
              "    <tr>\n",
              "      <th>4</th>\n",
              "      <td>249279</td>\n",
              "      <td>28891</td>\n",
              "      <td>8</td>\n",
              "      <td>Comedy</td>\n",
              "      <td>Haikyuu!! Second Season</td>\n",
              "    </tr>\n",
              "  </tbody>\n",
              "</table>\n",
              "</div>\n",
              "      <button class=\"colab-df-convert\" onclick=\"convertToInteractive('df-8774038e-5d0e-470f-842c-d83264f50d5e')\"\n",
              "              title=\"Convert this dataframe to an interactive table.\"\n",
              "              style=\"display:none;\">\n",
              "        \n",
              "  <svg xmlns=\"http://www.w3.org/2000/svg\" height=\"24px\"viewBox=\"0 0 24 24\"\n",
              "       width=\"24px\">\n",
              "    <path d=\"M0 0h24v24H0V0z\" fill=\"none\"/>\n",
              "    <path d=\"M18.56 5.44l.94 2.06.94-2.06 2.06-.94-2.06-.94-.94-2.06-.94 2.06-2.06.94zm-11 1L8.5 8.5l.94-2.06 2.06-.94-2.06-.94L8.5 2.5l-.94 2.06-2.06.94zm10 10l.94 2.06.94-2.06 2.06-.94-2.06-.94-.94-2.06-.94 2.06-2.06.94z\"/><path d=\"M17.41 7.96l-1.37-1.37c-.4-.4-.92-.59-1.43-.59-.52 0-1.04.2-1.43.59L10.3 9.45l-7.72 7.72c-.78.78-.78 2.05 0 2.83L4 21.41c.39.39.9.59 1.41.59.51 0 1.02-.2 1.41-.59l7.78-7.78 2.81-2.81c.8-.78.8-2.07 0-2.86zM5.41 20L4 18.59l7.72-7.72 1.47 1.35L5.41 20z\"/>\n",
              "  </svg>\n",
              "      </button>\n",
              "      \n",
              "  <style>\n",
              "    .colab-df-container {\n",
              "      display:flex;\n",
              "      flex-wrap:wrap;\n",
              "      gap: 12px;\n",
              "    }\n",
              "\n",
              "    .colab-df-convert {\n",
              "      background-color: #E8F0FE;\n",
              "      border: none;\n",
              "      border-radius: 50%;\n",
              "      cursor: pointer;\n",
              "      display: none;\n",
              "      fill: #1967D2;\n",
              "      height: 32px;\n",
              "      padding: 0 0 0 0;\n",
              "      width: 32px;\n",
              "    }\n",
              "\n",
              "    .colab-df-convert:hover {\n",
              "      background-color: #E2EBFA;\n",
              "      box-shadow: 0px 1px 2px rgba(60, 64, 67, 0.3), 0px 1px 3px 1px rgba(60, 64, 67, 0.15);\n",
              "      fill: #174EA6;\n",
              "    }\n",
              "\n",
              "    [theme=dark] .colab-df-convert {\n",
              "      background-color: #3B4455;\n",
              "      fill: #D2E3FC;\n",
              "    }\n",
              "\n",
              "    [theme=dark] .colab-df-convert:hover {\n",
              "      background-color: #434B5C;\n",
              "      box-shadow: 0px 1px 3px 1px rgba(0, 0, 0, 0.15);\n",
              "      filter: drop-shadow(0px 1px 2px rgba(0, 0, 0, 0.3));\n",
              "      fill: #FFFFFF;\n",
              "    }\n",
              "  </style>\n",
              "\n",
              "      <script>\n",
              "        const buttonEl =\n",
              "          document.querySelector('#df-8774038e-5d0e-470f-842c-d83264f50d5e button.colab-df-convert');\n",
              "        buttonEl.style.display =\n",
              "          google.colab.kernel.accessAllowed ? 'block' : 'none';\n",
              "\n",
              "        async function convertToInteractive(key) {\n",
              "          const element = document.querySelector('#df-8774038e-5d0e-470f-842c-d83264f50d5e');\n",
              "          const dataTable =\n",
              "            await google.colab.kernel.invokeFunction('convertToInteractive',\n",
              "                                                     [key], {});\n",
              "          if (!dataTable) return;\n",
              "\n",
              "          const docLinkHtml = 'Like what you see? Visit the ' +\n",
              "            '<a target=\"_blank\" href=https://colab.research.google.com/notebooks/data_table.ipynb>data table notebook</a>'\n",
              "            + ' to learn more about interactive tables.';\n",
              "          element.innerHTML = '';\n",
              "          dataTable['output_type'] = 'display_data';\n",
              "          await google.colab.output.renderOutput(dataTable, element);\n",
              "          const docLink = document.createElement('div');\n",
              "          docLink.innerHTML = docLinkHtml;\n",
              "          element.appendChild(docLink);\n",
              "        }\n",
              "      </script>\n",
              "    </div>\n",
              "  </div>\n",
              "  "
            ]
          },
          "metadata": {},
          "execution_count": 40
        }
      ],
      "source": [
        "merge_df = rating_anime\n",
        "merge_df.head()"
      ]
    },
    {
      "cell_type": "markdown",
      "metadata": {
        "id": "5YlHNSQ9nxp1"
      },
      "source": [
        "# Data preparation"
      ]
    },
    {
      "cell_type": "markdown",
      "metadata": {
        "id": "hPNDXzybjW9P"
      },
      "source": [
        "pada tahap ini kita akan mengubah unique user_id dan anime_id menjadi list, lalu melakukan encoding user_id dan encoding anime_id, dan encoding angka ke user_id dan anime"
      ]
    },
    {
      "cell_type": "code",
      "execution_count": 41,
      "metadata": {
        "id": "nb5lSKSn2K_4"
      },
      "outputs": [],
      "source": [
        "user_id = merge_df['user_id'].unique().tolist()\n",
        "user_to_user_encoded = {x: i for i, x in enumerate(user_id)}\n",
        "user_encoded_to_user = {i: x for i, x in enumerate(user_id)}"
      ]
    },
    {
      "cell_type": "code",
      "execution_count": 42,
      "metadata": {
        "id": "LF4TV_z5RDC1"
      },
      "outputs": [],
      "source": [
        "anime_id = merge_df['anime_id'].unique().tolist()\n",
        "anime_to_anime_encoded = {x: i for i, x in enumerate(anime_id)}\n",
        "anime_encoded_to_anime = {i: x for i, x in enumerate(anime_id)}"
      ]
    },
    {
      "cell_type": "markdown",
      "metadata": {
        "id": "xCSiXUwVkRJt"
      },
      "source": [
        "Selanjutnya kita melakukan mapping data user id dan anime id"
      ]
    },
    {
      "cell_type": "code",
      "execution_count": 43,
      "metadata": {
        "colab": {
          "base_uri": "https://localhost:8080/",
          "height": 206
        },
        "id": "ZrgJFpZ7QS-N",
        "outputId": "956391c0-89d3-466e-9ba2-16292a840bd7"
      },
      "outputs": [
        {
          "output_type": "execute_result",
          "data": {
            "text/plain": [
              "   user_id  anime_id  rating   genre                     name  user  anime\n",
              "0   253664     28891       7  Comedy  Haikyuu!! Second Season     0      0\n",
              "1   254554     28891      10  Comedy  Haikyuu!! Second Season     1      0\n",
              "2   271227     28891      10  Comedy  Haikyuu!! Second Season     2      0\n",
              "3   284956     28891       7  Comedy  Haikyuu!! Second Season     3      0\n",
              "4   249279     28891       8  Comedy  Haikyuu!! Second Season     4      0"
            ],
            "text/html": [
              "\n",
              "  <div id=\"df-589f3716-6d7e-4787-8c53-01d0dece1003\">\n",
              "    <div class=\"colab-df-container\">\n",
              "      <div>\n",
              "<style scoped>\n",
              "    .dataframe tbody tr th:only-of-type {\n",
              "        vertical-align: middle;\n",
              "    }\n",
              "\n",
              "    .dataframe tbody tr th {\n",
              "        vertical-align: top;\n",
              "    }\n",
              "\n",
              "    .dataframe thead th {\n",
              "        text-align: right;\n",
              "    }\n",
              "</style>\n",
              "<table border=\"1\" class=\"dataframe\">\n",
              "  <thead>\n",
              "    <tr style=\"text-align: right;\">\n",
              "      <th></th>\n",
              "      <th>user_id</th>\n",
              "      <th>anime_id</th>\n",
              "      <th>rating</th>\n",
              "      <th>genre</th>\n",
              "      <th>name</th>\n",
              "      <th>user</th>\n",
              "      <th>anime</th>\n",
              "    </tr>\n",
              "  </thead>\n",
              "  <tbody>\n",
              "    <tr>\n",
              "      <th>0</th>\n",
              "      <td>253664</td>\n",
              "      <td>28891</td>\n",
              "      <td>7</td>\n",
              "      <td>Comedy</td>\n",
              "      <td>Haikyuu!! Second Season</td>\n",
              "      <td>0</td>\n",
              "      <td>0</td>\n",
              "    </tr>\n",
              "    <tr>\n",
              "      <th>1</th>\n",
              "      <td>254554</td>\n",
              "      <td>28891</td>\n",
              "      <td>10</td>\n",
              "      <td>Comedy</td>\n",
              "      <td>Haikyuu!! Second Season</td>\n",
              "      <td>1</td>\n",
              "      <td>0</td>\n",
              "    </tr>\n",
              "    <tr>\n",
              "      <th>2</th>\n",
              "      <td>271227</td>\n",
              "      <td>28891</td>\n",
              "      <td>10</td>\n",
              "      <td>Comedy</td>\n",
              "      <td>Haikyuu!! Second Season</td>\n",
              "      <td>2</td>\n",
              "      <td>0</td>\n",
              "    </tr>\n",
              "    <tr>\n",
              "      <th>3</th>\n",
              "      <td>284956</td>\n",
              "      <td>28891</td>\n",
              "      <td>7</td>\n",
              "      <td>Comedy</td>\n",
              "      <td>Haikyuu!! Second Season</td>\n",
              "      <td>3</td>\n",
              "      <td>0</td>\n",
              "    </tr>\n",
              "    <tr>\n",
              "      <th>4</th>\n",
              "      <td>249279</td>\n",
              "      <td>28891</td>\n",
              "      <td>8</td>\n",
              "      <td>Comedy</td>\n",
              "      <td>Haikyuu!! Second Season</td>\n",
              "      <td>4</td>\n",
              "      <td>0</td>\n",
              "    </tr>\n",
              "  </tbody>\n",
              "</table>\n",
              "</div>\n",
              "      <button class=\"colab-df-convert\" onclick=\"convertToInteractive('df-589f3716-6d7e-4787-8c53-01d0dece1003')\"\n",
              "              title=\"Convert this dataframe to an interactive table.\"\n",
              "              style=\"display:none;\">\n",
              "        \n",
              "  <svg xmlns=\"http://www.w3.org/2000/svg\" height=\"24px\"viewBox=\"0 0 24 24\"\n",
              "       width=\"24px\">\n",
              "    <path d=\"M0 0h24v24H0V0z\" fill=\"none\"/>\n",
              "    <path d=\"M18.56 5.44l.94 2.06.94-2.06 2.06-.94-2.06-.94-.94-2.06-.94 2.06-2.06.94zm-11 1L8.5 8.5l.94-2.06 2.06-.94-2.06-.94L8.5 2.5l-.94 2.06-2.06.94zm10 10l.94 2.06.94-2.06 2.06-.94-2.06-.94-.94-2.06-.94 2.06-2.06.94z\"/><path d=\"M17.41 7.96l-1.37-1.37c-.4-.4-.92-.59-1.43-.59-.52 0-1.04.2-1.43.59L10.3 9.45l-7.72 7.72c-.78.78-.78 2.05 0 2.83L4 21.41c.39.39.9.59 1.41.59.51 0 1.02-.2 1.41-.59l7.78-7.78 2.81-2.81c.8-.78.8-2.07 0-2.86zM5.41 20L4 18.59l7.72-7.72 1.47 1.35L5.41 20z\"/>\n",
              "  </svg>\n",
              "      </button>\n",
              "      \n",
              "  <style>\n",
              "    .colab-df-container {\n",
              "      display:flex;\n",
              "      flex-wrap:wrap;\n",
              "      gap: 12px;\n",
              "    }\n",
              "\n",
              "    .colab-df-convert {\n",
              "      background-color: #E8F0FE;\n",
              "      border: none;\n",
              "      border-radius: 50%;\n",
              "      cursor: pointer;\n",
              "      display: none;\n",
              "      fill: #1967D2;\n",
              "      height: 32px;\n",
              "      padding: 0 0 0 0;\n",
              "      width: 32px;\n",
              "    }\n",
              "\n",
              "    .colab-df-convert:hover {\n",
              "      background-color: #E2EBFA;\n",
              "      box-shadow: 0px 1px 2px rgba(60, 64, 67, 0.3), 0px 1px 3px 1px rgba(60, 64, 67, 0.15);\n",
              "      fill: #174EA6;\n",
              "    }\n",
              "\n",
              "    [theme=dark] .colab-df-convert {\n",
              "      background-color: #3B4455;\n",
              "      fill: #D2E3FC;\n",
              "    }\n",
              "\n",
              "    [theme=dark] .colab-df-convert:hover {\n",
              "      background-color: #434B5C;\n",
              "      box-shadow: 0px 1px 3px 1px rgba(0, 0, 0, 0.15);\n",
              "      filter: drop-shadow(0px 1px 2px rgba(0, 0, 0, 0.3));\n",
              "      fill: #FFFFFF;\n",
              "    }\n",
              "  </style>\n",
              "\n",
              "      <script>\n",
              "        const buttonEl =\n",
              "          document.querySelector('#df-589f3716-6d7e-4787-8c53-01d0dece1003 button.colab-df-convert');\n",
              "        buttonEl.style.display =\n",
              "          google.colab.kernel.accessAllowed ? 'block' : 'none';\n",
              "\n",
              "        async function convertToInteractive(key) {\n",
              "          const element = document.querySelector('#df-589f3716-6d7e-4787-8c53-01d0dece1003');\n",
              "          const dataTable =\n",
              "            await google.colab.kernel.invokeFunction('convertToInteractive',\n",
              "                                                     [key], {});\n",
              "          if (!dataTable) return;\n",
              "\n",
              "          const docLinkHtml = 'Like what you see? Visit the ' +\n",
              "            '<a target=\"_blank\" href=https://colab.research.google.com/notebooks/data_table.ipynb>data table notebook</a>'\n",
              "            + ' to learn more about interactive tables.';\n",
              "          element.innerHTML = '';\n",
              "          dataTable['output_type'] = 'display_data';\n",
              "          await google.colab.output.renderOutput(dataTable, element);\n",
              "          const docLink = document.createElement('div');\n",
              "          docLink.innerHTML = docLinkHtml;\n",
              "          element.appendChild(docLink);\n",
              "        }\n",
              "      </script>\n",
              "    </div>\n",
              "  </div>\n",
              "  "
            ]
          },
          "metadata": {},
          "execution_count": 43
        }
      ],
      "source": [
        "merge_df['user'] = merge_df['user_id'].map(user_to_user_encoded)\n",
        "merge_df['anime'] = merge_df['anime_id'].map(anime_to_anime_encoded)\n",
        "merge_df.head()"
      ]
    },
    {
      "cell_type": "markdown",
      "metadata": {
        "id": "ZJ3zWVBKkhlw"
      },
      "source": [
        "selanjutnya kita akan mendapatkan jumlah user dan anime, lalu merubah tipe data variabel rating menjadi float, lalu melihat nilai maksimum dan nilai minimum pada rating"
      ]
    },
    {
      "cell_type": "code",
      "execution_count": 44,
      "metadata": {
        "colab": {
          "base_uri": "https://localhost:8080/"
        },
        "id": "8TvYhhhGR-A-",
        "outputId": "4dfa4f1e-c28a-4a52-8616-ecb0f702321f"
      },
      "outputs": [
        {
          "output_type": "stream",
          "name": "stdout",
          "text": [
            "Number of User: 107039\n",
            "Number of anime: 6783\n",
            "Min rating: 0.0\n",
            "Max rating: 11.0\n"
          ]
        }
      ],
      "source": [
        "num_users = len(user_to_user_encoded)\n",
        "num_anime = len(anime_encoded_to_anime)\n",
        "merge_df['rating'] = merge_df['rating'].values.astype(np.float32)\n",
        "min_rating = min(merge_df['rating'])\n",
        "max_rating = max(merge_df['rating'])\n",
        "\n",
        "print(f'Number of User: {num_users}')\n",
        "print(f'Number of anime: {num_anime}')\n",
        "print(f'Min rating: {min_rating}')\n",
        "print(f'Max rating: {max_rating}')"
      ]
    },
    {
      "cell_type": "markdown",
      "metadata": {
        "id": "R3t3GTi6lEuO"
      },
      "source": [
        "# Pembagian dataset training dan test"
      ]
    },
    {
      "cell_type": "markdown",
      "metadata": {
        "id": "JxaUXMBRk-3o"
      },
      "source": [
        "sebelum kita masuk pembagian dataset kita akan melakukan acak dataset"
      ]
    },
    {
      "cell_type": "code",
      "execution_count": 45,
      "metadata": {
        "colab": {
          "base_uri": "https://localhost:8080/",
          "height": 206
        },
        "id": "2PDvs6EaSnY0",
        "outputId": "fb3c893b-15d1-4961-aa82-2a5408b889d1"
      },
      "outputs": [
        {
          "output_type": "execute_result",
          "data": {
            "text/plain": [
              "        user_id  anime_id  rating      genre  \\\n",
              "101456   128373     19221    10.0     Comedy   \n",
              "78255    134673     11757     6.0     Action   \n",
              "10798    273956     21647     9.0     Comedy   \n",
              "103310   254578     19117    10.0  Adventure   \n",
              "63246    173605     21881     8.0     Action   \n",
              "\n",
              "                                                     name    user  anime  \n",
              "101456  Ore no Nounai Sentakushi ga, Gakuen Love Comed...  101456   6447  \n",
              "78255                                    Sword Art Online   78255   4088  \n",
              "10798                                   Tamako Love Story   10798    218  \n",
              "103310                         Toaru Hikuushi e no Koiuta  103310   6533  \n",
              "63246                                 Sword Art Online II   63246   2783  "
            ],
            "text/html": [
              "\n",
              "  <div id=\"df-a916a80b-a576-4660-af92-2c4b9ca950c0\">\n",
              "    <div class=\"colab-df-container\">\n",
              "      <div>\n",
              "<style scoped>\n",
              "    .dataframe tbody tr th:only-of-type {\n",
              "        vertical-align: middle;\n",
              "    }\n",
              "\n",
              "    .dataframe tbody tr th {\n",
              "        vertical-align: top;\n",
              "    }\n",
              "\n",
              "    .dataframe thead th {\n",
              "        text-align: right;\n",
              "    }\n",
              "</style>\n",
              "<table border=\"1\" class=\"dataframe\">\n",
              "  <thead>\n",
              "    <tr style=\"text-align: right;\">\n",
              "      <th></th>\n",
              "      <th>user_id</th>\n",
              "      <th>anime_id</th>\n",
              "      <th>rating</th>\n",
              "      <th>genre</th>\n",
              "      <th>name</th>\n",
              "      <th>user</th>\n",
              "      <th>anime</th>\n",
              "    </tr>\n",
              "  </thead>\n",
              "  <tbody>\n",
              "    <tr>\n",
              "      <th>101456</th>\n",
              "      <td>128373</td>\n",
              "      <td>19221</td>\n",
              "      <td>10.0</td>\n",
              "      <td>Comedy</td>\n",
              "      <td>Ore no Nounai Sentakushi ga, Gakuen Love Comed...</td>\n",
              "      <td>101456</td>\n",
              "      <td>6447</td>\n",
              "    </tr>\n",
              "    <tr>\n",
              "      <th>78255</th>\n",
              "      <td>134673</td>\n",
              "      <td>11757</td>\n",
              "      <td>6.0</td>\n",
              "      <td>Action</td>\n",
              "      <td>Sword Art Online</td>\n",
              "      <td>78255</td>\n",
              "      <td>4088</td>\n",
              "    </tr>\n",
              "    <tr>\n",
              "      <th>10798</th>\n",
              "      <td>273956</td>\n",
              "      <td>21647</td>\n",
              "      <td>9.0</td>\n",
              "      <td>Comedy</td>\n",
              "      <td>Tamako Love Story</td>\n",
              "      <td>10798</td>\n",
              "      <td>218</td>\n",
              "    </tr>\n",
              "    <tr>\n",
              "      <th>103310</th>\n",
              "      <td>254578</td>\n",
              "      <td>19117</td>\n",
              "      <td>10.0</td>\n",
              "      <td>Adventure</td>\n",
              "      <td>Toaru Hikuushi e no Koiuta</td>\n",
              "      <td>103310</td>\n",
              "      <td>6533</td>\n",
              "    </tr>\n",
              "    <tr>\n",
              "      <th>63246</th>\n",
              "      <td>173605</td>\n",
              "      <td>21881</td>\n",
              "      <td>8.0</td>\n",
              "      <td>Action</td>\n",
              "      <td>Sword Art Online II</td>\n",
              "      <td>63246</td>\n",
              "      <td>2783</td>\n",
              "    </tr>\n",
              "  </tbody>\n",
              "</table>\n",
              "</div>\n",
              "      <button class=\"colab-df-convert\" onclick=\"convertToInteractive('df-a916a80b-a576-4660-af92-2c4b9ca950c0')\"\n",
              "              title=\"Convert this dataframe to an interactive table.\"\n",
              "              style=\"display:none;\">\n",
              "        \n",
              "  <svg xmlns=\"http://www.w3.org/2000/svg\" height=\"24px\"viewBox=\"0 0 24 24\"\n",
              "       width=\"24px\">\n",
              "    <path d=\"M0 0h24v24H0V0z\" fill=\"none\"/>\n",
              "    <path d=\"M18.56 5.44l.94 2.06.94-2.06 2.06-.94-2.06-.94-.94-2.06-.94 2.06-2.06.94zm-11 1L8.5 8.5l.94-2.06 2.06-.94-2.06-.94L8.5 2.5l-.94 2.06-2.06.94zm10 10l.94 2.06.94-2.06 2.06-.94-2.06-.94-.94-2.06-.94 2.06-2.06.94z\"/><path d=\"M17.41 7.96l-1.37-1.37c-.4-.4-.92-.59-1.43-.59-.52 0-1.04.2-1.43.59L10.3 9.45l-7.72 7.72c-.78.78-.78 2.05 0 2.83L4 21.41c.39.39.9.59 1.41.59.51 0 1.02-.2 1.41-.59l7.78-7.78 2.81-2.81c.8-.78.8-2.07 0-2.86zM5.41 20L4 18.59l7.72-7.72 1.47 1.35L5.41 20z\"/>\n",
              "  </svg>\n",
              "      </button>\n",
              "      \n",
              "  <style>\n",
              "    .colab-df-container {\n",
              "      display:flex;\n",
              "      flex-wrap:wrap;\n",
              "      gap: 12px;\n",
              "    }\n",
              "\n",
              "    .colab-df-convert {\n",
              "      background-color: #E8F0FE;\n",
              "      border: none;\n",
              "      border-radius: 50%;\n",
              "      cursor: pointer;\n",
              "      display: none;\n",
              "      fill: #1967D2;\n",
              "      height: 32px;\n",
              "      padding: 0 0 0 0;\n",
              "      width: 32px;\n",
              "    }\n",
              "\n",
              "    .colab-df-convert:hover {\n",
              "      background-color: #E2EBFA;\n",
              "      box-shadow: 0px 1px 2px rgba(60, 64, 67, 0.3), 0px 1px 3px 1px rgba(60, 64, 67, 0.15);\n",
              "      fill: #174EA6;\n",
              "    }\n",
              "\n",
              "    [theme=dark] .colab-df-convert {\n",
              "      background-color: #3B4455;\n",
              "      fill: #D2E3FC;\n",
              "    }\n",
              "\n",
              "    [theme=dark] .colab-df-convert:hover {\n",
              "      background-color: #434B5C;\n",
              "      box-shadow: 0px 1px 3px 1px rgba(0, 0, 0, 0.15);\n",
              "      filter: drop-shadow(0px 1px 2px rgba(0, 0, 0, 0.3));\n",
              "      fill: #FFFFFF;\n",
              "    }\n",
              "  </style>\n",
              "\n",
              "      <script>\n",
              "        const buttonEl =\n",
              "          document.querySelector('#df-a916a80b-a576-4660-af92-2c4b9ca950c0 button.colab-df-convert');\n",
              "        buttonEl.style.display =\n",
              "          google.colab.kernel.accessAllowed ? 'block' : 'none';\n",
              "\n",
              "        async function convertToInteractive(key) {\n",
              "          const element = document.querySelector('#df-a916a80b-a576-4660-af92-2c4b9ca950c0');\n",
              "          const dataTable =\n",
              "            await google.colab.kernel.invokeFunction('convertToInteractive',\n",
              "                                                     [key], {});\n",
              "          if (!dataTable) return;\n",
              "\n",
              "          const docLinkHtml = 'Like what you see? Visit the ' +\n",
              "            '<a target=\"_blank\" href=https://colab.research.google.com/notebooks/data_table.ipynb>data table notebook</a>'\n",
              "            + ' to learn more about interactive tables.';\n",
              "          element.innerHTML = '';\n",
              "          dataTable['output_type'] = 'display_data';\n",
              "          await google.colab.output.renderOutput(dataTable, element);\n",
              "          const docLink = document.createElement('div');\n",
              "          docLink.innerHTML = docLinkHtml;\n",
              "          element.appendChild(docLink);\n",
              "        }\n",
              "      </script>\n",
              "    </div>\n",
              "  </div>\n",
              "  "
            ]
          },
          "metadata": {},
          "execution_count": 45
        }
      ],
      "source": [
        "df = merge_df.sample(frac=1, random_state=30)\n",
        "df.head()"
      ]
    },
    {
      "cell_type": "markdown",
      "metadata": {
        "id": "UVfvMNqSl7O5"
      },
      "source": [
        "Tahap selanjutnya kita akan membuat sebuat variabel x yang akan menampung data user dan anime, dan variabel y untuk menampung data rating. selanjutnya kita akan membagi dataset sebanyak 80% data train dan 20% data test"
      ]
    },
    {
      "cell_type": "code",
      "execution_count": 46,
      "metadata": {
        "id": "aQJee_IgUexE"
      },
      "outputs": [],
      "source": [
        "x = merge_df[['user', 'anime']].values\n",
        "y = merge_df['rating'].apply(lambda x: (x - min_rating) / (max_rating - min_rating)).values\n",
        "train_indices = int(0.8 * merge_df.shape[0])\n",
        "x_train, x_val, y_train, y_val = (\n",
        "    x[:train_indices],\n",
        "    x[train_indices:],\n",
        "    y[:train_indices],\n",
        "    y[train_indices:]\n",
        ")"
      ]
    },
    {
      "cell_type": "markdown",
      "metadata": {
        "id": "DFAcOmyEm53g"
      },
      "source": [
        "# Melatih model"
      ]
    },
    {
      "cell_type": "markdown",
      "metadata": {
        "id": "hIPX17FHnEtw"
      },
      "source": [
        "pertama kita akan membuat class dan fungsi inisialisasi"
      ]
    },
    {
      "cell_type": "code",
      "execution_count": 47,
      "metadata": {
        "id": "G0IGEtmbWfWC"
      },
      "outputs": [],
      "source": [
        "class RecommenderNet(tf.keras.Model):\n",
        "  def __init__(self, num_users, num_anime, embedding_size, **kwargs):\n",
        "    super(RecommenderNet, self).__init__(**kwargs)\n",
        "    self.num_users = num_users\n",
        "    self.num_anime = num_anime\n",
        "    self.embedding_size = embedding_size\n",
        "    self.user_embedding = layers.Embedding(\n",
        "        num_users,\n",
        "        embedding_size,\n",
        "        embeddings_initializer = 'he_normal',\n",
        "        embeddings_regularizer = keras.regularizers.l2(5e-7)\n",
        "    )\n",
        "    self.user_bias = layers.Embedding(num_users, 1)\n",
        "    self.anime_embedding = layers.Embedding(\n",
        "        num_anime,\n",
        "        embedding_size,\n",
        "        embeddings_initializer = 'he_normal',\n",
        "        embeddings_regularizer = keras.regularizers.l2(5e-7)\n",
        "    )\n",
        "    self.anime_bias = layers.Embedding(num_anime, 1)\n",
        " \n",
        "  def call(self, inputs):\n",
        "    user_vector = self.user_embedding(inputs[:,0])\n",
        "    user_bias = self.user_bias(inputs[:, 0])\n",
        "    anime_vector = self.anime_embedding(inputs[:, 1])\n",
        "    anime_bias = self.anime_bias(inputs[:, 1])\n",
        " \n",
        "    dot_user_anime = tf.tensordot(user_vector, anime_vector, 2) \n",
        " \n",
        "    x = dot_user_anime + user_bias + anime_bias\n",
        "    \n",
        "    return tf.nn.sigmoid(x)"
      ]
    },
    {
      "cell_type": "markdown",
      "metadata": {
        "id": "IRB-jslMoqNu"
      },
      "source": [
        "**Compile Model dan membuat callback**"
      ]
    },
    {
      "cell_type": "code",
      "execution_count": 48,
      "metadata": {
        "id": "Y82W-5TeeWaF"
      },
      "outputs": [],
      "source": [
        "model = RecommenderNet(num_users, num_anime, 50) # inisialisasi model\n",
        "\n",
        "model.compile(\n",
        "    loss = tf.keras.losses.BinaryCrossentropy(),\n",
        "    optimizer = keras.optimizers.Adam(learning_rate=0.001),\n",
        "    metrics=[[tf.keras.metrics.MeanAbsoluteError(),tf.keras.metrics.RootMeanSquaredError()]]\n",
        ")\n",
        "callbacks = EarlyStopping(\n",
        "    min_delta=0.0001,\n",
        "    patience=7,\n",
        "    restore_best_weights=True,\n",
        ")"
      ]
    },
    {
      "cell_type": "code",
      "execution_count": null,
      "metadata": {
        "colab": {
          "base_uri": "https://localhost:8080/"
        },
        "id": "Pn99OuEZemxt",
        "outputId": "e41bc4e1-cc6f-48f4-f058-040b96d82521"
      },
      "outputs": [
        {
          "output_type": "stream",
          "name": "stdout",
          "text": [
            "Epoch 1/100\n",
            " 2641/10704 [======>.......................] - ETA: 6:46 - loss: 0.5802 - mean_absolute_error: 0.1144 - root_mean_squared_error: 0.1525"
          ]
        }
      ],
      "source": [
        "history = model.fit(\n",
        "    x = x_train,\n",
        "    y = y_train,\n",
        "    batch_size = 8,\n",
        "    epochs = 100,\n",
        "    validation_data = (x_val, y_val),\n",
        "    callbacks=[callbacks]\n",
        ")"
      ]
    },
    {
      "cell_type": "markdown",
      "metadata": {
        "id": "S7b3WuB1rB_k"
      },
      "source": [
        "Selanjutnya kita akan menguji dengan salah satu sampel user dan menguji rekomendasi dengan model yang sudah kita rancang"
      ]
    },
    {
      "cell_type": "code",
      "execution_count": null,
      "metadata": {
        "id": "ctY0veaHeoNM"
      },
      "outputs": [],
      "source": [
        "user_id = merge_df.user_id.sample(1).iloc[0]\n",
        "anime_watched_by_user = merge_df[merge_df.user_id == user_id]\n",
        " \n",
        "anime_not_watched = df_anime[~df_anime['anime_id'].isin(anime_watched_by_user.anime_id.values)]['anime_id'] \n",
        "anime_not_watched = list(\n",
        "    set(anime_not_watched)\n",
        "    .intersection(set(anime_to_anime_encoded.keys()))\n",
        ")\n",
        "\n",
        " \n",
        "anime_not_watched = [[anime_to_anime_encoded.get(x)] for x in anime_not_watched]\n",
        "user_encoder = user_to_user_encoded.get(user_id)\n",
        "user_anime_array = np.hstack(\n",
        "    ([[user_encoder]] * len(anime_not_watched), anime_not_watched)\n",
        ")"
      ]
    },
    {
      "cell_type": "code",
      "execution_count": null,
      "metadata": {
        "id": "tXRAFP-CfCbe"
      },
      "outputs": [],
      "source": [
        "ratings = model.predict(user_anime_array).flatten()\n",
        " \n",
        "top_ratings_indices = ratings.argsort()[-10:][::-1]\n",
        "recommended_anime_ids = [\n",
        "    anime_encoded_to_anime.get(anime_not_watched[x][0]) for x in top_ratings_indices\n",
        "]\n",
        " \n",
        "print('Showing recommendations for users: {}'.format(user_ID))\n",
        "print('====' * 10)\n",
        "print('movie with high ratings from user')\n",
        "print('----' * 8)\n",
        " \n",
        "top_anime_user = (\n",
        "    anime_watched_by_user.sort_values(\n",
        "        by = 'rating',\n",
        "        ascending=False\n",
        "    )\n",
        "    .head(5)\n",
        "    .movieId.values\n",
        ")\n",
        " \n",
        "anime_df_rows = df_anime[df_anime['anime_id'].isin(top_anime_user)]\n",
        "for row in anime_df_rows.itertuples():\n",
        "    print(row.title)\n",
        " \n",
        "print('----' * 8)\n",
        "print('Top 10 anime recommendation')\n",
        "print('----' * 8)\n",
        " \n",
        "recommended_anime = df_anime[df_anime['anime_id'].isin(recommended_anime_ids)]\n",
        "for row in recommended_anime.itertuples():\n",
        "    print(row.title)"
      ]
    },
    {
      "cell_type": "markdown",
      "metadata": {
        "id": "Xav4sBUPt8rz"
      },
      "source": [
        "# Evaluation"
      ]
    },
    {
      "cell_type": "markdown",
      "metadata": {
        "id": "xCRrBbYnuCnN"
      },
      "source": [
        "Pada tahap ini penulis menggunakan dua teknik yaitu :\n",
        "\n",
        "- Mean Absolute Error (MAE)\n",
        "- Root Mean Squared Error (RMSE)\n",
        "\n",
        "Dan untuk Sistem Rekomendasi Content Based Filtering Saya menggunakan Precision"
      ]
    },
    {
      "cell_type": "markdown",
      "metadata": {
        "id": "k2yzJu3kuhit"
      },
      "source": [
        "# Plot Grafik MAE"
      ]
    },
    {
      "cell_type": "code",
      "execution_count": null,
      "metadata": {
        "id": "eJo1w-06uMve"
      },
      "outputs": [],
      "source": [
        "plt.plot(history.history['mean_absolute_error'])\n",
        "plt.plot(history.history['val_mean_absolute_error'])\n",
        "plt.title('model_metrics')\n",
        "plt.ylabel('mean_absolute_error')\n",
        "plt.xlabel('epoch')\n",
        "plt.legend(['mean_absolute_error', 'val_mean_absolute_error'])\n",
        "plt.show()"
      ]
    },
    {
      "cell_type": "markdown",
      "metadata": {
        "id": "hPQ1IK1_ulaO"
      },
      "source": [
        "# Plot Grafik RMSE"
      ]
    },
    {
      "cell_type": "code",
      "execution_count": null,
      "metadata": {
        "id": "vxJZb5D4usdn"
      },
      "outputs": [],
      "source": [
        "plt.plot(history.history['root_mean_squared_error'])\n",
        "plt.plot(history.history['val_root_mean_squared_error'])\n",
        "plt.title('model_metrics')\n",
        "plt.ylabel('root_mean_squared_error')\n",
        "plt.xlabel('epoch')\n",
        "plt.legend(['root_mean_squared_error', 'val_root_mean_squared_error'])\n",
        "plt.show()"
      ]
    },
    {
      "cell_type": "markdown",
      "metadata": {
        "id": "6xTqYblvuv0v"
      },
      "source": [
        "# Precision"
      ]
    },
    {
      "cell_type": "code",
      "execution_count": null,
      "metadata": {
        "id": "ppESx1N3vBPw"
      },
      "outputs": [],
      "source": [
        "def MovieRecommendations(anime_title, similarity_data=cosine_sim_df, \n",
        "                         items=df_anime[['anime_id','name','genre']], k=10):\n",
        "  \n",
        "    ''' Mengambil data menggunakan argpartition untuk partisi secara tidak langsung,\n",
        "    sepanjang sumbu yang diberikan, kemudian dataframe diubah menjadi numpy Range \n",
        "    dengan parameter sebagai berikut (start, stop, step) '''\n",
        "    index = similarity_data.loc[:, anime_title].to_numpy().argpartition(\n",
        "        range(-1, -k, -1)\n",
        "    )\n",
        "    closest = similarity_data.columns[index[-1:-(k+2):-1]]\n",
        "    closest = closest.drop(anime_title, errors='ignore')\n",
        "    return pd.DataFrame(closest).merge(items).head(k)"
      ]
    },
    {
      "cell_type": "code",
      "execution_count": null,
      "metadata": {
        "id": "AmVL7TFcvGhw"
      },
      "outputs": [],
      "source": [
        "find_title = df_anime[df_anime['name'] == 'Naruto']\n",
        "find_title"
      ]
    },
    {
      "cell_type": "code",
      "execution_count": null,
      "metadata": {
        "id": "0GoUAVbovMWh"
      },
      "outputs": [],
      "source": [
        "anime_title = 'Naruto'\n",
        "anime_recomend = MovieRecommendations(anime_title)\n",
        "anime_recomend"
      ]
    },
    {
      "cell_type": "markdown",
      "metadata": {
        "id": "QP5Pyui8wQqj"
      },
      "source": [
        "Dari hasil rekomendasi di atas, diketahui bahwa Outbreak (1995) memiliki 4 genre. Dari 10 item yang direkomendasikan, 8 item memiliki kategori 4 genre yang sama (similar). Artinya, precision sistem kita sebesar 8/10 atau sebesar 80%.\n",
        "\n",
        "Precision = #of recommendation that are relevant/#of item we recommend. Pada contoh rekomendasi di atas: Precision = 8/10. Jadi presisinya = 80%"
      ]
    }
  ],
  "metadata": {
    "colab": {
      "collapsed_sections": [],
      "name": "Recommendation System.ipynb",
      "provenance": [],
      "authorship_tag": "ABX9TyP4MiTR9I5qJLKvdiBABTK4",
      "include_colab_link": true
    },
    "kernelspec": {
      "display_name": "Python 3",
      "name": "python3"
    },
    "language_info": {
      "name": "python"
    }
  },
  "nbformat": 4,
  "nbformat_minor": 0
}