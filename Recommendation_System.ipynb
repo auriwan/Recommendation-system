{
  "cells": [
    {
      "cell_type": "markdown",
      "metadata": {
        "id": "view-in-github",
        "colab_type": "text"
      },
      "source": [
        "<a href=\"https://colab.research.google.com/github/auriwan/Recommendation-system/blob/main/Recommendation_System.ipynb\" target=\"_parent\"><img src=\"https://colab.research.google.com/assets/colab-badge.svg\" alt=\"Open In Colab\"/></a>"
      ]
    },
    {
      "cell_type": "markdown",
      "metadata": {
        "id": "6C-kL7o7J85o"
      },
      "source": [
        "# Anime Recommendation System"
      ]
    },
    {
      "cell_type": "markdown",
      "metadata": {
        "id": "t74WXOsuKCMv"
      },
      "source": [
        "Auriwan Yasper\n",
        "\n",
        "Dataset Anime: https://www.kaggle.com/datasets/CooperUnion/anime-recommendations-database?select=anime.csv\n",
        "\n",
        "Dataset Rating: https://www.kaggle.com/datasets/marlesson/myanimelist-dataset-animes-profiles-reviews"
      ]
    },
    {
      "cell_type": "markdown",
      "metadata": {
        "id": "_v0e3GmUKabq"
      },
      "source": [
        "# Pendahuluan"
      ]
    },
    {
      "cell_type": "markdown",
      "metadata": {
        "id": "9dLhLpWlKg4H"
      },
      "source": [
        "Tema dari analisis ini adalah hiburan dimana hasilnya akan berupa model machine learning yang nanti dapat digunakan untuk dijadikan sebuah sistem rekomendasi anime"
      ]
    },
    {
      "cell_type": "markdown",
      "metadata": {
        "id": "U3E-bC0OLmM4"
      },
      "source": [
        "# Data Loading"
      ]
    },
    {
      "cell_type": "markdown",
      "metadata": {
        "id": "4Rmu-0ECLqM1"
      },
      "source": [
        "**Import Library**"
      ]
    },
    {
      "cell_type": "code",
      "execution_count": 1,
      "metadata": {
        "id": "D-63XhyeiO7Z"
      },
      "outputs": [],
      "source": [
        "import zipfile\n",
        "import pandas as pd\n",
        "import numpy as np\n",
        "import seaborn as sns\n",
        "import tensorflow as tf\n",
        "from tensorflow import keras\n",
        "from tensorflow.keras import layers\n",
        "from keras.callbacks import EarlyStopping\n",
        "\n",
        "import matplotlib.pyplot as plt\n",
        "%matplotlib inline\n",
        "\n",
        "from google.colab import files\n",
        "from sklearn.feature_extraction.text import TfidfVectorizer\n",
        "from sklearn.metrics.pairwise import cosine_similarity\n",
        "from google.colab import drive"
      ]
    },
    {
      "cell_type": "code",
      "execution_count": null,
      "metadata": {
        "id": "buqWmYCciX6E"
      },
      "outputs": [],
      "source": [
        "!pip install -q kaggle"
      ]
    },
    {
      "cell_type": "code",
      "execution_count": 4,
      "metadata": {
        "colab": {
          "base_uri": "https://localhost:8080/"
        },
        "id": "zp9gcxkMibPD",
        "outputId": "f9454d84-bac7-43b8-a1bf-1bd81b29e042"
      },
      "outputs": [
        {
          "output_type": "stream",
          "name": "stdout",
          "text": [
            "Mounted at /content/gdrive\n"
          ]
        }
      ],
      "source": [
        "drive.mount(\"/content/gdrive\", force_remount=True)"
      ]
    },
    {
      "cell_type": "code",
      "execution_count": 5,
      "metadata": {
        "id": "XQD-OTRSiwfz"
      },
      "outputs": [],
      "source": [
        "import os\n",
        "os.environ['KAGGLE_CONFIG_DIR'] = \"/content/gdrive/MyDrive/\""
      ]
    },
    {
      "cell_type": "code",
      "execution_count": 7,
      "metadata": {
        "id": "7jI3dNvzi8SN"
      },
      "outputs": [],
      "source": [
        "!chmod 600 /content/gdrive/MyDrive/kaggle.json"
      ]
    },
    {
      "cell_type": "markdown",
      "metadata": {
        "id": "1dXoyB2gMAAj"
      },
      "source": [
        "**Download Dataset Anime**"
      ]
    },
    {
      "cell_type": "code",
      "execution_count": 8,
      "metadata": {
        "colab": {
          "base_uri": "https://localhost:8080/"
        },
        "id": "Vral0fFsjHDM",
        "outputId": "f0120202-eac0-49d8-f053-f7ff3ac95305"
      },
      "outputs": [
        {
          "output_type": "stream",
          "name": "stdout",
          "text": [
            "Downloading anime-recommendation-database-2020.zip to /content\n",
            "100% 661M/661M [00:03<00:00, 249MB/s]\n",
            "100% 661M/661M [00:03<00:00, 211MB/s]\n"
          ]
        }
      ],
      "source": [
        "! KAGGLE_CONFIG_DIR=/content/gdrive/MyDrive kaggle datasets download -d hernan4444/anime-recommendation-database-2020"
      ]
    },
    {
      "cell_type": "markdown",
      "metadata": {
        "id": "nyzEFRlKMHHw"
      },
      "source": [
        "Download Dataset Rating"
      ]
    },
    {
      "cell_type": "code",
      "execution_count": 9,
      "metadata": {
        "colab": {
          "base_uri": "https://localhost:8080/"
        },
        "id": "_WHzr-ARJIaO",
        "outputId": "849a93e8-34b3-4348-86b5-fdea57e9a0a1"
      },
      "outputs": [
        {
          "output_type": "stream",
          "name": "stdout",
          "text": [
            "Downloading myanimelist-dataset-animes-profiles-reviews.zip to /content\n",
            " 93% 201M/217M [00:01<00:00, 217MB/s]\n",
            "100% 217M/217M [00:01<00:00, 160MB/s]\n"
          ]
        }
      ],
      "source": [
        "! KAGGLE_CONFIG_DIR=/content/gdrive/MyDrive kaggle datasets download -d marlesson/myanimelist-dataset-animes-profiles-reviews"
      ]
    },
    {
      "cell_type": "markdown",
      "metadata": {
        "id": "r7WCoA-HMQ1U"
      },
      "source": [
        "**Ekstrak Dataset Anime**"
      ]
    },
    {
      "cell_type": "code",
      "execution_count": 10,
      "metadata": {
        "id": "5FDsMTjOw2tQ"
      },
      "outputs": [],
      "source": [
        "file = '/content/anime-recommendation-database-2020.zip'\n",
        "zip_ref = zipfile.ZipFile(file, 'r')\n",
        "zip_ref.extractall('/dataset_baru/')\n",
        "zip_ref.close()"
      ]
    },
    {
      "cell_type": "markdown",
      "metadata": {
        "id": "ab3U-2UwMY20"
      },
      "source": [
        "**Extrak dataset Rating**"
      ]
    },
    {
      "cell_type": "code",
      "execution_count": 11,
      "metadata": {
        "id": "1M91BU3cMYIc"
      },
      "outputs": [],
      "source": [
        "file = '/content/myanimelist-dataset-animes-profiles-reviews.zip'\n",
        "zip_ref = zipfile.ZipFile(file, 'r')\n",
        "zip_ref.extractall('/dataset_baru/')\n",
        "zip_ref.close()"
      ]
    },
    {
      "cell_type": "markdown",
      "metadata": {
        "id": "qx79L28Mbymr"
      },
      "source": [
        "\n",
        "\n",
        "# **Content-Based-Filtering**\n",
        "\n"
      ]
    },
    {
      "cell_type": "markdown",
      "metadata": {
        "id": "woY3PR9QM3TO"
      },
      "source": [
        "# **Data Understanding**"
      ]
    },
    {
      "cell_type": "markdown",
      "metadata": {
        "id": "BSRZOBBSNF_T"
      },
      "source": [
        "dataset ini bersumber dari kaggle dataset dengan 2 sumber dataset, dataset pertama akan digunakan untuk dataset anime dan dataset kedua digunakan untuk dataset rating"
      ]
    },
    {
      "cell_type": "markdown",
      "metadata": {
        "id": "ZUwrwnzpODHf"
      },
      "source": [
        "**Membuat data frame anime dan rating**\n",
        "\n",
        "dan kita tampilkan 5 data pertama anime dan rating"
      ]
    },
    {
      "cell_type": "code",
      "execution_count": 12,
      "metadata": {
        "colab": {
          "base_uri": "https://localhost:8080/",
          "height": 734
        },
        "id": "22kkCNytxRsJ",
        "outputId": "7532e4ef-2b21-4ff7-8e33-c1970382e690"
      },
      "outputs": [
        {
          "output_type": "execute_result",
          "data": {
            "text/plain": [
              "   MAL_ID                             Name Score  \\\n",
              "0       1                     Cowboy Bebop  8.78   \n",
              "1       5  Cowboy Bebop: Tengoku no Tobira  8.39   \n",
              "2       6                           Trigun  8.24   \n",
              "3       7               Witch Hunter Robin  7.27   \n",
              "4       8                   Bouken Ou Beet  6.98   \n",
              "\n",
              "                                              Genres            English name  \\\n",
              "0    Action, Adventure, Comedy, Drama, Sci-Fi, Space            Cowboy Bebop   \n",
              "1              Action, Drama, Mystery, Sci-Fi, Space  Cowboy Bebop:The Movie   \n",
              "2  Action, Sci-Fi, Adventure, Comedy, Drama, Shounen                  Trigun   \n",
              "3  Action, Mystery, Police, Supernatural, Drama, ...      Witch Hunter Robin   \n",
              "4          Adventure, Fantasy, Shounen, Supernatural  Beet the Vandel Buster   \n",
              "\n",
              "                      Japanese name   Type Episodes  \\\n",
              "0                         カウボーイビバップ     TV       26   \n",
              "1                    カウボーイビバップ 天国の扉  Movie        1   \n",
              "2                             トライガン     TV       26   \n",
              "3  Witch Hunter ROBIN (ウイッチハンターロビン)     TV       26   \n",
              "4                            冒険王ビィト     TV       52   \n",
              "\n",
              "                          Aired    Premiered  ...  Score-10   Score-9  \\\n",
              "0   Apr 3, 1998 to Apr 24, 1999  Spring 1998  ...  229170.0  182126.0   \n",
              "1                   Sep 1, 2001      Unknown  ...   30043.0   49201.0   \n",
              "2   Apr 1, 1998 to Sep 30, 1998  Spring 1998  ...   50229.0   75651.0   \n",
              "3   Jul 2, 2002 to Dec 24, 2002  Summer 2002  ...    2182.0    4806.0   \n",
              "4  Sep 30, 2004 to Sep 29, 2005    Fall 2004  ...     312.0     529.0   \n",
              "\n",
              "    Score-8  Score-7  Score-6 Score-5 Score-4  Score-3  Score-2  Score-1  \n",
              "0  131625.0  62330.0  20688.0  8904.0  3184.0   1357.0    741.0   1580.0  \n",
              "1   49505.0  22632.0   5805.0  1877.0   577.0    221.0    109.0    379.0  \n",
              "2   86142.0  49432.0  15376.0  5838.0  1965.0    664.0    316.0    533.0  \n",
              "3   10128.0  11618.0   5709.0  2920.0  1083.0    353.0    164.0    131.0  \n",
              "4    1242.0   1713.0   1068.0   634.0   265.0     83.0     50.0     27.0  \n",
              "\n",
              "[5 rows x 35 columns]"
            ],
            "text/html": [
              "\n",
              "  <div id=\"df-d81ad91e-bc86-4520-ba7b-b0735296bd49\">\n",
              "    <div class=\"colab-df-container\">\n",
              "      <div>\n",
              "<style scoped>\n",
              "    .dataframe tbody tr th:only-of-type {\n",
              "        vertical-align: middle;\n",
              "    }\n",
              "\n",
              "    .dataframe tbody tr th {\n",
              "        vertical-align: top;\n",
              "    }\n",
              "\n",
              "    .dataframe thead th {\n",
              "        text-align: right;\n",
              "    }\n",
              "</style>\n",
              "<table border=\"1\" class=\"dataframe\">\n",
              "  <thead>\n",
              "    <tr style=\"text-align: right;\">\n",
              "      <th></th>\n",
              "      <th>MAL_ID</th>\n",
              "      <th>Name</th>\n",
              "      <th>Score</th>\n",
              "      <th>Genres</th>\n",
              "      <th>English name</th>\n",
              "      <th>Japanese name</th>\n",
              "      <th>Type</th>\n",
              "      <th>Episodes</th>\n",
              "      <th>Aired</th>\n",
              "      <th>Premiered</th>\n",
              "      <th>...</th>\n",
              "      <th>Score-10</th>\n",
              "      <th>Score-9</th>\n",
              "      <th>Score-8</th>\n",
              "      <th>Score-7</th>\n",
              "      <th>Score-6</th>\n",
              "      <th>Score-5</th>\n",
              "      <th>Score-4</th>\n",
              "      <th>Score-3</th>\n",
              "      <th>Score-2</th>\n",
              "      <th>Score-1</th>\n",
              "    </tr>\n",
              "  </thead>\n",
              "  <tbody>\n",
              "    <tr>\n",
              "      <th>0</th>\n",
              "      <td>1</td>\n",
              "      <td>Cowboy Bebop</td>\n",
              "      <td>8.78</td>\n",
              "      <td>Action, Adventure, Comedy, Drama, Sci-Fi, Space</td>\n",
              "      <td>Cowboy Bebop</td>\n",
              "      <td>カウボーイビバップ</td>\n",
              "      <td>TV</td>\n",
              "      <td>26</td>\n",
              "      <td>Apr 3, 1998 to Apr 24, 1999</td>\n",
              "      <td>Spring 1998</td>\n",
              "      <td>...</td>\n",
              "      <td>229170.0</td>\n",
              "      <td>182126.0</td>\n",
              "      <td>131625.0</td>\n",
              "      <td>62330.0</td>\n",
              "      <td>20688.0</td>\n",
              "      <td>8904.0</td>\n",
              "      <td>3184.0</td>\n",
              "      <td>1357.0</td>\n",
              "      <td>741.0</td>\n",
              "      <td>1580.0</td>\n",
              "    </tr>\n",
              "    <tr>\n",
              "      <th>1</th>\n",
              "      <td>5</td>\n",
              "      <td>Cowboy Bebop: Tengoku no Tobira</td>\n",
              "      <td>8.39</td>\n",
              "      <td>Action, Drama, Mystery, Sci-Fi, Space</td>\n",
              "      <td>Cowboy Bebop:The Movie</td>\n",
              "      <td>カウボーイビバップ 天国の扉</td>\n",
              "      <td>Movie</td>\n",
              "      <td>1</td>\n",
              "      <td>Sep 1, 2001</td>\n",
              "      <td>Unknown</td>\n",
              "      <td>...</td>\n",
              "      <td>30043.0</td>\n",
              "      <td>49201.0</td>\n",
              "      <td>49505.0</td>\n",
              "      <td>22632.0</td>\n",
              "      <td>5805.0</td>\n",
              "      <td>1877.0</td>\n",
              "      <td>577.0</td>\n",
              "      <td>221.0</td>\n",
              "      <td>109.0</td>\n",
              "      <td>379.0</td>\n",
              "    </tr>\n",
              "    <tr>\n",
              "      <th>2</th>\n",
              "      <td>6</td>\n",
              "      <td>Trigun</td>\n",
              "      <td>8.24</td>\n",
              "      <td>Action, Sci-Fi, Adventure, Comedy, Drama, Shounen</td>\n",
              "      <td>Trigun</td>\n",
              "      <td>トライガン</td>\n",
              "      <td>TV</td>\n",
              "      <td>26</td>\n",
              "      <td>Apr 1, 1998 to Sep 30, 1998</td>\n",
              "      <td>Spring 1998</td>\n",
              "      <td>...</td>\n",
              "      <td>50229.0</td>\n",
              "      <td>75651.0</td>\n",
              "      <td>86142.0</td>\n",
              "      <td>49432.0</td>\n",
              "      <td>15376.0</td>\n",
              "      <td>5838.0</td>\n",
              "      <td>1965.0</td>\n",
              "      <td>664.0</td>\n",
              "      <td>316.0</td>\n",
              "      <td>533.0</td>\n",
              "    </tr>\n",
              "    <tr>\n",
              "      <th>3</th>\n",
              "      <td>7</td>\n",
              "      <td>Witch Hunter Robin</td>\n",
              "      <td>7.27</td>\n",
              "      <td>Action, Mystery, Police, Supernatural, Drama, ...</td>\n",
              "      <td>Witch Hunter Robin</td>\n",
              "      <td>Witch Hunter ROBIN (ウイッチハンターロビン)</td>\n",
              "      <td>TV</td>\n",
              "      <td>26</td>\n",
              "      <td>Jul 2, 2002 to Dec 24, 2002</td>\n",
              "      <td>Summer 2002</td>\n",
              "      <td>...</td>\n",
              "      <td>2182.0</td>\n",
              "      <td>4806.0</td>\n",
              "      <td>10128.0</td>\n",
              "      <td>11618.0</td>\n",
              "      <td>5709.0</td>\n",
              "      <td>2920.0</td>\n",
              "      <td>1083.0</td>\n",
              "      <td>353.0</td>\n",
              "      <td>164.0</td>\n",
              "      <td>131.0</td>\n",
              "    </tr>\n",
              "    <tr>\n",
              "      <th>4</th>\n",
              "      <td>8</td>\n",
              "      <td>Bouken Ou Beet</td>\n",
              "      <td>6.98</td>\n",
              "      <td>Adventure, Fantasy, Shounen, Supernatural</td>\n",
              "      <td>Beet the Vandel Buster</td>\n",
              "      <td>冒険王ビィト</td>\n",
              "      <td>TV</td>\n",
              "      <td>52</td>\n",
              "      <td>Sep 30, 2004 to Sep 29, 2005</td>\n",
              "      <td>Fall 2004</td>\n",
              "      <td>...</td>\n",
              "      <td>312.0</td>\n",
              "      <td>529.0</td>\n",
              "      <td>1242.0</td>\n",
              "      <td>1713.0</td>\n",
              "      <td>1068.0</td>\n",
              "      <td>634.0</td>\n",
              "      <td>265.0</td>\n",
              "      <td>83.0</td>\n",
              "      <td>50.0</td>\n",
              "      <td>27.0</td>\n",
              "    </tr>\n",
              "  </tbody>\n",
              "</table>\n",
              "<p>5 rows × 35 columns</p>\n",
              "</div>\n",
              "      <button class=\"colab-df-convert\" onclick=\"convertToInteractive('df-d81ad91e-bc86-4520-ba7b-b0735296bd49')\"\n",
              "              title=\"Convert this dataframe to an interactive table.\"\n",
              "              style=\"display:none;\">\n",
              "        \n",
              "  <svg xmlns=\"http://www.w3.org/2000/svg\" height=\"24px\"viewBox=\"0 0 24 24\"\n",
              "       width=\"24px\">\n",
              "    <path d=\"M0 0h24v24H0V0z\" fill=\"none\"/>\n",
              "    <path d=\"M18.56 5.44l.94 2.06.94-2.06 2.06-.94-2.06-.94-.94-2.06-.94 2.06-2.06.94zm-11 1L8.5 8.5l.94-2.06 2.06-.94-2.06-.94L8.5 2.5l-.94 2.06-2.06.94zm10 10l.94 2.06.94-2.06 2.06-.94-2.06-.94-.94-2.06-.94 2.06-2.06.94z\"/><path d=\"M17.41 7.96l-1.37-1.37c-.4-.4-.92-.59-1.43-.59-.52 0-1.04.2-1.43.59L10.3 9.45l-7.72 7.72c-.78.78-.78 2.05 0 2.83L4 21.41c.39.39.9.59 1.41.59.51 0 1.02-.2 1.41-.59l7.78-7.78 2.81-2.81c.8-.78.8-2.07 0-2.86zM5.41 20L4 18.59l7.72-7.72 1.47 1.35L5.41 20z\"/>\n",
              "  </svg>\n",
              "      </button>\n",
              "      \n",
              "  <style>\n",
              "    .colab-df-container {\n",
              "      display:flex;\n",
              "      flex-wrap:wrap;\n",
              "      gap: 12px;\n",
              "    }\n",
              "\n",
              "    .colab-df-convert {\n",
              "      background-color: #E8F0FE;\n",
              "      border: none;\n",
              "      border-radius: 50%;\n",
              "      cursor: pointer;\n",
              "      display: none;\n",
              "      fill: #1967D2;\n",
              "      height: 32px;\n",
              "      padding: 0 0 0 0;\n",
              "      width: 32px;\n",
              "    }\n",
              "\n",
              "    .colab-df-convert:hover {\n",
              "      background-color: #E2EBFA;\n",
              "      box-shadow: 0px 1px 2px rgba(60, 64, 67, 0.3), 0px 1px 3px 1px rgba(60, 64, 67, 0.15);\n",
              "      fill: #174EA6;\n",
              "    }\n",
              "\n",
              "    [theme=dark] .colab-df-convert {\n",
              "      background-color: #3B4455;\n",
              "      fill: #D2E3FC;\n",
              "    }\n",
              "\n",
              "    [theme=dark] .colab-df-convert:hover {\n",
              "      background-color: #434B5C;\n",
              "      box-shadow: 0px 1px 3px 1px rgba(0, 0, 0, 0.15);\n",
              "      filter: drop-shadow(0px 1px 2px rgba(0, 0, 0, 0.3));\n",
              "      fill: #FFFFFF;\n",
              "    }\n",
              "  </style>\n",
              "\n",
              "      <script>\n",
              "        const buttonEl =\n",
              "          document.querySelector('#df-d81ad91e-bc86-4520-ba7b-b0735296bd49 button.colab-df-convert');\n",
              "        buttonEl.style.display =\n",
              "          google.colab.kernel.accessAllowed ? 'block' : 'none';\n",
              "\n",
              "        async function convertToInteractive(key) {\n",
              "          const element = document.querySelector('#df-d81ad91e-bc86-4520-ba7b-b0735296bd49');\n",
              "          const dataTable =\n",
              "            await google.colab.kernel.invokeFunction('convertToInteractive',\n",
              "                                                     [key], {});\n",
              "          if (!dataTable) return;\n",
              "\n",
              "          const docLinkHtml = 'Like what you see? Visit the ' +\n",
              "            '<a target=\"_blank\" href=https://colab.research.google.com/notebooks/data_table.ipynb>data table notebook</a>'\n",
              "            + ' to learn more about interactive tables.';\n",
              "          element.innerHTML = '';\n",
              "          dataTable['output_type'] = 'display_data';\n",
              "          await google.colab.output.renderOutput(dataTable, element);\n",
              "          const docLink = document.createElement('div');\n",
              "          docLink.innerHTML = docLinkHtml;\n",
              "          element.appendChild(docLink);\n",
              "        }\n",
              "      </script>\n",
              "    </div>\n",
              "  </div>\n",
              "  "
            ]
          },
          "metadata": {},
          "execution_count": 12
        }
      ],
      "source": [
        "df_anime = pd.read_csv('/dataset_baru/anime.csv')\n",
        "df_anime.head()"
      ]
    },
    {
      "cell_type": "markdown",
      "metadata": {
        "id": "XnrQjwQ8OK8g"
      },
      "source": [
        "# Exploratory Data Analysis\n",
        "\n"
      ]
    },
    {
      "cell_type": "markdown",
      "metadata": {
        "id": "R6II_C-aVDdo"
      },
      "source": [
        "**Univariate Analysis**"
      ]
    },
    {
      "cell_type": "markdown",
      "metadata": {
        "id": "6-p2m3gnO3X4"
      },
      "source": [
        "**Deskripsi Variable**\n",
        "\n",
        "- Variable yang akan digunakan pada anime.csv\n",
        "  - MAL_ID = ID dari anime\n",
        "  - name = Judul Anime\n",
        "  - genre = Genre dari anime\n",
        "  - score = Rating Anime\n"
      ]
    },
    {
      "cell_type": "code",
      "execution_count": 13,
      "metadata": {
        "colab": {
          "base_uri": "https://localhost:8080/"
        },
        "id": "VNzQYZWs-gbm",
        "outputId": "0216b450-80de-4134-d5f0-612d85813be7"
      },
      "outputs": [
        {
          "output_type": "stream",
          "name": "stdout",
          "text": [
            "<class 'pandas.core.frame.DataFrame'>\n",
            "RangeIndex: 17562 entries, 0 to 17561\n",
            "Data columns (total 35 columns):\n",
            " #   Column         Non-Null Count  Dtype \n",
            "---  ------         --------------  ----- \n",
            " 0   MAL_ID         17562 non-null  int64 \n",
            " 1   Name           17562 non-null  object\n",
            " 2   Score          17562 non-null  object\n",
            " 3   Genres         17562 non-null  object\n",
            " 4   English name   17562 non-null  object\n",
            " 5   Japanese name  17562 non-null  object\n",
            " 6   Type           17562 non-null  object\n",
            " 7   Episodes       17562 non-null  object\n",
            " 8   Aired          17562 non-null  object\n",
            " 9   Premiered      17562 non-null  object\n",
            " 10  Producers      17562 non-null  object\n",
            " 11  Licensors      17562 non-null  object\n",
            " 12  Studios        17562 non-null  object\n",
            " 13  Source         17562 non-null  object\n",
            " 14  Duration       17562 non-null  object\n",
            " 15  Rating         17562 non-null  object\n",
            " 16  Ranked         17562 non-null  object\n",
            " 17  Popularity     17562 non-null  int64 \n",
            " 18  Members        17562 non-null  int64 \n",
            " 19  Favorites      17562 non-null  int64 \n",
            " 20  Watching       17562 non-null  int64 \n",
            " 21  Completed      17562 non-null  int64 \n",
            " 22  On-Hold        17562 non-null  int64 \n",
            " 23  Dropped        17562 non-null  int64 \n",
            " 24  Plan to Watch  17562 non-null  int64 \n",
            " 25  Score-10       17562 non-null  object\n",
            " 26  Score-9        17562 non-null  object\n",
            " 27  Score-8        17562 non-null  object\n",
            " 28  Score-7        17562 non-null  object\n",
            " 29  Score-6        17562 non-null  object\n",
            " 30  Score-5        17562 non-null  object\n",
            " 31  Score-4        17562 non-null  object\n",
            " 32  Score-3        17562 non-null  object\n",
            " 33  Score-2        17562 non-null  object\n",
            " 34  Score-1        17562 non-null  object\n",
            "dtypes: int64(9), object(26)\n",
            "memory usage: 4.7+ MB\n"
          ]
        }
      ],
      "source": [
        "df_anime.info()"
      ]
    },
    {
      "cell_type": "markdown",
      "metadata": {
        "id": "t8QDOAUqVMbU"
      },
      "source": [
        "Selanjutnya memilih column yang diperlukan"
      ]
    },
    {
      "cell_type": "code",
      "execution_count": 14,
      "metadata": {
        "id": "xcXDQY8PGvJ6"
      },
      "outputs": [],
      "source": [
        "df_anime = df_anime[['MAL_ID', 'Genres', 'Name', 'Rating']]"
      ]
    },
    {
      "cell_type": "markdown",
      "metadata": {
        "id": "dGoQ80VuXRBJ"
      },
      "source": [
        "Selanjutnya kita akan melihat data genre yang terdapat pada dataset anime sebagai berikut"
      ]
    },
    {
      "cell_type": "code",
      "execution_count": 15,
      "metadata": {
        "colab": {
          "base_uri": "https://localhost:8080/"
        },
        "id": "CwJRS-5e_AOH",
        "outputId": "1e480830-f36f-47b2-dc0f-0eb29b8ba8ae"
      },
      "outputs": [
        {
          "output_type": "execute_result",
          "data": {
            "text/plain": [
              "['Action',\n",
              " 'Adventure',\n",
              " 'Comedy',\n",
              " 'Drama',\n",
              " 'Sci-Fi',\n",
              " 'Space',\n",
              " 'Mystery',\n",
              " 'Shounen',\n",
              " 'Police',\n",
              " 'Supernatural',\n",
              " 'Magic',\n",
              " 'Fantasy',\n",
              " 'Sports',\n",
              " 'Josei',\n",
              " 'Romance',\n",
              " 'Slice of Life',\n",
              " 'Cars',\n",
              " 'Seinen',\n",
              " 'Horror',\n",
              " 'Psychological',\n",
              " 'Thriller',\n",
              " 'Super Power',\n",
              " 'Martial Arts',\n",
              " 'School',\n",
              " 'Ecchi',\n",
              " 'Vampire',\n",
              " 'Military',\n",
              " 'Historical',\n",
              " 'Dementia',\n",
              " 'Mecha',\n",
              " 'Demons',\n",
              " 'Samurai',\n",
              " 'Game',\n",
              " 'Shoujo',\n",
              " 'Harem',\n",
              " 'Music',\n",
              " 'Shoujo Ai',\n",
              " 'Shounen Ai',\n",
              " 'Kids',\n",
              " 'Hentai',\n",
              " 'Parody',\n",
              " 'Yuri',\n",
              " 'Yaoi',\n",
              " 'Unknown']"
            ]
          },
          "metadata": {},
          "execution_count": 15
        }
      ],
      "source": [
        "anime_genre = df_anime.copy()\n",
        "genres=[]\n",
        "for i in range(len(df_anime.Genres)):\n",
        "    for x in df_anime.Genres[i].split(', '):\n",
        "        if x not in genres:\n",
        "            genres.append(x)\n",
        "genres"
      ]
    },
    {
      "cell_type": "code",
      "execution_count": 16,
      "metadata": {
        "colab": {
          "base_uri": "https://localhost:8080/"
        },
        "id": "rFEcvc0v_Nnw",
        "outputId": "b18ada03-e7b7-4c96-d7c2-6ef848904d94"
      },
      "outputs": [
        {
          "output_type": "stream",
          "name": "stdout",
          "text": [
            "Genres amount : 44\n"
          ]
        }
      ],
      "source": [
        "print(\"Genres amount : {}\".format(len(genres)))"
      ]
    },
    {
      "cell_type": "markdown",
      "metadata": {
        "id": "BhYN1S2TXpdH"
      },
      "source": [
        "Jadi pada dataset terdapat 44 genre yang tersedia, dan kita akan membuat visualisasinya sebagai berikut"
      ]
    },
    {
      "cell_type": "markdown",
      "source": [
        "Lalu kita akan membuat genre menjadi satu kolom dalam dataset"
      ],
      "metadata": {
        "id": "Sy2_fE75Epxq"
      }
    },
    {
      "cell_type": "code",
      "source": [
        "for x in genres:\n",
        "    anime_genre[x] = 0\n",
        "\n",
        "for i in range(len(df_anime.Genres)):\n",
        "    for x in df_anime.Genres[i].split(', '):\n",
        "        anime_genre[x][i]=1\n",
        "\n",
        "anime_genre.head()"
      ],
      "metadata": {
        "id": "dOiBkO5jEx-q",
        "outputId": "59004ca4-3c3d-4a9d-cbd7-b18ad8d00c23",
        "colab": {
          "base_uri": "https://localhost:8080/",
          "height": 751
        }
      },
      "execution_count": 17,
      "outputs": [
        {
          "output_type": "stream",
          "name": "stderr",
          "text": [
            "/usr/local/lib/python3.7/dist-packages/ipykernel_launcher.py:6: SettingWithCopyWarning: \n",
            "A value is trying to be set on a copy of a slice from a DataFrame\n",
            "\n",
            "See the caveats in the documentation: https://pandas.pydata.org/pandas-docs/stable/user_guide/indexing.html#returning-a-view-versus-a-copy\n",
            "  \n"
          ]
        },
        {
          "output_type": "execute_result",
          "data": {
            "text/plain": [
              "   MAL_ID                                             Genres  \\\n",
              "0       1    Action, Adventure, Comedy, Drama, Sci-Fi, Space   \n",
              "1       5              Action, Drama, Mystery, Sci-Fi, Space   \n",
              "2       6  Action, Sci-Fi, Adventure, Comedy, Drama, Shounen   \n",
              "3       7  Action, Mystery, Police, Supernatural, Drama, ...   \n",
              "4       8          Adventure, Fantasy, Shounen, Supernatural   \n",
              "\n",
              "                              Name                          Rating  Action  \\\n",
              "0                     Cowboy Bebop  R - 17+ (violence & profanity)       1   \n",
              "1  Cowboy Bebop: Tengoku no Tobira  R - 17+ (violence & profanity)       1   \n",
              "2                           Trigun       PG-13 - Teens 13 or older       1   \n",
              "3               Witch Hunter Robin       PG-13 - Teens 13 or older       1   \n",
              "4                   Bouken Ou Beet                   PG - Children       0   \n",
              "\n",
              "   Adventure  Comedy  Drama  Sci-Fi  Space  ...  Harem  Music  Shoujo Ai  \\\n",
              "0          1       1      1       1      1  ...      0      0          0   \n",
              "1          0       0      1       1      1  ...      0      0          0   \n",
              "2          1       1      1       1      0  ...      0      0          0   \n",
              "3          0       0      1       0      0  ...      0      0          0   \n",
              "4          1       0      0       0      0  ...      0      0          0   \n",
              "\n",
              "   Shounen Ai  Kids  Hentai  Parody  Yuri  Yaoi  Unknown  \n",
              "0           0     0       0       0     0     0        0  \n",
              "1           0     0       0       0     0     0        0  \n",
              "2           0     0       0       0     0     0        0  \n",
              "3           0     0       0       0     0     0        0  \n",
              "4           0     0       0       0     0     0        0  \n",
              "\n",
              "[5 rows x 48 columns]"
            ],
            "text/html": [
              "\n",
              "  <div id=\"df-2228a5df-6fbe-401b-af28-510643e82644\">\n",
              "    <div class=\"colab-df-container\">\n",
              "      <div>\n",
              "<style scoped>\n",
              "    .dataframe tbody tr th:only-of-type {\n",
              "        vertical-align: middle;\n",
              "    }\n",
              "\n",
              "    .dataframe tbody tr th {\n",
              "        vertical-align: top;\n",
              "    }\n",
              "\n",
              "    .dataframe thead th {\n",
              "        text-align: right;\n",
              "    }\n",
              "</style>\n",
              "<table border=\"1\" class=\"dataframe\">\n",
              "  <thead>\n",
              "    <tr style=\"text-align: right;\">\n",
              "      <th></th>\n",
              "      <th>MAL_ID</th>\n",
              "      <th>Genres</th>\n",
              "      <th>Name</th>\n",
              "      <th>Rating</th>\n",
              "      <th>Action</th>\n",
              "      <th>Adventure</th>\n",
              "      <th>Comedy</th>\n",
              "      <th>Drama</th>\n",
              "      <th>Sci-Fi</th>\n",
              "      <th>Space</th>\n",
              "      <th>...</th>\n",
              "      <th>Harem</th>\n",
              "      <th>Music</th>\n",
              "      <th>Shoujo Ai</th>\n",
              "      <th>Shounen Ai</th>\n",
              "      <th>Kids</th>\n",
              "      <th>Hentai</th>\n",
              "      <th>Parody</th>\n",
              "      <th>Yuri</th>\n",
              "      <th>Yaoi</th>\n",
              "      <th>Unknown</th>\n",
              "    </tr>\n",
              "  </thead>\n",
              "  <tbody>\n",
              "    <tr>\n",
              "      <th>0</th>\n",
              "      <td>1</td>\n",
              "      <td>Action, Adventure, Comedy, Drama, Sci-Fi, Space</td>\n",
              "      <td>Cowboy Bebop</td>\n",
              "      <td>R - 17+ (violence &amp; profanity)</td>\n",
              "      <td>1</td>\n",
              "      <td>1</td>\n",
              "      <td>1</td>\n",
              "      <td>1</td>\n",
              "      <td>1</td>\n",
              "      <td>1</td>\n",
              "      <td>...</td>\n",
              "      <td>0</td>\n",
              "      <td>0</td>\n",
              "      <td>0</td>\n",
              "      <td>0</td>\n",
              "      <td>0</td>\n",
              "      <td>0</td>\n",
              "      <td>0</td>\n",
              "      <td>0</td>\n",
              "      <td>0</td>\n",
              "      <td>0</td>\n",
              "    </tr>\n",
              "    <tr>\n",
              "      <th>1</th>\n",
              "      <td>5</td>\n",
              "      <td>Action, Drama, Mystery, Sci-Fi, Space</td>\n",
              "      <td>Cowboy Bebop: Tengoku no Tobira</td>\n",
              "      <td>R - 17+ (violence &amp; profanity)</td>\n",
              "      <td>1</td>\n",
              "      <td>0</td>\n",
              "      <td>0</td>\n",
              "      <td>1</td>\n",
              "      <td>1</td>\n",
              "      <td>1</td>\n",
              "      <td>...</td>\n",
              "      <td>0</td>\n",
              "      <td>0</td>\n",
              "      <td>0</td>\n",
              "      <td>0</td>\n",
              "      <td>0</td>\n",
              "      <td>0</td>\n",
              "      <td>0</td>\n",
              "      <td>0</td>\n",
              "      <td>0</td>\n",
              "      <td>0</td>\n",
              "    </tr>\n",
              "    <tr>\n",
              "      <th>2</th>\n",
              "      <td>6</td>\n",
              "      <td>Action, Sci-Fi, Adventure, Comedy, Drama, Shounen</td>\n",
              "      <td>Trigun</td>\n",
              "      <td>PG-13 - Teens 13 or older</td>\n",
              "      <td>1</td>\n",
              "      <td>1</td>\n",
              "      <td>1</td>\n",
              "      <td>1</td>\n",
              "      <td>1</td>\n",
              "      <td>0</td>\n",
              "      <td>...</td>\n",
              "      <td>0</td>\n",
              "      <td>0</td>\n",
              "      <td>0</td>\n",
              "      <td>0</td>\n",
              "      <td>0</td>\n",
              "      <td>0</td>\n",
              "      <td>0</td>\n",
              "      <td>0</td>\n",
              "      <td>0</td>\n",
              "      <td>0</td>\n",
              "    </tr>\n",
              "    <tr>\n",
              "      <th>3</th>\n",
              "      <td>7</td>\n",
              "      <td>Action, Mystery, Police, Supernatural, Drama, ...</td>\n",
              "      <td>Witch Hunter Robin</td>\n",
              "      <td>PG-13 - Teens 13 or older</td>\n",
              "      <td>1</td>\n",
              "      <td>0</td>\n",
              "      <td>0</td>\n",
              "      <td>1</td>\n",
              "      <td>0</td>\n",
              "      <td>0</td>\n",
              "      <td>...</td>\n",
              "      <td>0</td>\n",
              "      <td>0</td>\n",
              "      <td>0</td>\n",
              "      <td>0</td>\n",
              "      <td>0</td>\n",
              "      <td>0</td>\n",
              "      <td>0</td>\n",
              "      <td>0</td>\n",
              "      <td>0</td>\n",
              "      <td>0</td>\n",
              "    </tr>\n",
              "    <tr>\n",
              "      <th>4</th>\n",
              "      <td>8</td>\n",
              "      <td>Adventure, Fantasy, Shounen, Supernatural</td>\n",
              "      <td>Bouken Ou Beet</td>\n",
              "      <td>PG - Children</td>\n",
              "      <td>0</td>\n",
              "      <td>1</td>\n",
              "      <td>0</td>\n",
              "      <td>0</td>\n",
              "      <td>0</td>\n",
              "      <td>0</td>\n",
              "      <td>...</td>\n",
              "      <td>0</td>\n",
              "      <td>0</td>\n",
              "      <td>0</td>\n",
              "      <td>0</td>\n",
              "      <td>0</td>\n",
              "      <td>0</td>\n",
              "      <td>0</td>\n",
              "      <td>0</td>\n",
              "      <td>0</td>\n",
              "      <td>0</td>\n",
              "    </tr>\n",
              "  </tbody>\n",
              "</table>\n",
              "<p>5 rows × 48 columns</p>\n",
              "</div>\n",
              "      <button class=\"colab-df-convert\" onclick=\"convertToInteractive('df-2228a5df-6fbe-401b-af28-510643e82644')\"\n",
              "              title=\"Convert this dataframe to an interactive table.\"\n",
              "              style=\"display:none;\">\n",
              "        \n",
              "  <svg xmlns=\"http://www.w3.org/2000/svg\" height=\"24px\"viewBox=\"0 0 24 24\"\n",
              "       width=\"24px\">\n",
              "    <path d=\"M0 0h24v24H0V0z\" fill=\"none\"/>\n",
              "    <path d=\"M18.56 5.44l.94 2.06.94-2.06 2.06-.94-2.06-.94-.94-2.06-.94 2.06-2.06.94zm-11 1L8.5 8.5l.94-2.06 2.06-.94-2.06-.94L8.5 2.5l-.94 2.06-2.06.94zm10 10l.94 2.06.94-2.06 2.06-.94-2.06-.94-.94-2.06-.94 2.06-2.06.94z\"/><path d=\"M17.41 7.96l-1.37-1.37c-.4-.4-.92-.59-1.43-.59-.52 0-1.04.2-1.43.59L10.3 9.45l-7.72 7.72c-.78.78-.78 2.05 0 2.83L4 21.41c.39.39.9.59 1.41.59.51 0 1.02-.2 1.41-.59l7.78-7.78 2.81-2.81c.8-.78.8-2.07 0-2.86zM5.41 20L4 18.59l7.72-7.72 1.47 1.35L5.41 20z\"/>\n",
              "  </svg>\n",
              "      </button>\n",
              "      \n",
              "  <style>\n",
              "    .colab-df-container {\n",
              "      display:flex;\n",
              "      flex-wrap:wrap;\n",
              "      gap: 12px;\n",
              "    }\n",
              "\n",
              "    .colab-df-convert {\n",
              "      background-color: #E8F0FE;\n",
              "      border: none;\n",
              "      border-radius: 50%;\n",
              "      cursor: pointer;\n",
              "      display: none;\n",
              "      fill: #1967D2;\n",
              "      height: 32px;\n",
              "      padding: 0 0 0 0;\n",
              "      width: 32px;\n",
              "    }\n",
              "\n",
              "    .colab-df-convert:hover {\n",
              "      background-color: #E2EBFA;\n",
              "      box-shadow: 0px 1px 2px rgba(60, 64, 67, 0.3), 0px 1px 3px 1px rgba(60, 64, 67, 0.15);\n",
              "      fill: #174EA6;\n",
              "    }\n",
              "\n",
              "    [theme=dark] .colab-df-convert {\n",
              "      background-color: #3B4455;\n",
              "      fill: #D2E3FC;\n",
              "    }\n",
              "\n",
              "    [theme=dark] .colab-df-convert:hover {\n",
              "      background-color: #434B5C;\n",
              "      box-shadow: 0px 1px 3px 1px rgba(0, 0, 0, 0.15);\n",
              "      filter: drop-shadow(0px 1px 2px rgba(0, 0, 0, 0.3));\n",
              "      fill: #FFFFFF;\n",
              "    }\n",
              "  </style>\n",
              "\n",
              "      <script>\n",
              "        const buttonEl =\n",
              "          document.querySelector('#df-2228a5df-6fbe-401b-af28-510643e82644 button.colab-df-convert');\n",
              "        buttonEl.style.display =\n",
              "          google.colab.kernel.accessAllowed ? 'block' : 'none';\n",
              "\n",
              "        async function convertToInteractive(key) {\n",
              "          const element = document.querySelector('#df-2228a5df-6fbe-401b-af28-510643e82644');\n",
              "          const dataTable =\n",
              "            await google.colab.kernel.invokeFunction('convertToInteractive',\n",
              "                                                     [key], {});\n",
              "          if (!dataTable) return;\n",
              "\n",
              "          const docLinkHtml = 'Like what you see? Visit the ' +\n",
              "            '<a target=\"_blank\" href=https://colab.research.google.com/notebooks/data_table.ipynb>data table notebook</a>'\n",
              "            + ' to learn more about interactive tables.';\n",
              "          element.innerHTML = '';\n",
              "          dataTable['output_type'] = 'display_data';\n",
              "          await google.colab.output.renderOutput(dataTable, element);\n",
              "          const docLink = document.createElement('div');\n",
              "          docLink.innerHTML = docLinkHtml;\n",
              "          element.appendChild(docLink);\n",
              "        }\n",
              "      </script>\n",
              "    </div>\n",
              "  </div>\n",
              "  "
            ]
          },
          "metadata": {},
          "execution_count": 17
        }
      ]
    },
    {
      "cell_type": "markdown",
      "source": [
        "Selanjutnya kita akan menampilkan data sebaran genre anime"
      ],
      "metadata": {
        "id": "bS160S1xFh-p"
      }
    },
    {
      "cell_type": "code",
      "execution_count": 18,
      "metadata": {
        "colab": {
          "base_uri": "https://localhost:8080/",
          "height": 621
        },
        "id": "1tzXQ1Dg_xpg",
        "outputId": "d7bfe273-0e99-4ffc-860c-70297037ca6a"
      },
      "outputs": [
        {
          "output_type": "display_data",
          "data": {
            "text/plain": [
              "<Figure size 1008x720 with 1 Axes>"
            ],
            "image/png": "[encoded data removed]"
          },
          "metadata": {
            "needs_background": "light"
          }
        }
      ],
      "source": [
        "data = anime_genre.iloc[:,4:].sum().reset_index()\n",
        "data.columns = ['Name','total']\n",
        "\n",
        "plt.figure(figsize=(14,10))\n",
        "sns.barplot(y='Name', x='total', data=data, palette='icefire_r')\n",
        "plt.title('Distribusi Sebaran Genre Anime')\n",
        "plt.show()"
      ]
    },
    {
      "cell_type": "markdown",
      "metadata": {
        "id": "_5lycyVqaJh5"
      },
      "source": [
        "# Data Preparation"
      ]
    },
    {
      "cell_type": "markdown",
      "metadata": {
        "id": "bwxl4OdlYTHt"
      },
      "source": [
        "**Mengecek Missing Value**"
      ]
    },
    {
      "cell_type": "code",
      "execution_count": 19,
      "metadata": {
        "colab": {
          "base_uri": "https://localhost:8080/"
        },
        "id": "6UWNjMDn_-Vc",
        "outputId": "5b40e19d-7ba3-4821-c84f-557cddf8cc3a"
      },
      "outputs": [
        {
          "output_type": "execute_result",
          "data": {
            "text/plain": [
              "MAL_ID    0\n",
              "Genres    0\n",
              "Name      0\n",
              "Rating    0\n",
              "dtype: int64"
            ]
          },
          "metadata": {},
          "execution_count": 19
        }
      ],
      "source": [
        "df_anime.isnull().sum()"
      ]
    },
    {
      "cell_type": "markdown",
      "metadata": {
        "id": "dyaHROHKYbcn"
      },
      "source": [
        "tidak ada data missing value pada datase"
      ]
    },
    {
      "cell_type": "markdown",
      "metadata": {
        "id": "d6zKnbkyY_kp"
      },
      "source": [
        "untuk dataset rating tidak terdapat missing value"
      ]
    },
    {
      "cell_type": "code",
      "execution_count": 20,
      "metadata": {
        "colab": {
          "base_uri": "https://localhost:8080/"
        },
        "id": "6EvZAND3ZsFv",
        "outputId": "deb76c09-f8db-41a5-f608-ed0a04899646"
      },
      "outputs": [
        {
          "output_type": "execute_result",
          "data": {
            "text/plain": [
              "MAL_ID    0\n",
              "Genres    0\n",
              "Name      0\n",
              "Rating    0\n",
              "dtype: int64"
            ]
          },
          "metadata": {},
          "execution_count": 20
        }
      ],
      "source": [
        "df_anime.isnull().sum()"
      ]
    },
    {
      "cell_type": "markdown",
      "metadata": {
        "id": "n0qXfMXhZM_8"
      },
      "source": [
        "**Mengecek data Duplikat**"
      ]
    },
    {
      "cell_type": "code",
      "execution_count": 21,
      "metadata": {
        "colab": {
          "base_uri": "https://localhost:8080/"
        },
        "id": "sAR3FqvC0Hgp",
        "outputId": "f39550c6-11b7-46bb-de96-e8c2b67eb056"
      },
      "outputs": [
        {
          "output_type": "execute_result",
          "data": {
            "text/plain": [
              "0"
            ]
          },
          "metadata": {},
          "execution_count": 21
        }
      ],
      "source": [
        "df_anime.duplicated().sum()"
      ]
    },
    {
      "cell_type": "markdown",
      "metadata": {
        "id": "F4qo-GIPbvVW"
      },
      "source": [
        "# Model Development"
      ]
    },
    {
      "cell_type": "markdown",
      "metadata": {
        "id": "6LnO7VhfcLVg"
      },
      "source": [
        "pertama kita akan mempersiapkan data untuk cosine similarity dengan TfidfVectorizer, lalu mendapatkan fiur penting pada data genre "
      ]
    },
    {
      "cell_type": "code",
      "execution_count": 22,
      "metadata": {
        "id": "bCmfyG49Bel1",
        "colab": {
          "base_uri": "https://localhost:8080/"
        },
        "outputId": "14772a6b-8fd1-4a88-c22f-672425e9eeb4"
      },
      "outputs": [
        {
          "output_type": "stream",
          "name": "stderr",
          "text": [
            "/usr/local/lib/python3.7/dist-packages/sklearn/utils/deprecation.py:87: FutureWarning: Function get_feature_names is deprecated; get_feature_names is deprecated in 1.0 and will be removed in 1.2. Please use get_feature_names_out instead.\n",
            "  warnings.warn(msg, category=FutureWarning)\n"
          ]
        },
        {
          "output_type": "execute_result",
          "data": {
            "text/plain": [
              "['action',\n",
              " 'adventure',\n",
              " 'ai',\n",
              " 'arts',\n",
              " 'cars',\n",
              " 'comedy',\n",
              " 'dementia',\n",
              " 'demons',\n",
              " 'drama',\n",
              " 'ecchi',\n",
              " 'fantasy',\n",
              " 'fi',\n",
              " 'game',\n",
              " 'harem',\n",
              " 'hentai',\n",
              " 'historical',\n",
              " 'horror',\n",
              " 'josei',\n",
              " 'kids',\n",
              " 'life',\n",
              " 'magic',\n",
              " 'martial',\n",
              " 'mecha',\n",
              " 'military',\n",
              " 'music',\n",
              " 'mystery',\n",
              " 'parody',\n",
              " 'police',\n",
              " 'power',\n",
              " 'psychological',\n",
              " 'romance',\n",
              " 'samurai',\n",
              " 'school',\n",
              " 'sci',\n",
              " 'seinen',\n",
              " 'shoujo',\n",
              " 'shounen',\n",
              " 'slice',\n",
              " 'space',\n",
              " 'sports',\n",
              " 'super',\n",
              " 'supernatural',\n",
              " 'thriller',\n",
              " 'unknown',\n",
              " 'vampire',\n",
              " 'yaoi',\n",
              " 'yuri']"
            ]
          },
          "metadata": {},
          "execution_count": 22
        }
      ],
      "source": [
        "tfid = TfidfVectorizer(stop_words='english')\n",
        "tfid.fit(df_anime['Genres'])\n",
        "tfid.get_feature_names()"
      ]
    },
    {
      "cell_type": "markdown",
      "metadata": {
        "id": "_mzYZ-JbdQ6F"
      },
      "source": [
        "selanjutnya kita akan melakukan fitting dan mengubah kedalam bentuk matriks"
      ]
    },
    {
      "cell_type": "code",
      "execution_count": 23,
      "metadata": {
        "colab": {
          "base_uri": "https://localhost:8080/"
        },
        "id": "6_uWvQXPCUps",
        "outputId": "8da2ded8-6428-42ca-a6c5-07e0c18cd4a9"
      },
      "outputs": [
        {
          "output_type": "execute_result",
          "data": {
            "text/plain": [
              "(17562, 47)"
            ]
          },
          "metadata": {},
          "execution_count": 23
        }
      ],
      "source": [
        "tfidf_matrix = tfid.fit_transform(df_anime['Genres']) \n",
        "tfidf_matrix.shape"
      ]
    },
    {
      "cell_type": "markdown",
      "metadata": {
        "id": "DIrLD8wjdr34"
      },
      "source": [
        "angka diatas adalah ukuran dari matriks kita, dan untuk melihat vektor tf-idf dalam bentuk matriks kita jalankan kode berikut"
      ]
    },
    {
      "cell_type": "code",
      "execution_count": 24,
      "metadata": {
        "colab": {
          "base_uri": "https://localhost:8080/"
        },
        "id": "jBaKXxjtCZnl",
        "outputId": "cfaa6b27-52ef-4c2e-c052-631b08ae6149"
      },
      "outputs": [
        {
          "output_type": "stream",
          "name": "stdout",
          "text": [
            "(17562, 17562)\n"
          ]
        },
        {
          "output_type": "execute_result",
          "data": {
            "text/plain": [
              "array([[1.        , 0.78149159, 0.74413675, ..., 0.        , 0.26144077,\n",
              "        0.21333391],\n",
              "       [0.78149159, 1.        , 0.51816708, ..., 0.18292702, 0.        ,\n",
              "        0.2048185 ],\n",
              "       [0.74413675, 0.51816708, 1.        , ..., 0.        , 0.28731405,\n",
              "        0.23444634],\n",
              "       ...,\n",
              "       [0.        , 0.18292702, 0.        , ..., 1.        , 0.        ,\n",
              "        0.        ],\n",
              "       [0.26144077, 0.        , 0.28731405, ..., 0.        , 1.        ,\n",
              "        0.        ],\n",
              "       [0.21333391, 0.2048185 , 0.23444634, ..., 0.        , 0.        ,\n",
              "        1.        ]])"
            ]
          },
          "metadata": {},
          "execution_count": 24
        }
      ],
      "source": [
        "cosine_sim = cosine_similarity(tfidf_matrix)\n",
        "print(cosine_sim.shape)\n",
        "cosine_sim"
      ]
    },
    {
      "cell_type": "markdown",
      "metadata": {
        "id": "CurC7UKdeEgC"
      },
      "source": [
        "dari matriks tf-idf diatas kita lihat bagaimana similarity dari dataset anime yang kita miliki"
      ]
    },
    {
      "cell_type": "code",
      "execution_count": 25,
      "metadata": {
        "colab": {
          "base_uri": "https://localhost:8080/",
          "height": 595
        },
        "id": "aTzCorAnCe-G",
        "outputId": "954947f0-3b5b-4145-e25e-ed694038a808"
      },
      "outputs": [
        {
          "output_type": "stream",
          "name": "stdout",
          "text": [
            "Size dataframe: (17562, 17562)\n"
          ]
        },
        {
          "output_type": "execute_result",
          "data": {
            "text/plain": [
              "Name                                Oshiri Kajiri Mushi  \\\n",
              "Name                                                      \n",
              "Hong Mao Lan Tu: Kuaile Shizi                  0.615813   \n",
              "Sukeban Shoukai Cutie Lemon                    0.000000   \n",
              "Enbo                                           0.000000   \n",
              "Spy Penguin (ONA): White Christmas             0.000000   \n",
              "Amazing Nuts!                                  0.234829   \n",
              "Alphard x Taka no Tsume                        0.000000   \n",
              "Kumo ga Haretara                               0.897206   \n",
              "Kamiusagi Rope 2                               0.182863   \n",
              "Puchimas!: Petit iDOLM@STER (OVA)              0.350037   \n",
              "Daisetsusan no Yuusha Kibaou                   0.000000   \n",
              "\n",
              "Name                                Atagoal wa Neko no Mori  \\\n",
              "Name                                                          \n",
              "Hong Mao Lan Tu: Kuaile Shizi                      1.000000   \n",
              "Sukeban Shoukai Cutie Lemon                        0.000000   \n",
              "Enbo                                               0.000000   \n",
              "Spy Penguin (ONA): White Christmas                 0.000000   \n",
              "Amazing Nuts!                                      0.000000   \n",
              "Alphard x Taka no Tsume                            0.000000   \n",
              "Kumo ga Haretara                                   0.686368   \n",
              "Kamiusagi Rope 2                                   0.000000   \n",
              "Puchimas!: Petit iDOLM@STER (OVA)                  0.000000   \n",
              "Daisetsusan no Yuusha Kibaou                       0.000000   \n",
              "\n",
              "Name                                Ichiban Kirei na Hoshi  \\\n",
              "Name                                                         \n",
              "Hong Mao Lan Tu: Kuaile Shizi                     0.686368   \n",
              "Sukeban Shoukai Cutie Lemon                       0.000000   \n",
              "Enbo                                              0.000000   \n",
              "Spy Penguin (ONA): White Christmas                0.000000   \n",
              "Amazing Nuts!                                     0.261734   \n",
              "Alphard x Taka no Tsume                           0.000000   \n",
              "Kumo ga Haretara                                  1.000000   \n",
              "Kamiusagi Rope 2                                  0.000000   \n",
              "Puchimas!: Petit iDOLM@STER (OVA)                 0.267575   \n",
              "Daisetsusan no Yuusha Kibaou                      0.000000   \n",
              "\n",
              "Name                                Hwanggeum Nalgae 1.2.3.  Eien no Aselia  \\\n",
              "Name                                                                          \n",
              "Hong Mao Lan Tu: Kuaile Shizi                      0.000000        0.000000   \n",
              "Sukeban Shoukai Cutie Lemon                        0.000000        0.000000   \n",
              "Enbo                                               0.000000        0.379397   \n",
              "Spy Penguin (ONA): White Christmas                 0.000000        0.799218   \n",
              "Amazing Nuts!                                      0.327021        0.188568   \n",
              "Alphard x Taka no Tsume                            0.000000        0.000000   \n",
              "Kumo ga Haretara                                   0.000000        0.000000   \n",
              "Kamiusagi Rope 2                                   0.000000        0.000000   \n",
              "Puchimas!: Petit iDOLM@STER (OVA)                  0.000000        0.000000   \n",
              "Daisetsusan no Yuusha Kibaou                       0.000000        0.832423   \n",
              "\n",
              "Name                                Watt Poe to Bokura no Ohanashi  \\\n",
              "Name                                                                 \n",
              "Hong Mao Lan Tu: Kuaile Shizi                             0.000000   \n",
              "Sukeban Shoukai Cutie Lemon                               0.000000   \n",
              "Enbo                                                      0.000000   \n",
              "Spy Penguin (ONA): White Christmas                        0.402881   \n",
              "Amazing Nuts!                                             0.585634   \n",
              "Alphard x Taka no Tsume                                   0.000000   \n",
              "Kumo ga Haretara                                          0.000000   \n",
              "Kamiusagi Rope 2                                          0.000000   \n",
              "Puchimas!: Petit iDOLM@STER (OVA)                         0.000000   \n",
              "Daisetsusan no Yuusha Kibaou                              0.386811   \n",
              "\n",
              "Name                                Tenchi Muyou!  \\\n",
              "Name                                                \n",
              "Hong Mao Lan Tu: Kuaile Shizi            0.000000   \n",
              "Sukeban Shoukai Cutie Lemon              0.000000   \n",
              "Enbo                                     0.000000   \n",
              "Spy Penguin (ONA): White Christmas       0.000000   \n",
              "Amazing Nuts!                            0.349611   \n",
              "Alphard x Taka no Tsume                  0.000000   \n",
              "Kumo ga Haretara                         0.000000   \n",
              "Kamiusagi Rope 2                         0.092841   \n",
              "Puchimas!: Petit iDOLM@STER (OVA)        0.055831   \n",
              "Daisetsusan no Yuusha Kibaou             0.000000   \n",
              "\n",
              "Name                                Konchuu Monogatari Minashigo Hutch  \\\n",
              "Name                                                                     \n",
              "Hong Mao Lan Tu: Kuaile Shizi                                 0.000000   \n",
              "Sukeban Shoukai Cutie Lemon                                   0.000000   \n",
              "Enbo                                                          0.405249   \n",
              "Spy Penguin (ONA): White Christmas                            0.443282   \n",
              "Amazing Nuts!                                                 0.201417   \n",
              "Alphard x Taka no Tsume                                       0.000000   \n",
              "Kumo ga Haretara                                              0.000000   \n",
              "Kamiusagi Rope 2                                              0.189495   \n",
              "Puchimas!: Petit iDOLM@STER (OVA)                             0.113955   \n",
              "Daisetsusan no Yuusha Kibaou                                  0.889144   \n",
              "\n",
              "Name                                     Osu  Shousei Shikisai Gensou  \n",
              "Name                                                                   \n",
              "Hong Mao Lan Tu: Kuaile Shizi       0.000000                 0.000000  \n",
              "Sukeban Shoukai Cutie Lemon         0.000000                 0.000000  \n",
              "Enbo                                0.000000                 0.000000  \n",
              "Spy Penguin (ONA): White Christmas  0.000000                 0.000000  \n",
              "Amazing Nuts!                       0.000000                 0.359893  \n",
              "Alphard x Taka no Tsume             0.000000                 0.000000  \n",
              "Kumo ga Haretara                    0.000000                 0.727255  \n",
              "Kamiusagi Rope 2                    0.910240                 0.000000  \n",
              "Puchimas!: Petit iDOLM@STER (OVA)   0.547384                 0.367925  \n",
              "Daisetsusan no Yuusha Kibaou        0.000000                 0.000000  "
            ],
            "text/html": [
              "\n",
              "  <div id=\"df-301ca313-d3bb-4dd5-9a2b-d29805879201\">\n",
              "    <div class=\"colab-df-container\">\n",
              "      <div>\n",
              "<style scoped>\n",
              "    .dataframe tbody tr th:only-of-type {\n",
              "        vertical-align: middle;\n",
              "    }\n",
              "\n",
              "    .dataframe tbody tr th {\n",
              "        vertical-align: top;\n",
              "    }\n",
              "\n",
              "    .dataframe thead th {\n",
              "        text-align: right;\n",
              "    }\n",
              "</style>\n",
              "<table border=\"1\" class=\"dataframe\">\n",
              "  <thead>\n",
              "    <tr style=\"text-align: right;\">\n",
              "      <th>Name</th>\n",
              "      <th>Oshiri Kajiri Mushi</th>\n",
              "      <th>Atagoal wa Neko no Mori</th>\n",
              "      <th>Ichiban Kirei na Hoshi</th>\n",
              "      <th>Hwanggeum Nalgae 1.2.3.</th>\n",
              "      <th>Eien no Aselia</th>\n",
              "      <th>Watt Poe to Bokura no Ohanashi</th>\n",
              "      <th>Tenchi Muyou!</th>\n",
              "      <th>Konchuu Monogatari Minashigo Hutch</th>\n",
              "      <th>Osu</th>\n",
              "      <th>Shousei Shikisai Gensou</th>\n",
              "    </tr>\n",
              "    <tr>\n",
              "      <th>Name</th>\n",
              "      <th></th>\n",
              "      <th></th>\n",
              "      <th></th>\n",
              "      <th></th>\n",
              "      <th></th>\n",
              "      <th></th>\n",
              "      <th></th>\n",
              "      <th></th>\n",
              "      <th></th>\n",
              "      <th></th>\n",
              "    </tr>\n",
              "  </thead>\n",
              "  <tbody>\n",
              "    <tr>\n",
              "      <th>Hong Mao Lan Tu: Kuaile Shizi</th>\n",
              "      <td>0.615813</td>\n",
              "      <td>1.000000</td>\n",
              "      <td>0.686368</td>\n",
              "      <td>0.000000</td>\n",
              "      <td>0.000000</td>\n",
              "      <td>0.000000</td>\n",
              "      <td>0.000000</td>\n",
              "      <td>0.000000</td>\n",
              "      <td>0.000000</td>\n",
              "      <td>0.000000</td>\n",
              "    </tr>\n",
              "    <tr>\n",
              "      <th>Sukeban Shoukai Cutie Lemon</th>\n",
              "      <td>0.000000</td>\n",
              "      <td>0.000000</td>\n",
              "      <td>0.000000</td>\n",
              "      <td>0.000000</td>\n",
              "      <td>0.000000</td>\n",
              "      <td>0.000000</td>\n",
              "      <td>0.000000</td>\n",
              "      <td>0.000000</td>\n",
              "      <td>0.000000</td>\n",
              "      <td>0.000000</td>\n",
              "    </tr>\n",
              "    <tr>\n",
              "      <th>Enbo</th>\n",
              "      <td>0.000000</td>\n",
              "      <td>0.000000</td>\n",
              "      <td>0.000000</td>\n",
              "      <td>0.000000</td>\n",
              "      <td>0.379397</td>\n",
              "      <td>0.000000</td>\n",
              "      <td>0.000000</td>\n",
              "      <td>0.405249</td>\n",
              "      <td>0.000000</td>\n",
              "      <td>0.000000</td>\n",
              "    </tr>\n",
              "    <tr>\n",
              "      <th>Spy Penguin (ONA): White Christmas</th>\n",
              "      <td>0.000000</td>\n",
              "      <td>0.000000</td>\n",
              "      <td>0.000000</td>\n",
              "      <td>0.000000</td>\n",
              "      <td>0.799218</td>\n",
              "      <td>0.402881</td>\n",
              "      <td>0.000000</td>\n",
              "      <td>0.443282</td>\n",
              "      <td>0.000000</td>\n",
              "      <td>0.000000</td>\n",
              "    </tr>\n",
              "    <tr>\n",
              "      <th>Amazing Nuts!</th>\n",
              "      <td>0.234829</td>\n",
              "      <td>0.000000</td>\n",
              "      <td>0.261734</td>\n",
              "      <td>0.327021</td>\n",
              "      <td>0.188568</td>\n",
              "      <td>0.585634</td>\n",
              "      <td>0.349611</td>\n",
              "      <td>0.201417</td>\n",
              "      <td>0.000000</td>\n",
              "      <td>0.359893</td>\n",
              "    </tr>\n",
              "    <tr>\n",
              "      <th>Alphard x Taka no Tsume</th>\n",
              "      <td>0.000000</td>\n",
              "      <td>0.000000</td>\n",
              "      <td>0.000000</td>\n",
              "      <td>0.000000</td>\n",
              "      <td>0.000000</td>\n",
              "      <td>0.000000</td>\n",
              "      <td>0.000000</td>\n",
              "      <td>0.000000</td>\n",
              "      <td>0.000000</td>\n",
              "      <td>0.000000</td>\n",
              "    </tr>\n",
              "    <tr>\n",
              "      <th>Kumo ga Haretara</th>\n",
              "      <td>0.897206</td>\n",
              "      <td>0.686368</td>\n",
              "      <td>1.000000</td>\n",
              "      <td>0.000000</td>\n",
              "      <td>0.000000</td>\n",
              "      <td>0.000000</td>\n",
              "      <td>0.000000</td>\n",
              "      <td>0.000000</td>\n",
              "      <td>0.000000</td>\n",
              "      <td>0.727255</td>\n",
              "    </tr>\n",
              "    <tr>\n",
              "      <th>Kamiusagi Rope 2</th>\n",
              "      <td>0.182863</td>\n",
              "      <td>0.000000</td>\n",
              "      <td>0.000000</td>\n",
              "      <td>0.000000</td>\n",
              "      <td>0.000000</td>\n",
              "      <td>0.000000</td>\n",
              "      <td>0.092841</td>\n",
              "      <td>0.189495</td>\n",
              "      <td>0.910240</td>\n",
              "      <td>0.000000</td>\n",
              "    </tr>\n",
              "    <tr>\n",
              "      <th>Puchimas!: Petit iDOLM@STER (OVA)</th>\n",
              "      <td>0.350037</td>\n",
              "      <td>0.000000</td>\n",
              "      <td>0.267575</td>\n",
              "      <td>0.000000</td>\n",
              "      <td>0.000000</td>\n",
              "      <td>0.000000</td>\n",
              "      <td>0.055831</td>\n",
              "      <td>0.113955</td>\n",
              "      <td>0.547384</td>\n",
              "      <td>0.367925</td>\n",
              "    </tr>\n",
              "    <tr>\n",
              "      <th>Daisetsusan no Yuusha Kibaou</th>\n",
              "      <td>0.000000</td>\n",
              "      <td>0.000000</td>\n",
              "      <td>0.000000</td>\n",
              "      <td>0.000000</td>\n",
              "      <td>0.832423</td>\n",
              "      <td>0.386811</td>\n",
              "      <td>0.000000</td>\n",
              "      <td>0.889144</td>\n",
              "      <td>0.000000</td>\n",
              "      <td>0.000000</td>\n",
              "    </tr>\n",
              "  </tbody>\n",
              "</table>\n",
              "</div>\n",
              "      <button class=\"colab-df-convert\" onclick=\"convertToInteractive('df-301ca313-d3bb-4dd5-9a2b-d29805879201')\"\n",
              "              title=\"Convert this dataframe to an interactive table.\"\n",
              "              style=\"display:none;\">\n",
              "        \n",
              "  <svg xmlns=\"http://www.w3.org/2000/svg\" height=\"24px\"viewBox=\"0 0 24 24\"\n",
              "       width=\"24px\">\n",
              "    <path d=\"M0 0h24v24H0V0z\" fill=\"none\"/>\n",
              "    <path d=\"M18.56 5.44l.94 2.06.94-2.06 2.06-.94-2.06-.94-.94-2.06-.94 2.06-2.06.94zm-11 1L8.5 8.5l.94-2.06 2.06-.94-2.06-.94L8.5 2.5l-.94 2.06-2.06.94zm10 10l.94 2.06.94-2.06 2.06-.94-2.06-.94-.94-2.06-.94 2.06-2.06.94z\"/><path d=\"M17.41 7.96l-1.37-1.37c-.4-.4-.92-.59-1.43-.59-.52 0-1.04.2-1.43.59L10.3 9.45l-7.72 7.72c-.78.78-.78 2.05 0 2.83L4 21.41c.39.39.9.59 1.41.59.51 0 1.02-.2 1.41-.59l7.78-7.78 2.81-2.81c.8-.78.8-2.07 0-2.86zM5.41 20L4 18.59l7.72-7.72 1.47 1.35L5.41 20z\"/>\n",
              "  </svg>\n",
              "      </button>\n",
              "      \n",
              "  <style>\n",
              "    .colab-df-container {\n",
              "      display:flex;\n",
              "      flex-wrap:wrap;\n",
              "      gap: 12px;\n",
              "    }\n",
              "\n",
              "    .colab-df-convert {\n",
              "      background-color: #E8F0FE;\n",
              "      border: none;\n",
              "      border-radius: 50%;\n",
              "      cursor: pointer;\n",
              "      display: none;\n",
              "      fill: #1967D2;\n",
              "      height: 32px;\n",
              "      padding: 0 0 0 0;\n",
              "      width: 32px;\n",
              "    }\n",
              "\n",
              "    .colab-df-convert:hover {\n",
              "      background-color: #E2EBFA;\n",
              "      box-shadow: 0px 1px 2px rgba(60, 64, 67, 0.3), 0px 1px 3px 1px rgba(60, 64, 67, 0.15);\n",
              "      fill: #174EA6;\n",
              "    }\n",
              "\n",
              "    [theme=dark] .colab-df-convert {\n",
              "      background-color: #3B4455;\n",
              "      fill: #D2E3FC;\n",
              "    }\n",
              "\n",
              "    [theme=dark] .colab-df-convert:hover {\n",
              "      background-color: #434B5C;\n",
              "      box-shadow: 0px 1px 3px 1px rgba(0, 0, 0, 0.15);\n",
              "      filter: drop-shadow(0px 1px 2px rgba(0, 0, 0, 0.3));\n",
              "      fill: #FFFFFF;\n",
              "    }\n",
              "  </style>\n",
              "\n",
              "      <script>\n",
              "        const buttonEl =\n",
              "          document.querySelector('#df-301ca313-d3bb-4dd5-9a2b-d29805879201 button.colab-df-convert');\n",
              "        buttonEl.style.display =\n",
              "          google.colab.kernel.accessAllowed ? 'block' : 'none';\n",
              "\n",
              "        async function convertToInteractive(key) {\n",
              "          const element = document.querySelector('#df-301ca313-d3bb-4dd5-9a2b-d29805879201');\n",
              "          const dataTable =\n",
              "            await google.colab.kernel.invokeFunction('convertToInteractive',\n",
              "                                                     [key], {});\n",
              "          if (!dataTable) return;\n",
              "\n",
              "          const docLinkHtml = 'Like what you see? Visit the ' +\n",
              "            '<a target=\"_blank\" href=https://colab.research.google.com/notebooks/data_table.ipynb>data table notebook</a>'\n",
              "            + ' to learn more about interactive tables.';\n",
              "          element.innerHTML = '';\n",
              "          dataTable['output_type'] = 'display_data';\n",
              "          await google.colab.output.renderOutput(dataTable, element);\n",
              "          const docLink = document.createElement('div');\n",
              "          docLink.innerHTML = docLinkHtml;\n",
              "          element.appendChild(docLink);\n",
              "        }\n",
              "      </script>\n",
              "    </div>\n",
              "  </div>\n",
              "  "
            ]
          },
          "metadata": {},
          "execution_count": 25
        }
      ],
      "source": [
        "cosine_sim_df = pd.DataFrame(cosine_sim, index=df_anime['Name'],\n",
        "                             columns=df_anime['Name'])\n",
        "print('Size dataframe:', cosine_sim_df.shape)\n",
        "cosine_sim_df.sample(10, axis=1).sample(10, axis=0)"
      ]
    },
    {
      "cell_type": "markdown",
      "metadata": {
        "id": "1Uvlp_L2e_MM"
      },
      "source": [
        "# Model"
      ]
    },
    {
      "cell_type": "markdown",
      "metadata": {
        "id": "RjtuXOB8e_KT"
      },
      "source": [
        "selanjutnya kita akan membuat fungsi untuk merekomendasikan 10 anime berdasarkan similaritynya "
      ]
    },
    {
      "cell_type": "code",
      "execution_count": 26,
      "metadata": {
        "id": "DJFZGdUXCw-G"
      },
      "outputs": [],
      "source": [
        "def AnimeRecommendations(anime_name, similarity_data=cosine_sim_df, \n",
        "                         items=df_anime[['MAL_ID','Name','Genres']], k=10):\n",
        "  \n",
        "    ''' Mengambil data menggunakan argpartition untuk partisi secara tidak langsung,\n",
        "    sepanjang sumbu yang diberikan, kemudian dataframe diubah menjadi numpy Range \n",
        "    dengan parameter sebagai berikut (start, stop, step) '''\n",
        "    index = similarity_data.loc[:, anime_name].to_numpy().argpartition(\n",
        "        range(-1, -k, -1)\n",
        "    )\n",
        "    closest = similarity_data.columns[index[-1:-(k+2):-1]]\n",
        "    closest = closest.drop(anime_name, errors='ignore')\n",
        "    return pd.DataFrame(closest).merge(items).head(k)"
      ]
    },
    {
      "cell_type": "markdown",
      "metadata": {
        "id": "V2zq5FBYfZBh"
      },
      "source": [
        "selanjutnya kita akan menyalin data tersendiri untuk conten base filtering dengan nama variabel df_anime_cbf, ini akan kita gunakan pada pengujian di evaluasi"
      ]
    },
    {
      "cell_type": "code",
      "execution_count": 27,
      "metadata": {
        "id": "5ZOX9AUzDWOs"
      },
      "outputs": [],
      "source": [
        "df_anime_cbf = df_anime.copy()"
      ]
    },
    {
      "cell_type": "markdown",
      "metadata": {
        "id": "-V4p3AA3gIW8"
      },
      "source": [
        "# **Collaborative Filtering**"
      ]
    },
    {
      "cell_type": "markdown",
      "source": [
        "# **Data Loading**"
      ],
      "metadata": {
        "id": "Qdkysz6UZp8a"
      }
    },
    {
      "cell_type": "code",
      "source": [
        "df_rating = pd.read_csv('/dataset_baru/reviews.csv')"
      ],
      "metadata": {
        "id": "Z840Ed32Zl26"
      },
      "execution_count": 28,
      "outputs": []
    },
    {
      "cell_type": "markdown",
      "metadata": {
        "id": "NFnw_fhTgMe_"
      },
      "source": [
        "pertama kita perlu menggabungkan data anime dan rating terlebih dahulu, dan menyamakan variabel yang akan kita gabungkan"
      ]
    },
    {
      "cell_type": "code",
      "execution_count": 29,
      "metadata": {
        "colab": {
          "base_uri": "https://localhost:8080/"
        },
        "id": "6r9qN72TN7ze",
        "outputId": "12489704-6195-4ce8-ea63-d5bc28404f0e"
      },
      "outputs": [
        {
          "output_type": "stream",
          "name": "stdout",
          "text": [
            "<class 'pandas.core.frame.DataFrame'>\n",
            "RangeIndex: 192112 entries, 0 to 192111\n",
            "Data columns (total 7 columns):\n",
            " #   Column     Non-Null Count   Dtype \n",
            "---  ------     --------------   ----- \n",
            " 0   uid        192112 non-null  int64 \n",
            " 1   profile    192112 non-null  object\n",
            " 2   anime_uid  192112 non-null  int64 \n",
            " 3   text       192112 non-null  object\n",
            " 4   score      192112 non-null  int64 \n",
            " 5   scores     192112 non-null  object\n",
            " 6   link       192112 non-null  object\n",
            "dtypes: int64(3), object(4)\n",
            "memory usage: 10.3+ MB\n"
          ]
        }
      ],
      "source": [
        "df_rating.info()"
      ]
    },
    {
      "cell_type": "markdown",
      "metadata": {
        "id": "GaU5lP8MVnsD"
      },
      "source": [
        "Memilih column Dataset rating yang diperlukan"
      ]
    },
    {
      "cell_type": "code",
      "execution_count": 31,
      "metadata": {
        "colab": {
          "base_uri": "https://localhost:8080/",
          "height": 206
        },
        "id": "RYJs1F0ino0o",
        "outputId": "fd337b7e-695a-4ddb-9c3a-bbb8bb7bcd9d"
      },
      "outputs": [
        {
          "output_type": "execute_result",
          "data": {
            "text/plain": [
              "   anime_id                                              genre  \\\n",
              "0         1    Action, Adventure, Comedy, Drama, Sci-Fi, Space   \n",
              "1         5              Action, Drama, Mystery, Sci-Fi, Space   \n",
              "2         6  Action, Sci-Fi, Adventure, Comedy, Drama, Shounen   \n",
              "3         7  Action, Mystery, Police, Supernatural, Drama, ...   \n",
              "4         8          Adventure, Fantasy, Shounen, Supernatural   \n",
              "\n",
              "                              name                          Rating  \n",
              "0                     Cowboy Bebop  R - 17+ (violence & profanity)  \n",
              "1  Cowboy Bebop: Tengoku no Tobira  R - 17+ (violence & profanity)  \n",
              "2                           Trigun       PG-13 - Teens 13 or older  \n",
              "3               Witch Hunter Robin       PG-13 - Teens 13 or older  \n",
              "4                   Bouken Ou Beet                   PG - Children  "
            ],
            "text/html": [
              "\n",
              "  <div id=\"df-2c9eafe9-123f-4df0-953c-f999b5b35d0b\">\n",
              "    <div class=\"colab-df-container\">\n",
              "      <div>\n",
              "<style scoped>\n",
              "    .dataframe tbody tr th:only-of-type {\n",
              "        vertical-align: middle;\n",
              "    }\n",
              "\n",
              "    .dataframe tbody tr th {\n",
              "        vertical-align: top;\n",
              "    }\n",
              "\n",
              "    .dataframe thead th {\n",
              "        text-align: right;\n",
              "    }\n",
              "</style>\n",
              "<table border=\"1\" class=\"dataframe\">\n",
              "  <thead>\n",
              "    <tr style=\"text-align: right;\">\n",
              "      <th></th>\n",
              "      <th>anime_id</th>\n",
              "      <th>genre</th>\n",
              "      <th>name</th>\n",
              "      <th>Rating</th>\n",
              "    </tr>\n",
              "  </thead>\n",
              "  <tbody>\n",
              "    <tr>\n",
              "      <th>0</th>\n",
              "      <td>1</td>\n",
              "      <td>Action, Adventure, Comedy, Drama, Sci-Fi, Space</td>\n",
              "      <td>Cowboy Bebop</td>\n",
              "      <td>R - 17+ (violence &amp; profanity)</td>\n",
              "    </tr>\n",
              "    <tr>\n",
              "      <th>1</th>\n",
              "      <td>5</td>\n",
              "      <td>Action, Drama, Mystery, Sci-Fi, Space</td>\n",
              "      <td>Cowboy Bebop: Tengoku no Tobira</td>\n",
              "      <td>R - 17+ (violence &amp; profanity)</td>\n",
              "    </tr>\n",
              "    <tr>\n",
              "      <th>2</th>\n",
              "      <td>6</td>\n",
              "      <td>Action, Sci-Fi, Adventure, Comedy, Drama, Shounen</td>\n",
              "      <td>Trigun</td>\n",
              "      <td>PG-13 - Teens 13 or older</td>\n",
              "    </tr>\n",
              "    <tr>\n",
              "      <th>3</th>\n",
              "      <td>7</td>\n",
              "      <td>Action, Mystery, Police, Supernatural, Drama, ...</td>\n",
              "      <td>Witch Hunter Robin</td>\n",
              "      <td>PG-13 - Teens 13 or older</td>\n",
              "    </tr>\n",
              "    <tr>\n",
              "      <th>4</th>\n",
              "      <td>8</td>\n",
              "      <td>Adventure, Fantasy, Shounen, Supernatural</td>\n",
              "      <td>Bouken Ou Beet</td>\n",
              "      <td>PG - Children</td>\n",
              "    </tr>\n",
              "  </tbody>\n",
              "</table>\n",
              "</div>\n",
              "      <button class=\"colab-df-convert\" onclick=\"convertToInteractive('df-2c9eafe9-123f-4df0-953c-f999b5b35d0b')\"\n",
              "              title=\"Convert this dataframe to an interactive table.\"\n",
              "              style=\"display:none;\">\n",
              "        \n",
              "  <svg xmlns=\"http://www.w3.org/2000/svg\" height=\"24px\"viewBox=\"0 0 24 24\"\n",
              "       width=\"24px\">\n",
              "    <path d=\"M0 0h24v24H0V0z\" fill=\"none\"/>\n",
              "    <path d=\"M18.56 5.44l.94 2.06.94-2.06 2.06-.94-2.06-.94-.94-2.06-.94 2.06-2.06.94zm-11 1L8.5 8.5l.94-2.06 2.06-.94-2.06-.94L8.5 2.5l-.94 2.06-2.06.94zm10 10l.94 2.06.94-2.06 2.06-.94-2.06-.94-.94-2.06-.94 2.06-2.06.94z\"/><path d=\"M17.41 7.96l-1.37-1.37c-.4-.4-.92-.59-1.43-.59-.52 0-1.04.2-1.43.59L10.3 9.45l-7.72 7.72c-.78.78-.78 2.05 0 2.83L4 21.41c.39.39.9.59 1.41.59.51 0 1.02-.2 1.41-.59l7.78-7.78 2.81-2.81c.8-.78.8-2.07 0-2.86zM5.41 20L4 18.59l7.72-7.72 1.47 1.35L5.41 20z\"/>\n",
              "  </svg>\n",
              "      </button>\n",
              "      \n",
              "  <style>\n",
              "    .colab-df-container {\n",
              "      display:flex;\n",
              "      flex-wrap:wrap;\n",
              "      gap: 12px;\n",
              "    }\n",
              "\n",
              "    .colab-df-convert {\n",
              "      background-color: #E8F0FE;\n",
              "      border: none;\n",
              "      border-radius: 50%;\n",
              "      cursor: pointer;\n",
              "      display: none;\n",
              "      fill: #1967D2;\n",
              "      height: 32px;\n",
              "      padding: 0 0 0 0;\n",
              "      width: 32px;\n",
              "    }\n",
              "\n",
              "    .colab-df-convert:hover {\n",
              "      background-color: #E2EBFA;\n",
              "      box-shadow: 0px 1px 2px rgba(60, 64, 67, 0.3), 0px 1px 3px 1px rgba(60, 64, 67, 0.15);\n",
              "      fill: #174EA6;\n",
              "    }\n",
              "\n",
              "    [theme=dark] .colab-df-convert {\n",
              "      background-color: #3B4455;\n",
              "      fill: #D2E3FC;\n",
              "    }\n",
              "\n",
              "    [theme=dark] .colab-df-convert:hover {\n",
              "      background-color: #434B5C;\n",
              "      box-shadow: 0px 1px 3px 1px rgba(0, 0, 0, 0.15);\n",
              "      filter: drop-shadow(0px 1px 2px rgba(0, 0, 0, 0.3));\n",
              "      fill: #FFFFFF;\n",
              "    }\n",
              "  </style>\n",
              "\n",
              "      <script>\n",
              "        const buttonEl =\n",
              "          document.querySelector('#df-2c9eafe9-123f-4df0-953c-f999b5b35d0b button.colab-df-convert');\n",
              "        buttonEl.style.display =\n",
              "          google.colab.kernel.accessAllowed ? 'block' : 'none';\n",
              "\n",
              "        async function convertToInteractive(key) {\n",
              "          const element = document.querySelector('#df-2c9eafe9-123f-4df0-953c-f999b5b35d0b');\n",
              "          const dataTable =\n",
              "            await google.colab.kernel.invokeFunction('convertToInteractive',\n",
              "                                                     [key], {});\n",
              "          if (!dataTable) return;\n",
              "\n",
              "          const docLinkHtml = 'Like what you see? Visit the ' +\n",
              "            '<a target=\"_blank\" href=https://colab.research.google.com/notebooks/data_table.ipynb>data table notebook</a>'\n",
              "            + ' to learn more about interactive tables.';\n",
              "          element.innerHTML = '';\n",
              "          dataTable['output_type'] = 'display_data';\n",
              "          await google.colab.output.renderOutput(dataTable, element);\n",
              "          const docLink = document.createElement('div');\n",
              "          docLink.innerHTML = docLinkHtml;\n",
              "          element.appendChild(docLink);\n",
              "        }\n",
              "      </script>\n",
              "    </div>\n",
              "  </div>\n",
              "  "
            ]
          },
          "metadata": {},
          "execution_count": 31
        }
      ],
      "source": [
        "df_anime.columns = ['anime_id', 'genre', 'name', 'Rating']\n",
        "df_anime.head()"
      ]
    },
    {
      "cell_type": "code",
      "execution_count": 32,
      "metadata": {
        "colab": {
          "base_uri": "https://localhost:8080/",
          "height": 206
        },
        "id": "dIEmU7QKgxgq",
        "outputId": "bd34e741-860b-4dfb-b5dd-67858e776341"
      },
      "outputs": [
        {
          "output_type": "execute_result",
          "data": {
            "text/plain": [
              "   user_id  anime_id  rating\n",
              "0   255938     34096       8\n",
              "1   259117     34599      10\n",
              "2   253664     28891       7\n",
              "3     8254      2904       9\n",
              "4   291149      4181      10"
            ],
            "text/html": [
              "\n",
              "  <div id=\"df-a42bf74b-df5c-4b73-8b21-700c4da7fd92\">\n",
              "    <div class=\"colab-df-container\">\n",
              "      <div>\n",
              "<style scoped>\n",
              "    .dataframe tbody tr th:only-of-type {\n",
              "        vertical-align: middle;\n",
              "    }\n",
              "\n",
              "    .dataframe tbody tr th {\n",
              "        vertical-align: top;\n",
              "    }\n",
              "\n",
              "    .dataframe thead th {\n",
              "        text-align: right;\n",
              "    }\n",
              "</style>\n",
              "<table border=\"1\" class=\"dataframe\">\n",
              "  <thead>\n",
              "    <tr style=\"text-align: right;\">\n",
              "      <th></th>\n",
              "      <th>user_id</th>\n",
              "      <th>anime_id</th>\n",
              "      <th>rating</th>\n",
              "    </tr>\n",
              "  </thead>\n",
              "  <tbody>\n",
              "    <tr>\n",
              "      <th>0</th>\n",
              "      <td>255938</td>\n",
              "      <td>34096</td>\n",
              "      <td>8</td>\n",
              "    </tr>\n",
              "    <tr>\n",
              "      <th>1</th>\n",
              "      <td>259117</td>\n",
              "      <td>34599</td>\n",
              "      <td>10</td>\n",
              "    </tr>\n",
              "    <tr>\n",
              "      <th>2</th>\n",
              "      <td>253664</td>\n",
              "      <td>28891</td>\n",
              "      <td>7</td>\n",
              "    </tr>\n",
              "    <tr>\n",
              "      <th>3</th>\n",
              "      <td>8254</td>\n",
              "      <td>2904</td>\n",
              "      <td>9</td>\n",
              "    </tr>\n",
              "    <tr>\n",
              "      <th>4</th>\n",
              "      <td>291149</td>\n",
              "      <td>4181</td>\n",
              "      <td>10</td>\n",
              "    </tr>\n",
              "  </tbody>\n",
              "</table>\n",
              "</div>\n",
              "      <button class=\"colab-df-convert\" onclick=\"convertToInteractive('df-a42bf74b-df5c-4b73-8b21-700c4da7fd92')\"\n",
              "              title=\"Convert this dataframe to an interactive table.\"\n",
              "              style=\"display:none;\">\n",
              "        \n",
              "  <svg xmlns=\"http://www.w3.org/2000/svg\" height=\"24px\"viewBox=\"0 0 24 24\"\n",
              "       width=\"24px\">\n",
              "    <path d=\"M0 0h24v24H0V0z\" fill=\"none\"/>\n",
              "    <path d=\"M18.56 5.44l.94 2.06.94-2.06 2.06-.94-2.06-.94-.94-2.06-.94 2.06-2.06.94zm-11 1L8.5 8.5l.94-2.06 2.06-.94-2.06-.94L8.5 2.5l-.94 2.06-2.06.94zm10 10l.94 2.06.94-2.06 2.06-.94-2.06-.94-.94-2.06-.94 2.06-2.06.94z\"/><path d=\"M17.41 7.96l-1.37-1.37c-.4-.4-.92-.59-1.43-.59-.52 0-1.04.2-1.43.59L10.3 9.45l-7.72 7.72c-.78.78-.78 2.05 0 2.83L4 21.41c.39.39.9.59 1.41.59.51 0 1.02-.2 1.41-.59l7.78-7.78 2.81-2.81c.8-.78.8-2.07 0-2.86zM5.41 20L4 18.59l7.72-7.72 1.47 1.35L5.41 20z\"/>\n",
              "  </svg>\n",
              "      </button>\n",
              "      \n",
              "  <style>\n",
              "    .colab-df-container {\n",
              "      display:flex;\n",
              "      flex-wrap:wrap;\n",
              "      gap: 12px;\n",
              "    }\n",
              "\n",
              "    .colab-df-convert {\n",
              "      background-color: #E8F0FE;\n",
              "      border: none;\n",
              "      border-radius: 50%;\n",
              "      cursor: pointer;\n",
              "      display: none;\n",
              "      fill: #1967D2;\n",
              "      height: 32px;\n",
              "      padding: 0 0 0 0;\n",
              "      width: 32px;\n",
              "    }\n",
              "\n",
              "    .colab-df-convert:hover {\n",
              "      background-color: #E2EBFA;\n",
              "      box-shadow: 0px 1px 2px rgba(60, 64, 67, 0.3), 0px 1px 3px 1px rgba(60, 64, 67, 0.15);\n",
              "      fill: #174EA6;\n",
              "    }\n",
              "\n",
              "    [theme=dark] .colab-df-convert {\n",
              "      background-color: #3B4455;\n",
              "      fill: #D2E3FC;\n",
              "    }\n",
              "\n",
              "    [theme=dark] .colab-df-convert:hover {\n",
              "      background-color: #434B5C;\n",
              "      box-shadow: 0px 1px 3px 1px rgba(0, 0, 0, 0.15);\n",
              "      filter: drop-shadow(0px 1px 2px rgba(0, 0, 0, 0.3));\n",
              "      fill: #FFFFFF;\n",
              "    }\n",
              "  </style>\n",
              "\n",
              "      <script>\n",
              "        const buttonEl =\n",
              "          document.querySelector('#df-a42bf74b-df5c-4b73-8b21-700c4da7fd92 button.colab-df-convert');\n",
              "        buttonEl.style.display =\n",
              "          google.colab.kernel.accessAllowed ? 'block' : 'none';\n",
              "\n",
              "        async function convertToInteractive(key) {\n",
              "          const element = document.querySelector('#df-a42bf74b-df5c-4b73-8b21-700c4da7fd92');\n",
              "          const dataTable =\n",
              "            await google.colab.kernel.invokeFunction('convertToInteractive',\n",
              "                                                     [key], {});\n",
              "          if (!dataTable) return;\n",
              "\n",
              "          const docLinkHtml = 'Like what you see? Visit the ' +\n",
              "            '<a target=\"_blank\" href=https://colab.research.google.com/notebooks/data_table.ipynb>data table notebook</a>'\n",
              "            + ' to learn more about interactive tables.';\n",
              "          element.innerHTML = '';\n",
              "          dataTable['output_type'] = 'display_data';\n",
              "          await google.colab.output.renderOutput(dataTable, element);\n",
              "          const docLink = document.createElement('div');\n",
              "          docLink.innerHTML = docLinkHtml;\n",
              "          element.appendChild(docLink);\n",
              "        }\n",
              "      </script>\n",
              "    </div>\n",
              "  </div>\n",
              "  "
            ]
          },
          "metadata": {},
          "execution_count": 32
        }
      ],
      "source": [
        "df_rating.columns = ['user_id', 'anime_id', 'rating']\n",
        "df_rating.head()"
      ]
    },
    {
      "cell_type": "code",
      "execution_count": 33,
      "metadata": {
        "colab": {
          "base_uri": "https://localhost:8080/",
          "height": 206
        },
        "id": "c-v6YdHZG0uA",
        "outputId": "14f01947-22f2-48d0-dd5a-e82c1b671a50"
      },
      "outputs": [
        {
          "output_type": "execute_result",
          "data": {
            "text/plain": [
              "   user_id  anime_id  rating  \\\n",
              "0   255938     34096       8   \n",
              "1   249891     34096       8   \n",
              "2   313501     34096       8   \n",
              "3   317041     34096       8   \n",
              "4   245369     34096       7   \n",
              "\n",
              "                                               genre      name  \n",
              "0  Action, Comedy, Historical, Parody, Samurai, S...  Gintama.  \n",
              "1  Action, Comedy, Historical, Parody, Samurai, S...  Gintama.  \n",
              "2  Action, Comedy, Historical, Parody, Samurai, S...  Gintama.  \n",
              "3  Action, Comedy, Historical, Parody, Samurai, S...  Gintama.  \n",
              "4  Action, Comedy, Historical, Parody, Samurai, S...  Gintama.  "
            ],
            "text/html": [
              "\n",
              "  <div id=\"df-fcfa420d-4c4f-4162-9bde-7bf5787e03c0\">\n",
              "    <div class=\"colab-df-container\">\n",
              "      <div>\n",
              "<style scoped>\n",
              "    .dataframe tbody tr th:only-of-type {\n",
              "        vertical-align: middle;\n",
              "    }\n",
              "\n",
              "    .dataframe tbody tr th {\n",
              "        vertical-align: top;\n",
              "    }\n",
              "\n",
              "    .dataframe thead th {\n",
              "        text-align: right;\n",
              "    }\n",
              "</style>\n",
              "<table border=\"1\" class=\"dataframe\">\n",
              "  <thead>\n",
              "    <tr style=\"text-align: right;\">\n",
              "      <th></th>\n",
              "      <th>user_id</th>\n",
              "      <th>anime_id</th>\n",
              "      <th>rating</th>\n",
              "      <th>genre</th>\n",
              "      <th>name</th>\n",
              "    </tr>\n",
              "  </thead>\n",
              "  <tbody>\n",
              "    <tr>\n",
              "      <th>0</th>\n",
              "      <td>255938</td>\n",
              "      <td>34096</td>\n",
              "      <td>8</td>\n",
              "      <td>Action, Comedy, Historical, Parody, Samurai, S...</td>\n",
              "      <td>Gintama.</td>\n",
              "    </tr>\n",
              "    <tr>\n",
              "      <th>1</th>\n",
              "      <td>249891</td>\n",
              "      <td>34096</td>\n",
              "      <td>8</td>\n",
              "      <td>Action, Comedy, Historical, Parody, Samurai, S...</td>\n",
              "      <td>Gintama.</td>\n",
              "    </tr>\n",
              "    <tr>\n",
              "      <th>2</th>\n",
              "      <td>313501</td>\n",
              "      <td>34096</td>\n",
              "      <td>8</td>\n",
              "      <td>Action, Comedy, Historical, Parody, Samurai, S...</td>\n",
              "      <td>Gintama.</td>\n",
              "    </tr>\n",
              "    <tr>\n",
              "      <th>3</th>\n",
              "      <td>317041</td>\n",
              "      <td>34096</td>\n",
              "      <td>8</td>\n",
              "      <td>Action, Comedy, Historical, Parody, Samurai, S...</td>\n",
              "      <td>Gintama.</td>\n",
              "    </tr>\n",
              "    <tr>\n",
              "      <th>4</th>\n",
              "      <td>245369</td>\n",
              "      <td>34096</td>\n",
              "      <td>7</td>\n",
              "      <td>Action, Comedy, Historical, Parody, Samurai, S...</td>\n",
              "      <td>Gintama.</td>\n",
              "    </tr>\n",
              "  </tbody>\n",
              "</table>\n",
              "</div>\n",
              "      <button class=\"colab-df-convert\" onclick=\"convertToInteractive('df-fcfa420d-4c4f-4162-9bde-7bf5787e03c0')\"\n",
              "              title=\"Convert this dataframe to an interactive table.\"\n",
              "              style=\"display:none;\">\n",
              "        \n",
              "  <svg xmlns=\"http://www.w3.org/2000/svg\" height=\"24px\"viewBox=\"0 0 24 24\"\n",
              "       width=\"24px\">\n",
              "    <path d=\"M0 0h24v24H0V0z\" fill=\"none\"/>\n",
              "    <path d=\"M18.56 5.44l.94 2.06.94-2.06 2.06-.94-2.06-.94-.94-2.06-.94 2.06-2.06.94zm-11 1L8.5 8.5l.94-2.06 2.06-.94-2.06-.94L8.5 2.5l-.94 2.06-2.06.94zm10 10l.94 2.06.94-2.06 2.06-.94-2.06-.94-.94-2.06-.94 2.06-2.06.94z\"/><path d=\"M17.41 7.96l-1.37-1.37c-.4-.4-.92-.59-1.43-.59-.52 0-1.04.2-1.43.59L10.3 9.45l-7.72 7.72c-.78.78-.78 2.05 0 2.83L4 21.41c.39.39.9.59 1.41.59.51 0 1.02-.2 1.41-.59l7.78-7.78 2.81-2.81c.8-.78.8-2.07 0-2.86zM5.41 20L4 18.59l7.72-7.72 1.47 1.35L5.41 20z\"/>\n",
              "  </svg>\n",
              "      </button>\n",
              "      \n",
              "  <style>\n",
              "    .colab-df-container {\n",
              "      display:flex;\n",
              "      flex-wrap:wrap;\n",
              "      gap: 12px;\n",
              "    }\n",
              "\n",
              "    .colab-df-convert {\n",
              "      background-color: #E8F0FE;\n",
              "      border: none;\n",
              "      border-radius: 50%;\n",
              "      cursor: pointer;\n",
              "      display: none;\n",
              "      fill: #1967D2;\n",
              "      height: 32px;\n",
              "      padding: 0 0 0 0;\n",
              "      width: 32px;\n",
              "    }\n",
              "\n",
              "    .colab-df-convert:hover {\n",
              "      background-color: #E2EBFA;\n",
              "      box-shadow: 0px 1px 2px rgba(60, 64, 67, 0.3), 0px 1px 3px 1px rgba(60, 64, 67, 0.15);\n",
              "      fill: #174EA6;\n",
              "    }\n",
              "\n",
              "    [theme=dark] .colab-df-convert {\n",
              "      background-color: #3B4455;\n",
              "      fill: #D2E3FC;\n",
              "    }\n",
              "\n",
              "    [theme=dark] .colab-df-convert:hover {\n",
              "      background-color: #434B5C;\n",
              "      box-shadow: 0px 1px 3px 1px rgba(0, 0, 0, 0.15);\n",
              "      filter: drop-shadow(0px 1px 2px rgba(0, 0, 0, 0.3));\n",
              "      fill: #FFFFFF;\n",
              "    }\n",
              "  </style>\n",
              "\n",
              "      <script>\n",
              "        const buttonEl =\n",
              "          document.querySelector('#df-fcfa420d-4c4f-4162-9bde-7bf5787e03c0 button.colab-df-convert');\n",
              "        buttonEl.style.display =\n",
              "          google.colab.kernel.accessAllowed ? 'block' : 'none';\n",
              "\n",
              "        async function convertToInteractive(key) {\n",
              "          const element = document.querySelector('#df-fcfa420d-4c4f-4162-9bde-7bf5787e03c0');\n",
              "          const dataTable =\n",
              "            await google.colab.kernel.invokeFunction('convertToInteractive',\n",
              "                                                     [key], {});\n",
              "          if (!dataTable) return;\n",
              "\n",
              "          const docLinkHtml = 'Like what you see? Visit the ' +\n",
              "            '<a target=\"_blank\" href=https://colab.research.google.com/notebooks/data_table.ipynb>data table notebook</a>'\n",
              "            + ' to learn more about interactive tables.';\n",
              "          element.innerHTML = '';\n",
              "          dataTable['output_type'] = 'display_data';\n",
              "          await google.colab.output.renderOutput(dataTable, element);\n",
              "          const docLink = document.createElement('div');\n",
              "          docLink.innerHTML = docLinkHtml;\n",
              "          element.appendChild(docLink);\n",
              "        }\n",
              "      </script>\n",
              "    </div>\n",
              "  </div>\n",
              "  "
            ]
          },
          "metadata": {},
          "execution_count": 33
        }
      ],
      "source": [
        "rating_anime = pd.merge(df_rating, df_anime, on='anime_id', how='inner')\n",
        "rating_anime.drop(['Rating'],axis=1, inplace=True)\n",
        "rating_anime.head()"
      ]
    },
    {
      "cell_type": "markdown",
      "source": [
        "# **Data Understanding**"
      ],
      "metadata": {
        "id": "xl6MnChqZwWJ"
      }
    },
    {
      "cell_type": "markdown",
      "source": [
        "\n",
        "- Variable pada file users_cleaned.csv\n",
        "  - uid = id dari user \n",
        "  - anime_uid\n",
        "  - score = rating yang diberikan user"
      ],
      "metadata": {
        "id": "90-b3fLNat1T"
      }
    },
    {
      "cell_type": "markdown",
      "metadata": {
        "id": "9l4Tv2UthU-a"
      },
      "source": [
        "**Visualisasi sebaran 10 anime dengan rating tertinggi**"
      ]
    },
    {
      "cell_type": "code",
      "execution_count": 34,
      "metadata": {
        "colab": {
          "base_uri": "https://localhost:8080/",
          "height": 206
        },
        "id": "KqLmeePxNxF9",
        "outputId": "dae679ec-1a9c-4d7c-c3b6-4b9cce7deef2"
      },
      "outputs": [
        {
          "output_type": "execute_result",
          "data": {
            "text/plain": [
              "   user_id  anime_id  rating\n",
              "0   255938     34096       8\n",
              "1   259117     34599      10\n",
              "2   253664     28891       7\n",
              "3     8254      2904       9\n",
              "4   291149      4181      10"
            ],
            "text/html": [
              "\n",
              "  <div id=\"df-11363321-869c-4991-a175-1000b87e090f\">\n",
              "    <div class=\"colab-df-container\">\n",
              "      <div>\n",
              "<style scoped>\n",
              "    .dataframe tbody tr th:only-of-type {\n",
              "        vertical-align: middle;\n",
              "    }\n",
              "\n",
              "    .dataframe tbody tr th {\n",
              "        vertical-align: top;\n",
              "    }\n",
              "\n",
              "    .dataframe thead th {\n",
              "        text-align: right;\n",
              "    }\n",
              "</style>\n",
              "<table border=\"1\" class=\"dataframe\">\n",
              "  <thead>\n",
              "    <tr style=\"text-align: right;\">\n",
              "      <th></th>\n",
              "      <th>user_id</th>\n",
              "      <th>anime_id</th>\n",
              "      <th>rating</th>\n",
              "    </tr>\n",
              "  </thead>\n",
              "  <tbody>\n",
              "    <tr>\n",
              "      <th>0</th>\n",
              "      <td>255938</td>\n",
              "      <td>34096</td>\n",
              "      <td>8</td>\n",
              "    </tr>\n",
              "    <tr>\n",
              "      <th>1</th>\n",
              "      <td>259117</td>\n",
              "      <td>34599</td>\n",
              "      <td>10</td>\n",
              "    </tr>\n",
              "    <tr>\n",
              "      <th>2</th>\n",
              "      <td>253664</td>\n",
              "      <td>28891</td>\n",
              "      <td>7</td>\n",
              "    </tr>\n",
              "    <tr>\n",
              "      <th>3</th>\n",
              "      <td>8254</td>\n",
              "      <td>2904</td>\n",
              "      <td>9</td>\n",
              "    </tr>\n",
              "    <tr>\n",
              "      <th>4</th>\n",
              "      <td>291149</td>\n",
              "      <td>4181</td>\n",
              "      <td>10</td>\n",
              "    </tr>\n",
              "  </tbody>\n",
              "</table>\n",
              "</div>\n",
              "      <button class=\"colab-df-convert\" onclick=\"convertToInteractive('df-11363321-869c-4991-a175-1000b87e090f')\"\n",
              "              title=\"Convert this dataframe to an interactive table.\"\n",
              "              style=\"display:none;\">\n",
              "        \n",
              "  <svg xmlns=\"http://www.w3.org/2000/svg\" height=\"24px\"viewBox=\"0 0 24 24\"\n",
              "       width=\"24px\">\n",
              "    <path d=\"M0 0h24v24H0V0z\" fill=\"none\"/>\n",
              "    <path d=\"M18.56 5.44l.94 2.06.94-2.06 2.06-.94-2.06-.94-.94-2.06-.94 2.06-2.06.94zm-11 1L8.5 8.5l.94-2.06 2.06-.94-2.06-.94L8.5 2.5l-.94 2.06-2.06.94zm10 10l.94 2.06.94-2.06 2.06-.94-2.06-.94-.94-2.06-.94 2.06-2.06.94z\"/><path d=\"M17.41 7.96l-1.37-1.37c-.4-.4-.92-.59-1.43-.59-.52 0-1.04.2-1.43.59L10.3 9.45l-7.72 7.72c-.78.78-.78 2.05 0 2.83L4 21.41c.39.39.9.59 1.41.59.51 0 1.02-.2 1.41-.59l7.78-7.78 2.81-2.81c.8-.78.8-2.07 0-2.86zM5.41 20L4 18.59l7.72-7.72 1.47 1.35L5.41 20z\"/>\n",
              "  </svg>\n",
              "      </button>\n",
              "      \n",
              "  <style>\n",
              "    .colab-df-container {\n",
              "      display:flex;\n",
              "      flex-wrap:wrap;\n",
              "      gap: 12px;\n",
              "    }\n",
              "\n",
              "    .colab-df-convert {\n",
              "      background-color: #E8F0FE;\n",
              "      border: none;\n",
              "      border-radius: 50%;\n",
              "      cursor: pointer;\n",
              "      display: none;\n",
              "      fill: #1967D2;\n",
              "      height: 32px;\n",
              "      padding: 0 0 0 0;\n",
              "      width: 32px;\n",
              "    }\n",
              "\n",
              "    .colab-df-convert:hover {\n",
              "      background-color: #E2EBFA;\n",
              "      box-shadow: 0px 1px 2px rgba(60, 64, 67, 0.3), 0px 1px 3px 1px rgba(60, 64, 67, 0.15);\n",
              "      fill: #174EA6;\n",
              "    }\n",
              "\n",
              "    [theme=dark] .colab-df-convert {\n",
              "      background-color: #3B4455;\n",
              "      fill: #D2E3FC;\n",
              "    }\n",
              "\n",
              "    [theme=dark] .colab-df-convert:hover {\n",
              "      background-color: #434B5C;\n",
              "      box-shadow: 0px 1px 3px 1px rgba(0, 0, 0, 0.15);\n",
              "      filter: drop-shadow(0px 1px 2px rgba(0, 0, 0, 0.3));\n",
              "      fill: #FFFFFF;\n",
              "    }\n",
              "  </style>\n",
              "\n",
              "      <script>\n",
              "        const buttonEl =\n",
              "          document.querySelector('#df-11363321-869c-4991-a175-1000b87e090f button.colab-df-convert');\n",
              "        buttonEl.style.display =\n",
              "          google.colab.kernel.accessAllowed ? 'block' : 'none';\n",
              "\n",
              "        async function convertToInteractive(key) {\n",
              "          const element = document.querySelector('#df-11363321-869c-4991-a175-1000b87e090f');\n",
              "          const dataTable =\n",
              "            await google.colab.kernel.invokeFunction('convertToInteractive',\n",
              "                                                     [key], {});\n",
              "          if (!dataTable) return;\n",
              "\n",
              "          const docLinkHtml = 'Like what you see? Visit the ' +\n",
              "            '<a target=\"_blank\" href=https://colab.research.google.com/notebooks/data_table.ipynb>data table notebook</a>'\n",
              "            + ' to learn more about interactive tables.';\n",
              "          element.innerHTML = '';\n",
              "          dataTable['output_type'] = 'display_data';\n",
              "          await google.colab.output.renderOutput(dataTable, element);\n",
              "          const docLink = document.createElement('div');\n",
              "          docLink.innerHTML = docLinkHtml;\n",
              "          element.appendChild(docLink);\n",
              "        }\n",
              "      </script>\n",
              "    </div>\n",
              "  </div>\n",
              "  "
            ]
          },
          "metadata": {},
          "execution_count": 34
        }
      ],
      "source": [
        "df_rating.head()"
      ]
    },
    {
      "cell_type": "code",
      "execution_count": 35,
      "metadata": {
        "colab": {
          "base_uri": "https://localhost:8080/",
          "height": 206
        },
        "id": "idJqu8zYITBA",
        "outputId": "1eec1f30-44e5-43a0-8ed2-8e60f451283e"
      },
      "outputs": [
        {
          "output_type": "execute_result",
          "data": {
            "text/plain": [
              "                                        name  total_rating\n",
              "0                                        \"0\"             3\n",
              "1  \"Bungaku Shoujo\" Kyou no Oyatsu: Hatsukoi             2\n",
              "2                   \"Bungaku Shoujo\" Memoire             3\n",
              "3                     \"Bungaku Shoujo\" Movie            28\n",
              "4                 \"Calpis\" Hakkou Monogatari             2"
            ],
            "text/html": [
              "\n",
              "  <div id=\"df-5e5e6376-d7f9-4edd-a7cd-18d36f3e5548\">\n",
              "    <div class=\"colab-df-container\">\n",
              "      <div>\n",
              "<style scoped>\n",
              "    .dataframe tbody tr th:only-of-type {\n",
              "        vertical-align: middle;\n",
              "    }\n",
              "\n",
              "    .dataframe tbody tr th {\n",
              "        vertical-align: top;\n",
              "    }\n",
              "\n",
              "    .dataframe thead th {\n",
              "        text-align: right;\n",
              "    }\n",
              "</style>\n",
              "<table border=\"1\" class=\"dataframe\">\n",
              "  <thead>\n",
              "    <tr style=\"text-align: right;\">\n",
              "      <th></th>\n",
              "      <th>name</th>\n",
              "      <th>total_rating</th>\n",
              "    </tr>\n",
              "  </thead>\n",
              "  <tbody>\n",
              "    <tr>\n",
              "      <th>0</th>\n",
              "      <td>\"0\"</td>\n",
              "      <td>3</td>\n",
              "    </tr>\n",
              "    <tr>\n",
              "      <th>1</th>\n",
              "      <td>\"Bungaku Shoujo\" Kyou no Oyatsu: Hatsukoi</td>\n",
              "      <td>2</td>\n",
              "    </tr>\n",
              "    <tr>\n",
              "      <th>2</th>\n",
              "      <td>\"Bungaku Shoujo\" Memoire</td>\n",
              "      <td>3</td>\n",
              "    </tr>\n",
              "    <tr>\n",
              "      <th>3</th>\n",
              "      <td>\"Bungaku Shoujo\" Movie</td>\n",
              "      <td>28</td>\n",
              "    </tr>\n",
              "    <tr>\n",
              "      <th>4</th>\n",
              "      <td>\"Calpis\" Hakkou Monogatari</td>\n",
              "      <td>2</td>\n",
              "    </tr>\n",
              "  </tbody>\n",
              "</table>\n",
              "</div>\n",
              "      <button class=\"colab-df-convert\" onclick=\"convertToInteractive('df-5e5e6376-d7f9-4edd-a7cd-18d36f3e5548')\"\n",
              "              title=\"Convert this dataframe to an interactive table.\"\n",
              "              style=\"display:none;\">\n",
              "        \n",
              "  <svg xmlns=\"http://www.w3.org/2000/svg\" height=\"24px\"viewBox=\"0 0 24 24\"\n",
              "       width=\"24px\">\n",
              "    <path d=\"M0 0h24v24H0V0z\" fill=\"none\"/>\n",
              "    <path d=\"M18.56 5.44l.94 2.06.94-2.06 2.06-.94-2.06-.94-.94-2.06-.94 2.06-2.06.94zm-11 1L8.5 8.5l.94-2.06 2.06-.94-2.06-.94L8.5 2.5l-.94 2.06-2.06.94zm10 10l.94 2.06.94-2.06 2.06-.94-2.06-.94-.94-2.06-.94 2.06-2.06.94z\"/><path d=\"M17.41 7.96l-1.37-1.37c-.4-.4-.92-.59-1.43-.59-.52 0-1.04.2-1.43.59L10.3 9.45l-7.72 7.72c-.78.78-.78 2.05 0 2.83L4 21.41c.39.39.9.59 1.41.59.51 0 1.02-.2 1.41-.59l7.78-7.78 2.81-2.81c.8-.78.8-2.07 0-2.86zM5.41 20L4 18.59l7.72-7.72 1.47 1.35L5.41 20z\"/>\n",
              "  </svg>\n",
              "      </button>\n",
              "      \n",
              "  <style>\n",
              "    .colab-df-container {\n",
              "      display:flex;\n",
              "      flex-wrap:wrap;\n",
              "      gap: 12px;\n",
              "    }\n",
              "\n",
              "    .colab-df-convert {\n",
              "      background-color: #E8F0FE;\n",
              "      border: none;\n",
              "      border-radius: 50%;\n",
              "      cursor: pointer;\n",
              "      display: none;\n",
              "      fill: #1967D2;\n",
              "      height: 32px;\n",
              "      padding: 0 0 0 0;\n",
              "      width: 32px;\n",
              "    }\n",
              "\n",
              "    .colab-df-convert:hover {\n",
              "      background-color: #E2EBFA;\n",
              "      box-shadow: 0px 1px 2px rgba(60, 64, 67, 0.3), 0px 1px 3px 1px rgba(60, 64, 67, 0.15);\n",
              "      fill: #174EA6;\n",
              "    }\n",
              "\n",
              "    [theme=dark] .colab-df-convert {\n",
              "      background-color: #3B4455;\n",
              "      fill: #D2E3FC;\n",
              "    }\n",
              "\n",
              "    [theme=dark] .colab-df-convert:hover {\n",
              "      background-color: #434B5C;\n",
              "      box-shadow: 0px 1px 3px 1px rgba(0, 0, 0, 0.15);\n",
              "      filter: drop-shadow(0px 1px 2px rgba(0, 0, 0, 0.3));\n",
              "      fill: #FFFFFF;\n",
              "    }\n",
              "  </style>\n",
              "\n",
              "      <script>\n",
              "        const buttonEl =\n",
              "          document.querySelector('#df-5e5e6376-d7f9-4edd-a7cd-18d36f3e5548 button.colab-df-convert');\n",
              "        buttonEl.style.display =\n",
              "          google.colab.kernel.accessAllowed ? 'block' : 'none';\n",
              "\n",
              "        async function convertToInteractive(key) {\n",
              "          const element = document.querySelector('#df-5e5e6376-d7f9-4edd-a7cd-18d36f3e5548');\n",
              "          const dataTable =\n",
              "            await google.colab.kernel.invokeFunction('convertToInteractive',\n",
              "                                                     [key], {});\n",
              "          if (!dataTable) return;\n",
              "\n",
              "          const docLinkHtml = 'Like what you see? Visit the ' +\n",
              "            '<a target=\"_blank\" href=https://colab.research.google.com/notebooks/data_table.ipynb>data table notebook</a>'\n",
              "            + ' to learn more about interactive tables.';\n",
              "          element.innerHTML = '';\n",
              "          dataTable['output_type'] = 'display_data';\n",
              "          await google.colab.output.renderOutput(dataTable, element);\n",
              "          const docLink = document.createElement('div');\n",
              "          docLink.innerHTML = docLinkHtml;\n",
              "          element.appendChild(docLink);\n",
              "        }\n",
              "      </script>\n",
              "    </div>\n",
              "  </div>\n",
              "  "
            ]
          },
          "metadata": {},
          "execution_count": 35
        }
      ],
      "source": [
        "rating_anime_count = rating_anime.groupby('name')['rating'].count()\n",
        "rating_anime_count = pd.DataFrame(rating_anime_count).reset_index().rename(columns={'rating':'total_rating'})\n",
        "rating_anime_count.head()"
      ]
    },
    {
      "cell_type": "code",
      "execution_count": 36,
      "metadata": {
        "colab": {
          "base_uri": "https://localhost:8080/",
          "height": 729
        },
        "id": "ZGVPyEDIof-k",
        "outputId": "8f4fed04-4443-4350-e04e-b70fdad9590b"
      },
      "outputs": [
        {
          "output_type": "display_data",
          "data": {
            "text/plain": [
              "<Figure size 1080x720 with 1 Axes>"
            ],
            "image/png": "[encoded data removed]"
          },
          "metadata": {
            "needs_background": "light"
          }
        }
      ],
      "source": [
        "data = rating_anime_count.sort_values(by ='total_rating')\n",
        "\n",
        "plt.figure(figsize=(15,10))\n",
        "sns.barplot(data=data.iloc[-10:,:], \n",
        "            y='name', x='total_rating',\n",
        "            palette=\"Blues_d\")\n",
        "plt.title('Distribusi Sebaran Rating dari 10 Anime Tertinggi', pad=30, fontsize=30)\n",
        "plt.tight_layout()\n",
        "plt.show()"
      ]
    },
    {
      "cell_type": "markdown",
      "metadata": {
        "id": "uCiIt7RkizX9"
      },
      "source": [
        "dari data diatas bisa kita lihat anime dengan rating tertinggi dipegang oleh Sword art online"
      ]
    },
    {
      "cell_type": "markdown",
      "metadata": {
        "id": "5YlHNSQ9nxp1"
      },
      "source": [
        "# **Data preparation**"
      ]
    },
    {
      "cell_type": "markdown",
      "source": [
        "Pada data preparation ini kita akan mengambil data rating_anime yang merupakan data gabungan dan menyimpannya pada variabel merge_df."
      ],
      "metadata": {
        "id": "HUWLYevZBEBZ"
      }
    },
    {
      "cell_type": "code",
      "execution_count": 37,
      "metadata": {
        "colab": {
          "base_uri": "https://localhost:8080/",
          "height": 206
        },
        "id": "U3rNaP4DtreL",
        "outputId": "2f51c22c-4a6b-4427-e366-a9fa1946bac9"
      },
      "outputs": [
        {
          "output_type": "execute_result",
          "data": {
            "text/plain": [
              "   user_id  anime_id  rating  \\\n",
              "0   255938     34096       8   \n",
              "1   249891     34096       8   \n",
              "2   313501     34096       8   \n",
              "3   317041     34096       8   \n",
              "4   245369     34096       7   \n",
              "\n",
              "                                               genre      name  \n",
              "0  Action, Comedy, Historical, Parody, Samurai, S...  Gintama.  \n",
              "1  Action, Comedy, Historical, Parody, Samurai, S...  Gintama.  \n",
              "2  Action, Comedy, Historical, Parody, Samurai, S...  Gintama.  \n",
              "3  Action, Comedy, Historical, Parody, Samurai, S...  Gintama.  \n",
              "4  Action, Comedy, Historical, Parody, Samurai, S...  Gintama.  "
            ],
            "text/html": [
              "\n",
              "  <div id=\"df-0d73c90a-f52a-45ed-bc69-90f14703fae9\">\n",
              "    <div class=\"colab-df-container\">\n",
              "      <div>\n",
              "<style scoped>\n",
              "    .dataframe tbody tr th:only-of-type {\n",
              "        vertical-align: middle;\n",
              "    }\n",
              "\n",
              "    .dataframe tbody tr th {\n",
              "        vertical-align: top;\n",
              "    }\n",
              "\n",
              "    .dataframe thead th {\n",
              "        text-align: right;\n",
              "    }\n",
              "</style>\n",
              "<table border=\"1\" class=\"dataframe\">\n",
              "  <thead>\n",
              "    <tr style=\"text-align: right;\">\n",
              "      <th></th>\n",
              "      <th>user_id</th>\n",
              "      <th>anime_id</th>\n",
              "      <th>rating</th>\n",
              "      <th>genre</th>\n",
              "      <th>name</th>\n",
              "    </tr>\n",
              "  </thead>\n",
              "  <tbody>\n",
              "    <tr>\n",
              "      <th>0</th>\n",
              "      <td>255938</td>\n",
              "      <td>34096</td>\n",
              "      <td>8</td>\n",
              "      <td>Action, Comedy, Historical, Parody, Samurai, S...</td>\n",
              "      <td>Gintama.</td>\n",
              "    </tr>\n",
              "    <tr>\n",
              "      <th>1</th>\n",
              "      <td>249891</td>\n",
              "      <td>34096</td>\n",
              "      <td>8</td>\n",
              "      <td>Action, Comedy, Historical, Parody, Samurai, S...</td>\n",
              "      <td>Gintama.</td>\n",
              "    </tr>\n",
              "    <tr>\n",
              "      <th>2</th>\n",
              "      <td>313501</td>\n",
              "      <td>34096</td>\n",
              "      <td>8</td>\n",
              "      <td>Action, Comedy, Historical, Parody, Samurai, S...</td>\n",
              "      <td>Gintama.</td>\n",
              "    </tr>\n",
              "    <tr>\n",
              "      <th>3</th>\n",
              "      <td>317041</td>\n",
              "      <td>34096</td>\n",
              "      <td>8</td>\n",
              "      <td>Action, Comedy, Historical, Parody, Samurai, S...</td>\n",
              "      <td>Gintama.</td>\n",
              "    </tr>\n",
              "    <tr>\n",
              "      <th>4</th>\n",
              "      <td>245369</td>\n",
              "      <td>34096</td>\n",
              "      <td>7</td>\n",
              "      <td>Action, Comedy, Historical, Parody, Samurai, S...</td>\n",
              "      <td>Gintama.</td>\n",
              "    </tr>\n",
              "  </tbody>\n",
              "</table>\n",
              "</div>\n",
              "      <button class=\"colab-df-convert\" onclick=\"convertToInteractive('df-0d73c90a-f52a-45ed-bc69-90f14703fae9')\"\n",
              "              title=\"Convert this dataframe to an interactive table.\"\n",
              "              style=\"display:none;\">\n",
              "        \n",
              "  <svg xmlns=\"http://www.w3.org/2000/svg\" height=\"24px\"viewBox=\"0 0 24 24\"\n",
              "       width=\"24px\">\n",
              "    <path d=\"M0 0h24v24H0V0z\" fill=\"none\"/>\n",
              "    <path d=\"M18.56 5.44l.94 2.06.94-2.06 2.06-.94-2.06-.94-.94-2.06-.94 2.06-2.06.94zm-11 1L8.5 8.5l.94-2.06 2.06-.94-2.06-.94L8.5 2.5l-.94 2.06-2.06.94zm10 10l.94 2.06.94-2.06 2.06-.94-2.06-.94-.94-2.06-.94 2.06-2.06.94z\"/><path d=\"M17.41 7.96l-1.37-1.37c-.4-.4-.92-.59-1.43-.59-.52 0-1.04.2-1.43.59L10.3 9.45l-7.72 7.72c-.78.78-.78 2.05 0 2.83L4 21.41c.39.39.9.59 1.41.59.51 0 1.02-.2 1.41-.59l7.78-7.78 2.81-2.81c.8-.78.8-2.07 0-2.86zM5.41 20L4 18.59l7.72-7.72 1.47 1.35L5.41 20z\"/>\n",
              "  </svg>\n",
              "      </button>\n",
              "      \n",
              "  <style>\n",
              "    .colab-df-container {\n",
              "      display:flex;\n",
              "      flex-wrap:wrap;\n",
              "      gap: 12px;\n",
              "    }\n",
              "\n",
              "    .colab-df-convert {\n",
              "      background-color: #E8F0FE;\n",
              "      border: none;\n",
              "      border-radius: 50%;\n",
              "      cursor: pointer;\n",
              "      display: none;\n",
              "      fill: #1967D2;\n",
              "      height: 32px;\n",
              "      padding: 0 0 0 0;\n",
              "      width: 32px;\n",
              "    }\n",
              "\n",
              "    .colab-df-convert:hover {\n",
              "      background-color: #E2EBFA;\n",
              "      box-shadow: 0px 1px 2px rgba(60, 64, 67, 0.3), 0px 1px 3px 1px rgba(60, 64, 67, 0.15);\n",
              "      fill: #174EA6;\n",
              "    }\n",
              "\n",
              "    [theme=dark] .colab-df-convert {\n",
              "      background-color: #3B4455;\n",
              "      fill: #D2E3FC;\n",
              "    }\n",
              "\n",
              "    [theme=dark] .colab-df-convert:hover {\n",
              "      background-color: #434B5C;\n",
              "      box-shadow: 0px 1px 3px 1px rgba(0, 0, 0, 0.15);\n",
              "      filter: drop-shadow(0px 1px 2px rgba(0, 0, 0, 0.3));\n",
              "      fill: #FFFFFF;\n",
              "    }\n",
              "  </style>\n",
              "\n",
              "      <script>\n",
              "        const buttonEl =\n",
              "          document.querySelector('#df-0d73c90a-f52a-45ed-bc69-90f14703fae9 button.colab-df-convert');\n",
              "        buttonEl.style.display =\n",
              "          google.colab.kernel.accessAllowed ? 'block' : 'none';\n",
              "\n",
              "        async function convertToInteractive(key) {\n",
              "          const element = document.querySelector('#df-0d73c90a-f52a-45ed-bc69-90f14703fae9');\n",
              "          const dataTable =\n",
              "            await google.colab.kernel.invokeFunction('convertToInteractive',\n",
              "                                                     [key], {});\n",
              "          if (!dataTable) return;\n",
              "\n",
              "          const docLinkHtml = 'Like what you see? Visit the ' +\n",
              "            '<a target=\"_blank\" href=https://colab.research.google.com/notebooks/data_table.ipynb>data table notebook</a>'\n",
              "            + ' to learn more about interactive tables.';\n",
              "          element.innerHTML = '';\n",
              "          dataTable['output_type'] = 'display_data';\n",
              "          await google.colab.output.renderOutput(dataTable, element);\n",
              "          const docLink = document.createElement('div');\n",
              "          docLink.innerHTML = docLinkHtml;\n",
              "          element.appendChild(docLink);\n",
              "        }\n",
              "      </script>\n",
              "    </div>\n",
              "  </div>\n",
              "  "
            ]
          },
          "metadata": {},
          "execution_count": 37
        }
      ],
      "source": [
        "merge_df = rating_anime\n",
        "merge_df.head()"
      ]
    },
    {
      "cell_type": "markdown",
      "source": [
        "kita lakukan pengecekan null dan duplikasi"
      ],
      "metadata": {
        "id": "VnSwDietBXfJ"
      }
    },
    {
      "cell_type": "code",
      "execution_count": 38,
      "metadata": {
        "id": "V3LAq5TYZ3vn",
        "colab": {
          "base_uri": "https://localhost:8080/"
        },
        "outputId": "52eb6185-12df-4fc6-b5d8-4851e0e32040"
      },
      "outputs": [
        {
          "output_type": "execute_result",
          "data": {
            "text/plain": [
              "user_id     0\n",
              "anime_id    0\n",
              "rating      0\n",
              "genre       0\n",
              "name        0\n",
              "dtype: int64"
            ]
          },
          "metadata": {},
          "execution_count": 38
        }
      ],
      "source": [
        "merge_df.isnull().sum()"
      ]
    },
    {
      "cell_type": "code",
      "execution_count": 39,
      "metadata": {
        "id": "8SMoLb05ajQK",
        "colab": {
          "base_uri": "https://localhost:8080/"
        },
        "outputId": "b48a5747-aa35-4790-8928-1a37a5c78ff2"
      },
      "outputs": [
        {
          "output_type": "execute_result",
          "data": {
            "text/plain": [
              "61584"
            ]
          },
          "metadata": {},
          "execution_count": 39
        }
      ],
      "source": [
        "merge_df.duplicated().sum()"
      ]
    },
    {
      "cell_type": "code",
      "execution_count": 40,
      "metadata": {
        "id": "wkv2L1aPa5Gm",
        "colab": {
          "base_uri": "https://localhost:8080/"
        },
        "outputId": "93eb7d7f-f73e-44f5-d9cb-8ba857bb9c56"
      },
      "outputs": [
        {
          "output_type": "execute_result",
          "data": {
            "text/plain": [
              "0"
            ]
          },
          "metadata": {},
          "execution_count": 40
        }
      ],
      "source": [
        "df_rating.drop_duplicates(subset=['user_id','anime_id'], keep='first', inplace=True)\n",
        "df_rating.duplicated().sum()"
      ]
    },
    {
      "cell_type": "markdown",
      "metadata": {
        "id": "hPNDXzybjW9P"
      },
      "source": [
        "pada tahap selanjuntnya kita akan mengubah unique user_id dan anime_id menjadi list, lalu melakukan encoding user_id dan encoding anime_id, dan encoding angka ke user_id dan anime"
      ]
    },
    {
      "cell_type": "code",
      "execution_count": 41,
      "metadata": {
        "id": "nb5lSKSn2K_4"
      },
      "outputs": [],
      "source": [
        "user_id = merge_df['user_id'].unique().tolist()\n",
        "user_to_user_encoded = {x: i for i, x in enumerate(user_id)}\n",
        "user_encoded_to_user = {i: x for i, x in enumerate(user_id)}"
      ]
    },
    {
      "cell_type": "code",
      "execution_count": 42,
      "metadata": {
        "id": "LF4TV_z5RDC1"
      },
      "outputs": [],
      "source": [
        "anime_id = merge_df['anime_id'].unique().tolist()\n",
        "anime_to_anime_encoded = {x: i for i, x in enumerate(anime_id)}\n",
        "anime_encoded_to_anime = {i: x for i, x in enumerate(anime_id)}"
      ]
    },
    {
      "cell_type": "markdown",
      "metadata": {
        "id": "xCSiXUwVkRJt"
      },
      "source": [
        "Selanjutnya kita melakukan mapping data user id dan anime id"
      ]
    },
    {
      "cell_type": "code",
      "execution_count": 43,
      "metadata": {
        "colab": {
          "base_uri": "https://localhost:8080/",
          "height": 206
        },
        "id": "ZrgJFpZ7QS-N",
        "outputId": "73a99b25-bf5f-4eba-c2f9-4352317d0356"
      },
      "outputs": [
        {
          "output_type": "execute_result",
          "data": {
            "text/plain": [
              "   user_id  anime_id  rating  \\\n",
              "0   255938     34096       8   \n",
              "1   249891     34096       8   \n",
              "2   313501     34096       8   \n",
              "3   317041     34096       8   \n",
              "4   245369     34096       7   \n",
              "\n",
              "                                               genre      name  user  anime  \n",
              "0  Action, Comedy, Historical, Parody, Samurai, S...  Gintama.     0      0  \n",
              "1  Action, Comedy, Historical, Parody, Samurai, S...  Gintama.     1      0  \n",
              "2  Action, Comedy, Historical, Parody, Samurai, S...  Gintama.     2      0  \n",
              "3  Action, Comedy, Historical, Parody, Samurai, S...  Gintama.     3      0  \n",
              "4  Action, Comedy, Historical, Parody, Samurai, S...  Gintama.     4      0  "
            ],
            "text/html": [
              "\n",
              "  <div id=\"df-d4e855e6-324e-46e2-b59c-bc521f717fbb\">\n",
              "    <div class=\"colab-df-container\">\n",
              "      <div>\n",
              "<style scoped>\n",
              "    .dataframe tbody tr th:only-of-type {\n",
              "        vertical-align: middle;\n",
              "    }\n",
              "\n",
              "    .dataframe tbody tr th {\n",
              "        vertical-align: top;\n",
              "    }\n",
              "\n",
              "    .dataframe thead th {\n",
              "        text-align: right;\n",
              "    }\n",
              "</style>\n",
              "<table border=\"1\" class=\"dataframe\">\n",
              "  <thead>\n",
              "    <tr style=\"text-align: right;\">\n",
              "      <th></th>\n",
              "      <th>user_id</th>\n",
              "      <th>anime_id</th>\n",
              "      <th>rating</th>\n",
              "      <th>genre</th>\n",
              "      <th>name</th>\n",
              "      <th>user</th>\n",
              "      <th>anime</th>\n",
              "    </tr>\n",
              "  </thead>\n",
              "  <tbody>\n",
              "    <tr>\n",
              "      <th>0</th>\n",
              "      <td>255938</td>\n",
              "      <td>34096</td>\n",
              "      <td>8</td>\n",
              "      <td>Action, Comedy, Historical, Parody, Samurai, S...</td>\n",
              "      <td>Gintama.</td>\n",
              "      <td>0</td>\n",
              "      <td>0</td>\n",
              "    </tr>\n",
              "    <tr>\n",
              "      <th>1</th>\n",
              "      <td>249891</td>\n",
              "      <td>34096</td>\n",
              "      <td>8</td>\n",
              "      <td>Action, Comedy, Historical, Parody, Samurai, S...</td>\n",
              "      <td>Gintama.</td>\n",
              "      <td>1</td>\n",
              "      <td>0</td>\n",
              "    </tr>\n",
              "    <tr>\n",
              "      <th>2</th>\n",
              "      <td>313501</td>\n",
              "      <td>34096</td>\n",
              "      <td>8</td>\n",
              "      <td>Action, Comedy, Historical, Parody, Samurai, S...</td>\n",
              "      <td>Gintama.</td>\n",
              "      <td>2</td>\n",
              "      <td>0</td>\n",
              "    </tr>\n",
              "    <tr>\n",
              "      <th>3</th>\n",
              "      <td>317041</td>\n",
              "      <td>34096</td>\n",
              "      <td>8</td>\n",
              "      <td>Action, Comedy, Historical, Parody, Samurai, S...</td>\n",
              "      <td>Gintama.</td>\n",
              "      <td>3</td>\n",
              "      <td>0</td>\n",
              "    </tr>\n",
              "    <tr>\n",
              "      <th>4</th>\n",
              "      <td>245369</td>\n",
              "      <td>34096</td>\n",
              "      <td>7</td>\n",
              "      <td>Action, Comedy, Historical, Parody, Samurai, S...</td>\n",
              "      <td>Gintama.</td>\n",
              "      <td>4</td>\n",
              "      <td>0</td>\n",
              "    </tr>\n",
              "  </tbody>\n",
              "</table>\n",
              "</div>\n",
              "      <button class=\"colab-df-convert\" onclick=\"convertToInteractive('df-d4e855e6-324e-46e2-b59c-bc521f717fbb')\"\n",
              "              title=\"Convert this dataframe to an interactive table.\"\n",
              "              style=\"display:none;\">\n",
              "        \n",
              "  <svg xmlns=\"http://www.w3.org/2000/svg\" height=\"24px\"viewBox=\"0 0 24 24\"\n",
              "       width=\"24px\">\n",
              "    <path d=\"M0 0h24v24H0V0z\" fill=\"none\"/>\n",
              "    <path d=\"M18.56 5.44l.94 2.06.94-2.06 2.06-.94-2.06-.94-.94-2.06-.94 2.06-2.06.94zm-11 1L8.5 8.5l.94-2.06 2.06-.94-2.06-.94L8.5 2.5l-.94 2.06-2.06.94zm10 10l.94 2.06.94-2.06 2.06-.94-2.06-.94-.94-2.06-.94 2.06-2.06.94z\"/><path d=\"M17.41 7.96l-1.37-1.37c-.4-.4-.92-.59-1.43-.59-.52 0-1.04.2-1.43.59L10.3 9.45l-7.72 7.72c-.78.78-.78 2.05 0 2.83L4 21.41c.39.39.9.59 1.41.59.51 0 1.02-.2 1.41-.59l7.78-7.78 2.81-2.81c.8-.78.8-2.07 0-2.86zM5.41 20L4 18.59l7.72-7.72 1.47 1.35L5.41 20z\"/>\n",
              "  </svg>\n",
              "      </button>\n",
              "      \n",
              "  <style>\n",
              "    .colab-df-container {\n",
              "      display:flex;\n",
              "      flex-wrap:wrap;\n",
              "      gap: 12px;\n",
              "    }\n",
              "\n",
              "    .colab-df-convert {\n",
              "      background-color: #E8F0FE;\n",
              "      border: none;\n",
              "      border-radius: 50%;\n",
              "      cursor: pointer;\n",
              "      display: none;\n",
              "      fill: #1967D2;\n",
              "      height: 32px;\n",
              "      padding: 0 0 0 0;\n",
              "      width: 32px;\n",
              "    }\n",
              "\n",
              "    .colab-df-convert:hover {\n",
              "      background-color: #E2EBFA;\n",
              "      box-shadow: 0px 1px 2px rgba(60, 64, 67, 0.3), 0px 1px 3px 1px rgba(60, 64, 67, 0.15);\n",
              "      fill: #174EA6;\n",
              "    }\n",
              "\n",
              "    [theme=dark] .colab-df-convert {\n",
              "      background-color: #3B4455;\n",
              "      fill: #D2E3FC;\n",
              "    }\n",
              "\n",
              "    [theme=dark] .colab-df-convert:hover {\n",
              "      background-color: #434B5C;\n",
              "      box-shadow: 0px 1px 3px 1px rgba(0, 0, 0, 0.15);\n",
              "      filter: drop-shadow(0px 1px 2px rgba(0, 0, 0, 0.3));\n",
              "      fill: #FFFFFF;\n",
              "    }\n",
              "  </style>\n",
              "\n",
              "      <script>\n",
              "        const buttonEl =\n",
              "          document.querySelector('#df-d4e855e6-324e-46e2-b59c-bc521f717fbb button.colab-df-convert');\n",
              "        buttonEl.style.display =\n",
              "          google.colab.kernel.accessAllowed ? 'block' : 'none';\n",
              "\n",
              "        async function convertToInteractive(key) {\n",
              "          const element = document.querySelector('#df-d4e855e6-324e-46e2-b59c-bc521f717fbb');\n",
              "          const dataTable =\n",
              "            await google.colab.kernel.invokeFunction('convertToInteractive',\n",
              "                                                     [key], {});\n",
              "          if (!dataTable) return;\n",
              "\n",
              "          const docLinkHtml = 'Like what you see? Visit the ' +\n",
              "            '<a target=\"_blank\" href=https://colab.research.google.com/notebooks/data_table.ipynb>data table notebook</a>'\n",
              "            + ' to learn more about interactive tables.';\n",
              "          element.innerHTML = '';\n",
              "          dataTable['output_type'] = 'display_data';\n",
              "          await google.colab.output.renderOutput(dataTable, element);\n",
              "          const docLink = document.createElement('div');\n",
              "          docLink.innerHTML = docLinkHtml;\n",
              "          element.appendChild(docLink);\n",
              "        }\n",
              "      </script>\n",
              "    </div>\n",
              "  </div>\n",
              "  "
            ]
          },
          "metadata": {},
          "execution_count": 43
        }
      ],
      "source": [
        "merge_df['user'] = merge_df['user_id'].map(user_to_user_encoded)\n",
        "merge_df['anime'] = merge_df['anime_id'].map(anime_to_anime_encoded)\n",
        "merge_df.head()"
      ]
    },
    {
      "cell_type": "markdown",
      "metadata": {
        "id": "ZJ3zWVBKkhlw"
      },
      "source": [
        "selanjutnya kita akan mendapatkan jumlah user dan anime, lalu merubah tipe data variabel rating menjadi float, lalu melihat nilai maksimum dan nilai minimum pada rating"
      ]
    },
    {
      "cell_type": "code",
      "execution_count": 44,
      "metadata": {
        "colab": {
          "base_uri": "https://localhost:8080/"
        },
        "id": "8TvYhhhGR-A-",
        "outputId": "0cbbb00c-cfbd-47e2-fd9b-33f38d3580c8"
      },
      "outputs": [
        {
          "output_type": "stream",
          "name": "stdout",
          "text": [
            "Number of User: 130488\n",
            "Number of anime: 8107\n",
            "Min rating: 0.0\n",
            "Max rating: 11.0\n"
          ]
        }
      ],
      "source": [
        "num_users = len(user_to_user_encoded)\n",
        "num_anime = len(anime_encoded_to_anime)\n",
        "merge_df['rating'] = merge_df['rating'].values.astype(np.float32)\n",
        "min_rating = min(merge_df['rating'])\n",
        "max_rating = max(merge_df['rating'])\n",
        "\n",
        "print(f'Number of User: {num_users}')\n",
        "print(f'Number of anime: {num_anime}')\n",
        "print(f'Min rating: {min_rating}')\n",
        "print(f'Max rating: {max_rating}')"
      ]
    },
    {
      "cell_type": "markdown",
      "metadata": {
        "id": "R3t3GTi6lEuO"
      },
      "source": [
        "# **Pembagian dataset training dan test**"
      ]
    },
    {
      "cell_type": "markdown",
      "metadata": {
        "id": "JxaUXMBRk-3o"
      },
      "source": [
        "sebelum kita masuk pembagian dataset kita akan melakukan acak dataset"
      ]
    },
    {
      "cell_type": "code",
      "execution_count": 45,
      "metadata": {
        "colab": {
          "base_uri": "https://localhost:8080/",
          "height": 206
        },
        "id": "2PDvs6EaSnY0",
        "outputId": "426ff25c-fc01-4dcc-8a03-8159f3e23aba"
      },
      "outputs": [
        {
          "output_type": "execute_result",
          "data": {
            "text/plain": [
              "        user_id  anime_id  rating  \\\n",
              "151268   230218     30749     7.0   \n",
              "108398   170171     22265     9.0   \n",
              "163687   269331      1617    10.0   \n",
              "52803    226281      1033     8.0   \n",
              "117436   125311      1042     1.0   \n",
              "\n",
              "                                                    genre  \\\n",
              "151268  Action, Harem, Supernatural, Romance, Ecchi, F...   \n",
              "108398       Slice of Life, Comedy, Sports, Drama, School   \n",
              "163687              Comedy, Josei, Romance, Slice of Life   \n",
              "52803   Action, Adventure, Drama, Fantasy, Historical,...   \n",
              "117436                Drama, Music, Romance, Sports, Yaoi   \n",
              "\n",
              "                              name    user  anime  \n",
              "151268    Saijaku Muhai no Bahamut   89684   4331  \n",
              "108398       Free!: Eternal Summer   54207    938  \n",
              "163687            Massugu ni Ikou.  102103   5654  \n",
              "52803                 Sennen Joyuu   26403    502  \n",
              "117436  Bronze: Zetsuai Since 1989   58352   1286  "
            ],
            "text/html": [
              "\n",
              "  <div id=\"df-e73971ea-46f2-4175-80db-77bcd195ed46\">\n",
              "    <div class=\"colab-df-container\">\n",
              "      <div>\n",
              "<style scoped>\n",
              "    .dataframe tbody tr th:only-of-type {\n",
              "        vertical-align: middle;\n",
              "    }\n",
              "\n",
              "    .dataframe tbody tr th {\n",
              "        vertical-align: top;\n",
              "    }\n",
              "\n",
              "    .dataframe thead th {\n",
              "        text-align: right;\n",
              "    }\n",
              "</style>\n",
              "<table border=\"1\" class=\"dataframe\">\n",
              "  <thead>\n",
              "    <tr style=\"text-align: right;\">\n",
              "      <th></th>\n",
              "      <th>user_id</th>\n",
              "      <th>anime_id</th>\n",
              "      <th>rating</th>\n",
              "      <th>genre</th>\n",
              "      <th>name</th>\n",
              "      <th>user</th>\n",
              "      <th>anime</th>\n",
              "    </tr>\n",
              "  </thead>\n",
              "  <tbody>\n",
              "    <tr>\n",
              "      <th>151268</th>\n",
              "      <td>230218</td>\n",
              "      <td>30749</td>\n",
              "      <td>7.0</td>\n",
              "      <td>Action, Harem, Supernatural, Romance, Ecchi, F...</td>\n",
              "      <td>Saijaku Muhai no Bahamut</td>\n",
              "      <td>89684</td>\n",
              "      <td>4331</td>\n",
              "    </tr>\n",
              "    <tr>\n",
              "      <th>108398</th>\n",
              "      <td>170171</td>\n",
              "      <td>22265</td>\n",
              "      <td>9.0</td>\n",
              "      <td>Slice of Life, Comedy, Sports, Drama, School</td>\n",
              "      <td>Free!: Eternal Summer</td>\n",
              "      <td>54207</td>\n",
              "      <td>938</td>\n",
              "    </tr>\n",
              "    <tr>\n",
              "      <th>163687</th>\n",
              "      <td>269331</td>\n",
              "      <td>1617</td>\n",
              "      <td>10.0</td>\n",
              "      <td>Comedy, Josei, Romance, Slice of Life</td>\n",
              "      <td>Massugu ni Ikou.</td>\n",
              "      <td>102103</td>\n",
              "      <td>5654</td>\n",
              "    </tr>\n",
              "    <tr>\n",
              "      <th>52803</th>\n",
              "      <td>226281</td>\n",
              "      <td>1033</td>\n",
              "      <td>8.0</td>\n",
              "      <td>Action, Adventure, Drama, Fantasy, Historical,...</td>\n",
              "      <td>Sennen Joyuu</td>\n",
              "      <td>26403</td>\n",
              "      <td>502</td>\n",
              "    </tr>\n",
              "    <tr>\n",
              "      <th>117436</th>\n",
              "      <td>125311</td>\n",
              "      <td>1042</td>\n",
              "      <td>1.0</td>\n",
              "      <td>Drama, Music, Romance, Sports, Yaoi</td>\n",
              "      <td>Bronze: Zetsuai Since 1989</td>\n",
              "      <td>58352</td>\n",
              "      <td>1286</td>\n",
              "    </tr>\n",
              "  </tbody>\n",
              "</table>\n",
              "</div>\n",
              "      <button class=\"colab-df-convert\" onclick=\"convertToInteractive('df-e73971ea-46f2-4175-80db-77bcd195ed46')\"\n",
              "              title=\"Convert this dataframe to an interactive table.\"\n",
              "              style=\"display:none;\">\n",
              "        \n",
              "  <svg xmlns=\"http://www.w3.org/2000/svg\" height=\"24px\"viewBox=\"0 0 24 24\"\n",
              "       width=\"24px\">\n",
              "    <path d=\"M0 0h24v24H0V0z\" fill=\"none\"/>\n",
              "    <path d=\"M18.56 5.44l.94 2.06.94-2.06 2.06-.94-2.06-.94-.94-2.06-.94 2.06-2.06.94zm-11 1L8.5 8.5l.94-2.06 2.06-.94-2.06-.94L8.5 2.5l-.94 2.06-2.06.94zm10 10l.94 2.06.94-2.06 2.06-.94-2.06-.94-.94-2.06-.94 2.06-2.06.94z\"/><path d=\"M17.41 7.96l-1.37-1.37c-.4-.4-.92-.59-1.43-.59-.52 0-1.04.2-1.43.59L10.3 9.45l-7.72 7.72c-.78.78-.78 2.05 0 2.83L4 21.41c.39.39.9.59 1.41.59.51 0 1.02-.2 1.41-.59l7.78-7.78 2.81-2.81c.8-.78.8-2.07 0-2.86zM5.41 20L4 18.59l7.72-7.72 1.47 1.35L5.41 20z\"/>\n",
              "  </svg>\n",
              "      </button>\n",
              "      \n",
              "  <style>\n",
              "    .colab-df-container {\n",
              "      display:flex;\n",
              "      flex-wrap:wrap;\n",
              "      gap: 12px;\n",
              "    }\n",
              "\n",
              "    .colab-df-convert {\n",
              "      background-color: #E8F0FE;\n",
              "      border: none;\n",
              "      border-radius: 50%;\n",
              "      cursor: pointer;\n",
              "      display: none;\n",
              "      fill: #1967D2;\n",
              "      height: 32px;\n",
              "      padding: 0 0 0 0;\n",
              "      width: 32px;\n",
              "    }\n",
              "\n",
              "    .colab-df-convert:hover {\n",
              "      background-color: #E2EBFA;\n",
              "      box-shadow: 0px 1px 2px rgba(60, 64, 67, 0.3), 0px 1px 3px 1px rgba(60, 64, 67, 0.15);\n",
              "      fill: #174EA6;\n",
              "    }\n",
              "\n",
              "    [theme=dark] .colab-df-convert {\n",
              "      background-color: #3B4455;\n",
              "      fill: #D2E3FC;\n",
              "    }\n",
              "\n",
              "    [theme=dark] .colab-df-convert:hover {\n",
              "      background-color: #434B5C;\n",
              "      box-shadow: 0px 1px 3px 1px rgba(0, 0, 0, 0.15);\n",
              "      filter: drop-shadow(0px 1px 2px rgba(0, 0, 0, 0.3));\n",
              "      fill: #FFFFFF;\n",
              "    }\n",
              "  </style>\n",
              "\n",
              "      <script>\n",
              "        const buttonEl =\n",
              "          document.querySelector('#df-e73971ea-46f2-4175-80db-77bcd195ed46 button.colab-df-convert');\n",
              "        buttonEl.style.display =\n",
              "          google.colab.kernel.accessAllowed ? 'block' : 'none';\n",
              "\n",
              "        async function convertToInteractive(key) {\n",
              "          const element = document.querySelector('#df-e73971ea-46f2-4175-80db-77bcd195ed46');\n",
              "          const dataTable =\n",
              "            await google.colab.kernel.invokeFunction('convertToInteractive',\n",
              "                                                     [key], {});\n",
              "          if (!dataTable) return;\n",
              "\n",
              "          const docLinkHtml = 'Like what you see? Visit the ' +\n",
              "            '<a target=\"_blank\" href=https://colab.research.google.com/notebooks/data_table.ipynb>data table notebook</a>'\n",
              "            + ' to learn more about interactive tables.';\n",
              "          element.innerHTML = '';\n",
              "          dataTable['output_type'] = 'display_data';\n",
              "          await google.colab.output.renderOutput(dataTable, element);\n",
              "          const docLink = document.createElement('div');\n",
              "          docLink.innerHTML = docLinkHtml;\n",
              "          element.appendChild(docLink);\n",
              "        }\n",
              "      </script>\n",
              "    </div>\n",
              "  </div>\n",
              "  "
            ]
          },
          "metadata": {},
          "execution_count": 45
        }
      ],
      "source": [
        "df = merge_df.sample(frac=1, random_state=30)\n",
        "df.head()"
      ]
    },
    {
      "cell_type": "markdown",
      "metadata": {
        "id": "UVfvMNqSl7O5"
      },
      "source": [
        "Tahap selanjutnya kita akan membuat sebuat variabel x yang akan menampung data user dan anime, dan variabel y untuk menampung data rating. selanjutnya kita akan membagi dataset sebanyak 80% data train dan 20% data test"
      ]
    },
    {
      "cell_type": "code",
      "execution_count": 46,
      "metadata": {
        "id": "aQJee_IgUexE"
      },
      "outputs": [],
      "source": [
        "x = merge_df[['user', 'anime']].values\n",
        "y = merge_df['rating'].apply(lambda x: (x - min_rating) / (max_rating - min_rating)).values\n",
        "train_indices = int(0.8 * merge_df.shape[0])\n",
        "x_train, x_val, y_train, y_val = (\n",
        "    x[:train_indices],\n",
        "    x[train_indices:],\n",
        "    y[:train_indices],\n",
        "    y[train_indices:]\n",
        ")"
      ]
    },
    {
      "cell_type": "markdown",
      "metadata": {
        "id": "DFAcOmyEm53g"
      },
      "source": [
        "# **Melatih model**"
      ]
    },
    {
      "cell_type": "markdown",
      "metadata": {
        "id": "hIPX17FHnEtw"
      },
      "source": [
        "pertama kita akan membuat class dan fungsi inisialisasi"
      ]
    },
    {
      "cell_type": "code",
      "execution_count": 47,
      "metadata": {
        "id": "G0IGEtmbWfWC"
      },
      "outputs": [],
      "source": [
        "class RecommenderNet(tf.keras.Model):\n",
        "  def __init__(self, num_users, num_anime, embedding_size, **kwargs):\n",
        "    super(RecommenderNet, self).__init__(**kwargs)\n",
        "    self.num_users = num_users\n",
        "    self.num_anime = num_anime\n",
        "    self.embedding_size = embedding_size\n",
        "    self.user_embedding = layers.Embedding(\n",
        "        num_users,\n",
        "        embedding_size,\n",
        "        embeddings_initializer = 'he_normal',\n",
        "        embeddings_regularizer = keras.regularizers.l2(5e-7)\n",
        "    )\n",
        "    self.user_bias = layers.Embedding(num_users, 1)\n",
        "    self.anime_embedding = layers.Embedding(\n",
        "        num_anime,\n",
        "        embedding_size,\n",
        "        embeddings_initializer = 'he_normal',\n",
        "        embeddings_regularizer = keras.regularizers.l2(5e-7)\n",
        "    )\n",
        "    self.anime_bias = layers.Embedding(num_anime, 1)\n",
        " \n",
        "  def call(self, inputs):\n",
        "    user_vector = self.user_embedding(inputs[:,0])\n",
        "    user_bias = self.user_bias(inputs[:, 0])\n",
        "    anime_vector = self.anime_embedding(inputs[:, 1])\n",
        "    anime_bias = self.anime_bias(inputs[:, 1])\n",
        " \n",
        "    dot_user_anime = tf.tensordot(user_vector, anime_vector, 2) \n",
        " \n",
        "    x = dot_user_anime + user_bias + anime_bias\n",
        "    \n",
        "    return tf.nn.sigmoid(x)"
      ]
    },
    {
      "cell_type": "markdown",
      "metadata": {
        "id": "IRB-jslMoqNu"
      },
      "source": [
        "**Compile Model dan membuat callback**"
      ]
    },
    {
      "cell_type": "code",
      "execution_count": 48,
      "metadata": {
        "id": "Y82W-5TeeWaF"
      },
      "outputs": [],
      "source": [
        "model = RecommenderNet(num_users, num_anime, 50) # inisialisasi model\n",
        "\n",
        "model.compile(\n",
        "    loss = tf.keras.losses.BinaryCrossentropy(),\n",
        "    optimizer = keras.optimizers.Adam(learning_rate=0.001),\n",
        "    metrics=[[tf.keras.metrics.MeanAbsoluteError(),tf.keras.metrics.RootMeanSquaredError()]]\n",
        ")\n",
        "callbacks = EarlyStopping(\n",
        "    min_delta=0.0001,\n",
        "    patience=7,\n",
        "    restore_best_weights=True,\n",
        ")"
      ]
    },
    {
      "cell_type": "code",
      "execution_count": 49,
      "metadata": {
        "colab": {
          "base_uri": "https://localhost:8080/"
        },
        "id": "Pn99OuEZemxt",
        "outputId": "4b27a81d-8599-4ce1-86e5-2034e7cf4fb2"
      },
      "outputs": [
        {
          "output_type": "stream",
          "name": "stdout",
          "text": [
            "Epoch 1/100\n",
            "19208/19208 [==============================] - 149s 8ms/step - loss: 0.6116 - mean_absolute_error: 0.1708 - root_mean_squared_error: 0.2074 - val_loss: 0.6946 - val_mean_absolute_error: 0.2056 - val_root_mean_squared_error: 0.2381\n",
            "Epoch 2/100\n",
            "19208/19208 [==============================] - 144s 7ms/step - loss: 0.5822 - mean_absolute_error: 0.1342 - root_mean_squared_error: 0.1726 - val_loss: 0.6943 - val_mean_absolute_error: 0.2056 - val_root_mean_squared_error: 0.2381\n",
            "Epoch 3/100\n",
            "19208/19208 [==============================] - 143s 7ms/step - loss: 0.5722 - mean_absolute_error: 0.1203 - root_mean_squared_error: 0.1605 - val_loss: 0.6941 - val_mean_absolute_error: 0.2056 - val_root_mean_squared_error: 0.2381\n",
            "Epoch 4/100\n",
            "19208/19208 [==============================] - 143s 7ms/step - loss: 0.5650 - mean_absolute_error: 0.1093 - root_mean_squared_error: 0.1512 - val_loss: 0.6940 - val_mean_absolute_error: 0.2056 - val_root_mean_squared_error: 0.2381\n",
            "Epoch 5/100\n",
            "19208/19208 [==============================] - 144s 7ms/step - loss: 0.5590 - mean_absolute_error: 0.1000 - root_mean_squared_error: 0.1429 - val_loss: 0.6940 - val_mean_absolute_error: 0.2056 - val_root_mean_squared_error: 0.2381\n",
            "Epoch 6/100\n",
            "19208/19208 [==============================] - 149s 8ms/step - loss: 0.5536 - mean_absolute_error: 0.0916 - root_mean_squared_error: 0.1350 - val_loss: 0.6939 - val_mean_absolute_error: 0.2056 - val_root_mean_squared_error: 0.2381\n",
            "Epoch 7/100\n",
            "19208/19208 [==============================] - 136s 7ms/step - loss: 0.5490 - mean_absolute_error: 0.0840 - root_mean_squared_error: 0.1278 - val_loss: 0.6939 - val_mean_absolute_error: 0.2056 - val_root_mean_squared_error: 0.2381\n",
            "Epoch 8/100\n",
            "19208/19208 [==============================] - 145s 8ms/step - loss: 0.5448 - mean_absolute_error: 0.0771 - root_mean_squared_error: 0.1209 - val_loss: 0.6939 - val_mean_absolute_error: 0.2056 - val_root_mean_squared_error: 0.2381\n",
            "Epoch 9/100\n",
            "19208/19208 [==============================] - 141s 7ms/step - loss: 0.5410 - mean_absolute_error: 0.0708 - root_mean_squared_error: 0.1143 - val_loss: 0.6939 - val_mean_absolute_error: 0.2056 - val_root_mean_squared_error: 0.2381\n",
            "Epoch 10/100\n",
            "19208/19208 [==============================] - 142s 7ms/step - loss: 0.5376 - mean_absolute_error: 0.0648 - root_mean_squared_error: 0.1081 - val_loss: 0.6939 - val_mean_absolute_error: 0.2056 - val_root_mean_squared_error: 0.2381\n",
            "Epoch 11/100\n",
            "19208/19208 [==============================] - 142s 7ms/step - loss: 0.5345 - mean_absolute_error: 0.0594 - root_mean_squared_error: 0.1020 - val_loss: 0.6938 - val_mean_absolute_error: 0.2056 - val_root_mean_squared_error: 0.2381\n",
            "Epoch 12/100\n",
            "19208/19208 [==============================] - 134s 7ms/step - loss: 0.5317 - mean_absolute_error: 0.0543 - root_mean_squared_error: 0.0963 - val_loss: 0.6938 - val_mean_absolute_error: 0.2056 - val_root_mean_squared_error: 0.2381\n",
            "Epoch 13/100\n",
            "19208/19208 [==============================] - 143s 7ms/step - loss: 0.5293 - mean_absolute_error: 0.0497 - root_mean_squared_error: 0.0908 - val_loss: 0.6938 - val_mean_absolute_error: 0.2056 - val_root_mean_squared_error: 0.2381\n",
            "Epoch 14/100\n",
            "19208/19208 [==============================] - 134s 7ms/step - loss: 0.5270 - mean_absolute_error: 0.0454 - root_mean_squared_error: 0.0856 - val_loss: 0.6938 - val_mean_absolute_error: 0.2056 - val_root_mean_squared_error: 0.2381\n",
            "Epoch 15/100\n",
            "19208/19208 [==============================] - 145s 8ms/step - loss: 0.5250 - mean_absolute_error: 0.0414 - root_mean_squared_error: 0.0806 - val_loss: 0.6938 - val_mean_absolute_error: 0.2056 - val_root_mean_squared_error: 0.2381\n",
            "Epoch 16/100\n",
            "19208/19208 [==============================] - 146s 8ms/step - loss: 0.5233 - mean_absolute_error: 0.0378 - root_mean_squared_error: 0.0759 - val_loss: 0.6937 - val_mean_absolute_error: 0.2056 - val_root_mean_squared_error: 0.2381\n",
            "Epoch 17/100\n",
            "19208/19208 [==============================] - 135s 7ms/step - loss: 0.5217 - mean_absolute_error: 0.0345 - root_mean_squared_error: 0.0714 - val_loss: 0.6937 - val_mean_absolute_error: 0.2056 - val_root_mean_squared_error: 0.2381\n",
            "Epoch 18/100\n",
            "19208/19208 [==============================] - 143s 7ms/step - loss: 0.5203 - mean_absolute_error: 0.0314 - root_mean_squared_error: 0.0672 - val_loss: 0.6937 - val_mean_absolute_error: 0.2056 - val_root_mean_squared_error: 0.2381\n",
            "Epoch 19/100\n",
            "19208/19208 [==============================] - 143s 7ms/step - loss: 0.5190 - mean_absolute_error: 0.0286 - root_mean_squared_error: 0.0632 - val_loss: 0.6936 - val_mean_absolute_error: 0.2056 - val_root_mean_squared_error: 0.2381\n",
            "Epoch 20/100\n",
            "19208/19208 [==============================] - 143s 7ms/step - loss: 0.5179 - mean_absolute_error: 0.0260 - root_mean_squared_error: 0.0593 - val_loss: 0.6936 - val_mean_absolute_error: 0.2056 - val_root_mean_squared_error: 0.2381\n",
            "Epoch 21/100\n",
            "19208/19208 [==============================] - 143s 7ms/step - loss: 0.5169 - mean_absolute_error: 0.0237 - root_mean_squared_error: 0.0558 - val_loss: 0.6936 - val_mean_absolute_error: 0.2056 - val_root_mean_squared_error: 0.2381\n",
            "Epoch 22/100\n",
            "19208/19208 [==============================] - 142s 7ms/step - loss: 0.5160 - mean_absolute_error: 0.0217 - root_mean_squared_error: 0.0524 - val_loss: 0.6936 - val_mean_absolute_error: 0.2056 - val_root_mean_squared_error: 0.2381\n",
            "Epoch 23/100\n",
            "19208/19208 [==============================] - 142s 7ms/step - loss: 0.5152 - mean_absolute_error: 0.0198 - root_mean_squared_error: 0.0493 - val_loss: 0.6936 - val_mean_absolute_error: 0.2056 - val_root_mean_squared_error: 0.2381\n",
            "Epoch 24/100\n",
            "19208/19208 [==============================] - 142s 7ms/step - loss: 0.5145 - mean_absolute_error: 0.0181 - root_mean_squared_error: 0.0464 - val_loss: 0.6936 - val_mean_absolute_error: 0.2056 - val_root_mean_squared_error: 0.2381\n",
            "Epoch 25/100\n",
            "19208/19208 [==============================] - 142s 7ms/step - loss: 0.5139 - mean_absolute_error: 0.0166 - root_mean_squared_error: 0.0436 - val_loss: 0.6936 - val_mean_absolute_error: 0.2056 - val_root_mean_squared_error: 0.2381\n",
            "Epoch 26/100\n",
            "19208/19208 [==============================] - 144s 8ms/step - loss: 0.5134 - mean_absolute_error: 0.0153 - root_mean_squared_error: 0.0412 - val_loss: 0.6935 - val_mean_absolute_error: 0.2056 - val_root_mean_squared_error: 0.2381\n",
            "Epoch 27/100\n",
            "19208/19208 [==============================] - 144s 7ms/step - loss: 0.5129 - mean_absolute_error: 0.0141 - root_mean_squared_error: 0.0389 - val_loss: 0.6935 - val_mean_absolute_error: 0.2056 - val_root_mean_squared_error: 0.2381\n",
            "Epoch 28/100\n",
            "19208/19208 [==============================] - 144s 8ms/step - loss: 0.5125 - mean_absolute_error: 0.0130 - root_mean_squared_error: 0.0367 - val_loss: 0.6935 - val_mean_absolute_error: 0.2056 - val_root_mean_squared_error: 0.2381\n",
            "Epoch 29/100\n",
            "19208/19208 [==============================] - 144s 8ms/step - loss: 0.5121 - mean_absolute_error: 0.0121 - root_mean_squared_error: 0.0348 - val_loss: 0.6935 - val_mean_absolute_error: 0.2056 - val_root_mean_squared_error: 0.2381\n",
            "Epoch 30/100\n",
            "19208/19208 [==============================] - 135s 7ms/step - loss: 0.5118 - mean_absolute_error: 0.0113 - root_mean_squared_error: 0.0329 - val_loss: 0.6935 - val_mean_absolute_error: 0.2056 - val_root_mean_squared_error: 0.2381\n",
            "Epoch 31/100\n",
            "19208/19208 [==============================] - 143s 7ms/step - loss: 0.5115 - mean_absolute_error: 0.0106 - root_mean_squared_error: 0.0312 - val_loss: 0.6935 - val_mean_absolute_error: 0.2056 - val_root_mean_squared_error: 0.2381\n",
            "Epoch 32/100\n",
            "19208/19208 [==============================] - 142s 7ms/step - loss: 0.5112 - mean_absolute_error: 0.0099 - root_mean_squared_error: 0.0296 - val_loss: 0.6935 - val_mean_absolute_error: 0.2056 - val_root_mean_squared_error: 0.2381\n",
            "Epoch 33/100\n",
            "19208/19208 [==============================] - 142s 7ms/step - loss: 0.5110 - mean_absolute_error: 0.0093 - root_mean_squared_error: 0.0281 - val_loss: 0.6935 - val_mean_absolute_error: 0.2056 - val_root_mean_squared_error: 0.2381\n"
          ]
        }
      ],
      "source": [
        "history = model.fit(\n",
        "    x = x_train,\n",
        "    y = y_train,\n",
        "    batch_size = 8,\n",
        "    epochs = 100,\n",
        "    validation_data = (x_val, y_val),\n",
        "    callbacks=[callbacks]\n",
        ")"
      ]
    },
    {
      "cell_type": "markdown",
      "metadata": {
        "id": "S7b3WuB1rB_k"
      },
      "source": [
        "Selanjutnya kita akan menguji dengan salah satu sampel user dan menguji rekomendasi dengan model yang sudah kita rancang"
      ]
    },
    {
      "cell_type": "code",
      "execution_count": 50,
      "metadata": {
        "id": "ctY0veaHeoNM"
      },
      "outputs": [],
      "source": [
        "user_id = merge_df.user_id.sample(1).iloc[0]\n",
        "anime_watched_by_user = merge_df[merge_df.user_id == user_id]\n",
        " \n",
        "anime_not_watched = df_anime[~df_anime['anime_id'].isin(anime_watched_by_user.anime_id.values)]['anime_id'] \n",
        "anime_not_watched = list(\n",
        "    set(anime_not_watched)\n",
        "    .intersection(set(anime_to_anime_encoded.keys()))\n",
        ")\n",
        "\n",
        " \n",
        "anime_not_watched = [[anime_to_anime_encoded.get(x)] for x in anime_not_watched]\n",
        "user_encoder = user_to_user_encoded.get(user_id)\n",
        "user_anime_array = np.hstack(\n",
        "    ([[user_encoder]] * len(anime_not_watched), anime_not_watched)\n",
        ")"
      ]
    },
    {
      "cell_type": "code",
      "execution_count": 51,
      "metadata": {
        "id": "tXRAFP-CfCbe",
        "colab": {
          "base_uri": "https://localhost:8080/"
        },
        "outputId": "3bde0214-393b-4106-eb3b-86f3349aca12"
      },
      "outputs": [
        {
          "output_type": "stream",
          "name": "stdout",
          "text": [
            "Showing recommendations for users: 223061\n",
            "========================================\n",
            "movie with high ratings from user\n",
            "--------------------------------\n",
            "Orangutan\n",
            "--------------------------------\n",
            "Top 10 anime recommendation\n",
            "--------------------------------\n",
            "Hunter x Hunter: Original Video Animation\n",
            "Akachan to Boku\n",
            "Flanders no Inu (Movie)\n",
            "Gekitou! Crush Gear Turbo\n",
            "Pokemon Black and White 2: Introduction Movie\n",
            "Tamayura: Sotsugyou Shashin Part 4 - Ashita\n",
            "Kuroko no Basket: Saikou no Present Desu\n",
            "Schick x Evangelion\n",
            "Natsume Yuujinchou Roku\n",
            "Yuri!!! on Ice: Yuri Plisetsky GPF in Barcelona EX - Welcome to The Madness\n"
          ]
        }
      ],
      "source": [
        "ratings = model.predict(user_anime_array).flatten()\n",
        " \n",
        "top_ratings_indices = ratings.argsort()[-10:][::-1]\n",
        "recommended_anime_ids = [\n",
        "    anime_encoded_to_anime.get(anime_not_watched[x][0]) for x in top_ratings_indices\n",
        "]\n",
        " \n",
        "print('Showing recommendations for users: {}'.format(user_id))\n",
        "print('====' * 10)\n",
        "print('movie with high ratings from user')\n",
        "print('----' * 8)\n",
        " \n",
        "top_anime_user = (\n",
        "    anime_watched_by_user.sort_values(\n",
        "        by = 'rating',\n",
        "        ascending=False\n",
        "    )\n",
        "    .head(5)\n",
        "    .anime_id.values\n",
        ")\n",
        " \n",
        "anime_df_rows = df_anime[df_anime['anime_id'].isin(top_anime_user)]\n",
        "for row in anime_df_rows.itertuples():\n",
        "    print(row.name)\n",
        " \n",
        "print('----' * 8)\n",
        "print('Top 10 anime recommendation')\n",
        "print('----' * 8)\n",
        " \n",
        "recommended_anime = df_anime[df_anime['anime_id'].isin(recommended_anime_ids)]\n",
        "for row in recommended_anime.itertuples():\n",
        "    print(row.name)"
      ]
    },
    {
      "cell_type": "markdown",
      "metadata": {
        "id": "Xav4sBUPt8rz"
      },
      "source": [
        "# Evaluation"
      ]
    },
    {
      "cell_type": "markdown",
      "metadata": {
        "id": "xCRrBbYnuCnN"
      },
      "source": [
        "Pada tahap ini penulis menggunakan dua teknik yaitu :\n",
        "\n",
        "- Mean Absolute Error (MAE)\n",
        "- Root Mean Squared Error (RMSE)\n",
        "\n",
        "Dan untuk Sistem Rekomendasi Content Based Filtering Saya menggunakan Precision"
      ]
    },
    {
      "cell_type": "markdown",
      "metadata": {
        "id": "k2yzJu3kuhit"
      },
      "source": [
        "# Plot Grafik MAE"
      ]
    },
    {
      "cell_type": "code",
      "execution_count": 52,
      "metadata": {
        "id": "eJo1w-06uMve",
        "colab": {
          "base_uri": "https://localhost:8080/",
          "height": 295
        },
        "outputId": "bc440306-3644-4f1a-aa8c-96b1fe385ab6"
      },
      "outputs": [
        {
          "output_type": "display_data",
          "data": {
            "text/plain": [
              "<Figure size 432x288 with 1 Axes>"
            ],
            "image/png": "[encoded data removed]"
          },
          "metadata": {
            "needs_background": "light"
          }
        }
      ],
      "source": [
        "plt.plot(history.history['mean_absolute_error'])\n",
        "plt.plot(history.history['val_mean_absolute_error'])\n",
        "plt.title('model_metrics')\n",
        "plt.ylabel('mean_absolute_error')\n",
        "plt.xlabel('epoch')\n",
        "plt.legend(['mean_absolute_error', 'val_mean_absolute_error'])\n",
        "plt.show()"
      ]
    },
    {
      "cell_type": "markdown",
      "metadata": {
        "id": "hPQ1IK1_ulaO"
      },
      "source": [
        "# Plot Grafik RMSE"
      ]
    },
    {
      "cell_type": "code",
      "execution_count": 53,
      "metadata": {
        "id": "vxJZb5D4usdn",
        "colab": {
          "base_uri": "https://localhost:8080/",
          "height": 295
        },
        "outputId": "0fbb0e57-734c-4e48-ff40-86eb1405cb6c"
      },
      "outputs": [
        {
          "output_type": "display_data",
          "data": {
            "text/plain": [
              "<Figure size 432x288 with 1 Axes>"
            ],
            "image/png": "[encoded data removed]"
          },
          "metadata": {
            "needs_background": "light"
          }
        }
      ],
      "source": [
        "plt.plot(history.history['root_mean_squared_error'])\n",
        "plt.plot(history.history['val_root_mean_squared_error'])\n",
        "plt.title('model_metrics')\n",
        "plt.ylabel('root_mean_squared_error')\n",
        "plt.xlabel('epoch')\n",
        "plt.legend(['root_mean_squared_error', 'val_root_mean_squared_error'])\n",
        "plt.show()"
      ]
    },
    {
      "cell_type": "markdown",
      "metadata": {
        "id": "6xTqYblvuv0v"
      },
      "source": [
        "# Precision"
      ]
    },
    {
      "cell_type": "code",
      "source": [
        "find_name = df_anime_cbf[df_anime_cbf['Name'] == 'Cowboy Bebop']\n",
        "find_name"
      ],
      "metadata": {
        "id": "-GETax_Tju7_",
        "colab": {
          "base_uri": "https://localhost:8080/",
          "height": 81
        },
        "outputId": "38e77100-e53d-460c-d5d0-97b4abae31f3"
      },
      "execution_count": 54,
      "outputs": [
        {
          "output_type": "execute_result",
          "data": {
            "text/plain": [
              "   MAL_ID                                           Genres          Name  \\\n",
              "0       1  Action, Adventure, Comedy, Drama, Sci-Fi, Space  Cowboy Bebop   \n",
              "\n",
              "                           Rating  \n",
              "0  R - 17+ (violence & profanity)  "
            ],
            "text/html": [
              "\n",
              "  <div id=\"df-4aefccb5-14ef-4640-a72f-e3d3a6310b42\">\n",
              "    <div class=\"colab-df-container\">\n",
              "      <div>\n",
              "<style scoped>\n",
              "    .dataframe tbody tr th:only-of-type {\n",
              "        vertical-align: middle;\n",
              "    }\n",
              "\n",
              "    .dataframe tbody tr th {\n",
              "        vertical-align: top;\n",
              "    }\n",
              "\n",
              "    .dataframe thead th {\n",
              "        text-align: right;\n",
              "    }\n",
              "</style>\n",
              "<table border=\"1\" class=\"dataframe\">\n",
              "  <thead>\n",
              "    <tr style=\"text-align: right;\">\n",
              "      <th></th>\n",
              "      <th>MAL_ID</th>\n",
              "      <th>Genres</th>\n",
              "      <th>Name</th>\n",
              "      <th>Rating</th>\n",
              "    </tr>\n",
              "  </thead>\n",
              "  <tbody>\n",
              "    <tr>\n",
              "      <th>0</th>\n",
              "      <td>1</td>\n",
              "      <td>Action, Adventure, Comedy, Drama, Sci-Fi, Space</td>\n",
              "      <td>Cowboy Bebop</td>\n",
              "      <td>R - 17+ (violence &amp; profanity)</td>\n",
              "    </tr>\n",
              "  </tbody>\n",
              "</table>\n",
              "</div>\n",
              "      <button class=\"colab-df-convert\" onclick=\"convertToInteractive('df-4aefccb5-14ef-4640-a72f-e3d3a6310b42')\"\n",
              "              title=\"Convert this dataframe to an interactive table.\"\n",
              "              style=\"display:none;\">\n",
              "        \n",
              "  <svg xmlns=\"http://www.w3.org/2000/svg\" height=\"24px\"viewBox=\"0 0 24 24\"\n",
              "       width=\"24px\">\n",
              "    <path d=\"M0 0h24v24H0V0z\" fill=\"none\"/>\n",
              "    <path d=\"M18.56 5.44l.94 2.06.94-2.06 2.06-.94-2.06-.94-.94-2.06-.94 2.06-2.06.94zm-11 1L8.5 8.5l.94-2.06 2.06-.94-2.06-.94L8.5 2.5l-.94 2.06-2.06.94zm10 10l.94 2.06.94-2.06 2.06-.94-2.06-.94-.94-2.06-.94 2.06-2.06.94z\"/><path d=\"M17.41 7.96l-1.37-1.37c-.4-.4-.92-.59-1.43-.59-.52 0-1.04.2-1.43.59L10.3 9.45l-7.72 7.72c-.78.78-.78 2.05 0 2.83L4 21.41c.39.39.9.59 1.41.59.51 0 1.02-.2 1.41-.59l7.78-7.78 2.81-2.81c.8-.78.8-2.07 0-2.86zM5.41 20L4 18.59l7.72-7.72 1.47 1.35L5.41 20z\"/>\n",
              "  </svg>\n",
              "      </button>\n",
              "      \n",
              "  <style>\n",
              "    .colab-df-container {\n",
              "      display:flex;\n",
              "      flex-wrap:wrap;\n",
              "      gap: 12px;\n",
              "    }\n",
              "\n",
              "    .colab-df-convert {\n",
              "      background-color: #E8F0FE;\n",
              "      border: none;\n",
              "      border-radius: 50%;\n",
              "      cursor: pointer;\n",
              "      display: none;\n",
              "      fill: #1967D2;\n",
              "      height: 32px;\n",
              "      padding: 0 0 0 0;\n",
              "      width: 32px;\n",
              "    }\n",
              "\n",
              "    .colab-df-convert:hover {\n",
              "      background-color: #E2EBFA;\n",
              "      box-shadow: 0px 1px 2px rgba(60, 64, 67, 0.3), 0px 1px 3px 1px rgba(60, 64, 67, 0.15);\n",
              "      fill: #174EA6;\n",
              "    }\n",
              "\n",
              "    [theme=dark] .colab-df-convert {\n",
              "      background-color: #3B4455;\n",
              "      fill: #D2E3FC;\n",
              "    }\n",
              "\n",
              "    [theme=dark] .colab-df-convert:hover {\n",
              "      background-color: #434B5C;\n",
              "      box-shadow: 0px 1px 3px 1px rgba(0, 0, 0, 0.15);\n",
              "      filter: drop-shadow(0px 1px 2px rgba(0, 0, 0, 0.3));\n",
              "      fill: #FFFFFF;\n",
              "    }\n",
              "  </style>\n",
              "\n",
              "      <script>\n",
              "        const buttonEl =\n",
              "          document.querySelector('#df-4aefccb5-14ef-4640-a72f-e3d3a6310b42 button.colab-df-convert');\n",
              "        buttonEl.style.display =\n",
              "          google.colab.kernel.accessAllowed ? 'block' : 'none';\n",
              "\n",
              "        async function convertToInteractive(key) {\n",
              "          const element = document.querySelector('#df-4aefccb5-14ef-4640-a72f-e3d3a6310b42');\n",
              "          const dataTable =\n",
              "            await google.colab.kernel.invokeFunction('convertToInteractive',\n",
              "                                                     [key], {});\n",
              "          if (!dataTable) return;\n",
              "\n",
              "          const docLinkHtml = 'Like what you see? Visit the ' +\n",
              "            '<a target=\"_blank\" href=https://colab.research.google.com/notebooks/data_table.ipynb>data table notebook</a>'\n",
              "            + ' to learn more about interactive tables.';\n",
              "          element.innerHTML = '';\n",
              "          dataTable['output_type'] = 'display_data';\n",
              "          await google.colab.output.renderOutput(dataTable, element);\n",
              "          const docLink = document.createElement('div');\n",
              "          docLink.innerHTML = docLinkHtml;\n",
              "          element.appendChild(docLink);\n",
              "        }\n",
              "      </script>\n",
              "    </div>\n",
              "  </div>\n",
              "  "
            ]
          },
          "metadata": {},
          "execution_count": 54
        }
      ]
    },
    {
      "cell_type": "code",
      "source": [
        "anime_name = 'Cowboy Bebop'\n",
        "anime_recomend = AnimeRecommendations(anime_name)\n",
        "anime_recomend"
      ],
      "metadata": {
        "id": "0rfWlC9SjwO3",
        "colab": {
          "base_uri": "https://localhost:8080/",
          "height": 363
        },
        "outputId": "0a53a5bb-7c9c-4eb4-e61a-f7e3ff8aaf55"
      },
      "execution_count": 55,
      "outputs": [
        {
          "output_type": "execute_result",
          "data": {
            "text/plain": [
              "                                                Name  MAL_ID  \\\n",
              "0                    Cowboy Bebop: Yose Atsume Blues    4037   \n",
              "1                          Ginga Tetsudou Monogatari    1490   \n",
              "2  Uchuu Kaizoku Captain Herlock: Arcadia-gou no ...    2470   \n",
              "3           Waga Seishun no Arcadia: Mugen Kidou SSX    2203   \n",
              "4                            Waga Seishun no Arcadia    2202   \n",
              "5                      Odin: Koushi Hansen Starlight    1287   \n",
              "6      Ginga Tetsudou Monogatari: Eien e no Bunkiten    2717   \n",
              "7                          Seihou Bukyou Outlaw Star     400   \n",
              "8                           Ginga Tetsudou 999 (ONA)   28733   \n",
              "9  Sayonara Ginga Tetsudou 999: Andromeda Shuucha...    1302   \n",
              "\n",
              "                                            Genres  \n",
              "0  Action, Adventure, Comedy, Drama, Sci-Fi, Space  \n",
              "1          Action, Adventure, Drama, Sci-Fi, Space  \n",
              "2          Action, Sci-Fi, Adventure, Space, Drama  \n",
              "3          Action, Adventure, Drama, Sci-Fi, Space  \n",
              "4          Action, Adventure, Drama, Sci-Fi, Space  \n",
              "5          Action, Sci-Fi, Adventure, Space, Drama  \n",
              "6          Action, Adventure, Space, Drama, Sci-Fi  \n",
              "7         Action, Sci-Fi, Adventure, Space, Comedy  \n",
              "8                  Sci-Fi, Adventure, Space, Drama  \n",
              "9                  Sci-Fi, Adventure, Space, Drama  "
            ],
            "text/html": [
              "\n",
              "  <div id=\"df-ea922447-3714-436e-b78f-280a51af9838\">\n",
              "    <div class=\"colab-df-container\">\n",
              "      <div>\n",
              "<style scoped>\n",
              "    .dataframe tbody tr th:only-of-type {\n",
              "        vertical-align: middle;\n",
              "    }\n",
              "\n",
              "    .dataframe tbody tr th {\n",
              "        vertical-align: top;\n",
              "    }\n",
              "\n",
              "    .dataframe thead th {\n",
              "        text-align: right;\n",
              "    }\n",
              "</style>\n",
              "<table border=\"1\" class=\"dataframe\">\n",
              "  <thead>\n",
              "    <tr style=\"text-align: right;\">\n",
              "      <th></th>\n",
              "      <th>Name</th>\n",
              "      <th>MAL_ID</th>\n",
              "      <th>Genres</th>\n",
              "    </tr>\n",
              "  </thead>\n",
              "  <tbody>\n",
              "    <tr>\n",
              "      <th>0</th>\n",
              "      <td>Cowboy Bebop: Yose Atsume Blues</td>\n",
              "      <td>4037</td>\n",
              "      <td>Action, Adventure, Comedy, Drama, Sci-Fi, Space</td>\n",
              "    </tr>\n",
              "    <tr>\n",
              "      <th>1</th>\n",
              "      <td>Ginga Tetsudou Monogatari</td>\n",
              "      <td>1490</td>\n",
              "      <td>Action, Adventure, Drama, Sci-Fi, Space</td>\n",
              "    </tr>\n",
              "    <tr>\n",
              "      <th>2</th>\n",
              "      <td>Uchuu Kaizoku Captain Herlock: Arcadia-gou no ...</td>\n",
              "      <td>2470</td>\n",
              "      <td>Action, Sci-Fi, Adventure, Space, Drama</td>\n",
              "    </tr>\n",
              "    <tr>\n",
              "      <th>3</th>\n",
              "      <td>Waga Seishun no Arcadia: Mugen Kidou SSX</td>\n",
              "      <td>2203</td>\n",
              "      <td>Action, Adventure, Drama, Sci-Fi, Space</td>\n",
              "    </tr>\n",
              "    <tr>\n",
              "      <th>4</th>\n",
              "      <td>Waga Seishun no Arcadia</td>\n",
              "      <td>2202</td>\n",
              "      <td>Action, Adventure, Drama, Sci-Fi, Space</td>\n",
              "    </tr>\n",
              "    <tr>\n",
              "      <th>5</th>\n",
              "      <td>Odin: Koushi Hansen Starlight</td>\n",
              "      <td>1287</td>\n",
              "      <td>Action, Sci-Fi, Adventure, Space, Drama</td>\n",
              "    </tr>\n",
              "    <tr>\n",
              "      <th>6</th>\n",
              "      <td>Ginga Tetsudou Monogatari: Eien e no Bunkiten</td>\n",
              "      <td>2717</td>\n",
              "      <td>Action, Adventure, Space, Drama, Sci-Fi</td>\n",
              "    </tr>\n",
              "    <tr>\n",
              "      <th>7</th>\n",
              "      <td>Seihou Bukyou Outlaw Star</td>\n",
              "      <td>400</td>\n",
              "      <td>Action, Sci-Fi, Adventure, Space, Comedy</td>\n",
              "    </tr>\n",
              "    <tr>\n",
              "      <th>8</th>\n",
              "      <td>Ginga Tetsudou 999 (ONA)</td>\n",
              "      <td>28733</td>\n",
              "      <td>Sci-Fi, Adventure, Space, Drama</td>\n",
              "    </tr>\n",
              "    <tr>\n",
              "      <th>9</th>\n",
              "      <td>Sayonara Ginga Tetsudou 999: Andromeda Shuucha...</td>\n",
              "      <td>1302</td>\n",
              "      <td>Sci-Fi, Adventure, Space, Drama</td>\n",
              "    </tr>\n",
              "  </tbody>\n",
              "</table>\n",
              "</div>\n",
              "      <button class=\"colab-df-convert\" onclick=\"convertToInteractive('df-ea922447-3714-436e-b78f-280a51af9838')\"\n",
              "              title=\"Convert this dataframe to an interactive table.\"\n",
              "              style=\"display:none;\">\n",
              "        \n",
              "  <svg xmlns=\"http://www.w3.org/2000/svg\" height=\"24px\"viewBox=\"0 0 24 24\"\n",
              "       width=\"24px\">\n",
              "    <path d=\"M0 0h24v24H0V0z\" fill=\"none\"/>\n",
              "    <path d=\"M18.56 5.44l.94 2.06.94-2.06 2.06-.94-2.06-.94-.94-2.06-.94 2.06-2.06.94zm-11 1L8.5 8.5l.94-2.06 2.06-.94-2.06-.94L8.5 2.5l-.94 2.06-2.06.94zm10 10l.94 2.06.94-2.06 2.06-.94-2.06-.94-.94-2.06-.94 2.06-2.06.94z\"/><path d=\"M17.41 7.96l-1.37-1.37c-.4-.4-.92-.59-1.43-.59-.52 0-1.04.2-1.43.59L10.3 9.45l-7.72 7.72c-.78.78-.78 2.05 0 2.83L4 21.41c.39.39.9.59 1.41.59.51 0 1.02-.2 1.41-.59l7.78-7.78 2.81-2.81c.8-.78.8-2.07 0-2.86zM5.41 20L4 18.59l7.72-7.72 1.47 1.35L5.41 20z\"/>\n",
              "  </svg>\n",
              "      </button>\n",
              "      \n",
              "  <style>\n",
              "    .colab-df-container {\n",
              "      display:flex;\n",
              "      flex-wrap:wrap;\n",
              "      gap: 12px;\n",
              "    }\n",
              "\n",
              "    .colab-df-convert {\n",
              "      background-color: #E8F0FE;\n",
              "      border: none;\n",
              "      border-radius: 50%;\n",
              "      cursor: pointer;\n",
              "      display: none;\n",
              "      fill: #1967D2;\n",
              "      height: 32px;\n",
              "      padding: 0 0 0 0;\n",
              "      width: 32px;\n",
              "    }\n",
              "\n",
              "    .colab-df-convert:hover {\n",
              "      background-color: #E2EBFA;\n",
              "      box-shadow: 0px 1px 2px rgba(60, 64, 67, 0.3), 0px 1px 3px 1px rgba(60, 64, 67, 0.15);\n",
              "      fill: #174EA6;\n",
              "    }\n",
              "\n",
              "    [theme=dark] .colab-df-convert {\n",
              "      background-color: #3B4455;\n",
              "      fill: #D2E3FC;\n",
              "    }\n",
              "\n",
              "    [theme=dark] .colab-df-convert:hover {\n",
              "      background-color: #434B5C;\n",
              "      box-shadow: 0px 1px 3px 1px rgba(0, 0, 0, 0.15);\n",
              "      filter: drop-shadow(0px 1px 2px rgba(0, 0, 0, 0.3));\n",
              "      fill: #FFFFFF;\n",
              "    }\n",
              "  </style>\n",
              "\n",
              "      <script>\n",
              "        const buttonEl =\n",
              "          document.querySelector('#df-ea922447-3714-436e-b78f-280a51af9838 button.colab-df-convert');\n",
              "        buttonEl.style.display =\n",
              "          google.colab.kernel.accessAllowed ? 'block' : 'none';\n",
              "\n",
              "        async function convertToInteractive(key) {\n",
              "          const element = document.querySelector('#df-ea922447-3714-436e-b78f-280a51af9838');\n",
              "          const dataTable =\n",
              "            await google.colab.kernel.invokeFunction('convertToInteractive',\n",
              "                                                     [key], {});\n",
              "          if (!dataTable) return;\n",
              "\n",
              "          const docLinkHtml = 'Like what you see? Visit the ' +\n",
              "            '<a target=\"_blank\" href=https://colab.research.google.com/notebooks/data_table.ipynb>data table notebook</a>'\n",
              "            + ' to learn more about interactive tables.';\n",
              "          element.innerHTML = '';\n",
              "          dataTable['output_type'] = 'display_data';\n",
              "          await google.colab.output.renderOutput(dataTable, element);\n",
              "          const docLink = document.createElement('div');\n",
              "          docLink.innerHTML = docLinkHtml;\n",
              "          element.appendChild(docLink);\n",
              "        }\n",
              "      </script>\n",
              "    </div>\n",
              "  </div>\n",
              "  "
            ]
          },
          "metadata": {},
          "execution_count": 55
        }
      ]
    },
    {
      "cell_type": "markdown",
      "source": [
        "Data referensi kita yaitu Cowboy Bebop memiliki 6 genre yaitu Action, adventure, Comedy, Drama, Sci-fi, dan Space. \n",
        "Lalu hasil rekomendasi yang relevan hanya 1 yang sama persis memiliki 6 genre yaitu anime dengan judul yang sama juga yaitu Cowboy Bebop: Yose Atsuma Blues. Akan tetapi terdapat 7 anime dengan genre yang sama sebanyak 5 genre, sehingga data ini juga relevan dengan anime referensi yang kita gunakan. Jadi Presisi sistem kita sebesar 8/10 atau 80%."
      ],
      "metadata": {
        "id": "m5h8XlmjsEx2"
      }
    }
  ],
  "metadata": {
    "colab": {
      "collapsed_sections": [],
      "name": "Recommendation System.ipynb",
      "provenance": [],
      "include_colab_link": true
    },
    "kernelspec": {
      "display_name": "Python 3",
      "name": "python3"
    },
    "language_info": {
      "name": "python"
    },
    "accelerator": "GPU"
  },
  "nbformat": 4,
  "nbformat_minor": 0
}