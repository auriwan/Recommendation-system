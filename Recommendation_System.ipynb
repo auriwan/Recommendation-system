{
  "cells": [
    {
      "cell_type": "markdown",
      "metadata": {
        "id": "view-in-github",
        "colab_type": "text"
      },
      "source": [
        "<a href=\"https://colab.research.google.com/github/auriwan/Recommendation-system/blob/main/Recommendation_System.ipynb\" target=\"_parent\"><img src=\"https://colab.research.google.com/assets/colab-badge.svg\" alt=\"Open In Colab\"/></a>"
      ]
    },
    {
      "cell_type": "markdown",
      "metadata": {
        "id": "6C-kL7o7J85o"
      },
      "source": [
        "# Anime Recommendation System"
      ]
    },
    {
      "cell_type": "markdown",
      "metadata": {
        "id": "t74WXOsuKCMv"
      },
      "source": [
        "Auriwan Yasper\n",
        "\n",
        "Dataset Anime: https://www.kaggle.com/datasets/CooperUnion/anime-recommendations-database?select=anime.csv\n",
        "\n",
        "Dataset Rating: https://www.kaggle.com/datasets/marlesson/myanimelist-dataset-animes-profiles-reviews"
      ]
    },
    {
      "cell_type": "markdown",
      "metadata": {
        "id": "_v0e3GmUKabq"
      },
      "source": [
        "# Pendahuluan"
      ]
    },
    {
      "cell_type": "markdown",
      "metadata": {
        "id": "9dLhLpWlKg4H"
      },
      "source": [
        "Tema dari analisis ini adalah hiburan dimana hasilnya akan berupa model machine learning yang nanti dapat digunakan untuk dijadikan sebuah sistem rekomendasi anime"
      ]
    },
    {
      "cell_type": "markdown",
      "metadata": {
        "id": "U3E-bC0OLmM4"
      },
      "source": [
        "# Data Loading"
      ]
    },
    {
      "cell_type": "markdown",
      "metadata": {
        "id": "4Rmu-0ECLqM1"
      },
      "source": [
        "**Import Library**"
      ]
    },
    {
      "cell_type": "code",
      "execution_count": 1,
      "metadata": {
        "id": "D-63XhyeiO7Z"
      },
      "outputs": [],
      "source": [
        "import zipfile\n",
        "import pandas as pd\n",
        "import numpy as np\n",
        "import seaborn as sns\n",
        "import tensorflow as tf\n",
        "from tensorflow import keras\n",
        "from tensorflow.keras import layers\n",
        "from keras.callbacks import EarlyStopping\n",
        "\n",
        "import matplotlib.pyplot as plt\n",
        "%matplotlib inline\n",
        "\n",
        "from google.colab import files\n",
        "from sklearn.feature_extraction.text import TfidfVectorizer\n",
        "from sklearn.metrics.pairwise import cosine_similarity\n",
        "from google.colab import drive"
      ]
    },
    {
      "cell_type": "code",
      "execution_count": 2,
      "metadata": {
        "id": "buqWmYCciX6E"
      },
      "outputs": [],
      "source": [
        "!pip install -q kaggle"
      ]
    },
    {
      "cell_type": "code",
      "execution_count": 3,
      "metadata": {
        "colab": {
          "base_uri": "https://localhost:8080/"
        },
        "id": "zp9gcxkMibPD",
        "outputId": "38e29fed-1ecd-4737-9661-d84a8bd3eda0"
      },
      "outputs": [
        {
          "output_type": "stream",
          "name": "stdout",
          "text": [
            "Mounted at /content/gdrive\n"
          ]
        }
      ],
      "source": [
        "drive.mount(\"/content/gdrive\", force_remount=True)"
      ]
    },
    {
      "cell_type": "code",
      "execution_count": 4,
      "metadata": {
        "id": "XQD-OTRSiwfz"
      },
      "outputs": [],
      "source": [
        "import os\n",
        "os.environ['KAGGLE_CONFIG_DIR'] = \"/content/gdrive/MyDrive/\""
      ]
    },
    {
      "cell_type": "code",
      "execution_count": 5,
      "metadata": {
        "id": "7jI3dNvzi8SN"
      },
      "outputs": [],
      "source": [
        "!chmod 600 /content/gdrive/MyDrive/kaggle.json"
      ]
    },
    {
      "cell_type": "markdown",
      "metadata": {
        "id": "1dXoyB2gMAAj"
      },
      "source": [
        "**Download Dataset Anime**"
      ]
    },
    {
      "cell_type": "code",
      "execution_count": 6,
      "metadata": {
        "colab": {
          "base_uri": "https://localhost:8080/"
        },
        "id": "Vral0fFsjHDM",
        "outputId": "c414f286-6236-45d8-925a-b345c938fb67"
      },
      "outputs": [
        {
          "output_type": "stream",
          "name": "stdout",
          "text": [
            "anime-recommendation-database-2020.zip: Skipping, found more recently modified local copy (use --force to force download)\n"
          ]
        }
      ],
      "source": [
        "! KAGGLE_CONFIG_DIR=/content/gdrive/MyDrive kaggle datasets download -d hernan4444/anime-recommendation-database-2020"
      ]
    },
    {
      "cell_type": "markdown",
      "metadata": {
        "id": "nyzEFRlKMHHw"
      },
      "source": [
        "Download Dataset Rating"
      ]
    },
    {
      "cell_type": "code",
      "execution_count": 7,
      "metadata": {
        "colab": {
          "base_uri": "https://localhost:8080/"
        },
        "id": "_WHzr-ARJIaO",
        "outputId": "5342e706-20da-4f0a-d1ee-043c510ae544"
      },
      "outputs": [
        {
          "output_type": "stream",
          "name": "stdout",
          "text": [
            "myanimelist-dataset-animes-profiles-reviews.zip: Skipping, found more recently modified local copy (use --force to force download)\n"
          ]
        }
      ],
      "source": [
        "! KAGGLE_CONFIG_DIR=/content/gdrive/MyDrive kaggle datasets download -d marlesson/myanimelist-dataset-animes-profiles-reviews"
      ]
    },
    {
      "cell_type": "markdown",
      "metadata": {
        "id": "r7WCoA-HMQ1U"
      },
      "source": [
        "**Ekstrak Dataset Anime**"
      ]
    },
    {
      "cell_type": "code",
      "execution_count": 8,
      "metadata": {
        "id": "5FDsMTjOw2tQ"
      },
      "outputs": [],
      "source": [
        "file = '/content/anime-recommendation-database-2020.zip'\n",
        "zip_ref = zipfile.ZipFile(file, 'r')\n",
        "zip_ref.extractall('/dataset_baru/')\n",
        "zip_ref.close()"
      ]
    },
    {
      "cell_type": "markdown",
      "metadata": {
        "id": "ab3U-2UwMY20"
      },
      "source": [
        "**Extrak dataset Rating**"
      ]
    },
    {
      "cell_type": "code",
      "execution_count": 9,
      "metadata": {
        "id": "1M91BU3cMYIc"
      },
      "outputs": [],
      "source": [
        "file = '/content/myanimelist-dataset-animes-profiles-reviews.zip'\n",
        "zip_ref = zipfile.ZipFile(file, 'r')\n",
        "zip_ref.extractall('/dataset_baru/')\n",
        "zip_ref.close()"
      ]
    },
    {
      "cell_type": "markdown",
      "metadata": {
        "id": "woY3PR9QM3TO"
      },
      "source": [
        "# **Data Understanding**"
      ]
    },
    {
      "cell_type": "markdown",
      "metadata": {
        "id": "BSRZOBBSNF_T"
      },
      "source": [
        "dataset ini bersumber dari kaggle dataset dengan 2 sumber dataset, dataset pertama akan digunakan untuk dataset anime dan dataset kedua digunakan untuk dataset rating"
      ]
    },
    {
      "cell_type": "markdown",
      "metadata": {
        "id": "ZUwrwnzpODHf"
      },
      "source": [
        "**Membuat data frame anime dan rating**\n",
        "\n",
        "dan kita tampilkan 5 data pertama anime dan rating"
      ]
    },
    {
      "cell_type": "code",
      "execution_count": 10,
      "metadata": {
        "colab": {
          "base_uri": "https://localhost:8080/",
          "height": 734
        },
        "id": "22kkCNytxRsJ",
        "outputId": "d34dd58d-69fe-4ea2-9c52-9919422e0140"
      },
      "outputs": [
        {
          "output_type": "execute_result",
          "data": {
            "text/plain": [
              "   MAL_ID                             Name Score  \\\n",
              "0       1                     Cowboy Bebop  8.78   \n",
              "1       5  Cowboy Bebop: Tengoku no Tobira  8.39   \n",
              "2       6                           Trigun  8.24   \n",
              "3       7               Witch Hunter Robin  7.27   \n",
              "4       8                   Bouken Ou Beet  6.98   \n",
              "\n",
              "                                              Genres            English name  \\\n",
              "0    Action, Adventure, Comedy, Drama, Sci-Fi, Space            Cowboy Bebop   \n",
              "1              Action, Drama, Mystery, Sci-Fi, Space  Cowboy Bebop:The Movie   \n",
              "2  Action, Sci-Fi, Adventure, Comedy, Drama, Shounen                  Trigun   \n",
              "3  Action, Mystery, Police, Supernatural, Drama, ...      Witch Hunter Robin   \n",
              "4          Adventure, Fantasy, Shounen, Supernatural  Beet the Vandel Buster   \n",
              "\n",
              "                      Japanese name   Type Episodes  \\\n",
              "0                         カウボーイビバップ     TV       26   \n",
              "1                    カウボーイビバップ 天国の扉  Movie        1   \n",
              "2                             トライガン     TV       26   \n",
              "3  Witch Hunter ROBIN (ウイッチハンターロビン)     TV       26   \n",
              "4                            冒険王ビィト     TV       52   \n",
              "\n",
              "                          Aired    Premiered  ...  Score-10   Score-9  \\\n",
              "0   Apr 3, 1998 to Apr 24, 1999  Spring 1998  ...  229170.0  182126.0   \n",
              "1                   Sep 1, 2001      Unknown  ...   30043.0   49201.0   \n",
              "2   Apr 1, 1998 to Sep 30, 1998  Spring 1998  ...   50229.0   75651.0   \n",
              "3   Jul 2, 2002 to Dec 24, 2002  Summer 2002  ...    2182.0    4806.0   \n",
              "4  Sep 30, 2004 to Sep 29, 2005    Fall 2004  ...     312.0     529.0   \n",
              "\n",
              "    Score-8  Score-7  Score-6 Score-5 Score-4  Score-3  Score-2  Score-1  \n",
              "0  131625.0  62330.0  20688.0  8904.0  3184.0   1357.0    741.0   1580.0  \n",
              "1   49505.0  22632.0   5805.0  1877.0   577.0    221.0    109.0    379.0  \n",
              "2   86142.0  49432.0  15376.0  5838.0  1965.0    664.0    316.0    533.0  \n",
              "3   10128.0  11618.0   5709.0  2920.0  1083.0    353.0    164.0    131.0  \n",
              "4    1242.0   1713.0   1068.0   634.0   265.0     83.0     50.0     27.0  \n",
              "\n",
              "[5 rows x 35 columns]"
            ],
            "text/html": [
              "\n",
              "  <div id=\"df-035522fe-68ce-46f6-99e7-573eb656f877\">\n",
              "    <div class=\"colab-df-container\">\n",
              "      <div>\n",
              "<style scoped>\n",
              "    .dataframe tbody tr th:only-of-type {\n",
              "        vertical-align: middle;\n",
              "    }\n",
              "\n",
              "    .dataframe tbody tr th {\n",
              "        vertical-align: top;\n",
              "    }\n",
              "\n",
              "    .dataframe thead th {\n",
              "        text-align: right;\n",
              "    }\n",
              "</style>\n",
              "<table border=\"1\" class=\"dataframe\">\n",
              "  <thead>\n",
              "    <tr style=\"text-align: right;\">\n",
              "      <th></th>\n",
              "      <th>MAL_ID</th>\n",
              "      <th>Name</th>\n",
              "      <th>Score</th>\n",
              "      <th>Genres</th>\n",
              "      <th>English name</th>\n",
              "      <th>Japanese name</th>\n",
              "      <th>Type</th>\n",
              "      <th>Episodes</th>\n",
              "      <th>Aired</th>\n",
              "      <th>Premiered</th>\n",
              "      <th>...</th>\n",
              "      <th>Score-10</th>\n",
              "      <th>Score-9</th>\n",
              "      <th>Score-8</th>\n",
              "      <th>Score-7</th>\n",
              "      <th>Score-6</th>\n",
              "      <th>Score-5</th>\n",
              "      <th>Score-4</th>\n",
              "      <th>Score-3</th>\n",
              "      <th>Score-2</th>\n",
              "      <th>Score-1</th>\n",
              "    </tr>\n",
              "  </thead>\n",
              "  <tbody>\n",
              "    <tr>\n",
              "      <th>0</th>\n",
              "      <td>1</td>\n",
              "      <td>Cowboy Bebop</td>\n",
              "      <td>8.78</td>\n",
              "      <td>Action, Adventure, Comedy, Drama, Sci-Fi, Space</td>\n",
              "      <td>Cowboy Bebop</td>\n",
              "      <td>カウボーイビバップ</td>\n",
              "      <td>TV</td>\n",
              "      <td>26</td>\n",
              "      <td>Apr 3, 1998 to Apr 24, 1999</td>\n",
              "      <td>Spring 1998</td>\n",
              "      <td>...</td>\n",
              "      <td>229170.0</td>\n",
              "      <td>182126.0</td>\n",
              "      <td>131625.0</td>\n",
              "      <td>62330.0</td>\n",
              "      <td>20688.0</td>\n",
              "      <td>8904.0</td>\n",
              "      <td>3184.0</td>\n",
              "      <td>1357.0</td>\n",
              "      <td>741.0</td>\n",
              "      <td>1580.0</td>\n",
              "    </tr>\n",
              "    <tr>\n",
              "      <th>1</th>\n",
              "      <td>5</td>\n",
              "      <td>Cowboy Bebop: Tengoku no Tobira</td>\n",
              "      <td>8.39</td>\n",
              "      <td>Action, Drama, Mystery, Sci-Fi, Space</td>\n",
              "      <td>Cowboy Bebop:The Movie</td>\n",
              "      <td>カウボーイビバップ 天国の扉</td>\n",
              "      <td>Movie</td>\n",
              "      <td>1</td>\n",
              "      <td>Sep 1, 2001</td>\n",
              "      <td>Unknown</td>\n",
              "      <td>...</td>\n",
              "      <td>30043.0</td>\n",
              "      <td>49201.0</td>\n",
              "      <td>49505.0</td>\n",
              "      <td>22632.0</td>\n",
              "      <td>5805.0</td>\n",
              "      <td>1877.0</td>\n",
              "      <td>577.0</td>\n",
              "      <td>221.0</td>\n",
              "      <td>109.0</td>\n",
              "      <td>379.0</td>\n",
              "    </tr>\n",
              "    <tr>\n",
              "      <th>2</th>\n",
              "      <td>6</td>\n",
              "      <td>Trigun</td>\n",
              "      <td>8.24</td>\n",
              "      <td>Action, Sci-Fi, Adventure, Comedy, Drama, Shounen</td>\n",
              "      <td>Trigun</td>\n",
              "      <td>トライガン</td>\n",
              "      <td>TV</td>\n",
              "      <td>26</td>\n",
              "      <td>Apr 1, 1998 to Sep 30, 1998</td>\n",
              "      <td>Spring 1998</td>\n",
              "      <td>...</td>\n",
              "      <td>50229.0</td>\n",
              "      <td>75651.0</td>\n",
              "      <td>86142.0</td>\n",
              "      <td>49432.0</td>\n",
              "      <td>15376.0</td>\n",
              "      <td>5838.0</td>\n",
              "      <td>1965.0</td>\n",
              "      <td>664.0</td>\n",
              "      <td>316.0</td>\n",
              "      <td>533.0</td>\n",
              "    </tr>\n",
              "    <tr>\n",
              "      <th>3</th>\n",
              "      <td>7</td>\n",
              "      <td>Witch Hunter Robin</td>\n",
              "      <td>7.27</td>\n",
              "      <td>Action, Mystery, Police, Supernatural, Drama, ...</td>\n",
              "      <td>Witch Hunter Robin</td>\n",
              "      <td>Witch Hunter ROBIN (ウイッチハンターロビン)</td>\n",
              "      <td>TV</td>\n",
              "      <td>26</td>\n",
              "      <td>Jul 2, 2002 to Dec 24, 2002</td>\n",
              "      <td>Summer 2002</td>\n",
              "      <td>...</td>\n",
              "      <td>2182.0</td>\n",
              "      <td>4806.0</td>\n",
              "      <td>10128.0</td>\n",
              "      <td>11618.0</td>\n",
              "      <td>5709.0</td>\n",
              "      <td>2920.0</td>\n",
              "      <td>1083.0</td>\n",
              "      <td>353.0</td>\n",
              "      <td>164.0</td>\n",
              "      <td>131.0</td>\n",
              "    </tr>\n",
              "    <tr>\n",
              "      <th>4</th>\n",
              "      <td>8</td>\n",
              "      <td>Bouken Ou Beet</td>\n",
              "      <td>6.98</td>\n",
              "      <td>Adventure, Fantasy, Shounen, Supernatural</td>\n",
              "      <td>Beet the Vandel Buster</td>\n",
              "      <td>冒険王ビィト</td>\n",
              "      <td>TV</td>\n",
              "      <td>52</td>\n",
              "      <td>Sep 30, 2004 to Sep 29, 2005</td>\n",
              "      <td>Fall 2004</td>\n",
              "      <td>...</td>\n",
              "      <td>312.0</td>\n",
              "      <td>529.0</td>\n",
              "      <td>1242.0</td>\n",
              "      <td>1713.0</td>\n",
              "      <td>1068.0</td>\n",
              "      <td>634.0</td>\n",
              "      <td>265.0</td>\n",
              "      <td>83.0</td>\n",
              "      <td>50.0</td>\n",
              "      <td>27.0</td>\n",
              "    </tr>\n",
              "  </tbody>\n",
              "</table>\n",
              "<p>5 rows × 35 columns</p>\n",
              "</div>\n",
              "      <button class=\"colab-df-convert\" onclick=\"convertToInteractive('df-035522fe-68ce-46f6-99e7-573eb656f877')\"\n",
              "              title=\"Convert this dataframe to an interactive table.\"\n",
              "              style=\"display:none;\">\n",
              "        \n",
              "  <svg xmlns=\"http://www.w3.org/2000/svg\" height=\"24px\"viewBox=\"0 0 24 24\"\n",
              "       width=\"24px\">\n",
              "    <path d=\"M0 0h24v24H0V0z\" fill=\"none\"/>\n",
              "    <path d=\"M18.56 5.44l.94 2.06.94-2.06 2.06-.94-2.06-.94-.94-2.06-.94 2.06-2.06.94zm-11 1L8.5 8.5l.94-2.06 2.06-.94-2.06-.94L8.5 2.5l-.94 2.06-2.06.94zm10 10l.94 2.06.94-2.06 2.06-.94-2.06-.94-.94-2.06-.94 2.06-2.06.94z\"/><path d=\"M17.41 7.96l-1.37-1.37c-.4-.4-.92-.59-1.43-.59-.52 0-1.04.2-1.43.59L10.3 9.45l-7.72 7.72c-.78.78-.78 2.05 0 2.83L4 21.41c.39.39.9.59 1.41.59.51 0 1.02-.2 1.41-.59l7.78-7.78 2.81-2.81c.8-.78.8-2.07 0-2.86zM5.41 20L4 18.59l7.72-7.72 1.47 1.35L5.41 20z\"/>\n",
              "  </svg>\n",
              "      </button>\n",
              "      \n",
              "  <style>\n",
              "    .colab-df-container {\n",
              "      display:flex;\n",
              "      flex-wrap:wrap;\n",
              "      gap: 12px;\n",
              "    }\n",
              "\n",
              "    .colab-df-convert {\n",
              "      background-color: #E8F0FE;\n",
              "      border: none;\n",
              "      border-radius: 50%;\n",
              "      cursor: pointer;\n",
              "      display: none;\n",
              "      fill: #1967D2;\n",
              "      height: 32px;\n",
              "      padding: 0 0 0 0;\n",
              "      width: 32px;\n",
              "    }\n",
              "\n",
              "    .colab-df-convert:hover {\n",
              "      background-color: #E2EBFA;\n",
              "      box-shadow: 0px 1px 2px rgba(60, 64, 67, 0.3), 0px 1px 3px 1px rgba(60, 64, 67, 0.15);\n",
              "      fill: #174EA6;\n",
              "    }\n",
              "\n",
              "    [theme=dark] .colab-df-convert {\n",
              "      background-color: #3B4455;\n",
              "      fill: #D2E3FC;\n",
              "    }\n",
              "\n",
              "    [theme=dark] .colab-df-convert:hover {\n",
              "      background-color: #434B5C;\n",
              "      box-shadow: 0px 1px 3px 1px rgba(0, 0, 0, 0.15);\n",
              "      filter: drop-shadow(0px 1px 2px rgba(0, 0, 0, 0.3));\n",
              "      fill: #FFFFFF;\n",
              "    }\n",
              "  </style>\n",
              "\n",
              "      <script>\n",
              "        const buttonEl =\n",
              "          document.querySelector('#df-035522fe-68ce-46f6-99e7-573eb656f877 button.colab-df-convert');\n",
              "        buttonEl.style.display =\n",
              "          google.colab.kernel.accessAllowed ? 'block' : 'none';\n",
              "\n",
              "        async function convertToInteractive(key) {\n",
              "          const element = document.querySelector('#df-035522fe-68ce-46f6-99e7-573eb656f877');\n",
              "          const dataTable =\n",
              "            await google.colab.kernel.invokeFunction('convertToInteractive',\n",
              "                                                     [key], {});\n",
              "          if (!dataTable) return;\n",
              "\n",
              "          const docLinkHtml = 'Like what you see? Visit the ' +\n",
              "            '<a target=\"_blank\" href=https://colab.research.google.com/notebooks/data_table.ipynb>data table notebook</a>'\n",
              "            + ' to learn more about interactive tables.';\n",
              "          element.innerHTML = '';\n",
              "          dataTable['output_type'] = 'display_data';\n",
              "          await google.colab.output.renderOutput(dataTable, element);\n",
              "          const docLink = document.createElement('div');\n",
              "          docLink.innerHTML = docLinkHtml;\n",
              "          element.appendChild(docLink);\n",
              "        }\n",
              "      </script>\n",
              "    </div>\n",
              "  </div>\n",
              "  "
            ]
          },
          "metadata": {},
          "execution_count": 10
        }
      ],
      "source": [
        "df_anime = pd.read_csv('/dataset_baru/anime.csv')\n",
        "df_rating = pd.read_csv('/dataset_baru/reviews.csv')\n",
        "\n",
        "df_anime.head()"
      ]
    },
    {
      "cell_type": "code",
      "execution_count": 11,
      "metadata": {
        "colab": {
          "base_uri": "https://localhost:8080/",
          "height": 206
        },
        "id": "KqLmeePxNxF9",
        "outputId": "1ccf3726-6da2-41f2-8fb8-0956ab320278"
      },
      "outputs": [
        {
          "output_type": "execute_result",
          "data": {
            "text/plain": [
              "      uid          profile  anime_uid  \\\n",
              "0  255938   DesolatePsyche      34096   \n",
              "1  259117        baekbeans      34599   \n",
              "2  253664             skrn      28891   \n",
              "3    8254     edgewalker00       2904   \n",
              "4  291149  aManOfCulture99       4181   \n",
              "\n",
              "                                                text  score  \\\n",
              "0  \\n           \\n         \\n           \\n       ...      8   \n",
              "1  \\n           \\n         \\n           \\n       ...     10   \n",
              "2  \\n           \\n         \\n           \\n       ...      7   \n",
              "3  \\n           \\n         \\n           \\n       ...      9   \n",
              "4  \\n           \\n         \\n           \\n       ...     10   \n",
              "\n",
              "                                              scores  \\\n",
              "0  {'Overall': '8', 'Story': '8', 'Animation': '8...   \n",
              "1  {'Overall': '10', 'Story': '10', 'Animation': ...   \n",
              "2  {'Overall': '7', 'Story': '7', 'Animation': '9...   \n",
              "3  {'Overall': '9', 'Story': '9', 'Animation': '9...   \n",
              "4  {'Overall': '10', 'Story': '10', 'Animation': ...   \n",
              "\n",
              "                                            link  \n",
              "0  https://myanimelist.net/reviews.php?id=255938  \n",
              "1  https://myanimelist.net/reviews.php?id=259117  \n",
              "2  https://myanimelist.net/reviews.php?id=253664  \n",
              "3    https://myanimelist.net/reviews.php?id=8254  \n",
              "4  https://myanimelist.net/reviews.php?id=291149  "
            ],
            "text/html": [
              "\n",
              "  <div id=\"df-fbe64477-8eb8-4f53-a832-43ffdf834316\">\n",
              "    <div class=\"colab-df-container\">\n",
              "      <div>\n",
              "<style scoped>\n",
              "    .dataframe tbody tr th:only-of-type {\n",
              "        vertical-align: middle;\n",
              "    }\n",
              "\n",
              "    .dataframe tbody tr th {\n",
              "        vertical-align: top;\n",
              "    }\n",
              "\n",
              "    .dataframe thead th {\n",
              "        text-align: right;\n",
              "    }\n",
              "</style>\n",
              "<table border=\"1\" class=\"dataframe\">\n",
              "  <thead>\n",
              "    <tr style=\"text-align: right;\">\n",
              "      <th></th>\n",
              "      <th>uid</th>\n",
              "      <th>profile</th>\n",
              "      <th>anime_uid</th>\n",
              "      <th>text</th>\n",
              "      <th>score</th>\n",
              "      <th>scores</th>\n",
              "      <th>link</th>\n",
              "    </tr>\n",
              "  </thead>\n",
              "  <tbody>\n",
              "    <tr>\n",
              "      <th>0</th>\n",
              "      <td>255938</td>\n",
              "      <td>DesolatePsyche</td>\n",
              "      <td>34096</td>\n",
              "      <td>\\n           \\n         \\n           \\n       ...</td>\n",
              "      <td>8</td>\n",
              "      <td>{'Overall': '8', 'Story': '8', 'Animation': '8...</td>\n",
              "      <td>https://myanimelist.net/reviews.php?id=255938</td>\n",
              "    </tr>\n",
              "    <tr>\n",
              "      <th>1</th>\n",
              "      <td>259117</td>\n",
              "      <td>baekbeans</td>\n",
              "      <td>34599</td>\n",
              "      <td>\\n           \\n         \\n           \\n       ...</td>\n",
              "      <td>10</td>\n",
              "      <td>{'Overall': '10', 'Story': '10', 'Animation': ...</td>\n",
              "      <td>https://myanimelist.net/reviews.php?id=259117</td>\n",
              "    </tr>\n",
              "    <tr>\n",
              "      <th>2</th>\n",
              "      <td>253664</td>\n",
              "      <td>skrn</td>\n",
              "      <td>28891</td>\n",
              "      <td>\\n           \\n         \\n           \\n       ...</td>\n",
              "      <td>7</td>\n",
              "      <td>{'Overall': '7', 'Story': '7', 'Animation': '9...</td>\n",
              "      <td>https://myanimelist.net/reviews.php?id=253664</td>\n",
              "    </tr>\n",
              "    <tr>\n",
              "      <th>3</th>\n",
              "      <td>8254</td>\n",
              "      <td>edgewalker00</td>\n",
              "      <td>2904</td>\n",
              "      <td>\\n           \\n         \\n           \\n       ...</td>\n",
              "      <td>9</td>\n",
              "      <td>{'Overall': '9', 'Story': '9', 'Animation': '9...</td>\n",
              "      <td>https://myanimelist.net/reviews.php?id=8254</td>\n",
              "    </tr>\n",
              "    <tr>\n",
              "      <th>4</th>\n",
              "      <td>291149</td>\n",
              "      <td>aManOfCulture99</td>\n",
              "      <td>4181</td>\n",
              "      <td>\\n           \\n         \\n           \\n       ...</td>\n",
              "      <td>10</td>\n",
              "      <td>{'Overall': '10', 'Story': '10', 'Animation': ...</td>\n",
              "      <td>https://myanimelist.net/reviews.php?id=291149</td>\n",
              "    </tr>\n",
              "  </tbody>\n",
              "</table>\n",
              "</div>\n",
              "      <button class=\"colab-df-convert\" onclick=\"convertToInteractive('df-fbe64477-8eb8-4f53-a832-43ffdf834316')\"\n",
              "              title=\"Convert this dataframe to an interactive table.\"\n",
              "              style=\"display:none;\">\n",
              "        \n",
              "  <svg xmlns=\"http://www.w3.org/2000/svg\" height=\"24px\"viewBox=\"0 0 24 24\"\n",
              "       width=\"24px\">\n",
              "    <path d=\"M0 0h24v24H0V0z\" fill=\"none\"/>\n",
              "    <path d=\"M18.56 5.44l.94 2.06.94-2.06 2.06-.94-2.06-.94-.94-2.06-.94 2.06-2.06.94zm-11 1L8.5 8.5l.94-2.06 2.06-.94-2.06-.94L8.5 2.5l-.94 2.06-2.06.94zm10 10l.94 2.06.94-2.06 2.06-.94-2.06-.94-.94-2.06-.94 2.06-2.06.94z\"/><path d=\"M17.41 7.96l-1.37-1.37c-.4-.4-.92-.59-1.43-.59-.52 0-1.04.2-1.43.59L10.3 9.45l-7.72 7.72c-.78.78-.78 2.05 0 2.83L4 21.41c.39.39.9.59 1.41.59.51 0 1.02-.2 1.41-.59l7.78-7.78 2.81-2.81c.8-.78.8-2.07 0-2.86zM5.41 20L4 18.59l7.72-7.72 1.47 1.35L5.41 20z\"/>\n",
              "  </svg>\n",
              "      </button>\n",
              "      \n",
              "  <style>\n",
              "    .colab-df-container {\n",
              "      display:flex;\n",
              "      flex-wrap:wrap;\n",
              "      gap: 12px;\n",
              "    }\n",
              "\n",
              "    .colab-df-convert {\n",
              "      background-color: #E8F0FE;\n",
              "      border: none;\n",
              "      border-radius: 50%;\n",
              "      cursor: pointer;\n",
              "      display: none;\n",
              "      fill: #1967D2;\n",
              "      height: 32px;\n",
              "      padding: 0 0 0 0;\n",
              "      width: 32px;\n",
              "    }\n",
              "\n",
              "    .colab-df-convert:hover {\n",
              "      background-color: #E2EBFA;\n",
              "      box-shadow: 0px 1px 2px rgba(60, 64, 67, 0.3), 0px 1px 3px 1px rgba(60, 64, 67, 0.15);\n",
              "      fill: #174EA6;\n",
              "    }\n",
              "\n",
              "    [theme=dark] .colab-df-convert {\n",
              "      background-color: #3B4455;\n",
              "      fill: #D2E3FC;\n",
              "    }\n",
              "\n",
              "    [theme=dark] .colab-df-convert:hover {\n",
              "      background-color: #434B5C;\n",
              "      box-shadow: 0px 1px 3px 1px rgba(0, 0, 0, 0.15);\n",
              "      filter: drop-shadow(0px 1px 2px rgba(0, 0, 0, 0.3));\n",
              "      fill: #FFFFFF;\n",
              "    }\n",
              "  </style>\n",
              "\n",
              "      <script>\n",
              "        const buttonEl =\n",
              "          document.querySelector('#df-fbe64477-8eb8-4f53-a832-43ffdf834316 button.colab-df-convert');\n",
              "        buttonEl.style.display =\n",
              "          google.colab.kernel.accessAllowed ? 'block' : 'none';\n",
              "\n",
              "        async function convertToInteractive(key) {\n",
              "          const element = document.querySelector('#df-fbe64477-8eb8-4f53-a832-43ffdf834316');\n",
              "          const dataTable =\n",
              "            await google.colab.kernel.invokeFunction('convertToInteractive',\n",
              "                                                     [key], {});\n",
              "          if (!dataTable) return;\n",
              "\n",
              "          const docLinkHtml = 'Like what you see? Visit the ' +\n",
              "            '<a target=\"_blank\" href=https://colab.research.google.com/notebooks/data_table.ipynb>data table notebook</a>'\n",
              "            + ' to learn more about interactive tables.';\n",
              "          element.innerHTML = '';\n",
              "          dataTable['output_type'] = 'display_data';\n",
              "          await google.colab.output.renderOutput(dataTable, element);\n",
              "          const docLink = document.createElement('div');\n",
              "          docLink.innerHTML = docLinkHtml;\n",
              "          element.appendChild(docLink);\n",
              "        }\n",
              "      </script>\n",
              "    </div>\n",
              "  </div>\n",
              "  "
            ]
          },
          "metadata": {},
          "execution_count": 11
        }
      ],
      "source": [
        "df_rating.head()"
      ]
    },
    {
      "cell_type": "markdown",
      "metadata": {
        "id": "XnrQjwQ8OK8g"
      },
      "source": [
        "# Exploratory Data Analysis\n",
        "\n"
      ]
    },
    {
      "cell_type": "markdown",
      "metadata": {
        "id": "R6II_C-aVDdo"
      },
      "source": [
        "**Univariate Analysis**"
      ]
    },
    {
      "cell_type": "markdown",
      "metadata": {
        "id": "6-p2m3gnO3X4"
      },
      "source": [
        "**Deskripsi Variable**\n",
        "\n",
        "- Variable yang akan digunakan pada anime.csv\n",
        "  - anime_id = ID dari anime\n",
        "  - name = Judul Anime\n",
        "  - genre = Genre dari anime\n",
        "  - rating = Rating Anime\n",
        "\n",
        "- Variable pada file users_cleaned.csv\n",
        "  - user_id = id dari user \n",
        "  - anime_id\n",
        "  - rating = rating yang diberikan user"
      ]
    },
    {
      "cell_type": "code",
      "execution_count": 12,
      "metadata": {
        "colab": {
          "base_uri": "https://localhost:8080/"
        },
        "id": "VNzQYZWs-gbm",
        "outputId": "e1825eba-1695-4f4d-a259-78dfa675b232"
      },
      "outputs": [
        {
          "output_type": "stream",
          "name": "stdout",
          "text": [
            "<class 'pandas.core.frame.DataFrame'>\n",
            "RangeIndex: 17562 entries, 0 to 17561\n",
            "Data columns (total 35 columns):\n",
            " #   Column         Non-Null Count  Dtype \n",
            "---  ------         --------------  ----- \n",
            " 0   MAL_ID         17562 non-null  int64 \n",
            " 1   Name           17562 non-null  object\n",
            " 2   Score          17562 non-null  object\n",
            " 3   Genres         17562 non-null  object\n",
            " 4   English name   17562 non-null  object\n",
            " 5   Japanese name  17562 non-null  object\n",
            " 6   Type           17562 non-null  object\n",
            " 7   Episodes       17562 non-null  object\n",
            " 8   Aired          17562 non-null  object\n",
            " 9   Premiered      17562 non-null  object\n",
            " 10  Producers      17562 non-null  object\n",
            " 11  Licensors      17562 non-null  object\n",
            " 12  Studios        17562 non-null  object\n",
            " 13  Source         17562 non-null  object\n",
            " 14  Duration       17562 non-null  object\n",
            " 15  Rating         17562 non-null  object\n",
            " 16  Ranked         17562 non-null  object\n",
            " 17  Popularity     17562 non-null  int64 \n",
            " 18  Members        17562 non-null  int64 \n",
            " 19  Favorites      17562 non-null  int64 \n",
            " 20  Watching       17562 non-null  int64 \n",
            " 21  Completed      17562 non-null  int64 \n",
            " 22  On-Hold        17562 non-null  int64 \n",
            " 23  Dropped        17562 non-null  int64 \n",
            " 24  Plan to Watch  17562 non-null  int64 \n",
            " 25  Score-10       17562 non-null  object\n",
            " 26  Score-9        17562 non-null  object\n",
            " 27  Score-8        17562 non-null  object\n",
            " 28  Score-7        17562 non-null  object\n",
            " 29  Score-6        17562 non-null  object\n",
            " 30  Score-5        17562 non-null  object\n",
            " 31  Score-4        17562 non-null  object\n",
            " 32  Score-3        17562 non-null  object\n",
            " 33  Score-2        17562 non-null  object\n",
            " 34  Score-1        17562 non-null  object\n",
            "dtypes: int64(9), object(26)\n",
            "memory usage: 4.7+ MB\n"
          ]
        }
      ],
      "source": [
        "df_anime.info()"
      ]
    },
    {
      "cell_type": "markdown",
      "metadata": {
        "id": "t8QDOAUqVMbU"
      },
      "source": [
        "Selanjutnya memilih column yang diperlukan"
      ]
    },
    {
      "cell_type": "code",
      "execution_count": 13,
      "metadata": {
        "id": "xcXDQY8PGvJ6"
      },
      "outputs": [],
      "source": [
        "df_anime = df_anime[['MAL_ID', 'Genres', 'Name', 'Rating']]"
      ]
    },
    {
      "cell_type": "code",
      "execution_count": 14,
      "metadata": {
        "colab": {
          "base_uri": "https://localhost:8080/"
        },
        "id": "6r9qN72TN7ze",
        "outputId": "23c5a12d-467c-4333-a236-76847d3fa2f4"
      },
      "outputs": [
        {
          "output_type": "stream",
          "name": "stdout",
          "text": [
            "<class 'pandas.core.frame.DataFrame'>\n",
            "RangeIndex: 192112 entries, 0 to 192111\n",
            "Data columns (total 7 columns):\n",
            " #   Column     Non-Null Count   Dtype \n",
            "---  ------     --------------   ----- \n",
            " 0   uid        192112 non-null  int64 \n",
            " 1   profile    192112 non-null  object\n",
            " 2   anime_uid  192112 non-null  int64 \n",
            " 3   text       192112 non-null  object\n",
            " 4   score      192112 non-null  int64 \n",
            " 5   scores     192112 non-null  object\n",
            " 6   link       192112 non-null  object\n",
            "dtypes: int64(3), object(4)\n",
            "memory usage: 10.3+ MB\n"
          ]
        }
      ],
      "source": [
        "df_rating.info()"
      ]
    },
    {
      "cell_type": "markdown",
      "metadata": {
        "id": "GaU5lP8MVnsD"
      },
      "source": [
        "Memilih column Dataset rating yang diperlukan"
      ]
    },
    {
      "cell_type": "code",
      "execution_count": 15,
      "metadata": {
        "id": "EkgVJXSjVXP3"
      },
      "outputs": [],
      "source": [
        "df_rating = df_rating[['uid', 'anime_uid', 'score']]"
      ]
    },
    {
      "cell_type": "markdown",
      "metadata": {
        "id": "ae8SyyliWQnX"
      },
      "source": [
        "dari data diatas dapat dilihat bahwa skala dari rating yang diberikan adalah 1-10"
      ]
    },
    {
      "cell_type": "markdown",
      "metadata": {
        "id": "dGoQ80VuXRBJ"
      },
      "source": [
        "Selanjutnya kita akan melihat data genre yang terdapat pada dataset anime sebagai berikut"
      ]
    },
    {
      "cell_type": "code",
      "execution_count": 16,
      "metadata": {
        "colab": {
          "base_uri": "https://localhost:8080/"
        },
        "id": "CwJRS-5e_AOH",
        "outputId": "14938e08-1a8d-4797-e291-ce34c37810d9"
      },
      "outputs": [
        {
          "output_type": "execute_result",
          "data": {
            "text/plain": [
              "['Action',\n",
              " 'Adventure',\n",
              " 'Comedy',\n",
              " 'Drama',\n",
              " 'Sci-Fi',\n",
              " 'Space',\n",
              " 'Mystery',\n",
              " 'Shounen',\n",
              " 'Police',\n",
              " 'Supernatural',\n",
              " 'Magic',\n",
              " 'Fantasy',\n",
              " 'Sports',\n",
              " 'Josei',\n",
              " 'Romance',\n",
              " 'Slice of Life',\n",
              " 'Cars',\n",
              " 'Seinen',\n",
              " 'Horror',\n",
              " 'Psychological',\n",
              " 'Thriller',\n",
              " 'Super Power',\n",
              " 'Martial Arts',\n",
              " 'School',\n",
              " 'Ecchi',\n",
              " 'Vampire',\n",
              " 'Military',\n",
              " 'Historical',\n",
              " 'Dementia',\n",
              " 'Mecha',\n",
              " 'Demons',\n",
              " 'Samurai',\n",
              " 'Game',\n",
              " 'Shoujo',\n",
              " 'Harem',\n",
              " 'Music',\n",
              " 'Shoujo Ai',\n",
              " 'Shounen Ai',\n",
              " 'Kids',\n",
              " 'Hentai',\n",
              " 'Parody',\n",
              " 'Yuri',\n",
              " 'Yaoi',\n",
              " 'Unknown']"
            ]
          },
          "metadata": {},
          "execution_count": 16
        }
      ],
      "source": [
        "anime_genre = df_anime.copy()\n",
        "genres=[]\n",
        "for i in range(len(df_anime.Genres)):\n",
        "    for x in df_anime.Genres[i].split(', '):\n",
        "        if x not in genres:\n",
        "            genres.append(x)\n",
        "genres"
      ]
    },
    {
      "cell_type": "code",
      "execution_count": 17,
      "metadata": {
        "colab": {
          "base_uri": "https://localhost:8080/"
        },
        "id": "rFEcvc0v_Nnw",
        "outputId": "84785ad0-07cb-44d9-c16c-2645692f2e36"
      },
      "outputs": [
        {
          "output_type": "stream",
          "name": "stdout",
          "text": [
            "Genres amount : 44\n"
          ]
        }
      ],
      "source": [
        "print(\"Genres amount : {}\".format(len(genres)))"
      ]
    },
    {
      "cell_type": "markdown",
      "metadata": {
        "id": "BhYN1S2TXpdH"
      },
      "source": [
        "Jadi pada dataset terdapat 44 genre yang tersedia, dan kita akan membuat visualisasinya sebagai berikut"
      ]
    },
    {
      "cell_type": "markdown",
      "source": [
        "Lalu kita akan membuat genre menjadi satu kolom dalam dataset"
      ],
      "metadata": {
        "id": "Sy2_fE75Epxq"
      }
    },
    {
      "cell_type": "code",
      "source": [
        "for x in genres:\n",
        "    anime_genre[x] = 0\n",
        "\n",
        "for i in range(len(df_anime.Genres)):\n",
        "    for x in df_anime.Genres[i].split(', '):\n",
        "        anime_genre[x][i]=1\n",
        "\n",
        "anime_genre.head()"
      ],
      "metadata": {
        "id": "dOiBkO5jEx-q",
        "outputId": "95591d64-6e28-41de-8296-b80e4ceb6c72",
        "colab": {
          "base_uri": "https://localhost:8080/",
          "height": 751
        }
      },
      "execution_count": 18,
      "outputs": [
        {
          "output_type": "stream",
          "name": "stderr",
          "text": [
            "/usr/local/lib/python3.7/dist-packages/ipykernel_launcher.py:6: SettingWithCopyWarning: \n",
            "A value is trying to be set on a copy of a slice from a DataFrame\n",
            "\n",
            "See the caveats in the documentation: https://pandas.pydata.org/pandas-docs/stable/user_guide/indexing.html#returning-a-view-versus-a-copy\n",
            "  \n"
          ]
        },
        {
          "output_type": "execute_result",
          "data": {
            "text/plain": [
              "   MAL_ID                                             Genres  \\\n",
              "0       1    Action, Adventure, Comedy, Drama, Sci-Fi, Space   \n",
              "1       5              Action, Drama, Mystery, Sci-Fi, Space   \n",
              "2       6  Action, Sci-Fi, Adventure, Comedy, Drama, Shounen   \n",
              "3       7  Action, Mystery, Police, Supernatural, Drama, ...   \n",
              "4       8          Adventure, Fantasy, Shounen, Supernatural   \n",
              "\n",
              "                              Name                          Rating  Action  \\\n",
              "0                     Cowboy Bebop  R - 17+ (violence & profanity)       1   \n",
              "1  Cowboy Bebop: Tengoku no Tobira  R - 17+ (violence & profanity)       1   \n",
              "2                           Trigun       PG-13 - Teens 13 or older       1   \n",
              "3               Witch Hunter Robin       PG-13 - Teens 13 or older       1   \n",
              "4                   Bouken Ou Beet                   PG - Children       0   \n",
              "\n",
              "   Adventure  Comedy  Drama  Sci-Fi  Space  ...  Harem  Music  Shoujo Ai  \\\n",
              "0          1       1      1       1      1  ...      0      0          0   \n",
              "1          0       0      1       1      1  ...      0      0          0   \n",
              "2          1       1      1       1      0  ...      0      0          0   \n",
              "3          0       0      1       0      0  ...      0      0          0   \n",
              "4          1       0      0       0      0  ...      0      0          0   \n",
              "\n",
              "   Shounen Ai  Kids  Hentai  Parody  Yuri  Yaoi  Unknown  \n",
              "0           0     0       0       0     0     0        0  \n",
              "1           0     0       0       0     0     0        0  \n",
              "2           0     0       0       0     0     0        0  \n",
              "3           0     0       0       0     0     0        0  \n",
              "4           0     0       0       0     0     0        0  \n",
              "\n",
              "[5 rows x 48 columns]"
            ],
            "text/html": [
              "\n",
              "  <div id=\"df-af1078c5-5985-4d1e-9817-c3cc4a419e05\">\n",
              "    <div class=\"colab-df-container\">\n",
              "      <div>\n",
              "<style scoped>\n",
              "    .dataframe tbody tr th:only-of-type {\n",
              "        vertical-align: middle;\n",
              "    }\n",
              "\n",
              "    .dataframe tbody tr th {\n",
              "        vertical-align: top;\n",
              "    }\n",
              "\n",
              "    .dataframe thead th {\n",
              "        text-align: right;\n",
              "    }\n",
              "</style>\n",
              "<table border=\"1\" class=\"dataframe\">\n",
              "  <thead>\n",
              "    <tr style=\"text-align: right;\">\n",
              "      <th></th>\n",
              "      <th>MAL_ID</th>\n",
              "      <th>Genres</th>\n",
              "      <th>Name</th>\n",
              "      <th>Rating</th>\n",
              "      <th>Action</th>\n",
              "      <th>Adventure</th>\n",
              "      <th>Comedy</th>\n",
              "      <th>Drama</th>\n",
              "      <th>Sci-Fi</th>\n",
              "      <th>Space</th>\n",
              "      <th>...</th>\n",
              "      <th>Harem</th>\n",
              "      <th>Music</th>\n",
              "      <th>Shoujo Ai</th>\n",
              "      <th>Shounen Ai</th>\n",
              "      <th>Kids</th>\n",
              "      <th>Hentai</th>\n",
              "      <th>Parody</th>\n",
              "      <th>Yuri</th>\n",
              "      <th>Yaoi</th>\n",
              "      <th>Unknown</th>\n",
              "    </tr>\n",
              "  </thead>\n",
              "  <tbody>\n",
              "    <tr>\n",
              "      <th>0</th>\n",
              "      <td>1</td>\n",
              "      <td>Action, Adventure, Comedy, Drama, Sci-Fi, Space</td>\n",
              "      <td>Cowboy Bebop</td>\n",
              "      <td>R - 17+ (violence &amp; profanity)</td>\n",
              "      <td>1</td>\n",
              "      <td>1</td>\n",
              "      <td>1</td>\n",
              "      <td>1</td>\n",
              "      <td>1</td>\n",
              "      <td>1</td>\n",
              "      <td>...</td>\n",
              "      <td>0</td>\n",
              "      <td>0</td>\n",
              "      <td>0</td>\n",
              "      <td>0</td>\n",
              "      <td>0</td>\n",
              "      <td>0</td>\n",
              "      <td>0</td>\n",
              "      <td>0</td>\n",
              "      <td>0</td>\n",
              "      <td>0</td>\n",
              "    </tr>\n",
              "    <tr>\n",
              "      <th>1</th>\n",
              "      <td>5</td>\n",
              "      <td>Action, Drama, Mystery, Sci-Fi, Space</td>\n",
              "      <td>Cowboy Bebop: Tengoku no Tobira</td>\n",
              "      <td>R - 17+ (violence &amp; profanity)</td>\n",
              "      <td>1</td>\n",
              "      <td>0</td>\n",
              "      <td>0</td>\n",
              "      <td>1</td>\n",
              "      <td>1</td>\n",
              "      <td>1</td>\n",
              "      <td>...</td>\n",
              "      <td>0</td>\n",
              "      <td>0</td>\n",
              "      <td>0</td>\n",
              "      <td>0</td>\n",
              "      <td>0</td>\n",
              "      <td>0</td>\n",
              "      <td>0</td>\n",
              "      <td>0</td>\n",
              "      <td>0</td>\n",
              "      <td>0</td>\n",
              "    </tr>\n",
              "    <tr>\n",
              "      <th>2</th>\n",
              "      <td>6</td>\n",
              "      <td>Action, Sci-Fi, Adventure, Comedy, Drama, Shounen</td>\n",
              "      <td>Trigun</td>\n",
              "      <td>PG-13 - Teens 13 or older</td>\n",
              "      <td>1</td>\n",
              "      <td>1</td>\n",
              "      <td>1</td>\n",
              "      <td>1</td>\n",
              "      <td>1</td>\n",
              "      <td>0</td>\n",
              "      <td>...</td>\n",
              "      <td>0</td>\n",
              "      <td>0</td>\n",
              "      <td>0</td>\n",
              "      <td>0</td>\n",
              "      <td>0</td>\n",
              "      <td>0</td>\n",
              "      <td>0</td>\n",
              "      <td>0</td>\n",
              "      <td>0</td>\n",
              "      <td>0</td>\n",
              "    </tr>\n",
              "    <tr>\n",
              "      <th>3</th>\n",
              "      <td>7</td>\n",
              "      <td>Action, Mystery, Police, Supernatural, Drama, ...</td>\n",
              "      <td>Witch Hunter Robin</td>\n",
              "      <td>PG-13 - Teens 13 or older</td>\n",
              "      <td>1</td>\n",
              "      <td>0</td>\n",
              "      <td>0</td>\n",
              "      <td>1</td>\n",
              "      <td>0</td>\n",
              "      <td>0</td>\n",
              "      <td>...</td>\n",
              "      <td>0</td>\n",
              "      <td>0</td>\n",
              "      <td>0</td>\n",
              "      <td>0</td>\n",
              "      <td>0</td>\n",
              "      <td>0</td>\n",
              "      <td>0</td>\n",
              "      <td>0</td>\n",
              "      <td>0</td>\n",
              "      <td>0</td>\n",
              "    </tr>\n",
              "    <tr>\n",
              "      <th>4</th>\n",
              "      <td>8</td>\n",
              "      <td>Adventure, Fantasy, Shounen, Supernatural</td>\n",
              "      <td>Bouken Ou Beet</td>\n",
              "      <td>PG - Children</td>\n",
              "      <td>0</td>\n",
              "      <td>1</td>\n",
              "      <td>0</td>\n",
              "      <td>0</td>\n",
              "      <td>0</td>\n",
              "      <td>0</td>\n",
              "      <td>...</td>\n",
              "      <td>0</td>\n",
              "      <td>0</td>\n",
              "      <td>0</td>\n",
              "      <td>0</td>\n",
              "      <td>0</td>\n",
              "      <td>0</td>\n",
              "      <td>0</td>\n",
              "      <td>0</td>\n",
              "      <td>0</td>\n",
              "      <td>0</td>\n",
              "    </tr>\n",
              "  </tbody>\n",
              "</table>\n",
              "<p>5 rows × 48 columns</p>\n",
              "</div>\n",
              "      <button class=\"colab-df-convert\" onclick=\"convertToInteractive('df-af1078c5-5985-4d1e-9817-c3cc4a419e05')\"\n",
              "              title=\"Convert this dataframe to an interactive table.\"\n",
              "              style=\"display:none;\">\n",
              "        \n",
              "  <svg xmlns=\"http://www.w3.org/2000/svg\" height=\"24px\"viewBox=\"0 0 24 24\"\n",
              "       width=\"24px\">\n",
              "    <path d=\"M0 0h24v24H0V0z\" fill=\"none\"/>\n",
              "    <path d=\"M18.56 5.44l.94 2.06.94-2.06 2.06-.94-2.06-.94-.94-2.06-.94 2.06-2.06.94zm-11 1L8.5 8.5l.94-2.06 2.06-.94-2.06-.94L8.5 2.5l-.94 2.06-2.06.94zm10 10l.94 2.06.94-2.06 2.06-.94-2.06-.94-.94-2.06-.94 2.06-2.06.94z\"/><path d=\"M17.41 7.96l-1.37-1.37c-.4-.4-.92-.59-1.43-.59-.52 0-1.04.2-1.43.59L10.3 9.45l-7.72 7.72c-.78.78-.78 2.05 0 2.83L4 21.41c.39.39.9.59 1.41.59.51 0 1.02-.2 1.41-.59l7.78-7.78 2.81-2.81c.8-.78.8-2.07 0-2.86zM5.41 20L4 18.59l7.72-7.72 1.47 1.35L5.41 20z\"/>\n",
              "  </svg>\n",
              "      </button>\n",
              "      \n",
              "  <style>\n",
              "    .colab-df-container {\n",
              "      display:flex;\n",
              "      flex-wrap:wrap;\n",
              "      gap: 12px;\n",
              "    }\n",
              "\n",
              "    .colab-df-convert {\n",
              "      background-color: #E8F0FE;\n",
              "      border: none;\n",
              "      border-radius: 50%;\n",
              "      cursor: pointer;\n",
              "      display: none;\n",
              "      fill: #1967D2;\n",
              "      height: 32px;\n",
              "      padding: 0 0 0 0;\n",
              "      width: 32px;\n",
              "    }\n",
              "\n",
              "    .colab-df-convert:hover {\n",
              "      background-color: #E2EBFA;\n",
              "      box-shadow: 0px 1px 2px rgba(60, 64, 67, 0.3), 0px 1px 3px 1px rgba(60, 64, 67, 0.15);\n",
              "      fill: #174EA6;\n",
              "    }\n",
              "\n",
              "    [theme=dark] .colab-df-convert {\n",
              "      background-color: #3B4455;\n",
              "      fill: #D2E3FC;\n",
              "    }\n",
              "\n",
              "    [theme=dark] .colab-df-convert:hover {\n",
              "      background-color: #434B5C;\n",
              "      box-shadow: 0px 1px 3px 1px rgba(0, 0, 0, 0.15);\n",
              "      filter: drop-shadow(0px 1px 2px rgba(0, 0, 0, 0.3));\n",
              "      fill: #FFFFFF;\n",
              "    }\n",
              "  </style>\n",
              "\n",
              "      <script>\n",
              "        const buttonEl =\n",
              "          document.querySelector('#df-af1078c5-5985-4d1e-9817-c3cc4a419e05 button.colab-df-convert');\n",
              "        buttonEl.style.display =\n",
              "          google.colab.kernel.accessAllowed ? 'block' : 'none';\n",
              "\n",
              "        async function convertToInteractive(key) {\n",
              "          const element = document.querySelector('#df-af1078c5-5985-4d1e-9817-c3cc4a419e05');\n",
              "          const dataTable =\n",
              "            await google.colab.kernel.invokeFunction('convertToInteractive',\n",
              "                                                     [key], {});\n",
              "          if (!dataTable) return;\n",
              "\n",
              "          const docLinkHtml = 'Like what you see? Visit the ' +\n",
              "            '<a target=\"_blank\" href=https://colab.research.google.com/notebooks/data_table.ipynb>data table notebook</a>'\n",
              "            + ' to learn more about interactive tables.';\n",
              "          element.innerHTML = '';\n",
              "          dataTable['output_type'] = 'display_data';\n",
              "          await google.colab.output.renderOutput(dataTable, element);\n",
              "          const docLink = document.createElement('div');\n",
              "          docLink.innerHTML = docLinkHtml;\n",
              "          element.appendChild(docLink);\n",
              "        }\n",
              "      </script>\n",
              "    </div>\n",
              "  </div>\n",
              "  "
            ]
          },
          "metadata": {},
          "execution_count": 18
        }
      ]
    },
    {
      "cell_type": "markdown",
      "source": [
        "Selanjutnya kita akan menampilkan data sebaran genre anime"
      ],
      "metadata": {
        "id": "bS160S1xFh-p"
      }
    },
    {
      "cell_type": "code",
      "execution_count": 19,
      "metadata": {
        "colab": {
          "base_uri": "https://localhost:8080/",
          "height": 621
        },
        "id": "1tzXQ1Dg_xpg",
        "outputId": "a08ba493-ac33-4e40-a1b1-8a60f638f578"
      },
      "outputs": [
        {
          "output_type": "display_data",
          "data": {
            "text/plain": [
              "<Figure size 1008x720 with 1 Axes>"
            ],
            "image/png": "[encoded data removed]"
          },
          "metadata": {
            "needs_background": "light"
          }
        }
      ],
      "source": [
        "data = anime_genre.iloc[:,4:].sum().reset_index()\n",
        "data.columns = ['Name','total']\n",
        "\n",
        "plt.figure(figsize=(14,10))\n",
        "sns.barplot(y='Name', x='total', data=data, palette='icefire_r')\n",
        "plt.title('Distribusi Sebaran Genre Anime')\n",
        "plt.show()"
      ]
    },
    {
      "cell_type": "markdown",
      "metadata": {
        "id": "_5lycyVqaJh5"
      },
      "source": [
        "# Data Preparation"
      ]
    },
    {
      "cell_type": "markdown",
      "metadata": {
        "id": "bwxl4OdlYTHt"
      },
      "source": [
        "**Mengecek Missing Value**"
      ]
    },
    {
      "cell_type": "code",
      "execution_count": 20,
      "metadata": {
        "colab": {
          "base_uri": "https://localhost:8080/"
        },
        "id": "6UWNjMDn_-Vc",
        "outputId": "ba51559f-49a9-4e14-a118-f7201c7510bb"
      },
      "outputs": [
        {
          "output_type": "execute_result",
          "data": {
            "text/plain": [
              "MAL_ID    0\n",
              "Genres    0\n",
              "Name      0\n",
              "Rating    0\n",
              "dtype: int64"
            ]
          },
          "metadata": {},
          "execution_count": 20
        }
      ],
      "source": [
        "df_anime.isnull().sum()"
      ]
    },
    {
      "cell_type": "markdown",
      "metadata": {
        "id": "dyaHROHKYbcn"
      },
      "source": [
        "tidak ada data missing value pada datase"
      ]
    },
    {
      "cell_type": "code",
      "execution_count": 21,
      "metadata": {
        "colab": {
          "base_uri": "https://localhost:8080/"
        },
        "id": "V3LAq5TYZ3vn",
        "outputId": "bf5268b6-c9e5-4cf0-eb3f-70a2f8634494"
      },
      "outputs": [
        {
          "output_type": "execute_result",
          "data": {
            "text/plain": [
              "uid          0\n",
              "anime_uid    0\n",
              "score        0\n",
              "dtype: int64"
            ]
          },
          "metadata": {},
          "execution_count": 21
        }
      ],
      "source": [
        "df_rating.isnull().sum()"
      ]
    },
    {
      "cell_type": "markdown",
      "metadata": {
        "id": "d6zKnbkyY_kp"
      },
      "source": [
        "untuk dataset rating tidak terdapat missing value"
      ]
    },
    {
      "cell_type": "code",
      "execution_count": 22,
      "metadata": {
        "colab": {
          "base_uri": "https://localhost:8080/"
        },
        "id": "6EvZAND3ZsFv",
        "outputId": "1c16dcee-0d47-408c-a3bc-bfa59286812e"
      },
      "outputs": [
        {
          "output_type": "execute_result",
          "data": {
            "text/plain": [
              "MAL_ID    0\n",
              "Genres    0\n",
              "Name      0\n",
              "Rating    0\n",
              "dtype: int64"
            ]
          },
          "metadata": {},
          "execution_count": 22
        }
      ],
      "source": [
        "df_anime.isnull().sum()"
      ]
    },
    {
      "cell_type": "markdown",
      "metadata": {
        "id": "n0qXfMXhZM_8"
      },
      "source": [
        "**Mengecek data Duplikat**"
      ]
    },
    {
      "cell_type": "code",
      "execution_count": 23,
      "metadata": {
        "colab": {
          "base_uri": "https://localhost:8080/"
        },
        "id": "sAR3FqvC0Hgp",
        "outputId": "66c2b459-2a41-4545-cea1-fdd120a1b405"
      },
      "outputs": [
        {
          "output_type": "execute_result",
          "data": {
            "text/plain": [
              "0"
            ]
          },
          "metadata": {},
          "execution_count": 23
        }
      ],
      "source": [
        "df_anime.duplicated().sum()"
      ]
    },
    {
      "cell_type": "code",
      "execution_count": 24,
      "metadata": {
        "colab": {
          "base_uri": "https://localhost:8080/"
        },
        "id": "8SMoLb05ajQK",
        "outputId": "9b09caf3-b831-4c65-976b-62fc052a9325"
      },
      "outputs": [
        {
          "output_type": "execute_result",
          "data": {
            "text/plain": [
              "61593"
            ]
          },
          "metadata": {},
          "execution_count": 24
        }
      ],
      "source": [
        "df_rating.duplicated().sum()"
      ]
    },
    {
      "cell_type": "markdown",
      "metadata": {
        "id": "10r6-s8Hav_9"
      },
      "source": [
        "pada data rating terdapat 61593 data duplikat dan data ini akan kita hapus saja"
      ]
    },
    {
      "cell_type": "code",
      "execution_count": 25,
      "metadata": {
        "colab": {
          "base_uri": "https://localhost:8080/"
        },
        "id": "wkv2L1aPa5Gm",
        "outputId": "c9fb8825-4599-4680-efc0-359b04b42b0b"
      },
      "outputs": [
        {
          "output_type": "execute_result",
          "data": {
            "text/plain": [
              "0"
            ]
          },
          "metadata": {},
          "execution_count": 25
        }
      ],
      "source": [
        "df_rating.drop_duplicates(subset=['uid','anime_uid'], keep='first', inplace=True)\n",
        "df_rating.duplicated().sum()"
      ]
    },
    {
      "cell_type": "markdown",
      "metadata": {
        "id": "F4qo-GIPbvVW"
      },
      "source": [
        "# Model Development"
      ]
    },
    {
      "cell_type": "markdown",
      "metadata": {
        "id": "qx79L28Mbymr"
      },
      "source": [
        "\n",
        "\n",
        "# **Content-Based-Filtering**\n",
        "\n"
      ]
    },
    {
      "cell_type": "markdown",
      "metadata": {
        "id": "6LnO7VhfcLVg"
      },
      "source": [
        "pertama kita akan mempersiapkan data untuk cosine similarity dengan TfidfVectorizer, lalu mendapatkan fiur penting pada data genre "
      ]
    },
    {
      "cell_type": "code",
      "execution_count": 26,
      "metadata": {
        "colab": {
          "base_uri": "https://localhost:8080/"
        },
        "id": "bCmfyG49Bel1",
        "outputId": "a97dbd94-e0ad-407e-8514-12f90b589a71"
      },
      "outputs": [
        {
          "output_type": "stream",
          "name": "stderr",
          "text": [
            "/usr/local/lib/python3.7/dist-packages/sklearn/utils/deprecation.py:87: FutureWarning: Function get_feature_names is deprecated; get_feature_names is deprecated in 1.0 and will be removed in 1.2. Please use get_feature_names_out instead.\n",
            "  warnings.warn(msg, category=FutureWarning)\n"
          ]
        },
        {
          "output_type": "execute_result",
          "data": {
            "text/plain": [
              "['action',\n",
              " 'adventure',\n",
              " 'ai',\n",
              " 'arts',\n",
              " 'cars',\n",
              " 'comedy',\n",
              " 'dementia',\n",
              " 'demons',\n",
              " 'drama',\n",
              " 'ecchi',\n",
              " 'fantasy',\n",
              " 'fi',\n",
              " 'game',\n",
              " 'harem',\n",
              " 'hentai',\n",
              " 'historical',\n",
              " 'horror',\n",
              " 'josei',\n",
              " 'kids',\n",
              " 'life',\n",
              " 'magic',\n",
              " 'martial',\n",
              " 'mecha',\n",
              " 'military',\n",
              " 'music',\n",
              " 'mystery',\n",
              " 'parody',\n",
              " 'police',\n",
              " 'power',\n",
              " 'psychological',\n",
              " 'romance',\n",
              " 'samurai',\n",
              " 'school',\n",
              " 'sci',\n",
              " 'seinen',\n",
              " 'shoujo',\n",
              " 'shounen',\n",
              " 'slice',\n",
              " 'space',\n",
              " 'sports',\n",
              " 'super',\n",
              " 'supernatural',\n",
              " 'thriller',\n",
              " 'unknown',\n",
              " 'vampire',\n",
              " 'yaoi',\n",
              " 'yuri']"
            ]
          },
          "metadata": {},
          "execution_count": 26
        }
      ],
      "source": [
        "tfid = TfidfVectorizer(stop_words='english')\n",
        "tfid.fit(df_anime['Genres'])\n",
        "tfid.get_feature_names()"
      ]
    },
    {
      "cell_type": "markdown",
      "metadata": {
        "id": "_mzYZ-JbdQ6F"
      },
      "source": [
        "selanjutnya kita akan melakukan fitting dan mengubah kedalam bentuk matriks"
      ]
    },
    {
      "cell_type": "code",
      "execution_count": 27,
      "metadata": {
        "colab": {
          "base_uri": "https://localhost:8080/"
        },
        "id": "6_uWvQXPCUps",
        "outputId": "c402dfe1-6f23-4ffa-adf4-16527b88abe8"
      },
      "outputs": [
        {
          "output_type": "execute_result",
          "data": {
            "text/plain": [
              "(17562, 47)"
            ]
          },
          "metadata": {},
          "execution_count": 27
        }
      ],
      "source": [
        "tfidf_matrix = tfid.fit_transform(df_anime['Genres']) \n",
        "tfidf_matrix.shape"
      ]
    },
    {
      "cell_type": "markdown",
      "metadata": {
        "id": "DIrLD8wjdr34"
      },
      "source": [
        "angka diatas adalah ukuran dari matriks kita, dan untuk melihat vektor tf-idf dalam bentuk matriks kita jalankan kode berikut"
      ]
    },
    {
      "cell_type": "code",
      "execution_count": 28,
      "metadata": {
        "colab": {
          "base_uri": "https://localhost:8080/"
        },
        "id": "jBaKXxjtCZnl",
        "outputId": "6e3dc078-197c-4f21-8334-02346e11edc1"
      },
      "outputs": [
        {
          "output_type": "stream",
          "name": "stdout",
          "text": [
            "(17562, 17562)\n"
          ]
        },
        {
          "output_type": "execute_result",
          "data": {
            "text/plain": [
              "array([[1.        , 0.78149159, 0.74413675, ..., 0.        , 0.26144077,\n",
              "        0.21333391],\n",
              "       [0.78149159, 1.        , 0.51816708, ..., 0.18292702, 0.        ,\n",
              "        0.2048185 ],\n",
              "       [0.74413675, 0.51816708, 1.        , ..., 0.        , 0.28731405,\n",
              "        0.23444634],\n",
              "       ...,\n",
              "       [0.        , 0.18292702, 0.        , ..., 1.        , 0.        ,\n",
              "        0.        ],\n",
              "       [0.26144077, 0.        , 0.28731405, ..., 0.        , 1.        ,\n",
              "        0.        ],\n",
              "       [0.21333391, 0.2048185 , 0.23444634, ..., 0.        , 0.        ,\n",
              "        1.        ]])"
            ]
          },
          "metadata": {},
          "execution_count": 28
        }
      ],
      "source": [
        "cosine_sim = cosine_similarity(tfidf_matrix)\n",
        "print(cosine_sim.shape)\n",
        "cosine_sim"
      ]
    },
    {
      "cell_type": "markdown",
      "metadata": {
        "id": "CurC7UKdeEgC"
      },
      "source": [
        "dari matriks tf-idf diatas kita lihat bagaimana similarity dari dataset anime yang kita miliki"
      ]
    },
    {
      "cell_type": "code",
      "execution_count": 29,
      "metadata": {
        "colab": {
          "base_uri": "https://localhost:8080/",
          "height": 664
        },
        "id": "aTzCorAnCe-G",
        "outputId": "49240086-51c7-4a45-bf86-a1d0dde59151"
      },
      "outputs": [
        {
          "output_type": "stream",
          "name": "stdout",
          "text": [
            "Size dataframe: (17562, 17562)\n"
          ]
        },
        {
          "output_type": "execute_result",
          "data": {
            "text/plain": [
              "Name                     Stringendo+Accelerando Ultimatum Sera  \\\n",
              "Name                                                             \n",
              "Feng Ji Yun Nu                                             0.0   \n",
              "Kirai, Demo, Suki                                          0.0   \n",
              "Muku no Ki no Hanashi                                      0.0   \n",
              "Gakkou no Kaidan Recaps                                    0.0   \n",
              "Pussy                                                      0.0   \n",
              "Saibi                                                      0.0   \n",
              "Ane to Boin                                                1.0   \n",
              "Super Kuma-san                                             0.0   \n",
              "Bobobo-bo Bo-bobo                                          0.0   \n",
              "Eyedrops Episode 0                                         0.0   \n",
              "\n",
              "Name                     Nanocore 2nd Season  Can Ci Pin  Shin Ace wo Nerae!  \\\n",
              "Name                                                                           \n",
              "Feng Ji Yun Nu                      0.182727    0.000000            0.000000   \n",
              "Kirai, Demo, Suki                   0.686461    0.803379            0.000000   \n",
              "Muku no Ki no Hanashi               0.000000    0.000000            0.000000   \n",
              "Gakkou no Kaidan Recaps             0.000000    0.000000            0.000000   \n",
              "Pussy                               0.000000    0.000000            0.000000   \n",
              "Saibi                               0.000000    0.000000            0.127323   \n",
              "Ane to Boin                         0.000000    0.000000            0.000000   \n",
              "Super Kuma-san                      0.000000    0.000000            0.000000   \n",
              "Bobobo-bo Bo-bobo                   0.565969    0.662365            0.000000   \n",
              "Eyedrops Episode 0                  0.000000    0.000000            0.000000   \n",
              "\n",
              "Name                     Yurumates wa?  \\\n",
              "Name                                     \n",
              "Feng Ji Yun Nu                0.000000   \n",
              "Kirai, Demo, Suki             0.000000   \n",
              "Muku no Ki no Hanashi         0.000000   \n",
              "Gakkou no Kaidan Recaps       0.000000   \n",
              "Pussy                         0.000000   \n",
              "Saibi                         0.000000   \n",
              "Ane to Boin                   0.000000   \n",
              "Super Kuma-san                0.196742   \n",
              "Bobobo-bo Bo-bobo             0.106878   \n",
              "Eyedrops Episode 0            0.000000   \n",
              "\n",
              "Name                     Tesapuru dayo! Schedule no Au Hito dake Shuugou!  \\\n",
              "Name                                                                        \n",
              "Feng Ji Yun Nu                                                   0.000000   \n",
              "Kirai, Demo, Suki                                                0.000000   \n",
              "Muku no Ki no Hanashi                                            0.000000   \n",
              "Gakkou no Kaidan Recaps                                          0.000000   \n",
              "Pussy                                                            0.000000   \n",
              "Saibi                                                            0.000000   \n",
              "Ane to Boin                                                      0.000000   \n",
              "Super Kuma-san                                                   0.611657   \n",
              "Bobobo-bo Bo-bobo                                                0.332275   \n",
              "Eyedrops Episode 0                                               0.000000   \n",
              "\n",
              "Name                     Touhai Densetsu Akagi: Yami ni Maiorita Tensai  \\\n",
              "Name                                                                      \n",
              "Feng Ji Yun Nu                                                  0.00000   \n",
              "Kirai, Demo, Suki                                               0.00000   \n",
              "Muku no Ki no Hanashi                                           0.00000   \n",
              "Gakkou no Kaidan Recaps                                         0.00000   \n",
              "Pussy                                                           0.00000   \n",
              "Saibi                                                           0.72355   \n",
              "Ane to Boin                                                     0.00000   \n",
              "Super Kuma-san                                                  0.00000   \n",
              "Bobobo-bo Bo-bobo                                               0.00000   \n",
              "Eyedrops Episode 0                                              0.00000   \n",
              "\n",
              "Name                      91 Daze  \\\n",
              "Name                                \n",
              "Feng Ji Yun Nu           0.000000   \n",
              "Kirai, Demo, Suki        0.000000   \n",
              "Muku no Ki no Hanashi    0.000000   \n",
              "Gakkou no Kaidan Recaps  0.000000   \n",
              "Pussy                    0.000000   \n",
              "Saibi                    0.000000   \n",
              "Ane to Boin              0.000000   \n",
              "Super Kuma-san           0.296675   \n",
              "Bobobo-bo Bo-bobo        0.161165   \n",
              "Eyedrops Episode 0       0.000000   \n",
              "\n",
              "Name                     Tensei shitara Slime Datta Ken: Kanwa - Veldora Nikki  \\\n",
              "Name                                                                             \n",
              "Feng Ji Yun Nu                                                    0.000000       \n",
              "Kirai, Demo, Suki                                                 0.000000       \n",
              "Muku no Ki no Hanashi                                             0.000000       \n",
              "Gakkou no Kaidan Recaps                                           0.000000       \n",
              "Pussy                                                             0.000000       \n",
              "Saibi                                                             0.000000       \n",
              "Ane to Boin                                                       0.000000       \n",
              "Super Kuma-san                                                    0.734861       \n",
              "Bobobo-bo Bo-bobo                                                 0.489386       \n",
              "Eyedrops Episode 0                                                0.000000       \n",
              "\n",
              "Name                     Danna ga Nani wo Itteiru ka Wakaranai Ken  \n",
              "Name                                                                \n",
              "Feng Ji Yun Nu                                            0.000000  \n",
              "Kirai, Demo, Suki                                         0.000000  \n",
              "Muku no Ki no Hanashi                                     0.000000  \n",
              "Gakkou no Kaidan Recaps                                   0.000000  \n",
              "Pussy                                                     0.000000  \n",
              "Saibi                                                     0.000000  \n",
              "Ane to Boin                                               0.000000  \n",
              "Super Kuma-san                                            0.175888  \n",
              "Bobobo-bo Bo-bobo                                         0.095549  \n",
              "Eyedrops Episode 0                                        0.000000  "
            ],
            "text/html": [
              "\n",
              "  <div id=\"df-d84ff687-c122-403b-949d-477ce9fa2ab1\">\n",
              "    <div class=\"colab-df-container\">\n",
              "      <div>\n",
              "<style scoped>\n",
              "    .dataframe tbody tr th:only-of-type {\n",
              "        vertical-align: middle;\n",
              "    }\n",
              "\n",
              "    .dataframe tbody tr th {\n",
              "        vertical-align: top;\n",
              "    }\n",
              "\n",
              "    .dataframe thead th {\n",
              "        text-align: right;\n",
              "    }\n",
              "</style>\n",
              "<table border=\"1\" class=\"dataframe\">\n",
              "  <thead>\n",
              "    <tr style=\"text-align: right;\">\n",
              "      <th>Name</th>\n",
              "      <th>Stringendo+Accelerando Ultimatum Sera</th>\n",
              "      <th>Nanocore 2nd Season</th>\n",
              "      <th>Can Ci Pin</th>\n",
              "      <th>Shin Ace wo Nerae!</th>\n",
              "      <th>Yurumates wa?</th>\n",
              "      <th>Tesapuru dayo! Schedule no Au Hito dake Shuugou!</th>\n",
              "      <th>Touhai Densetsu Akagi: Yami ni Maiorita Tensai</th>\n",
              "      <th>91 Daze</th>\n",
              "      <th>Tensei shitara Slime Datta Ken: Kanwa - Veldora Nikki</th>\n",
              "      <th>Danna ga Nani wo Itteiru ka Wakaranai Ken</th>\n",
              "    </tr>\n",
              "    <tr>\n",
              "      <th>Name</th>\n",
              "      <th></th>\n",
              "      <th></th>\n",
              "      <th></th>\n",
              "      <th></th>\n",
              "      <th></th>\n",
              "      <th></th>\n",
              "      <th></th>\n",
              "      <th></th>\n",
              "      <th></th>\n",
              "      <th></th>\n",
              "    </tr>\n",
              "  </thead>\n",
              "  <tbody>\n",
              "    <tr>\n",
              "      <th>Feng Ji Yun Nu</th>\n",
              "      <td>0.0</td>\n",
              "      <td>0.182727</td>\n",
              "      <td>0.000000</td>\n",
              "      <td>0.000000</td>\n",
              "      <td>0.000000</td>\n",
              "      <td>0.000000</td>\n",
              "      <td>0.00000</td>\n",
              "      <td>0.000000</td>\n",
              "      <td>0.000000</td>\n",
              "      <td>0.000000</td>\n",
              "    </tr>\n",
              "    <tr>\n",
              "      <th>Kirai, Demo, Suki</th>\n",
              "      <td>0.0</td>\n",
              "      <td>0.686461</td>\n",
              "      <td>0.803379</td>\n",
              "      <td>0.000000</td>\n",
              "      <td>0.000000</td>\n",
              "      <td>0.000000</td>\n",
              "      <td>0.00000</td>\n",
              "      <td>0.000000</td>\n",
              "      <td>0.000000</td>\n",
              "      <td>0.000000</td>\n",
              "    </tr>\n",
              "    <tr>\n",
              "      <th>Muku no Ki no Hanashi</th>\n",
              "      <td>0.0</td>\n",
              "      <td>0.000000</td>\n",
              "      <td>0.000000</td>\n",
              "      <td>0.000000</td>\n",
              "      <td>0.000000</td>\n",
              "      <td>0.000000</td>\n",
              "      <td>0.00000</td>\n",
              "      <td>0.000000</td>\n",
              "      <td>0.000000</td>\n",
              "      <td>0.000000</td>\n",
              "    </tr>\n",
              "    <tr>\n",
              "      <th>Gakkou no Kaidan Recaps</th>\n",
              "      <td>0.0</td>\n",
              "      <td>0.000000</td>\n",
              "      <td>0.000000</td>\n",
              "      <td>0.000000</td>\n",
              "      <td>0.000000</td>\n",
              "      <td>0.000000</td>\n",
              "      <td>0.00000</td>\n",
              "      <td>0.000000</td>\n",
              "      <td>0.000000</td>\n",
              "      <td>0.000000</td>\n",
              "    </tr>\n",
              "    <tr>\n",
              "      <th>Pussy</th>\n",
              "      <td>0.0</td>\n",
              "      <td>0.000000</td>\n",
              "      <td>0.000000</td>\n",
              "      <td>0.000000</td>\n",
              "      <td>0.000000</td>\n",
              "      <td>0.000000</td>\n",
              "      <td>0.00000</td>\n",
              "      <td>0.000000</td>\n",
              "      <td>0.000000</td>\n",
              "      <td>0.000000</td>\n",
              "    </tr>\n",
              "    <tr>\n",
              "      <th>Saibi</th>\n",
              "      <td>0.0</td>\n",
              "      <td>0.000000</td>\n",
              "      <td>0.000000</td>\n",
              "      <td>0.127323</td>\n",
              "      <td>0.000000</td>\n",
              "      <td>0.000000</td>\n",
              "      <td>0.72355</td>\n",
              "      <td>0.000000</td>\n",
              "      <td>0.000000</td>\n",
              "      <td>0.000000</td>\n",
              "    </tr>\n",
              "    <tr>\n",
              "      <th>Ane to Boin</th>\n",
              "      <td>1.0</td>\n",
              "      <td>0.000000</td>\n",
              "      <td>0.000000</td>\n",
              "      <td>0.000000</td>\n",
              "      <td>0.000000</td>\n",
              "      <td>0.000000</td>\n",
              "      <td>0.00000</td>\n",
              "      <td>0.000000</td>\n",
              "      <td>0.000000</td>\n",
              "      <td>0.000000</td>\n",
              "    </tr>\n",
              "    <tr>\n",
              "      <th>Super Kuma-san</th>\n",
              "      <td>0.0</td>\n",
              "      <td>0.000000</td>\n",
              "      <td>0.000000</td>\n",
              "      <td>0.000000</td>\n",
              "      <td>0.196742</td>\n",
              "      <td>0.611657</td>\n",
              "      <td>0.00000</td>\n",
              "      <td>0.296675</td>\n",
              "      <td>0.734861</td>\n",
              "      <td>0.175888</td>\n",
              "    </tr>\n",
              "    <tr>\n",
              "      <th>Bobobo-bo Bo-bobo</th>\n",
              "      <td>0.0</td>\n",
              "      <td>0.565969</td>\n",
              "      <td>0.662365</td>\n",
              "      <td>0.000000</td>\n",
              "      <td>0.106878</td>\n",
              "      <td>0.332275</td>\n",
              "      <td>0.00000</td>\n",
              "      <td>0.161165</td>\n",
              "      <td>0.489386</td>\n",
              "      <td>0.095549</td>\n",
              "    </tr>\n",
              "    <tr>\n",
              "      <th>Eyedrops Episode 0</th>\n",
              "      <td>0.0</td>\n",
              "      <td>0.000000</td>\n",
              "      <td>0.000000</td>\n",
              "      <td>0.000000</td>\n",
              "      <td>0.000000</td>\n",
              "      <td>0.000000</td>\n",
              "      <td>0.00000</td>\n",
              "      <td>0.000000</td>\n",
              "      <td>0.000000</td>\n",
              "      <td>0.000000</td>\n",
              "    </tr>\n",
              "  </tbody>\n",
              "</table>\n",
              "</div>\n",
              "      <button class=\"colab-df-convert\" onclick=\"convertToInteractive('df-d84ff687-c122-403b-949d-477ce9fa2ab1')\"\n",
              "              title=\"Convert this dataframe to an interactive table.\"\n",
              "              style=\"display:none;\">\n",
              "        \n",
              "  <svg xmlns=\"http://www.w3.org/2000/svg\" height=\"24px\"viewBox=\"0 0 24 24\"\n",
              "       width=\"24px\">\n",
              "    <path d=\"M0 0h24v24H0V0z\" fill=\"none\"/>\n",
              "    <path d=\"M18.56 5.44l.94 2.06.94-2.06 2.06-.94-2.06-.94-.94-2.06-.94 2.06-2.06.94zm-11 1L8.5 8.5l.94-2.06 2.06-.94-2.06-.94L8.5 2.5l-.94 2.06-2.06.94zm10 10l.94 2.06.94-2.06 2.06-.94-2.06-.94-.94-2.06-.94 2.06-2.06.94z\"/><path d=\"M17.41 7.96l-1.37-1.37c-.4-.4-.92-.59-1.43-.59-.52 0-1.04.2-1.43.59L10.3 9.45l-7.72 7.72c-.78.78-.78 2.05 0 2.83L4 21.41c.39.39.9.59 1.41.59.51 0 1.02-.2 1.41-.59l7.78-7.78 2.81-2.81c.8-.78.8-2.07 0-2.86zM5.41 20L4 18.59l7.72-7.72 1.47 1.35L5.41 20z\"/>\n",
              "  </svg>\n",
              "      </button>\n",
              "      \n",
              "  <style>\n",
              "    .colab-df-container {\n",
              "      display:flex;\n",
              "      flex-wrap:wrap;\n",
              "      gap: 12px;\n",
              "    }\n",
              "\n",
              "    .colab-df-convert {\n",
              "      background-color: #E8F0FE;\n",
              "      border: none;\n",
              "      border-radius: 50%;\n",
              "      cursor: pointer;\n",
              "      display: none;\n",
              "      fill: #1967D2;\n",
              "      height: 32px;\n",
              "      padding: 0 0 0 0;\n",
              "      width: 32px;\n",
              "    }\n",
              "\n",
              "    .colab-df-convert:hover {\n",
              "      background-color: #E2EBFA;\n",
              "      box-shadow: 0px 1px 2px rgba(60, 64, 67, 0.3), 0px 1px 3px 1px rgba(60, 64, 67, 0.15);\n",
              "      fill: #174EA6;\n",
              "    }\n",
              "\n",
              "    [theme=dark] .colab-df-convert {\n",
              "      background-color: #3B4455;\n",
              "      fill: #D2E3FC;\n",
              "    }\n",
              "\n",
              "    [theme=dark] .colab-df-convert:hover {\n",
              "      background-color: #434B5C;\n",
              "      box-shadow: 0px 1px 3px 1px rgba(0, 0, 0, 0.15);\n",
              "      filter: drop-shadow(0px 1px 2px rgba(0, 0, 0, 0.3));\n",
              "      fill: #FFFFFF;\n",
              "    }\n",
              "  </style>\n",
              "\n",
              "      <script>\n",
              "        const buttonEl =\n",
              "          document.querySelector('#df-d84ff687-c122-403b-949d-477ce9fa2ab1 button.colab-df-convert');\n",
              "        buttonEl.style.display =\n",
              "          google.colab.kernel.accessAllowed ? 'block' : 'none';\n",
              "\n",
              "        async function convertToInteractive(key) {\n",
              "          const element = document.querySelector('#df-d84ff687-c122-403b-949d-477ce9fa2ab1');\n",
              "          const dataTable =\n",
              "            await google.colab.kernel.invokeFunction('convertToInteractive',\n",
              "                                                     [key], {});\n",
              "          if (!dataTable) return;\n",
              "\n",
              "          const docLinkHtml = 'Like what you see? Visit the ' +\n",
              "            '<a target=\"_blank\" href=https://colab.research.google.com/notebooks/data_table.ipynb>data table notebook</a>'\n",
              "            + ' to learn more about interactive tables.';\n",
              "          element.innerHTML = '';\n",
              "          dataTable['output_type'] = 'display_data';\n",
              "          await google.colab.output.renderOutput(dataTable, element);\n",
              "          const docLink = document.createElement('div');\n",
              "          docLink.innerHTML = docLinkHtml;\n",
              "          element.appendChild(docLink);\n",
              "        }\n",
              "      </script>\n",
              "    </div>\n",
              "  </div>\n",
              "  "
            ]
          },
          "metadata": {},
          "execution_count": 29
        }
      ],
      "source": [
        "cosine_sim_df = pd.DataFrame(cosine_sim, index=df_anime['Name'],\n",
        "                             columns=df_anime['Name'])\n",
        "print('Size dataframe:', cosine_sim_df.shape)\n",
        "cosine_sim_df.sample(10, axis=1).sample(10, axis=0)"
      ]
    },
    {
      "cell_type": "markdown",
      "metadata": {
        "id": "1Uvlp_L2e_MM"
      },
      "source": [
        "# Model"
      ]
    },
    {
      "cell_type": "markdown",
      "metadata": {
        "id": "RjtuXOB8e_KT"
      },
      "source": [
        "selanjutnya kita akan membuat fungsi untuk merekomendasikan 10 anime berdasarkan similaritynya "
      ]
    },
    {
      "cell_type": "code",
      "execution_count": 30,
      "metadata": {
        "id": "DJFZGdUXCw-G"
      },
      "outputs": [],
      "source": [
        "def AnimeRecommendations(anime_name, similarity_data=cosine_sim_df, \n",
        "                         items=df_anime[['MAL_ID','Name','Genres']], k=10):\n",
        "  \n",
        "    ''' Mengambil data menggunakan argpartition untuk partisi secara tidak langsung,\n",
        "    sepanjang sumbu yang diberikan, kemudian dataframe diubah menjadi numpy Range \n",
        "    dengan parameter sebagai berikut (start, stop, step) '''\n",
        "    index = similarity_data.loc[:, anime_name].to_numpy().argpartition(\n",
        "        range(-1, -k, -1)\n",
        "    )\n",
        "    closest = similarity_data.columns[index[-1:-(k+2):-1]]\n",
        "    closest = closest.drop(anime_name, errors='ignore')\n",
        "    return pd.DataFrame(closest).merge(items).head(k)"
      ]
    },
    {
      "cell_type": "markdown",
      "metadata": {
        "id": "V2zq5FBYfZBh"
      },
      "source": [
        "selanjutnya kita akan menyalin data tersendiri untuk conten base filtering dengan nama variabel df_anime_cbf"
      ]
    },
    {
      "cell_type": "code",
      "execution_count": 31,
      "metadata": {
        "id": "5ZOX9AUzDWOs"
      },
      "outputs": [],
      "source": [
        "df_anime_cbf = df_anime.copy()"
      ]
    },
    {
      "cell_type": "markdown",
      "metadata": {
        "id": "-V4p3AA3gIW8"
      },
      "source": [
        "# Collaborative Filtering"
      ]
    },
    {
      "cell_type": "markdown",
      "metadata": {
        "id": "NFnw_fhTgMe_"
      },
      "source": [
        "pertama kita perlu menggabungkan data anime dan rating terlebih dahulu, dan menyamakan variabel yang akan kita gabungkan"
      ]
    },
    {
      "cell_type": "code",
      "execution_count": 32,
      "metadata": {
        "colab": {
          "base_uri": "https://localhost:8080/",
          "height": 206
        },
        "id": "RYJs1F0ino0o",
        "outputId": "5c0d0c52-57b2-4fd9-bb4e-8a1c895944cf"
      },
      "outputs": [
        {
          "output_type": "execute_result",
          "data": {
            "text/plain": [
              "   anime_id                                              genre  \\\n",
              "0         1    Action, Adventure, Comedy, Drama, Sci-Fi, Space   \n",
              "1         5              Action, Drama, Mystery, Sci-Fi, Space   \n",
              "2         6  Action, Sci-Fi, Adventure, Comedy, Drama, Shounen   \n",
              "3         7  Action, Mystery, Police, Supernatural, Drama, ...   \n",
              "4         8          Adventure, Fantasy, Shounen, Supernatural   \n",
              "\n",
              "                              name                          Rating  \n",
              "0                     Cowboy Bebop  R - 17+ (violence & profanity)  \n",
              "1  Cowboy Bebop: Tengoku no Tobira  R - 17+ (violence & profanity)  \n",
              "2                           Trigun       PG-13 - Teens 13 or older  \n",
              "3               Witch Hunter Robin       PG-13 - Teens 13 or older  \n",
              "4                   Bouken Ou Beet                   PG - Children  "
            ],
            "text/html": [
              "\n",
              "  <div id=\"df-f2e2ac5b-e4cb-43fb-ba5d-bf7aeb33cf82\">\n",
              "    <div class=\"colab-df-container\">\n",
              "      <div>\n",
              "<style scoped>\n",
              "    .dataframe tbody tr th:only-of-type {\n",
              "        vertical-align: middle;\n",
              "    }\n",
              "\n",
              "    .dataframe tbody tr th {\n",
              "        vertical-align: top;\n",
              "    }\n",
              "\n",
              "    .dataframe thead th {\n",
              "        text-align: right;\n",
              "    }\n",
              "</style>\n",
              "<table border=\"1\" class=\"dataframe\">\n",
              "  <thead>\n",
              "    <tr style=\"text-align: right;\">\n",
              "      <th></th>\n",
              "      <th>anime_id</th>\n",
              "      <th>genre</th>\n",
              "      <th>name</th>\n",
              "      <th>Rating</th>\n",
              "    </tr>\n",
              "  </thead>\n",
              "  <tbody>\n",
              "    <tr>\n",
              "      <th>0</th>\n",
              "      <td>1</td>\n",
              "      <td>Action, Adventure, Comedy, Drama, Sci-Fi, Space</td>\n",
              "      <td>Cowboy Bebop</td>\n",
              "      <td>R - 17+ (violence &amp; profanity)</td>\n",
              "    </tr>\n",
              "    <tr>\n",
              "      <th>1</th>\n",
              "      <td>5</td>\n",
              "      <td>Action, Drama, Mystery, Sci-Fi, Space</td>\n",
              "      <td>Cowboy Bebop: Tengoku no Tobira</td>\n",
              "      <td>R - 17+ (violence &amp; profanity)</td>\n",
              "    </tr>\n",
              "    <tr>\n",
              "      <th>2</th>\n",
              "      <td>6</td>\n",
              "      <td>Action, Sci-Fi, Adventure, Comedy, Drama, Shounen</td>\n",
              "      <td>Trigun</td>\n",
              "      <td>PG-13 - Teens 13 or older</td>\n",
              "    </tr>\n",
              "    <tr>\n",
              "      <th>3</th>\n",
              "      <td>7</td>\n",
              "      <td>Action, Mystery, Police, Supernatural, Drama, ...</td>\n",
              "      <td>Witch Hunter Robin</td>\n",
              "      <td>PG-13 - Teens 13 or older</td>\n",
              "    </tr>\n",
              "    <tr>\n",
              "      <th>4</th>\n",
              "      <td>8</td>\n",
              "      <td>Adventure, Fantasy, Shounen, Supernatural</td>\n",
              "      <td>Bouken Ou Beet</td>\n",
              "      <td>PG - Children</td>\n",
              "    </tr>\n",
              "  </tbody>\n",
              "</table>\n",
              "</div>\n",
              "      <button class=\"colab-df-convert\" onclick=\"convertToInteractive('df-f2e2ac5b-e4cb-43fb-ba5d-bf7aeb33cf82')\"\n",
              "              title=\"Convert this dataframe to an interactive table.\"\n",
              "              style=\"display:none;\">\n",
              "        \n",
              "  <svg xmlns=\"http://www.w3.org/2000/svg\" height=\"24px\"viewBox=\"0 0 24 24\"\n",
              "       width=\"24px\">\n",
              "    <path d=\"M0 0h24v24H0V0z\" fill=\"none\"/>\n",
              "    <path d=\"M18.56 5.44l.94 2.06.94-2.06 2.06-.94-2.06-.94-.94-2.06-.94 2.06-2.06.94zm-11 1L8.5 8.5l.94-2.06 2.06-.94-2.06-.94L8.5 2.5l-.94 2.06-2.06.94zm10 10l.94 2.06.94-2.06 2.06-.94-2.06-.94-.94-2.06-.94 2.06-2.06.94z\"/><path d=\"M17.41 7.96l-1.37-1.37c-.4-.4-.92-.59-1.43-.59-.52 0-1.04.2-1.43.59L10.3 9.45l-7.72 7.72c-.78.78-.78 2.05 0 2.83L4 21.41c.39.39.9.59 1.41.59.51 0 1.02-.2 1.41-.59l7.78-7.78 2.81-2.81c.8-.78.8-2.07 0-2.86zM5.41 20L4 18.59l7.72-7.72 1.47 1.35L5.41 20z\"/>\n",
              "  </svg>\n",
              "      </button>\n",
              "      \n",
              "  <style>\n",
              "    .colab-df-container {\n",
              "      display:flex;\n",
              "      flex-wrap:wrap;\n",
              "      gap: 12px;\n",
              "    }\n",
              "\n",
              "    .colab-df-convert {\n",
              "      background-color: #E8F0FE;\n",
              "      border: none;\n",
              "      border-radius: 50%;\n",
              "      cursor: pointer;\n",
              "      display: none;\n",
              "      fill: #1967D2;\n",
              "      height: 32px;\n",
              "      padding: 0 0 0 0;\n",
              "      width: 32px;\n",
              "    }\n",
              "\n",
              "    .colab-df-convert:hover {\n",
              "      background-color: #E2EBFA;\n",
              "      box-shadow: 0px 1px 2px rgba(60, 64, 67, 0.3), 0px 1px 3px 1px rgba(60, 64, 67, 0.15);\n",
              "      fill: #174EA6;\n",
              "    }\n",
              "\n",
              "    [theme=dark] .colab-df-convert {\n",
              "      background-color: #3B4455;\n",
              "      fill: #D2E3FC;\n",
              "    }\n",
              "\n",
              "    [theme=dark] .colab-df-convert:hover {\n",
              "      background-color: #434B5C;\n",
              "      box-shadow: 0px 1px 3px 1px rgba(0, 0, 0, 0.15);\n",
              "      filter: drop-shadow(0px 1px 2px rgba(0, 0, 0, 0.3));\n",
              "      fill: #FFFFFF;\n",
              "    }\n",
              "  </style>\n",
              "\n",
              "      <script>\n",
              "        const buttonEl =\n",
              "          document.querySelector('#df-f2e2ac5b-e4cb-43fb-ba5d-bf7aeb33cf82 button.colab-df-convert');\n",
              "        buttonEl.style.display =\n",
              "          google.colab.kernel.accessAllowed ? 'block' : 'none';\n",
              "\n",
              "        async function convertToInteractive(key) {\n",
              "          const element = document.querySelector('#df-f2e2ac5b-e4cb-43fb-ba5d-bf7aeb33cf82');\n",
              "          const dataTable =\n",
              "            await google.colab.kernel.invokeFunction('convertToInteractive',\n",
              "                                                     [key], {});\n",
              "          if (!dataTable) return;\n",
              "\n",
              "          const docLinkHtml = 'Like what you see? Visit the ' +\n",
              "            '<a target=\"_blank\" href=https://colab.research.google.com/notebooks/data_table.ipynb>data table notebook</a>'\n",
              "            + ' to learn more about interactive tables.';\n",
              "          element.innerHTML = '';\n",
              "          dataTable['output_type'] = 'display_data';\n",
              "          await google.colab.output.renderOutput(dataTable, element);\n",
              "          const docLink = document.createElement('div');\n",
              "          docLink.innerHTML = docLinkHtml;\n",
              "          element.appendChild(docLink);\n",
              "        }\n",
              "      </script>\n",
              "    </div>\n",
              "  </div>\n",
              "  "
            ]
          },
          "metadata": {},
          "execution_count": 32
        }
      ],
      "source": [
        "df_anime.columns = ['anime_id', 'genre', 'name', 'Rating']\n",
        "df_anime.head()"
      ]
    },
    {
      "cell_type": "code",
      "execution_count": 33,
      "metadata": {
        "colab": {
          "base_uri": "https://localhost:8080/",
          "height": 206
        },
        "id": "dIEmU7QKgxgq",
        "outputId": "a99fa101-92f4-4e92-f541-cdde0e391c32"
      },
      "outputs": [
        {
          "output_type": "execute_result",
          "data": {
            "text/plain": [
              "   user_id  anime_id  rating\n",
              "0   255938     34096       8\n",
              "1   259117     34599      10\n",
              "2   253664     28891       7\n",
              "3     8254      2904       9\n",
              "4   291149      4181      10"
            ],
            "text/html": [
              "\n",
              "  <div id=\"df-3c7ee0bf-b8d6-44b4-a6ac-812859a01e6c\">\n",
              "    <div class=\"colab-df-container\">\n",
              "      <div>\n",
              "<style scoped>\n",
              "    .dataframe tbody tr th:only-of-type {\n",
              "        vertical-align: middle;\n",
              "    }\n",
              "\n",
              "    .dataframe tbody tr th {\n",
              "        vertical-align: top;\n",
              "    }\n",
              "\n",
              "    .dataframe thead th {\n",
              "        text-align: right;\n",
              "    }\n",
              "</style>\n",
              "<table border=\"1\" class=\"dataframe\">\n",
              "  <thead>\n",
              "    <tr style=\"text-align: right;\">\n",
              "      <th></th>\n",
              "      <th>user_id</th>\n",
              "      <th>anime_id</th>\n",
              "      <th>rating</th>\n",
              "    </tr>\n",
              "  </thead>\n",
              "  <tbody>\n",
              "    <tr>\n",
              "      <th>0</th>\n",
              "      <td>255938</td>\n",
              "      <td>34096</td>\n",
              "      <td>8</td>\n",
              "    </tr>\n",
              "    <tr>\n",
              "      <th>1</th>\n",
              "      <td>259117</td>\n",
              "      <td>34599</td>\n",
              "      <td>10</td>\n",
              "    </tr>\n",
              "    <tr>\n",
              "      <th>2</th>\n",
              "      <td>253664</td>\n",
              "      <td>28891</td>\n",
              "      <td>7</td>\n",
              "    </tr>\n",
              "    <tr>\n",
              "      <th>3</th>\n",
              "      <td>8254</td>\n",
              "      <td>2904</td>\n",
              "      <td>9</td>\n",
              "    </tr>\n",
              "    <tr>\n",
              "      <th>4</th>\n",
              "      <td>291149</td>\n",
              "      <td>4181</td>\n",
              "      <td>10</td>\n",
              "    </tr>\n",
              "  </tbody>\n",
              "</table>\n",
              "</div>\n",
              "      <button class=\"colab-df-convert\" onclick=\"convertToInteractive('df-3c7ee0bf-b8d6-44b4-a6ac-812859a01e6c')\"\n",
              "              title=\"Convert this dataframe to an interactive table.\"\n",
              "              style=\"display:none;\">\n",
              "        \n",
              "  <svg xmlns=\"http://www.w3.org/2000/svg\" height=\"24px\"viewBox=\"0 0 24 24\"\n",
              "       width=\"24px\">\n",
              "    <path d=\"M0 0h24v24H0V0z\" fill=\"none\"/>\n",
              "    <path d=\"M18.56 5.44l.94 2.06.94-2.06 2.06-.94-2.06-.94-.94-2.06-.94 2.06-2.06.94zm-11 1L8.5 8.5l.94-2.06 2.06-.94-2.06-.94L8.5 2.5l-.94 2.06-2.06.94zm10 10l.94 2.06.94-2.06 2.06-.94-2.06-.94-.94-2.06-.94 2.06-2.06.94z\"/><path d=\"M17.41 7.96l-1.37-1.37c-.4-.4-.92-.59-1.43-.59-.52 0-1.04.2-1.43.59L10.3 9.45l-7.72 7.72c-.78.78-.78 2.05 0 2.83L4 21.41c.39.39.9.59 1.41.59.51 0 1.02-.2 1.41-.59l7.78-7.78 2.81-2.81c.8-.78.8-2.07 0-2.86zM5.41 20L4 18.59l7.72-7.72 1.47 1.35L5.41 20z\"/>\n",
              "  </svg>\n",
              "      </button>\n",
              "      \n",
              "  <style>\n",
              "    .colab-df-container {\n",
              "      display:flex;\n",
              "      flex-wrap:wrap;\n",
              "      gap: 12px;\n",
              "    }\n",
              "\n",
              "    .colab-df-convert {\n",
              "      background-color: #E8F0FE;\n",
              "      border: none;\n",
              "      border-radius: 50%;\n",
              "      cursor: pointer;\n",
              "      display: none;\n",
              "      fill: #1967D2;\n",
              "      height: 32px;\n",
              "      padding: 0 0 0 0;\n",
              "      width: 32px;\n",
              "    }\n",
              "\n",
              "    .colab-df-convert:hover {\n",
              "      background-color: #E2EBFA;\n",
              "      box-shadow: 0px 1px 2px rgba(60, 64, 67, 0.3), 0px 1px 3px 1px rgba(60, 64, 67, 0.15);\n",
              "      fill: #174EA6;\n",
              "    }\n",
              "\n",
              "    [theme=dark] .colab-df-convert {\n",
              "      background-color: #3B4455;\n",
              "      fill: #D2E3FC;\n",
              "    }\n",
              "\n",
              "    [theme=dark] .colab-df-convert:hover {\n",
              "      background-color: #434B5C;\n",
              "      box-shadow: 0px 1px 3px 1px rgba(0, 0, 0, 0.15);\n",
              "      filter: drop-shadow(0px 1px 2px rgba(0, 0, 0, 0.3));\n",
              "      fill: #FFFFFF;\n",
              "    }\n",
              "  </style>\n",
              "\n",
              "      <script>\n",
              "        const buttonEl =\n",
              "          document.querySelector('#df-3c7ee0bf-b8d6-44b4-a6ac-812859a01e6c button.colab-df-convert');\n",
              "        buttonEl.style.display =\n",
              "          google.colab.kernel.accessAllowed ? 'block' : 'none';\n",
              "\n",
              "        async function convertToInteractive(key) {\n",
              "          const element = document.querySelector('#df-3c7ee0bf-b8d6-44b4-a6ac-812859a01e6c');\n",
              "          const dataTable =\n",
              "            await google.colab.kernel.invokeFunction('convertToInteractive',\n",
              "                                                     [key], {});\n",
              "          if (!dataTable) return;\n",
              "\n",
              "          const docLinkHtml = 'Like what you see? Visit the ' +\n",
              "            '<a target=\"_blank\" href=https://colab.research.google.com/notebooks/data_table.ipynb>data table notebook</a>'\n",
              "            + ' to learn more about interactive tables.';\n",
              "          element.innerHTML = '';\n",
              "          dataTable['output_type'] = 'display_data';\n",
              "          await google.colab.output.renderOutput(dataTable, element);\n",
              "          const docLink = document.createElement('div');\n",
              "          docLink.innerHTML = docLinkHtml;\n",
              "          element.appendChild(docLink);\n",
              "        }\n",
              "      </script>\n",
              "    </div>\n",
              "  </div>\n",
              "  "
            ]
          },
          "metadata": {},
          "execution_count": 33
        }
      ],
      "source": [
        "df_rating.columns = ['user_id', 'anime_id', 'rating']\n",
        "df_rating.head()"
      ]
    },
    {
      "cell_type": "code",
      "execution_count": 34,
      "metadata": {
        "colab": {
          "base_uri": "https://localhost:8080/",
          "height": 206
        },
        "id": "c-v6YdHZG0uA",
        "outputId": "575f177b-748e-485f-a7b9-57ff07043ba7"
      },
      "outputs": [
        {
          "output_type": "execute_result",
          "data": {
            "text/plain": [
              "   user_id  anime_id  rating  \\\n",
              "0   255938     34096       8   \n",
              "1   249891     34096       8   \n",
              "2   313501     34096       8   \n",
              "3   317041     34096       8   \n",
              "4   245369     34096       7   \n",
              "\n",
              "                                               genre      name  \n",
              "0  Action, Comedy, Historical, Parody, Samurai, S...  Gintama.  \n",
              "1  Action, Comedy, Historical, Parody, Samurai, S...  Gintama.  \n",
              "2  Action, Comedy, Historical, Parody, Samurai, S...  Gintama.  \n",
              "3  Action, Comedy, Historical, Parody, Samurai, S...  Gintama.  \n",
              "4  Action, Comedy, Historical, Parody, Samurai, S...  Gintama.  "
            ],
            "text/html": [
              "\n",
              "  <div id=\"df-c24b8134-cea5-433c-a40f-bca3867c8e4e\">\n",
              "    <div class=\"colab-df-container\">\n",
              "      <div>\n",
              "<style scoped>\n",
              "    .dataframe tbody tr th:only-of-type {\n",
              "        vertical-align: middle;\n",
              "    }\n",
              "\n",
              "    .dataframe tbody tr th {\n",
              "        vertical-align: top;\n",
              "    }\n",
              "\n",
              "    .dataframe thead th {\n",
              "        text-align: right;\n",
              "    }\n",
              "</style>\n",
              "<table border=\"1\" class=\"dataframe\">\n",
              "  <thead>\n",
              "    <tr style=\"text-align: right;\">\n",
              "      <th></th>\n",
              "      <th>user_id</th>\n",
              "      <th>anime_id</th>\n",
              "      <th>rating</th>\n",
              "      <th>genre</th>\n",
              "      <th>name</th>\n",
              "    </tr>\n",
              "  </thead>\n",
              "  <tbody>\n",
              "    <tr>\n",
              "      <th>0</th>\n",
              "      <td>255938</td>\n",
              "      <td>34096</td>\n",
              "      <td>8</td>\n",
              "      <td>Action, Comedy, Historical, Parody, Samurai, S...</td>\n",
              "      <td>Gintama.</td>\n",
              "    </tr>\n",
              "    <tr>\n",
              "      <th>1</th>\n",
              "      <td>249891</td>\n",
              "      <td>34096</td>\n",
              "      <td>8</td>\n",
              "      <td>Action, Comedy, Historical, Parody, Samurai, S...</td>\n",
              "      <td>Gintama.</td>\n",
              "    </tr>\n",
              "    <tr>\n",
              "      <th>2</th>\n",
              "      <td>313501</td>\n",
              "      <td>34096</td>\n",
              "      <td>8</td>\n",
              "      <td>Action, Comedy, Historical, Parody, Samurai, S...</td>\n",
              "      <td>Gintama.</td>\n",
              "    </tr>\n",
              "    <tr>\n",
              "      <th>3</th>\n",
              "      <td>317041</td>\n",
              "      <td>34096</td>\n",
              "      <td>8</td>\n",
              "      <td>Action, Comedy, Historical, Parody, Samurai, S...</td>\n",
              "      <td>Gintama.</td>\n",
              "    </tr>\n",
              "    <tr>\n",
              "      <th>4</th>\n",
              "      <td>245369</td>\n",
              "      <td>34096</td>\n",
              "      <td>7</td>\n",
              "      <td>Action, Comedy, Historical, Parody, Samurai, S...</td>\n",
              "      <td>Gintama.</td>\n",
              "    </tr>\n",
              "  </tbody>\n",
              "</table>\n",
              "</div>\n",
              "      <button class=\"colab-df-convert\" onclick=\"convertToInteractive('df-c24b8134-cea5-433c-a40f-bca3867c8e4e')\"\n",
              "              title=\"Convert this dataframe to an interactive table.\"\n",
              "              style=\"display:none;\">\n",
              "        \n",
              "  <svg xmlns=\"http://www.w3.org/2000/svg\" height=\"24px\"viewBox=\"0 0 24 24\"\n",
              "       width=\"24px\">\n",
              "    <path d=\"M0 0h24v24H0V0z\" fill=\"none\"/>\n",
              "    <path d=\"M18.56 5.44l.94 2.06.94-2.06 2.06-.94-2.06-.94-.94-2.06-.94 2.06-2.06.94zm-11 1L8.5 8.5l.94-2.06 2.06-.94-2.06-.94L8.5 2.5l-.94 2.06-2.06.94zm10 10l.94 2.06.94-2.06 2.06-.94-2.06-.94-.94-2.06-.94 2.06-2.06.94z\"/><path d=\"M17.41 7.96l-1.37-1.37c-.4-.4-.92-.59-1.43-.59-.52 0-1.04.2-1.43.59L10.3 9.45l-7.72 7.72c-.78.78-.78 2.05 0 2.83L4 21.41c.39.39.9.59 1.41.59.51 0 1.02-.2 1.41-.59l7.78-7.78 2.81-2.81c.8-.78.8-2.07 0-2.86zM5.41 20L4 18.59l7.72-7.72 1.47 1.35L5.41 20z\"/>\n",
              "  </svg>\n",
              "      </button>\n",
              "      \n",
              "  <style>\n",
              "    .colab-df-container {\n",
              "      display:flex;\n",
              "      flex-wrap:wrap;\n",
              "      gap: 12px;\n",
              "    }\n",
              "\n",
              "    .colab-df-convert {\n",
              "      background-color: #E8F0FE;\n",
              "      border: none;\n",
              "      border-radius: 50%;\n",
              "      cursor: pointer;\n",
              "      display: none;\n",
              "      fill: #1967D2;\n",
              "      height: 32px;\n",
              "      padding: 0 0 0 0;\n",
              "      width: 32px;\n",
              "    }\n",
              "\n",
              "    .colab-df-convert:hover {\n",
              "      background-color: #E2EBFA;\n",
              "      box-shadow: 0px 1px 2px rgba(60, 64, 67, 0.3), 0px 1px 3px 1px rgba(60, 64, 67, 0.15);\n",
              "      fill: #174EA6;\n",
              "    }\n",
              "\n",
              "    [theme=dark] .colab-df-convert {\n",
              "      background-color: #3B4455;\n",
              "      fill: #D2E3FC;\n",
              "    }\n",
              "\n",
              "    [theme=dark] .colab-df-convert:hover {\n",
              "      background-color: #434B5C;\n",
              "      box-shadow: 0px 1px 3px 1px rgba(0, 0, 0, 0.15);\n",
              "      filter: drop-shadow(0px 1px 2px rgba(0, 0, 0, 0.3));\n",
              "      fill: #FFFFFF;\n",
              "    }\n",
              "  </style>\n",
              "\n",
              "      <script>\n",
              "        const buttonEl =\n",
              "          document.querySelector('#df-c24b8134-cea5-433c-a40f-bca3867c8e4e button.colab-df-convert');\n",
              "        buttonEl.style.display =\n",
              "          google.colab.kernel.accessAllowed ? 'block' : 'none';\n",
              "\n",
              "        async function convertToInteractive(key) {\n",
              "          const element = document.querySelector('#df-c24b8134-cea5-433c-a40f-bca3867c8e4e');\n",
              "          const dataTable =\n",
              "            await google.colab.kernel.invokeFunction('convertToInteractive',\n",
              "                                                     [key], {});\n",
              "          if (!dataTable) return;\n",
              "\n",
              "          const docLinkHtml = 'Like what you see? Visit the ' +\n",
              "            '<a target=\"_blank\" href=https://colab.research.google.com/notebooks/data_table.ipynb>data table notebook</a>'\n",
              "            + ' to learn more about interactive tables.';\n",
              "          element.innerHTML = '';\n",
              "          dataTable['output_type'] = 'display_data';\n",
              "          await google.colab.output.renderOutput(dataTable, element);\n",
              "          const docLink = document.createElement('div');\n",
              "          docLink.innerHTML = docLinkHtml;\n",
              "          element.appendChild(docLink);\n",
              "        }\n",
              "      </script>\n",
              "    </div>\n",
              "  </div>\n",
              "  "
            ]
          },
          "metadata": {},
          "execution_count": 34
        }
      ],
      "source": [
        "rating_anime = pd.merge(df_rating, df_anime, on='anime_id', how='inner')\n",
        "rating_anime.drop(['Rating'],axis=1, inplace=True)\n",
        "rating_anime.head()"
      ]
    },
    {
      "cell_type": "markdown",
      "metadata": {
        "id": "9l4Tv2UthU-a"
      },
      "source": [
        "# Visualisasi sebaran 10 anime dengan rating tertinggi"
      ]
    },
    {
      "cell_type": "code",
      "execution_count": 35,
      "metadata": {
        "colab": {
          "base_uri": "https://localhost:8080/",
          "height": 206
        },
        "id": "idJqu8zYITBA",
        "outputId": "dbb39b47-2266-456b-9694-7359e1affddf"
      },
      "outputs": [
        {
          "output_type": "execute_result",
          "data": {
            "text/plain": [
              "                                        name  total_rating\n",
              "0                                        \"0\"             3\n",
              "1  \"Bungaku Shoujo\" Kyou no Oyatsu: Hatsukoi             2\n",
              "2                   \"Bungaku Shoujo\" Memoire             3\n",
              "3                     \"Bungaku Shoujo\" Movie            28\n",
              "4                 \"Calpis\" Hakkou Monogatari             2"
            ],
            "text/html": [
              "\n",
              "  <div id=\"df-a4f35d98-f192-4556-b024-d6518a8fe837\">\n",
              "    <div class=\"colab-df-container\">\n",
              "      <div>\n",
              "<style scoped>\n",
              "    .dataframe tbody tr th:only-of-type {\n",
              "        vertical-align: middle;\n",
              "    }\n",
              "\n",
              "    .dataframe tbody tr th {\n",
              "        vertical-align: top;\n",
              "    }\n",
              "\n",
              "    .dataframe thead th {\n",
              "        text-align: right;\n",
              "    }\n",
              "</style>\n",
              "<table border=\"1\" class=\"dataframe\">\n",
              "  <thead>\n",
              "    <tr style=\"text-align: right;\">\n",
              "      <th></th>\n",
              "      <th>name</th>\n",
              "      <th>total_rating</th>\n",
              "    </tr>\n",
              "  </thead>\n",
              "  <tbody>\n",
              "    <tr>\n",
              "      <th>0</th>\n",
              "      <td>\"0\"</td>\n",
              "      <td>3</td>\n",
              "    </tr>\n",
              "    <tr>\n",
              "      <th>1</th>\n",
              "      <td>\"Bungaku Shoujo\" Kyou no Oyatsu: Hatsukoi</td>\n",
              "      <td>2</td>\n",
              "    </tr>\n",
              "    <tr>\n",
              "      <th>2</th>\n",
              "      <td>\"Bungaku Shoujo\" Memoire</td>\n",
              "      <td>3</td>\n",
              "    </tr>\n",
              "    <tr>\n",
              "      <th>3</th>\n",
              "      <td>\"Bungaku Shoujo\" Movie</td>\n",
              "      <td>28</td>\n",
              "    </tr>\n",
              "    <tr>\n",
              "      <th>4</th>\n",
              "      <td>\"Calpis\" Hakkou Monogatari</td>\n",
              "      <td>2</td>\n",
              "    </tr>\n",
              "  </tbody>\n",
              "</table>\n",
              "</div>\n",
              "      <button class=\"colab-df-convert\" onclick=\"convertToInteractive('df-a4f35d98-f192-4556-b024-d6518a8fe837')\"\n",
              "              title=\"Convert this dataframe to an interactive table.\"\n",
              "              style=\"display:none;\">\n",
              "        \n",
              "  <svg xmlns=\"http://www.w3.org/2000/svg\" height=\"24px\"viewBox=\"0 0 24 24\"\n",
              "       width=\"24px\">\n",
              "    <path d=\"M0 0h24v24H0V0z\" fill=\"none\"/>\n",
              "    <path d=\"M18.56 5.44l.94 2.06.94-2.06 2.06-.94-2.06-.94-.94-2.06-.94 2.06-2.06.94zm-11 1L8.5 8.5l.94-2.06 2.06-.94-2.06-.94L8.5 2.5l-.94 2.06-2.06.94zm10 10l.94 2.06.94-2.06 2.06-.94-2.06-.94-.94-2.06-.94 2.06-2.06.94z\"/><path d=\"M17.41 7.96l-1.37-1.37c-.4-.4-.92-.59-1.43-.59-.52 0-1.04.2-1.43.59L10.3 9.45l-7.72 7.72c-.78.78-.78 2.05 0 2.83L4 21.41c.39.39.9.59 1.41.59.51 0 1.02-.2 1.41-.59l7.78-7.78 2.81-2.81c.8-.78.8-2.07 0-2.86zM5.41 20L4 18.59l7.72-7.72 1.47 1.35L5.41 20z\"/>\n",
              "  </svg>\n",
              "      </button>\n",
              "      \n",
              "  <style>\n",
              "    .colab-df-container {\n",
              "      display:flex;\n",
              "      flex-wrap:wrap;\n",
              "      gap: 12px;\n",
              "    }\n",
              "\n",
              "    .colab-df-convert {\n",
              "      background-color: #E8F0FE;\n",
              "      border: none;\n",
              "      border-radius: 50%;\n",
              "      cursor: pointer;\n",
              "      display: none;\n",
              "      fill: #1967D2;\n",
              "      height: 32px;\n",
              "      padding: 0 0 0 0;\n",
              "      width: 32px;\n",
              "    }\n",
              "\n",
              "    .colab-df-convert:hover {\n",
              "      background-color: #E2EBFA;\n",
              "      box-shadow: 0px 1px 2px rgba(60, 64, 67, 0.3), 0px 1px 3px 1px rgba(60, 64, 67, 0.15);\n",
              "      fill: #174EA6;\n",
              "    }\n",
              "\n",
              "    [theme=dark] .colab-df-convert {\n",
              "      background-color: #3B4455;\n",
              "      fill: #D2E3FC;\n",
              "    }\n",
              "\n",
              "    [theme=dark] .colab-df-convert:hover {\n",
              "      background-color: #434B5C;\n",
              "      box-shadow: 0px 1px 3px 1px rgba(0, 0, 0, 0.15);\n",
              "      filter: drop-shadow(0px 1px 2px rgba(0, 0, 0, 0.3));\n",
              "      fill: #FFFFFF;\n",
              "    }\n",
              "  </style>\n",
              "\n",
              "      <script>\n",
              "        const buttonEl =\n",
              "          document.querySelector('#df-a4f35d98-f192-4556-b024-d6518a8fe837 button.colab-df-convert');\n",
              "        buttonEl.style.display =\n",
              "          google.colab.kernel.accessAllowed ? 'block' : 'none';\n",
              "\n",
              "        async function convertToInteractive(key) {\n",
              "          const element = document.querySelector('#df-a4f35d98-f192-4556-b024-d6518a8fe837');\n",
              "          const dataTable =\n",
              "            await google.colab.kernel.invokeFunction('convertToInteractive',\n",
              "                                                     [key], {});\n",
              "          if (!dataTable) return;\n",
              "\n",
              "          const docLinkHtml = 'Like what you see? Visit the ' +\n",
              "            '<a target=\"_blank\" href=https://colab.research.google.com/notebooks/data_table.ipynb>data table notebook</a>'\n",
              "            + ' to learn more about interactive tables.';\n",
              "          element.innerHTML = '';\n",
              "          dataTable['output_type'] = 'display_data';\n",
              "          await google.colab.output.renderOutput(dataTable, element);\n",
              "          const docLink = document.createElement('div');\n",
              "          docLink.innerHTML = docLinkHtml;\n",
              "          element.appendChild(docLink);\n",
              "        }\n",
              "      </script>\n",
              "    </div>\n",
              "  </div>\n",
              "  "
            ]
          },
          "metadata": {},
          "execution_count": 35
        }
      ],
      "source": [
        "rating_anime_count = rating_anime.groupby('name')['rating'].count()\n",
        "rating_anime_count = pd.DataFrame(rating_anime_count).reset_index().rename(columns={'rating':'total_rating'})\n",
        "rating_anime_count.head()"
      ]
    },
    {
      "cell_type": "code",
      "execution_count": 36,
      "metadata": {
        "colab": {
          "base_uri": "https://localhost:8080/",
          "height": 729
        },
        "id": "ZGVPyEDIof-k",
        "outputId": "5b0f3346-d9d1-4df2-fb27-c53cc1a02539"
      },
      "outputs": [
        {
          "output_type": "display_data",
          "data": {
            "text/plain": [
              "<Figure size 1080x720 with 1 Axes>"
            ],
            "image/png": "[encoded data removed]"
          },
          "metadata": {
            "needs_background": "light"
          }
        }
      ],
      "source": [
        "data = rating_anime_count.sort_values(by ='total_rating')\n",
        "\n",
        "plt.figure(figsize=(15,10))\n",
        "sns.barplot(data=data.iloc[-10:,:], \n",
        "            y='name', x='total_rating',\n",
        "            palette=\"Blues_d\")\n",
        "plt.title('Distribusi Sebaran Rating dari 10 Anime Tertinggi', pad=30, fontsize=30)\n",
        "plt.tight_layout()\n",
        "plt.show()"
      ]
    },
    {
      "cell_type": "markdown",
      "metadata": {
        "id": "uCiIt7RkizX9"
      },
      "source": [
        "dari data diatas bisa kita lihat anime dengan rating tertinggi dipegang oleh Sword art online\n",
        "\n",
        "selanjutnya kita akan mengambil data rating ini sebagai data utama kita dengan nama merge_df"
      ]
    },
    {
      "cell_type": "code",
      "execution_count": 37,
      "metadata": {
        "colab": {
          "base_uri": "https://localhost:8080/",
          "height": 206
        },
        "id": "U3rNaP4DtreL",
        "outputId": "40c2b899-cbec-4373-8bb8-210a410569c8"
      },
      "outputs": [
        {
          "output_type": "execute_result",
          "data": {
            "text/plain": [
              "   user_id  anime_id  rating  \\\n",
              "0   255938     34096       8   \n",
              "1   249891     34096       8   \n",
              "2   313501     34096       8   \n",
              "3   317041     34096       8   \n",
              "4   245369     34096       7   \n",
              "\n",
              "                                               genre      name  \n",
              "0  Action, Comedy, Historical, Parody, Samurai, S...  Gintama.  \n",
              "1  Action, Comedy, Historical, Parody, Samurai, S...  Gintama.  \n",
              "2  Action, Comedy, Historical, Parody, Samurai, S...  Gintama.  \n",
              "3  Action, Comedy, Historical, Parody, Samurai, S...  Gintama.  \n",
              "4  Action, Comedy, Historical, Parody, Samurai, S...  Gintama.  "
            ],
            "text/html": [
              "\n",
              "  <div id=\"df-2a28ec78-59c4-4bcc-8562-5ba18e0503c1\">\n",
              "    <div class=\"colab-df-container\">\n",
              "      <div>\n",
              "<style scoped>\n",
              "    .dataframe tbody tr th:only-of-type {\n",
              "        vertical-align: middle;\n",
              "    }\n",
              "\n",
              "    .dataframe tbody tr th {\n",
              "        vertical-align: top;\n",
              "    }\n",
              "\n",
              "    .dataframe thead th {\n",
              "        text-align: right;\n",
              "    }\n",
              "</style>\n",
              "<table border=\"1\" class=\"dataframe\">\n",
              "  <thead>\n",
              "    <tr style=\"text-align: right;\">\n",
              "      <th></th>\n",
              "      <th>user_id</th>\n",
              "      <th>anime_id</th>\n",
              "      <th>rating</th>\n",
              "      <th>genre</th>\n",
              "      <th>name</th>\n",
              "    </tr>\n",
              "  </thead>\n",
              "  <tbody>\n",
              "    <tr>\n",
              "      <th>0</th>\n",
              "      <td>255938</td>\n",
              "      <td>34096</td>\n",
              "      <td>8</td>\n",
              "      <td>Action, Comedy, Historical, Parody, Samurai, S...</td>\n",
              "      <td>Gintama.</td>\n",
              "    </tr>\n",
              "    <tr>\n",
              "      <th>1</th>\n",
              "      <td>249891</td>\n",
              "      <td>34096</td>\n",
              "      <td>8</td>\n",
              "      <td>Action, Comedy, Historical, Parody, Samurai, S...</td>\n",
              "      <td>Gintama.</td>\n",
              "    </tr>\n",
              "    <tr>\n",
              "      <th>2</th>\n",
              "      <td>313501</td>\n",
              "      <td>34096</td>\n",
              "      <td>8</td>\n",
              "      <td>Action, Comedy, Historical, Parody, Samurai, S...</td>\n",
              "      <td>Gintama.</td>\n",
              "    </tr>\n",
              "    <tr>\n",
              "      <th>3</th>\n",
              "      <td>317041</td>\n",
              "      <td>34096</td>\n",
              "      <td>8</td>\n",
              "      <td>Action, Comedy, Historical, Parody, Samurai, S...</td>\n",
              "      <td>Gintama.</td>\n",
              "    </tr>\n",
              "    <tr>\n",
              "      <th>4</th>\n",
              "      <td>245369</td>\n",
              "      <td>34096</td>\n",
              "      <td>7</td>\n",
              "      <td>Action, Comedy, Historical, Parody, Samurai, S...</td>\n",
              "      <td>Gintama.</td>\n",
              "    </tr>\n",
              "  </tbody>\n",
              "</table>\n",
              "</div>\n",
              "      <button class=\"colab-df-convert\" onclick=\"convertToInteractive('df-2a28ec78-59c4-4bcc-8562-5ba18e0503c1')\"\n",
              "              title=\"Convert this dataframe to an interactive table.\"\n",
              "              style=\"display:none;\">\n",
              "        \n",
              "  <svg xmlns=\"http://www.w3.org/2000/svg\" height=\"24px\"viewBox=\"0 0 24 24\"\n",
              "       width=\"24px\">\n",
              "    <path d=\"M0 0h24v24H0V0z\" fill=\"none\"/>\n",
              "    <path d=\"M18.56 5.44l.94 2.06.94-2.06 2.06-.94-2.06-.94-.94-2.06-.94 2.06-2.06.94zm-11 1L8.5 8.5l.94-2.06 2.06-.94-2.06-.94L8.5 2.5l-.94 2.06-2.06.94zm10 10l.94 2.06.94-2.06 2.06-.94-2.06-.94-.94-2.06-.94 2.06-2.06.94z\"/><path d=\"M17.41 7.96l-1.37-1.37c-.4-.4-.92-.59-1.43-.59-.52 0-1.04.2-1.43.59L10.3 9.45l-7.72 7.72c-.78.78-.78 2.05 0 2.83L4 21.41c.39.39.9.59 1.41.59.51 0 1.02-.2 1.41-.59l7.78-7.78 2.81-2.81c.8-.78.8-2.07 0-2.86zM5.41 20L4 18.59l7.72-7.72 1.47 1.35L5.41 20z\"/>\n",
              "  </svg>\n",
              "      </button>\n",
              "      \n",
              "  <style>\n",
              "    .colab-df-container {\n",
              "      display:flex;\n",
              "      flex-wrap:wrap;\n",
              "      gap: 12px;\n",
              "    }\n",
              "\n",
              "    .colab-df-convert {\n",
              "      background-color: #E8F0FE;\n",
              "      border: none;\n",
              "      border-radius: 50%;\n",
              "      cursor: pointer;\n",
              "      display: none;\n",
              "      fill: #1967D2;\n",
              "      height: 32px;\n",
              "      padding: 0 0 0 0;\n",
              "      width: 32px;\n",
              "    }\n",
              "\n",
              "    .colab-df-convert:hover {\n",
              "      background-color: #E2EBFA;\n",
              "      box-shadow: 0px 1px 2px rgba(60, 64, 67, 0.3), 0px 1px 3px 1px rgba(60, 64, 67, 0.15);\n",
              "      fill: #174EA6;\n",
              "    }\n",
              "\n",
              "    [theme=dark] .colab-df-convert {\n",
              "      background-color: #3B4455;\n",
              "      fill: #D2E3FC;\n",
              "    }\n",
              "\n",
              "    [theme=dark] .colab-df-convert:hover {\n",
              "      background-color: #434B5C;\n",
              "      box-shadow: 0px 1px 3px 1px rgba(0, 0, 0, 0.15);\n",
              "      filter: drop-shadow(0px 1px 2px rgba(0, 0, 0, 0.3));\n",
              "      fill: #FFFFFF;\n",
              "    }\n",
              "  </style>\n",
              "\n",
              "      <script>\n",
              "        const buttonEl =\n",
              "          document.querySelector('#df-2a28ec78-59c4-4bcc-8562-5ba18e0503c1 button.colab-df-convert');\n",
              "        buttonEl.style.display =\n",
              "          google.colab.kernel.accessAllowed ? 'block' : 'none';\n",
              "\n",
              "        async function convertToInteractive(key) {\n",
              "          const element = document.querySelector('#df-2a28ec78-59c4-4bcc-8562-5ba18e0503c1');\n",
              "          const dataTable =\n",
              "            await google.colab.kernel.invokeFunction('convertToInteractive',\n",
              "                                                     [key], {});\n",
              "          if (!dataTable) return;\n",
              "\n",
              "          const docLinkHtml = 'Like what you see? Visit the ' +\n",
              "            '<a target=\"_blank\" href=https://colab.research.google.com/notebooks/data_table.ipynb>data table notebook</a>'\n",
              "            + ' to learn more about interactive tables.';\n",
              "          element.innerHTML = '';\n",
              "          dataTable['output_type'] = 'display_data';\n",
              "          await google.colab.output.renderOutput(dataTable, element);\n",
              "          const docLink = document.createElement('div');\n",
              "          docLink.innerHTML = docLinkHtml;\n",
              "          element.appendChild(docLink);\n",
              "        }\n",
              "      </script>\n",
              "    </div>\n",
              "  </div>\n",
              "  "
            ]
          },
          "metadata": {},
          "execution_count": 37
        }
      ],
      "source": [
        "merge_df = rating_anime\n",
        "merge_df.head()"
      ]
    },
    {
      "cell_type": "markdown",
      "metadata": {
        "id": "5YlHNSQ9nxp1"
      },
      "source": [
        "# Data preparation"
      ]
    },
    {
      "cell_type": "markdown",
      "metadata": {
        "id": "hPNDXzybjW9P"
      },
      "source": [
        "pada tahap ini kita akan mengubah unique user_id dan anime_id menjadi list, lalu melakukan encoding user_id dan encoding anime_id, dan encoding angka ke user_id dan anime"
      ]
    },
    {
      "cell_type": "code",
      "execution_count": 38,
      "metadata": {
        "id": "nb5lSKSn2K_4"
      },
      "outputs": [],
      "source": [
        "user_id = merge_df['user_id'].unique().tolist()\n",
        "user_to_user_encoded = {x: i for i, x in enumerate(user_id)}\n",
        "user_encoded_to_user = {i: x for i, x in enumerate(user_id)}"
      ]
    },
    {
      "cell_type": "code",
      "execution_count": 39,
      "metadata": {
        "id": "LF4TV_z5RDC1"
      },
      "outputs": [],
      "source": [
        "anime_id = merge_df['anime_id'].unique().tolist()\n",
        "anime_to_anime_encoded = {x: i for i, x in enumerate(anime_id)}\n",
        "anime_encoded_to_anime = {i: x for i, x in enumerate(anime_id)}"
      ]
    },
    {
      "cell_type": "markdown",
      "metadata": {
        "id": "xCSiXUwVkRJt"
      },
      "source": [
        "Selanjutnya kita melakukan mapping data user id dan anime id"
      ]
    },
    {
      "cell_type": "code",
      "execution_count": 40,
      "metadata": {
        "colab": {
          "base_uri": "https://localhost:8080/",
          "height": 206
        },
        "id": "ZrgJFpZ7QS-N",
        "outputId": "838300c2-303f-4780-b78b-508e5e511f60"
      },
      "outputs": [
        {
          "output_type": "execute_result",
          "data": {
            "text/plain": [
              "   user_id  anime_id  rating  \\\n",
              "0   255938     34096       8   \n",
              "1   249891     34096       8   \n",
              "2   313501     34096       8   \n",
              "3   317041     34096       8   \n",
              "4   245369     34096       7   \n",
              "\n",
              "                                               genre      name  user  anime  \n",
              "0  Action, Comedy, Historical, Parody, Samurai, S...  Gintama.     0      0  \n",
              "1  Action, Comedy, Historical, Parody, Samurai, S...  Gintama.     1      0  \n",
              "2  Action, Comedy, Historical, Parody, Samurai, S...  Gintama.     2      0  \n",
              "3  Action, Comedy, Historical, Parody, Samurai, S...  Gintama.     3      0  \n",
              "4  Action, Comedy, Historical, Parody, Samurai, S...  Gintama.     4      0  "
            ],
            "text/html": [
              "\n",
              "  <div id=\"df-1df2eda0-f9b1-44cb-839a-6f8592258dd7\">\n",
              "    <div class=\"colab-df-container\">\n",
              "      <div>\n",
              "<style scoped>\n",
              "    .dataframe tbody tr th:only-of-type {\n",
              "        vertical-align: middle;\n",
              "    }\n",
              "\n",
              "    .dataframe tbody tr th {\n",
              "        vertical-align: top;\n",
              "    }\n",
              "\n",
              "    .dataframe thead th {\n",
              "        text-align: right;\n",
              "    }\n",
              "</style>\n",
              "<table border=\"1\" class=\"dataframe\">\n",
              "  <thead>\n",
              "    <tr style=\"text-align: right;\">\n",
              "      <th></th>\n",
              "      <th>user_id</th>\n",
              "      <th>anime_id</th>\n",
              "      <th>rating</th>\n",
              "      <th>genre</th>\n",
              "      <th>name</th>\n",
              "      <th>user</th>\n",
              "      <th>anime</th>\n",
              "    </tr>\n",
              "  </thead>\n",
              "  <tbody>\n",
              "    <tr>\n",
              "      <th>0</th>\n",
              "      <td>255938</td>\n",
              "      <td>34096</td>\n",
              "      <td>8</td>\n",
              "      <td>Action, Comedy, Historical, Parody, Samurai, S...</td>\n",
              "      <td>Gintama.</td>\n",
              "      <td>0</td>\n",
              "      <td>0</td>\n",
              "    </tr>\n",
              "    <tr>\n",
              "      <th>1</th>\n",
              "      <td>249891</td>\n",
              "      <td>34096</td>\n",
              "      <td>8</td>\n",
              "      <td>Action, Comedy, Historical, Parody, Samurai, S...</td>\n",
              "      <td>Gintama.</td>\n",
              "      <td>1</td>\n",
              "      <td>0</td>\n",
              "    </tr>\n",
              "    <tr>\n",
              "      <th>2</th>\n",
              "      <td>313501</td>\n",
              "      <td>34096</td>\n",
              "      <td>8</td>\n",
              "      <td>Action, Comedy, Historical, Parody, Samurai, S...</td>\n",
              "      <td>Gintama.</td>\n",
              "      <td>2</td>\n",
              "      <td>0</td>\n",
              "    </tr>\n",
              "    <tr>\n",
              "      <th>3</th>\n",
              "      <td>317041</td>\n",
              "      <td>34096</td>\n",
              "      <td>8</td>\n",
              "      <td>Action, Comedy, Historical, Parody, Samurai, S...</td>\n",
              "      <td>Gintama.</td>\n",
              "      <td>3</td>\n",
              "      <td>0</td>\n",
              "    </tr>\n",
              "    <tr>\n",
              "      <th>4</th>\n",
              "      <td>245369</td>\n",
              "      <td>34096</td>\n",
              "      <td>7</td>\n",
              "      <td>Action, Comedy, Historical, Parody, Samurai, S...</td>\n",
              "      <td>Gintama.</td>\n",
              "      <td>4</td>\n",
              "      <td>0</td>\n",
              "    </tr>\n",
              "  </tbody>\n",
              "</table>\n",
              "</div>\n",
              "      <button class=\"colab-df-convert\" onclick=\"convertToInteractive('df-1df2eda0-f9b1-44cb-839a-6f8592258dd7')\"\n",
              "              title=\"Convert this dataframe to an interactive table.\"\n",
              "              style=\"display:none;\">\n",
              "        \n",
              "  <svg xmlns=\"http://www.w3.org/2000/svg\" height=\"24px\"viewBox=\"0 0 24 24\"\n",
              "       width=\"24px\">\n",
              "    <path d=\"M0 0h24v24H0V0z\" fill=\"none\"/>\n",
              "    <path d=\"M18.56 5.44l.94 2.06.94-2.06 2.06-.94-2.06-.94-.94-2.06-.94 2.06-2.06.94zm-11 1L8.5 8.5l.94-2.06 2.06-.94-2.06-.94L8.5 2.5l-.94 2.06-2.06.94zm10 10l.94 2.06.94-2.06 2.06-.94-2.06-.94-.94-2.06-.94 2.06-2.06.94z\"/><path d=\"M17.41 7.96l-1.37-1.37c-.4-.4-.92-.59-1.43-.59-.52 0-1.04.2-1.43.59L10.3 9.45l-7.72 7.72c-.78.78-.78 2.05 0 2.83L4 21.41c.39.39.9.59 1.41.59.51 0 1.02-.2 1.41-.59l7.78-7.78 2.81-2.81c.8-.78.8-2.07 0-2.86zM5.41 20L4 18.59l7.72-7.72 1.47 1.35L5.41 20z\"/>\n",
              "  </svg>\n",
              "      </button>\n",
              "      \n",
              "  <style>\n",
              "    .colab-df-container {\n",
              "      display:flex;\n",
              "      flex-wrap:wrap;\n",
              "      gap: 12px;\n",
              "    }\n",
              "\n",
              "    .colab-df-convert {\n",
              "      background-color: #E8F0FE;\n",
              "      border: none;\n",
              "      border-radius: 50%;\n",
              "      cursor: pointer;\n",
              "      display: none;\n",
              "      fill: #1967D2;\n",
              "      height: 32px;\n",
              "      padding: 0 0 0 0;\n",
              "      width: 32px;\n",
              "    }\n",
              "\n",
              "    .colab-df-convert:hover {\n",
              "      background-color: #E2EBFA;\n",
              "      box-shadow: 0px 1px 2px rgba(60, 64, 67, 0.3), 0px 1px 3px 1px rgba(60, 64, 67, 0.15);\n",
              "      fill: #174EA6;\n",
              "    }\n",
              "\n",
              "    [theme=dark] .colab-df-convert {\n",
              "      background-color: #3B4455;\n",
              "      fill: #D2E3FC;\n",
              "    }\n",
              "\n",
              "    [theme=dark] .colab-df-convert:hover {\n",
              "      background-color: #434B5C;\n",
              "      box-shadow: 0px 1px 3px 1px rgba(0, 0, 0, 0.15);\n",
              "      filter: drop-shadow(0px 1px 2px rgba(0, 0, 0, 0.3));\n",
              "      fill: #FFFFFF;\n",
              "    }\n",
              "  </style>\n",
              "\n",
              "      <script>\n",
              "        const buttonEl =\n",
              "          document.querySelector('#df-1df2eda0-f9b1-44cb-839a-6f8592258dd7 button.colab-df-convert');\n",
              "        buttonEl.style.display =\n",
              "          google.colab.kernel.accessAllowed ? 'block' : 'none';\n",
              "\n",
              "        async function convertToInteractive(key) {\n",
              "          const element = document.querySelector('#df-1df2eda0-f9b1-44cb-839a-6f8592258dd7');\n",
              "          const dataTable =\n",
              "            await google.colab.kernel.invokeFunction('convertToInteractive',\n",
              "                                                     [key], {});\n",
              "          if (!dataTable) return;\n",
              "\n",
              "          const docLinkHtml = 'Like what you see? Visit the ' +\n",
              "            '<a target=\"_blank\" href=https://colab.research.google.com/notebooks/data_table.ipynb>data table notebook</a>'\n",
              "            + ' to learn more about interactive tables.';\n",
              "          element.innerHTML = '';\n",
              "          dataTable['output_type'] = 'display_data';\n",
              "          await google.colab.output.renderOutput(dataTable, element);\n",
              "          const docLink = document.createElement('div');\n",
              "          docLink.innerHTML = docLinkHtml;\n",
              "          element.appendChild(docLink);\n",
              "        }\n",
              "      </script>\n",
              "    </div>\n",
              "  </div>\n",
              "  "
            ]
          },
          "metadata": {},
          "execution_count": 40
        }
      ],
      "source": [
        "merge_df['user'] = merge_df['user_id'].map(user_to_user_encoded)\n",
        "merge_df['anime'] = merge_df['anime_id'].map(anime_to_anime_encoded)\n",
        "merge_df.head()"
      ]
    },
    {
      "cell_type": "markdown",
      "metadata": {
        "id": "ZJ3zWVBKkhlw"
      },
      "source": [
        "selanjutnya kita akan mendapatkan jumlah user dan anime, lalu merubah tipe data variabel rating menjadi float, lalu melihat nilai maksimum dan nilai minimum pada rating"
      ]
    },
    {
      "cell_type": "code",
      "execution_count": 41,
      "metadata": {
        "colab": {
          "base_uri": "https://localhost:8080/"
        },
        "id": "8TvYhhhGR-A-",
        "outputId": "a5f649d4-51ce-4194-9ab4-217b01b4122f"
      },
      "outputs": [
        {
          "output_type": "stream",
          "name": "stdout",
          "text": [
            "Number of User: 130488\n",
            "Number of anime: 8107\n",
            "Min rating: 0.0\n",
            "Max rating: 11.0\n"
          ]
        }
      ],
      "source": [
        "num_users = len(user_to_user_encoded)\n",
        "num_anime = len(anime_encoded_to_anime)\n",
        "merge_df['rating'] = merge_df['rating'].values.astype(np.float32)\n",
        "min_rating = min(merge_df['rating'])\n",
        "max_rating = max(merge_df['rating'])\n",
        "\n",
        "print(f'Number of User: {num_users}')\n",
        "print(f'Number of anime: {num_anime}')\n",
        "print(f'Min rating: {min_rating}')\n",
        "print(f'Max rating: {max_rating}')"
      ]
    },
    {
      "cell_type": "markdown",
      "metadata": {
        "id": "R3t3GTi6lEuO"
      },
      "source": [
        "# Pembagian dataset training dan test"
      ]
    },
    {
      "cell_type": "markdown",
      "metadata": {
        "id": "JxaUXMBRk-3o"
      },
      "source": [
        "sebelum kita masuk pembagian dataset kita akan melakukan acak dataset"
      ]
    },
    {
      "cell_type": "code",
      "execution_count": 42,
      "metadata": {
        "colab": {
          "base_uri": "https://localhost:8080/",
          "height": 206
        },
        "id": "2PDvs6EaSnY0",
        "outputId": "6b877af4-cacc-4c1b-8592-08582f76b403"
      },
      "outputs": [
        {
          "output_type": "execute_result",
          "data": {
            "text/plain": [
              "        user_id  anime_id  rating                                    genre  \\\n",
              "92072    301984     36432     7.0       Action, Sci-Fi, Super Power, Magic   \n",
              "105849   200877     25283     7.0    Action, Drama, Fantasy, Magic, School   \n",
              "16033    195390       889     9.0                           Action, Seinen   \n",
              "28268    238424     31240     9.0  Psychological, Drama, Thriller, Fantasy   \n",
              "50891     20277      1562     8.0                           Comedy, Shoujo   \n",
              "\n",
              "                                         name    user  anime  \n",
              "92072              Toaru Majutsu no Index III   92072   4660  \n",
              "105849    Kuusen Madoushi Kouhosei no Kyoukan  105849   6013  \n",
              "16033                            Black Lagoon   16033    325  \n",
              "28268   Re:Zero kara Hajimeru Isekai Seikatsu   28268    529  \n",
              "50891           Yamato Nadeshiko Shichihenge♥   50891    817  "
            ],
            "text/html": [
              "\n",
              "  <div id=\"df-ec8d82df-c38d-4abe-a1c6-939fe2ed8b5b\">\n",
              "    <div class=\"colab-df-container\">\n",
              "      <div>\n",
              "<style scoped>\n",
              "    .dataframe tbody tr th:only-of-type {\n",
              "        vertical-align: middle;\n",
              "    }\n",
              "\n",
              "    .dataframe tbody tr th {\n",
              "        vertical-align: top;\n",
              "    }\n",
              "\n",
              "    .dataframe thead th {\n",
              "        text-align: right;\n",
              "    }\n",
              "</style>\n",
              "<table border=\"1\" class=\"dataframe\">\n",
              "  <thead>\n",
              "    <tr style=\"text-align: right;\">\n",
              "      <th></th>\n",
              "      <th>user_id</th>\n",
              "      <th>anime_id</th>\n",
              "      <th>rating</th>\n",
              "      <th>genre</th>\n",
              "      <th>name</th>\n",
              "      <th>user</th>\n",
              "      <th>anime</th>\n",
              "    </tr>\n",
              "  </thead>\n",
              "  <tbody>\n",
              "    <tr>\n",
              "      <th>92072</th>\n",
              "      <td>301984</td>\n",
              "      <td>36432</td>\n",
              "      <td>7.0</td>\n",
              "      <td>Action, Sci-Fi, Super Power, Magic</td>\n",
              "      <td>Toaru Majutsu no Index III</td>\n",
              "      <td>92072</td>\n",
              "      <td>4660</td>\n",
              "    </tr>\n",
              "    <tr>\n",
              "      <th>105849</th>\n",
              "      <td>200877</td>\n",
              "      <td>25283</td>\n",
              "      <td>7.0</td>\n",
              "      <td>Action, Drama, Fantasy, Magic, School</td>\n",
              "      <td>Kuusen Madoushi Kouhosei no Kyoukan</td>\n",
              "      <td>105849</td>\n",
              "      <td>6013</td>\n",
              "    </tr>\n",
              "    <tr>\n",
              "      <th>16033</th>\n",
              "      <td>195390</td>\n",
              "      <td>889</td>\n",
              "      <td>9.0</td>\n",
              "      <td>Action, Seinen</td>\n",
              "      <td>Black Lagoon</td>\n",
              "      <td>16033</td>\n",
              "      <td>325</td>\n",
              "    </tr>\n",
              "    <tr>\n",
              "      <th>28268</th>\n",
              "      <td>238424</td>\n",
              "      <td>31240</td>\n",
              "      <td>9.0</td>\n",
              "      <td>Psychological, Drama, Thriller, Fantasy</td>\n",
              "      <td>Re:Zero kara Hajimeru Isekai Seikatsu</td>\n",
              "      <td>28268</td>\n",
              "      <td>529</td>\n",
              "    </tr>\n",
              "    <tr>\n",
              "      <th>50891</th>\n",
              "      <td>20277</td>\n",
              "      <td>1562</td>\n",
              "      <td>8.0</td>\n",
              "      <td>Comedy, Shoujo</td>\n",
              "      <td>Yamato Nadeshiko Shichihenge♥</td>\n",
              "      <td>50891</td>\n",
              "      <td>817</td>\n",
              "    </tr>\n",
              "  </tbody>\n",
              "</table>\n",
              "</div>\n",
              "      <button class=\"colab-df-convert\" onclick=\"convertToInteractive('df-ec8d82df-c38d-4abe-a1c6-939fe2ed8b5b')\"\n",
              "              title=\"Convert this dataframe to an interactive table.\"\n",
              "              style=\"display:none;\">\n",
              "        \n",
              "  <svg xmlns=\"http://www.w3.org/2000/svg\" height=\"24px\"viewBox=\"0 0 24 24\"\n",
              "       width=\"24px\">\n",
              "    <path d=\"M0 0h24v24H0V0z\" fill=\"none\"/>\n",
              "    <path d=\"M18.56 5.44l.94 2.06.94-2.06 2.06-.94-2.06-.94-.94-2.06-.94 2.06-2.06.94zm-11 1L8.5 8.5l.94-2.06 2.06-.94-2.06-.94L8.5 2.5l-.94 2.06-2.06.94zm10 10l.94 2.06.94-2.06 2.06-.94-2.06-.94-.94-2.06-.94 2.06-2.06.94z\"/><path d=\"M17.41 7.96l-1.37-1.37c-.4-.4-.92-.59-1.43-.59-.52 0-1.04.2-1.43.59L10.3 9.45l-7.72 7.72c-.78.78-.78 2.05 0 2.83L4 21.41c.39.39.9.59 1.41.59.51 0 1.02-.2 1.41-.59l7.78-7.78 2.81-2.81c.8-.78.8-2.07 0-2.86zM5.41 20L4 18.59l7.72-7.72 1.47 1.35L5.41 20z\"/>\n",
              "  </svg>\n",
              "      </button>\n",
              "      \n",
              "  <style>\n",
              "    .colab-df-container {\n",
              "      display:flex;\n",
              "      flex-wrap:wrap;\n",
              "      gap: 12px;\n",
              "    }\n",
              "\n",
              "    .colab-df-convert {\n",
              "      background-color: #E8F0FE;\n",
              "      border: none;\n",
              "      border-radius: 50%;\n",
              "      cursor: pointer;\n",
              "      display: none;\n",
              "      fill: #1967D2;\n",
              "      height: 32px;\n",
              "      padding: 0 0 0 0;\n",
              "      width: 32px;\n",
              "    }\n",
              "\n",
              "    .colab-df-convert:hover {\n",
              "      background-color: #E2EBFA;\n",
              "      box-shadow: 0px 1px 2px rgba(60, 64, 67, 0.3), 0px 1px 3px 1px rgba(60, 64, 67, 0.15);\n",
              "      fill: #174EA6;\n",
              "    }\n",
              "\n",
              "    [theme=dark] .colab-df-convert {\n",
              "      background-color: #3B4455;\n",
              "      fill: #D2E3FC;\n",
              "    }\n",
              "\n",
              "    [theme=dark] .colab-df-convert:hover {\n",
              "      background-color: #434B5C;\n",
              "      box-shadow: 0px 1px 3px 1px rgba(0, 0, 0, 0.15);\n",
              "      filter: drop-shadow(0px 1px 2px rgba(0, 0, 0, 0.3));\n",
              "      fill: #FFFFFF;\n",
              "    }\n",
              "  </style>\n",
              "\n",
              "      <script>\n",
              "        const buttonEl =\n",
              "          document.querySelector('#df-ec8d82df-c38d-4abe-a1c6-939fe2ed8b5b button.colab-df-convert');\n",
              "        buttonEl.style.display =\n",
              "          google.colab.kernel.accessAllowed ? 'block' : 'none';\n",
              "\n",
              "        async function convertToInteractive(key) {\n",
              "          const element = document.querySelector('#df-ec8d82df-c38d-4abe-a1c6-939fe2ed8b5b');\n",
              "          const dataTable =\n",
              "            await google.colab.kernel.invokeFunction('convertToInteractive',\n",
              "                                                     [key], {});\n",
              "          if (!dataTable) return;\n",
              "\n",
              "          const docLinkHtml = 'Like what you see? Visit the ' +\n",
              "            '<a target=\"_blank\" href=https://colab.research.google.com/notebooks/data_table.ipynb>data table notebook</a>'\n",
              "            + ' to learn more about interactive tables.';\n",
              "          element.innerHTML = '';\n",
              "          dataTable['output_type'] = 'display_data';\n",
              "          await google.colab.output.renderOutput(dataTable, element);\n",
              "          const docLink = document.createElement('div');\n",
              "          docLink.innerHTML = docLinkHtml;\n",
              "          element.appendChild(docLink);\n",
              "        }\n",
              "      </script>\n",
              "    </div>\n",
              "  </div>\n",
              "  "
            ]
          },
          "metadata": {},
          "execution_count": 42
        }
      ],
      "source": [
        "df = merge_df.sample(frac=1, random_state=30)\n",
        "df.head()"
      ]
    },
    {
      "cell_type": "markdown",
      "metadata": {
        "id": "UVfvMNqSl7O5"
      },
      "source": [
        "Tahap selanjutnya kita akan membuat sebuat variabel x yang akan menampung data user dan anime, dan variabel y untuk menampung data rating. selanjutnya kita akan membagi dataset sebanyak 80% data train dan 20% data test"
      ]
    },
    {
      "cell_type": "code",
      "execution_count": 43,
      "metadata": {
        "id": "aQJee_IgUexE"
      },
      "outputs": [],
      "source": [
        "x = merge_df[['user', 'anime']].values\n",
        "y = merge_df['rating'].apply(lambda x: (x - min_rating) / (max_rating - min_rating)).values\n",
        "train_indices = int(0.8 * merge_df.shape[0])\n",
        "x_train, x_val, y_train, y_val = (\n",
        "    x[:train_indices],\n",
        "    x[train_indices:],\n",
        "    y[:train_indices],\n",
        "    y[train_indices:]\n",
        ")"
      ]
    },
    {
      "cell_type": "markdown",
      "metadata": {
        "id": "DFAcOmyEm53g"
      },
      "source": [
        "# Melatih model"
      ]
    },
    {
      "cell_type": "markdown",
      "metadata": {
        "id": "hIPX17FHnEtw"
      },
      "source": [
        "pertama kita akan membuat class dan fungsi inisialisasi"
      ]
    },
    {
      "cell_type": "code",
      "execution_count": 44,
      "metadata": {
        "id": "G0IGEtmbWfWC"
      },
      "outputs": [],
      "source": [
        "class RecommenderNet(tf.keras.Model):\n",
        "  def __init__(self, num_users, num_anime, embedding_size, **kwargs):\n",
        "    super(RecommenderNet, self).__init__(**kwargs)\n",
        "    self.num_users = num_users\n",
        "    self.num_anime = num_anime\n",
        "    self.embedding_size = embedding_size\n",
        "    self.user_embedding = layers.Embedding(\n",
        "        num_users,\n",
        "        embedding_size,\n",
        "        embeddings_initializer = 'he_normal',\n",
        "        embeddings_regularizer = keras.regularizers.l2(5e-7)\n",
        "    )\n",
        "    self.user_bias = layers.Embedding(num_users, 1)\n",
        "    self.anime_embedding = layers.Embedding(\n",
        "        num_anime,\n",
        "        embedding_size,\n",
        "        embeddings_initializer = 'he_normal',\n",
        "        embeddings_regularizer = keras.regularizers.l2(5e-7)\n",
        "    )\n",
        "    self.anime_bias = layers.Embedding(num_anime, 1)\n",
        " \n",
        "  def call(self, inputs):\n",
        "    user_vector = self.user_embedding(inputs[:,0])\n",
        "    user_bias = self.user_bias(inputs[:, 0])\n",
        "    anime_vector = self.anime_embedding(inputs[:, 1])\n",
        "    anime_bias = self.anime_bias(inputs[:, 1])\n",
        " \n",
        "    dot_user_anime = tf.tensordot(user_vector, anime_vector, 2) \n",
        " \n",
        "    x = dot_user_anime + user_bias + anime_bias\n",
        "    \n",
        "    return tf.nn.sigmoid(x)"
      ]
    },
    {
      "cell_type": "markdown",
      "metadata": {
        "id": "IRB-jslMoqNu"
      },
      "source": [
        "**Compile Model dan membuat callback**"
      ]
    },
    {
      "cell_type": "code",
      "execution_count": 45,
      "metadata": {
        "id": "Y82W-5TeeWaF"
      },
      "outputs": [],
      "source": [
        "model = RecommenderNet(num_users, num_anime, 50) # inisialisasi model\n",
        "\n",
        "model.compile(\n",
        "    loss = tf.keras.losses.BinaryCrossentropy(),\n",
        "    optimizer = keras.optimizers.Adam(learning_rate=0.001),\n",
        "    metrics=[[tf.keras.metrics.MeanAbsoluteError(),tf.keras.metrics.RootMeanSquaredError()]]\n",
        ")\n",
        "callbacks = EarlyStopping(\n",
        "    min_delta=0.0001,\n",
        "    patience=7,\n",
        "    restore_best_weights=True,\n",
        ")"
      ]
    },
    {
      "cell_type": "code",
      "execution_count": 46,
      "metadata": {
        "colab": {
          "base_uri": "https://localhost:8080/"
        },
        "id": "Pn99OuEZemxt",
        "outputId": "794adb94-0f74-44fa-a283-744725c7a328"
      },
      "outputs": [
        {
          "output_type": "stream",
          "name": "stdout",
          "text": [
            "Epoch 1/100\n",
            "13049/13049 [==============================] - 153s 11ms/step - loss: 0.6442 - mean_absolute_error: 0.1978 - root_mean_squared_error: 0.2290 - val_loss: 0.6938 - val_mean_absolute_error: 0.2041 - val_root_mean_squared_error: 0.2360\n",
            "Epoch 2/100\n",
            "13049/13049 [==============================] - 149s 11ms/step - loss: 0.6085 - mean_absolute_error: 0.1528 - root_mean_squared_error: 0.1892 - val_loss: 0.6938 - val_mean_absolute_error: 0.2041 - val_root_mean_squared_error: 0.2360\n",
            "Epoch 3/100\n",
            "13049/13049 [==============================] - 148s 11ms/step - loss: 0.5986 - mean_absolute_error: 0.1378 - root_mean_squared_error: 0.1773 - val_loss: 0.6939 - val_mean_absolute_error: 0.2041 - val_root_mean_squared_error: 0.2360\n",
            "Epoch 4/100\n",
            "13049/13049 [==============================] - 149s 11ms/step - loss: 0.5926 - mean_absolute_error: 0.1287 - root_mean_squared_error: 0.1698 - val_loss: 0.6939 - val_mean_absolute_error: 0.2041 - val_root_mean_squared_error: 0.2360\n",
            "Epoch 5/100\n",
            "13049/13049 [==============================] - 157s 12ms/step - loss: 0.5877 - mean_absolute_error: 0.1213 - root_mean_squared_error: 0.1636 - val_loss: 0.6939 - val_mean_absolute_error: 0.2041 - val_root_mean_squared_error: 0.2360\n",
            "Epoch 6/100\n",
            "13049/13049 [==============================] - 156s 12ms/step - loss: 0.5835 - mean_absolute_error: 0.1147 - root_mean_squared_error: 0.1580 - val_loss: 0.6938 - val_mean_absolute_error: 0.2041 - val_root_mean_squared_error: 0.2360\n",
            "Epoch 7/100\n",
            "13049/13049 [==============================] - 157s 12ms/step - loss: 0.5796 - mean_absolute_error: 0.1087 - root_mean_squared_error: 0.1527 - val_loss: 0.6938 - val_mean_absolute_error: 0.2041 - val_root_mean_squared_error: 0.2360\n",
            "Epoch 8/100\n",
            "13049/13049 [==============================] - 150s 12ms/step - loss: 0.5760 - mean_absolute_error: 0.1031 - root_mean_squared_error: 0.1476 - val_loss: 0.6938 - val_mean_absolute_error: 0.2041 - val_root_mean_squared_error: 0.2360\n"
          ]
        }
      ],
      "source": [
        "history = model.fit(\n",
        "    x = x_train,\n",
        "    y = y_train,\n",
        "    batch_size = 8,\n",
        "    epochs = 100,\n",
        "    validation_data = (x_val, y_val),\n",
        "    callbacks=[callbacks]\n",
        ")"
      ]
    },
    {
      "cell_type": "markdown",
      "metadata": {
        "id": "S7b3WuB1rB_k"
      },
      "source": [
        "Selanjutnya kita akan menguji dengan salah satu sampel user dan menguji rekomendasi dengan model yang sudah kita rancang"
      ]
    },
    {
      "cell_type": "code",
      "execution_count": 47,
      "metadata": {
        "id": "ctY0veaHeoNM"
      },
      "outputs": [],
      "source": [
        "user_id = merge_df.user_id.sample(1).iloc[0]\n",
        "anime_watched_by_user = merge_df[merge_df.user_id == user_id]\n",
        " \n",
        "anime_not_watched = df_anime[~df_anime['anime_id'].isin(anime_watched_by_user.anime_id.values)]['anime_id'] \n",
        "anime_not_watched = list(\n",
        "    set(anime_not_watched)\n",
        "    .intersection(set(anime_to_anime_encoded.keys()))\n",
        ")\n",
        "\n",
        " \n",
        "anime_not_watched = [[anime_to_anime_encoded.get(x)] for x in anime_not_watched]\n",
        "user_encoder = user_to_user_encoded.get(user_id)\n",
        "user_anime_array = np.hstack(\n",
        "    ([[user_encoder]] * len(anime_not_watched), anime_not_watched)\n",
        ")"
      ]
    },
    {
      "cell_type": "code",
      "execution_count": 48,
      "metadata": {
        "id": "tXRAFP-CfCbe",
        "outputId": "4f542e68-8a76-44dc-ce27-80fb5fe721ac",
        "colab": {
          "base_uri": "https://localhost:8080/"
        }
      },
      "outputs": [
        {
          "output_type": "stream",
          "name": "stdout",
          "text": [
            "Showing recommendations for users: 61977\n",
            "========================================\n",
            "movie with high ratings from user\n",
            "--------------------------------\n",
            "Mobile Suit Gundam SEED Destiny\n",
            "--------------------------------\n",
            "Top 10 anime recommendation\n",
            "--------------------------------\n",
            "Cowboy Bebop\n",
            "Fullmetal Alchemist\n",
            "Death Note\n",
            "Tengen Toppa Gurren Lagann\n",
            "Clannad: After Story\n",
            "Toradora!\n",
            "Fullmetal Alchemist: Brotherhood\n",
            "Steins;Gate\n",
            "Mahou Shoujo Madoka★Magica\n",
            "Kimi no Na wa.\n"
          ]
        }
      ],
      "source": [
        "ratings = model.predict(user_anime_array).flatten()\n",
        " \n",
        "top_ratings_indices = ratings.argsort()[-10:][::-1]\n",
        "recommended_anime_ids = [\n",
        "    anime_encoded_to_anime.get(anime_not_watched[x][0]) for x in top_ratings_indices\n",
        "]\n",
        " \n",
        "print('Showing recommendations for users: {}'.format(user_id))\n",
        "print('====' * 10)\n",
        "print('movie with high ratings from user')\n",
        "print('----' * 8)\n",
        " \n",
        "top_anime_user = (\n",
        "    anime_watched_by_user.sort_values(\n",
        "        by = 'rating',\n",
        "        ascending=False\n",
        "    )\n",
        "    .head(5)\n",
        "    .anime_id.values\n",
        ")\n",
        " \n",
        "anime_df_rows = df_anime[df_anime['anime_id'].isin(top_anime_user)]\n",
        "for row in anime_df_rows.itertuples():\n",
        "    print(row.name)\n",
        " \n",
        "print('----' * 8)\n",
        "print('Top 10 anime recommendation')\n",
        "print('----' * 8)\n",
        " \n",
        "recommended_anime = df_anime[df_anime['anime_id'].isin(recommended_anime_ids)]\n",
        "for row in recommended_anime.itertuples():\n",
        "    print(row.name)"
      ]
    },
    {
      "cell_type": "markdown",
      "metadata": {
        "id": "Xav4sBUPt8rz"
      },
      "source": [
        "# Evaluation"
      ]
    },
    {
      "cell_type": "markdown",
      "metadata": {
        "id": "xCRrBbYnuCnN"
      },
      "source": [
        "Pada tahap ini penulis menggunakan dua teknik yaitu :\n",
        "\n",
        "- Mean Absolute Error (MAE)\n",
        "- Root Mean Squared Error (RMSE)\n",
        "\n",
        "Dan untuk Sistem Rekomendasi Content Based Filtering Saya menggunakan Precision"
      ]
    },
    {
      "cell_type": "markdown",
      "metadata": {
        "id": "k2yzJu3kuhit"
      },
      "source": [
        "# Plot Grafik MAE"
      ]
    },
    {
      "cell_type": "code",
      "execution_count": 49,
      "metadata": {
        "id": "eJo1w-06uMve",
        "outputId": "0baf3527-38d4-4c88-d30a-364324a45839",
        "colab": {
          "base_uri": "https://localhost:8080/",
          "height": 295
        }
      },
      "outputs": [
        {
          "output_type": "display_data",
          "data": {
            "text/plain": [
              "<Figure size 432x288 with 1 Axes>"
            ],
            "image/png": "[encoded data removed]"
          },
          "metadata": {
            "needs_background": "light"
          }
        }
      ],
      "source": [
        "plt.plot(history.history['mean_absolute_error'])\n",
        "plt.plot(history.history['val_mean_absolute_error'])\n",
        "plt.title('model_metrics')\n",
        "plt.ylabel('mean_absolute_error')\n",
        "plt.xlabel('epoch')\n",
        "plt.legend(['mean_absolute_error', 'val_mean_absolute_error'])\n",
        "plt.show()"
      ]
    },
    {
      "cell_type": "markdown",
      "metadata": {
        "id": "hPQ1IK1_ulaO"
      },
      "source": [
        "# Plot Grafik RMSE"
      ]
    },
    {
      "cell_type": "code",
      "execution_count": 50,
      "metadata": {
        "id": "vxJZb5D4usdn",
        "outputId": "4688c0bc-538b-458d-e1d8-5738611c8360",
        "colab": {
          "base_uri": "https://localhost:8080/",
          "height": 295
        }
      },
      "outputs": [
        {
          "output_type": "display_data",
          "data": {
            "text/plain": [
              "<Figure size 432x288 with 1 Axes>"
            ],
            "image/png": "[encoded data removed]"
          },
          "metadata": {
            "needs_background": "light"
          }
        }
      ],
      "source": [
        "plt.plot(history.history['root_mean_squared_error'])\n",
        "plt.plot(history.history['val_root_mean_squared_error'])\n",
        "plt.title('model_metrics')\n",
        "plt.ylabel('root_mean_squared_error')\n",
        "plt.xlabel('epoch')\n",
        "plt.legend(['root_mean_squared_error', 'val_root_mean_squared_error'])\n",
        "plt.show()"
      ]
    },
    {
      "cell_type": "code",
      "source": [
        "df_anime.head()"
      ],
      "metadata": {
        "id": "D1wjEnSwPzHK",
        "outputId": "da685c88-117e-4e99-a798-7340c3c599b1",
        "colab": {
          "base_uri": "https://localhost:8080/",
          "height": 206
        }
      },
      "execution_count": 51,
      "outputs": [
        {
          "output_type": "execute_result",
          "data": {
            "text/plain": [
              "   anime_id                                              genre  \\\n",
              "0         1    Action, Adventure, Comedy, Drama, Sci-Fi, Space   \n",
              "1         5              Action, Drama, Mystery, Sci-Fi, Space   \n",
              "2         6  Action, Sci-Fi, Adventure, Comedy, Drama, Shounen   \n",
              "3         7  Action, Mystery, Police, Supernatural, Drama, ...   \n",
              "4         8          Adventure, Fantasy, Shounen, Supernatural   \n",
              "\n",
              "                              name                          Rating  \n",
              "0                     Cowboy Bebop  R - 17+ (violence & profanity)  \n",
              "1  Cowboy Bebop: Tengoku no Tobira  R - 17+ (violence & profanity)  \n",
              "2                           Trigun       PG-13 - Teens 13 or older  \n",
              "3               Witch Hunter Robin       PG-13 - Teens 13 or older  \n",
              "4                   Bouken Ou Beet                   PG - Children  "
            ],
            "text/html": [
              "\n",
              "  <div id=\"df-64b5943c-0fc0-4532-926a-4321fc3e6e64\">\n",
              "    <div class=\"colab-df-container\">\n",
              "      <div>\n",
              "<style scoped>\n",
              "    .dataframe tbody tr th:only-of-type {\n",
              "        vertical-align: middle;\n",
              "    }\n",
              "\n",
              "    .dataframe tbody tr th {\n",
              "        vertical-align: top;\n",
              "    }\n",
              "\n",
              "    .dataframe thead th {\n",
              "        text-align: right;\n",
              "    }\n",
              "</style>\n",
              "<table border=\"1\" class=\"dataframe\">\n",
              "  <thead>\n",
              "    <tr style=\"text-align: right;\">\n",
              "      <th></th>\n",
              "      <th>anime_id</th>\n",
              "      <th>genre</th>\n",
              "      <th>name</th>\n",
              "      <th>Rating</th>\n",
              "    </tr>\n",
              "  </thead>\n",
              "  <tbody>\n",
              "    <tr>\n",
              "      <th>0</th>\n",
              "      <td>1</td>\n",
              "      <td>Action, Adventure, Comedy, Drama, Sci-Fi, Space</td>\n",
              "      <td>Cowboy Bebop</td>\n",
              "      <td>R - 17+ (violence &amp; profanity)</td>\n",
              "    </tr>\n",
              "    <tr>\n",
              "      <th>1</th>\n",
              "      <td>5</td>\n",
              "      <td>Action, Drama, Mystery, Sci-Fi, Space</td>\n",
              "      <td>Cowboy Bebop: Tengoku no Tobira</td>\n",
              "      <td>R - 17+ (violence &amp; profanity)</td>\n",
              "    </tr>\n",
              "    <tr>\n",
              "      <th>2</th>\n",
              "      <td>6</td>\n",
              "      <td>Action, Sci-Fi, Adventure, Comedy, Drama, Shounen</td>\n",
              "      <td>Trigun</td>\n",
              "      <td>PG-13 - Teens 13 or older</td>\n",
              "    </tr>\n",
              "    <tr>\n",
              "      <th>3</th>\n",
              "      <td>7</td>\n",
              "      <td>Action, Mystery, Police, Supernatural, Drama, ...</td>\n",
              "      <td>Witch Hunter Robin</td>\n",
              "      <td>PG-13 - Teens 13 or older</td>\n",
              "    </tr>\n",
              "    <tr>\n",
              "      <th>4</th>\n",
              "      <td>8</td>\n",
              "      <td>Adventure, Fantasy, Shounen, Supernatural</td>\n",
              "      <td>Bouken Ou Beet</td>\n",
              "      <td>PG - Children</td>\n",
              "    </tr>\n",
              "  </tbody>\n",
              "</table>\n",
              "</div>\n",
              "      <button class=\"colab-df-convert\" onclick=\"convertToInteractive('df-64b5943c-0fc0-4532-926a-4321fc3e6e64')\"\n",
              "              title=\"Convert this dataframe to an interactive table.\"\n",
              "              style=\"display:none;\">\n",
              "        \n",
              "  <svg xmlns=\"http://www.w3.org/2000/svg\" height=\"24px\"viewBox=\"0 0 24 24\"\n",
              "       width=\"24px\">\n",
              "    <path d=\"M0 0h24v24H0V0z\" fill=\"none\"/>\n",
              "    <path d=\"M18.56 5.44l.94 2.06.94-2.06 2.06-.94-2.06-.94-.94-2.06-.94 2.06-2.06.94zm-11 1L8.5 8.5l.94-2.06 2.06-.94-2.06-.94L8.5 2.5l-.94 2.06-2.06.94zm10 10l.94 2.06.94-2.06 2.06-.94-2.06-.94-.94-2.06-.94 2.06-2.06.94z\"/><path d=\"M17.41 7.96l-1.37-1.37c-.4-.4-.92-.59-1.43-.59-.52 0-1.04.2-1.43.59L10.3 9.45l-7.72 7.72c-.78.78-.78 2.05 0 2.83L4 21.41c.39.39.9.59 1.41.59.51 0 1.02-.2 1.41-.59l7.78-7.78 2.81-2.81c.8-.78.8-2.07 0-2.86zM5.41 20L4 18.59l7.72-7.72 1.47 1.35L5.41 20z\"/>\n",
              "  </svg>\n",
              "      </button>\n",
              "      \n",
              "  <style>\n",
              "    .colab-df-container {\n",
              "      display:flex;\n",
              "      flex-wrap:wrap;\n",
              "      gap: 12px;\n",
              "    }\n",
              "\n",
              "    .colab-df-convert {\n",
              "      background-color: #E8F0FE;\n",
              "      border: none;\n",
              "      border-radius: 50%;\n",
              "      cursor: pointer;\n",
              "      display: none;\n",
              "      fill: #1967D2;\n",
              "      height: 32px;\n",
              "      padding: 0 0 0 0;\n",
              "      width: 32px;\n",
              "    }\n",
              "\n",
              "    .colab-df-convert:hover {\n",
              "      background-color: #E2EBFA;\n",
              "      box-shadow: 0px 1px 2px rgba(60, 64, 67, 0.3), 0px 1px 3px 1px rgba(60, 64, 67, 0.15);\n",
              "      fill: #174EA6;\n",
              "    }\n",
              "\n",
              "    [theme=dark] .colab-df-convert {\n",
              "      background-color: #3B4455;\n",
              "      fill: #D2E3FC;\n",
              "    }\n",
              "\n",
              "    [theme=dark] .colab-df-convert:hover {\n",
              "      background-color: #434B5C;\n",
              "      box-shadow: 0px 1px 3px 1px rgba(0, 0, 0, 0.15);\n",
              "      filter: drop-shadow(0px 1px 2px rgba(0, 0, 0, 0.3));\n",
              "      fill: #FFFFFF;\n",
              "    }\n",
              "  </style>\n",
              "\n",
              "      <script>\n",
              "        const buttonEl =\n",
              "          document.querySelector('#df-64b5943c-0fc0-4532-926a-4321fc3e6e64 button.colab-df-convert');\n",
              "        buttonEl.style.display =\n",
              "          google.colab.kernel.accessAllowed ? 'block' : 'none';\n",
              "\n",
              "        async function convertToInteractive(key) {\n",
              "          const element = document.querySelector('#df-64b5943c-0fc0-4532-926a-4321fc3e6e64');\n",
              "          const dataTable =\n",
              "            await google.colab.kernel.invokeFunction('convertToInteractive',\n",
              "                                                     [key], {});\n",
              "          if (!dataTable) return;\n",
              "\n",
              "          const docLinkHtml = 'Like what you see? Visit the ' +\n",
              "            '<a target=\"_blank\" href=https://colab.research.google.com/notebooks/data_table.ipynb>data table notebook</a>'\n",
              "            + ' to learn more about interactive tables.';\n",
              "          element.innerHTML = '';\n",
              "          dataTable['output_type'] = 'display_data';\n",
              "          await google.colab.output.renderOutput(dataTable, element);\n",
              "          const docLink = document.createElement('div');\n",
              "          docLink.innerHTML = docLinkHtml;\n",
              "          element.appendChild(docLink);\n",
              "        }\n",
              "      </script>\n",
              "    </div>\n",
              "  </div>\n",
              "  "
            ]
          },
          "metadata": {},
          "execution_count": 51
        }
      ]
    },
    {
      "cell_type": "markdown",
      "metadata": {
        "id": "6xTqYblvuv0v"
      },
      "source": [
        "# Precision"
      ]
    },
    {
      "cell_type": "code",
      "source": [
        "find_name = df_anime_cbf[df_anime_cbf['Name'] == 'Cowboy Bebop']\n",
        "find_name"
      ],
      "metadata": {
        "id": "-GETax_Tju7_",
        "outputId": "6372711a-5032-4f79-f546-0ec6c19d893f",
        "colab": {
          "base_uri": "https://localhost:8080/",
          "height": 81
        }
      },
      "execution_count": 54,
      "outputs": [
        {
          "output_type": "execute_result",
          "data": {
            "text/plain": [
              "   MAL_ID                                           Genres          Name  \\\n",
              "0       1  Action, Adventure, Comedy, Drama, Sci-Fi, Space  Cowboy Bebop   \n",
              "\n",
              "                           Rating  \n",
              "0  R - 17+ (violence & profanity)  "
            ],
            "text/html": [
              "\n",
              "  <div id=\"df-70ee1772-9b60-49a0-bcb1-c5a03310f02d\">\n",
              "    <div class=\"colab-df-container\">\n",
              "      <div>\n",
              "<style scoped>\n",
              "    .dataframe tbody tr th:only-of-type {\n",
              "        vertical-align: middle;\n",
              "    }\n",
              "\n",
              "    .dataframe tbody tr th {\n",
              "        vertical-align: top;\n",
              "    }\n",
              "\n",
              "    .dataframe thead th {\n",
              "        text-align: right;\n",
              "    }\n",
              "</style>\n",
              "<table border=\"1\" class=\"dataframe\">\n",
              "  <thead>\n",
              "    <tr style=\"text-align: right;\">\n",
              "      <th></th>\n",
              "      <th>MAL_ID</th>\n",
              "      <th>Genres</th>\n",
              "      <th>Name</th>\n",
              "      <th>Rating</th>\n",
              "    </tr>\n",
              "  </thead>\n",
              "  <tbody>\n",
              "    <tr>\n",
              "      <th>0</th>\n",
              "      <td>1</td>\n",
              "      <td>Action, Adventure, Comedy, Drama, Sci-Fi, Space</td>\n",
              "      <td>Cowboy Bebop</td>\n",
              "      <td>R - 17+ (violence &amp; profanity)</td>\n",
              "    </tr>\n",
              "  </tbody>\n",
              "</table>\n",
              "</div>\n",
              "      <button class=\"colab-df-convert\" onclick=\"convertToInteractive('df-70ee1772-9b60-49a0-bcb1-c5a03310f02d')\"\n",
              "              title=\"Convert this dataframe to an interactive table.\"\n",
              "              style=\"display:none;\">\n",
              "        \n",
              "  <svg xmlns=\"http://www.w3.org/2000/svg\" height=\"24px\"viewBox=\"0 0 24 24\"\n",
              "       width=\"24px\">\n",
              "    <path d=\"M0 0h24v24H0V0z\" fill=\"none\"/>\n",
              "    <path d=\"M18.56 5.44l.94 2.06.94-2.06 2.06-.94-2.06-.94-.94-2.06-.94 2.06-2.06.94zm-11 1L8.5 8.5l.94-2.06 2.06-.94-2.06-.94L8.5 2.5l-.94 2.06-2.06.94zm10 10l.94 2.06.94-2.06 2.06-.94-2.06-.94-.94-2.06-.94 2.06-2.06.94z\"/><path d=\"M17.41 7.96l-1.37-1.37c-.4-.4-.92-.59-1.43-.59-.52 0-1.04.2-1.43.59L10.3 9.45l-7.72 7.72c-.78.78-.78 2.05 0 2.83L4 21.41c.39.39.9.59 1.41.59.51 0 1.02-.2 1.41-.59l7.78-7.78 2.81-2.81c.8-.78.8-2.07 0-2.86zM5.41 20L4 18.59l7.72-7.72 1.47 1.35L5.41 20z\"/>\n",
              "  </svg>\n",
              "      </button>\n",
              "      \n",
              "  <style>\n",
              "    .colab-df-container {\n",
              "      display:flex;\n",
              "      flex-wrap:wrap;\n",
              "      gap: 12px;\n",
              "    }\n",
              "\n",
              "    .colab-df-convert {\n",
              "      background-color: #E8F0FE;\n",
              "      border: none;\n",
              "      border-radius: 50%;\n",
              "      cursor: pointer;\n",
              "      display: none;\n",
              "      fill: #1967D2;\n",
              "      height: 32px;\n",
              "      padding: 0 0 0 0;\n",
              "      width: 32px;\n",
              "    }\n",
              "\n",
              "    .colab-df-convert:hover {\n",
              "      background-color: #E2EBFA;\n",
              "      box-shadow: 0px 1px 2px rgba(60, 64, 67, 0.3), 0px 1px 3px 1px rgba(60, 64, 67, 0.15);\n",
              "      fill: #174EA6;\n",
              "    }\n",
              "\n",
              "    [theme=dark] .colab-df-convert {\n",
              "      background-color: #3B4455;\n",
              "      fill: #D2E3FC;\n",
              "    }\n",
              "\n",
              "    [theme=dark] .colab-df-convert:hover {\n",
              "      background-color: #434B5C;\n",
              "      box-shadow: 0px 1px 3px 1px rgba(0, 0, 0, 0.15);\n",
              "      filter: drop-shadow(0px 1px 2px rgba(0, 0, 0, 0.3));\n",
              "      fill: #FFFFFF;\n",
              "    }\n",
              "  </style>\n",
              "\n",
              "      <script>\n",
              "        const buttonEl =\n",
              "          document.querySelector('#df-70ee1772-9b60-49a0-bcb1-c5a03310f02d button.colab-df-convert');\n",
              "        buttonEl.style.display =\n",
              "          google.colab.kernel.accessAllowed ? 'block' : 'none';\n",
              "\n",
              "        async function convertToInteractive(key) {\n",
              "          const element = document.querySelector('#df-70ee1772-9b60-49a0-bcb1-c5a03310f02d');\n",
              "          const dataTable =\n",
              "            await google.colab.kernel.invokeFunction('convertToInteractive',\n",
              "                                                     [key], {});\n",
              "          if (!dataTable) return;\n",
              "\n",
              "          const docLinkHtml = 'Like what you see? Visit the ' +\n",
              "            '<a target=\"_blank\" href=https://colab.research.google.com/notebooks/data_table.ipynb>data table notebook</a>'\n",
              "            + ' to learn more about interactive tables.';\n",
              "          element.innerHTML = '';\n",
              "          dataTable['output_type'] = 'display_data';\n",
              "          await google.colab.output.renderOutput(dataTable, element);\n",
              "          const docLink = document.createElement('div');\n",
              "          docLink.innerHTML = docLinkHtml;\n",
              "          element.appendChild(docLink);\n",
              "        }\n",
              "      </script>\n",
              "    </div>\n",
              "  </div>\n",
              "  "
            ]
          },
          "metadata": {},
          "execution_count": 54
        }
      ]
    },
    {
      "cell_type": "code",
      "source": [
        "anime_name = 'Cowboy Bebop'\n",
        "anime_recomend = AnimeRecommendations(anime_name)\n",
        "anime_recomend"
      ],
      "metadata": {
        "id": "0rfWlC9SjwO3",
        "outputId": "178988ec-ae79-4f96-ac2b-b2ba3ab40674",
        "colab": {
          "base_uri": "https://localhost:8080/",
          "height": 363
        }
      },
      "execution_count": 55,
      "outputs": [
        {
          "output_type": "execute_result",
          "data": {
            "text/plain": [
              "                                                Name  MAL_ID  \\\n",
              "0                    Cowboy Bebop: Yose Atsume Blues    4037   \n",
              "1                          Ginga Tetsudou Monogatari    1490   \n",
              "2  Uchuu Kaizoku Captain Herlock: Arcadia-gou no ...    2470   \n",
              "3           Waga Seishun no Arcadia: Mugen Kidou SSX    2203   \n",
              "4                            Waga Seishun no Arcadia    2202   \n",
              "5                      Odin: Koushi Hansen Starlight    1287   \n",
              "6      Ginga Tetsudou Monogatari: Eien e no Bunkiten    2717   \n",
              "7                          Seihou Bukyou Outlaw Star     400   \n",
              "8                           Ginga Tetsudou 999 (ONA)   28733   \n",
              "9  Sayonara Ginga Tetsudou 999: Andromeda Shuucha...    1302   \n",
              "\n",
              "                                            Genres  \n",
              "0  Action, Adventure, Comedy, Drama, Sci-Fi, Space  \n",
              "1          Action, Adventure, Drama, Sci-Fi, Space  \n",
              "2          Action, Sci-Fi, Adventure, Space, Drama  \n",
              "3          Action, Adventure, Drama, Sci-Fi, Space  \n",
              "4          Action, Adventure, Drama, Sci-Fi, Space  \n",
              "5          Action, Sci-Fi, Adventure, Space, Drama  \n",
              "6          Action, Adventure, Space, Drama, Sci-Fi  \n",
              "7         Action, Sci-Fi, Adventure, Space, Comedy  \n",
              "8                  Sci-Fi, Adventure, Space, Drama  \n",
              "9                  Sci-Fi, Adventure, Space, Drama  "
            ],
            "text/html": [
              "\n",
              "  <div id=\"df-2f51e4fc-b387-4dd8-97bf-59ae441058cc\">\n",
              "    <div class=\"colab-df-container\">\n",
              "      <div>\n",
              "<style scoped>\n",
              "    .dataframe tbody tr th:only-of-type {\n",
              "        vertical-align: middle;\n",
              "    }\n",
              "\n",
              "    .dataframe tbody tr th {\n",
              "        vertical-align: top;\n",
              "    }\n",
              "\n",
              "    .dataframe thead th {\n",
              "        text-align: right;\n",
              "    }\n",
              "</style>\n",
              "<table border=\"1\" class=\"dataframe\">\n",
              "  <thead>\n",
              "    <tr style=\"text-align: right;\">\n",
              "      <th></th>\n",
              "      <th>Name</th>\n",
              "      <th>MAL_ID</th>\n",
              "      <th>Genres</th>\n",
              "    </tr>\n",
              "  </thead>\n",
              "  <tbody>\n",
              "    <tr>\n",
              "      <th>0</th>\n",
              "      <td>Cowboy Bebop: Yose Atsume Blues</td>\n",
              "      <td>4037</td>\n",
              "      <td>Action, Adventure, Comedy, Drama, Sci-Fi, Space</td>\n",
              "    </tr>\n",
              "    <tr>\n",
              "      <th>1</th>\n",
              "      <td>Ginga Tetsudou Monogatari</td>\n",
              "      <td>1490</td>\n",
              "      <td>Action, Adventure, Drama, Sci-Fi, Space</td>\n",
              "    </tr>\n",
              "    <tr>\n",
              "      <th>2</th>\n",
              "      <td>Uchuu Kaizoku Captain Herlock: Arcadia-gou no ...</td>\n",
              "      <td>2470</td>\n",
              "      <td>Action, Sci-Fi, Adventure, Space, Drama</td>\n",
              "    </tr>\n",
              "    <tr>\n",
              "      <th>3</th>\n",
              "      <td>Waga Seishun no Arcadia: Mugen Kidou SSX</td>\n",
              "      <td>2203</td>\n",
              "      <td>Action, Adventure, Drama, Sci-Fi, Space</td>\n",
              "    </tr>\n",
              "    <tr>\n",
              "      <th>4</th>\n",
              "      <td>Waga Seishun no Arcadia</td>\n",
              "      <td>2202</td>\n",
              "      <td>Action, Adventure, Drama, Sci-Fi, Space</td>\n",
              "    </tr>\n",
              "    <tr>\n",
              "      <th>5</th>\n",
              "      <td>Odin: Koushi Hansen Starlight</td>\n",
              "      <td>1287</td>\n",
              "      <td>Action, Sci-Fi, Adventure, Space, Drama</td>\n",
              "    </tr>\n",
              "    <tr>\n",
              "      <th>6</th>\n",
              "      <td>Ginga Tetsudou Monogatari: Eien e no Bunkiten</td>\n",
              "      <td>2717</td>\n",
              "      <td>Action, Adventure, Space, Drama, Sci-Fi</td>\n",
              "    </tr>\n",
              "    <tr>\n",
              "      <th>7</th>\n",
              "      <td>Seihou Bukyou Outlaw Star</td>\n",
              "      <td>400</td>\n",
              "      <td>Action, Sci-Fi, Adventure, Space, Comedy</td>\n",
              "    </tr>\n",
              "    <tr>\n",
              "      <th>8</th>\n",
              "      <td>Ginga Tetsudou 999 (ONA)</td>\n",
              "      <td>28733</td>\n",
              "      <td>Sci-Fi, Adventure, Space, Drama</td>\n",
              "    </tr>\n",
              "    <tr>\n",
              "      <th>9</th>\n",
              "      <td>Sayonara Ginga Tetsudou 999: Andromeda Shuucha...</td>\n",
              "      <td>1302</td>\n",
              "      <td>Sci-Fi, Adventure, Space, Drama</td>\n",
              "    </tr>\n",
              "  </tbody>\n",
              "</table>\n",
              "</div>\n",
              "      <button class=\"colab-df-convert\" onclick=\"convertToInteractive('df-2f51e4fc-b387-4dd8-97bf-59ae441058cc')\"\n",
              "              title=\"Convert this dataframe to an interactive table.\"\n",
              "              style=\"display:none;\">\n",
              "        \n",
              "  <svg xmlns=\"http://www.w3.org/2000/svg\" height=\"24px\"viewBox=\"0 0 24 24\"\n",
              "       width=\"24px\">\n",
              "    <path d=\"M0 0h24v24H0V0z\" fill=\"none\"/>\n",
              "    <path d=\"M18.56 5.44l.94 2.06.94-2.06 2.06-.94-2.06-.94-.94-2.06-.94 2.06-2.06.94zm-11 1L8.5 8.5l.94-2.06 2.06-.94-2.06-.94L8.5 2.5l-.94 2.06-2.06.94zm10 10l.94 2.06.94-2.06 2.06-.94-2.06-.94-.94-2.06-.94 2.06-2.06.94z\"/><path d=\"M17.41 7.96l-1.37-1.37c-.4-.4-.92-.59-1.43-.59-.52 0-1.04.2-1.43.59L10.3 9.45l-7.72 7.72c-.78.78-.78 2.05 0 2.83L4 21.41c.39.39.9.59 1.41.59.51 0 1.02-.2 1.41-.59l7.78-7.78 2.81-2.81c.8-.78.8-2.07 0-2.86zM5.41 20L4 18.59l7.72-7.72 1.47 1.35L5.41 20z\"/>\n",
              "  </svg>\n",
              "      </button>\n",
              "      \n",
              "  <style>\n",
              "    .colab-df-container {\n",
              "      display:flex;\n",
              "      flex-wrap:wrap;\n",
              "      gap: 12px;\n",
              "    }\n",
              "\n",
              "    .colab-df-convert {\n",
              "      background-color: #E8F0FE;\n",
              "      border: none;\n",
              "      border-radius: 50%;\n",
              "      cursor: pointer;\n",
              "      display: none;\n",
              "      fill: #1967D2;\n",
              "      height: 32px;\n",
              "      padding: 0 0 0 0;\n",
              "      width: 32px;\n",
              "    }\n",
              "\n",
              "    .colab-df-convert:hover {\n",
              "      background-color: #E2EBFA;\n",
              "      box-shadow: 0px 1px 2px rgba(60, 64, 67, 0.3), 0px 1px 3px 1px rgba(60, 64, 67, 0.15);\n",
              "      fill: #174EA6;\n",
              "    }\n",
              "\n",
              "    [theme=dark] .colab-df-convert {\n",
              "      background-color: #3B4455;\n",
              "      fill: #D2E3FC;\n",
              "    }\n",
              "\n",
              "    [theme=dark] .colab-df-convert:hover {\n",
              "      background-color: #434B5C;\n",
              "      box-shadow: 0px 1px 3px 1px rgba(0, 0, 0, 0.15);\n",
              "      filter: drop-shadow(0px 1px 2px rgba(0, 0, 0, 0.3));\n",
              "      fill: #FFFFFF;\n",
              "    }\n",
              "  </style>\n",
              "\n",
              "      <script>\n",
              "        const buttonEl =\n",
              "          document.querySelector('#df-2f51e4fc-b387-4dd8-97bf-59ae441058cc button.colab-df-convert');\n",
              "        buttonEl.style.display =\n",
              "          google.colab.kernel.accessAllowed ? 'block' : 'none';\n",
              "\n",
              "        async function convertToInteractive(key) {\n",
              "          const element = document.querySelector('#df-2f51e4fc-b387-4dd8-97bf-59ae441058cc');\n",
              "          const dataTable =\n",
              "            await google.colab.kernel.invokeFunction('convertToInteractive',\n",
              "                                                     [key], {});\n",
              "          if (!dataTable) return;\n",
              "\n",
              "          const docLinkHtml = 'Like what you see? Visit the ' +\n",
              "            '<a target=\"_blank\" href=https://colab.research.google.com/notebooks/data_table.ipynb>data table notebook</a>'\n",
              "            + ' to learn more about interactive tables.';\n",
              "          element.innerHTML = '';\n",
              "          dataTable['output_type'] = 'display_data';\n",
              "          await google.colab.output.renderOutput(dataTable, element);\n",
              "          const docLink = document.createElement('div');\n",
              "          docLink.innerHTML = docLinkHtml;\n",
              "          element.appendChild(docLink);\n",
              "        }\n",
              "      </script>\n",
              "    </div>\n",
              "  </div>\n",
              "  "
            ]
          },
          "metadata": {},
          "execution_count": 55
        }
      ]
    }
  ],
  "metadata": {
    "colab": {
      "collapsed_sections": [],
      "name": "Recommendation System.ipynb",
      "provenance": [],
      "include_colab_link": true
    },
    "kernelspec": {
      "display_name": "Python 3",
      "name": "python3"
    },
    "language_info": {
      "name": "python"
    },
    "accelerator": "GPU"
  },
  "nbformat": 4,
  "nbformat_minor": 0
}